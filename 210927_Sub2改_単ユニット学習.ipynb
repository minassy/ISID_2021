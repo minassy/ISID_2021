{
  "nbformat": 4,
  "nbformat_minor": 0,
  "metadata": {
    "colab": {
      "name": "210927_Sub2改_単ユニット学習.ipynb",
      "provenance": [],
      "collapsed_sections": [],
      "mount_file_id": "1pcsK_AA-Mtf8Ma7AGN1iQ9zlKS5RJPa8",
      "authorship_tag": "ABX9TyNrIs3HbSrBJoPlRcvi4Fjb",
      "include_colab_link": true
    },
    "kernelspec": {
      "name": "python3",
      "display_name": "Python 3"
    },
    "language_info": {
      "name": "python"
    }
  },
  "cells": [
    {
      "cell_type": "markdown",
      "metadata": {
        "id": "view-in-github",
        "colab_type": "text"
      },
      "source": [
        "<a href=\"https://colab.research.google.com/github/minassy/ISID_2021/blob/main/210927_Sub2%E6%94%B9_%E5%8D%98%E3%83%A6%E3%83%8B%E3%83%83%E3%83%88%E5%AD%A6%E7%BF%92.ipynb\" target=\"_parent\"><img src=\"https://colab.research.google.com/assets/colab-badge.svg\" alt=\"Open In Colab\"/></a>"
      ]
    },
    {
      "cell_type": "code",
      "metadata": {
        "id": "PtnFeEYOlSBo"
      },
      "source": [
        "import os\n",
        "import zipfile\n",
        "import glob\n",
        "import pandas as pd\n",
        "import numpy as np\n",
        "import math\n",
        "import statistics\n",
        "import pathlib\n",
        "from tqdm import tqdm\n",
        "import matplotlib.pyplot as plt\n",
        "import seaborn as sns"
      ],
      "execution_count": 1,
      "outputs": []
    },
    {
      "cell_type": "code",
      "metadata": {
        "id": "QFUedyBWlolI"
      },
      "source": [
        "#作業基本ディレクトリ\n",
        "DIR = 'drive/MyDrive/00_Competition/ISID/2021'\n",
        "#学習データディレクトリ\n",
        "DIR_DATA_TRAIN = os.path.join(DIR, 'data', 'Train_Unit_20210903')\n",
        "#テストデータディレクトリ\n",
        "DIR_DATA_TEST = os.path.join(DIR, 'data', 'Test_Unit_20210903')"
      ],
      "execution_count": 2,
      "outputs": []
    },
    {
      "cell_type": "code",
      "metadata": {
        "id": "tm9SxxOVlscL"
      },
      "source": [
        "#一連のデータ処理\n",
        "def get_some_values(file_path):\n",
        "  #ファイルパスから、ユニット名を取得。\n",
        "  dirname = os.path.dirname(file_path)\n",
        "  dirname_split = dirname.split('/')#区切り文字'/'で分割\n",
        "  unit = dirname_split[-2]\n",
        "  charge_mode = dirname_split[-1]\n",
        "  #ファイルパスから、サイクル数を取得。\n",
        "  basename = os.path.basename(file_path)\n",
        "  basename_split = basename.split('_')[4]#区切り文字'_'で分割\n",
        "  cycle_num = basename_split.split('.')[0]\n",
        "  return unit, charge_mode, cycle_num\n",
        "\n",
        "#%time\n",
        "#DATA_DIR = DIR_DATA_TRAIN\n",
        "#DATA_DIR = DIR_DATA_TEST\n",
        "\n",
        "#C = 'Charge'\n",
        "#C = 'Discharge'\n",
        "\n",
        "def data_reading(DATA_DIR, C):\n",
        "\n",
        "  #カラム名変更前後の辞書\n",
        "  col_list = {'Time (s)' : 'Time',\n",
        "              'Voltage Measured (V)' : 'VM',\n",
        "              'Voltage Charge (V)' : 'VC',\n",
        "              'Current Measured (Amps)' : 'CM', \n",
        "              'Current Charge (Amps)' : 'CC',\n",
        "              'Temperature (degree C)': 'Temp', \n",
        "              'unit' : 'unit_name', \n",
        "              'charge_mode' : 'mode', \n",
        "              'Cycle_num' : 'Cycle',\n",
        "              'Voltage Load (V)' : 'VL',\n",
        "              'Current Load (Amps)' : 'CL'\n",
        "  }\n",
        "\n",
        "  df_list = []\n",
        "  for folder in tqdm(os.listdir(DATA_DIR)[:3]):\n",
        "    files = glob.glob(os.path.join(DATA_DIR, folder, C, '*.csv'))\n",
        "    df_list_0 = []\n",
        "    for file in files:\n",
        "      tmp_df = pd.read_csv(file, encoding='utf-8')\n",
        "      tmp_df = tmp_df.rename(columns=col_list)\n",
        "      #ユニット名、充・放電モード、サイクル数の取得\n",
        "      unit, charge_mode, cycle_num = get_some_values(file)\n",
        "      #特徴量のデータフレームの作成\n",
        "      if C == 'Charge':\n",
        "        df_exp = pd.DataFrame([{'unit':unit,\n",
        "                          'charge_mode' : charge_mode,\n",
        "                          'Cycle_num' : int(cycle_num),\n",
        "                          'feature_c_vm' : featured_c_vm(tmp_df),\n",
        "                          'feature_c_cm' : featured_c_cm(tmp_df),\n",
        "                          'feature_c_vc' : featured_c_vc(tmp_df)}])\n",
        "      else:\n",
        "        df_exp = pd.DataFrame([{'unit':unit,\n",
        "                          'charge_mode' : charge_mode,\n",
        "                          'Cycle_num' : int(cycle_num),\n",
        "                          'feature_d_vm' : featured_d_vm(tmp_df),\n",
        "                          'feature_d_vl' : featured_d_vl(tmp_df)}])\n",
        "      df_list_0.append(df_exp)\n",
        "    df_0 = pd.concat(df_list_0)\n",
        "    df_list.append(df_0)\n",
        "  df = pd.concat(df_list)\n",
        "\n",
        "  #ユニットとサイクルでソート。\n",
        "  df = df.sort_values(['unit', 'Cycle_num'])\n",
        "  #インデックスの振り直し\n",
        "  df = df.reset_index(drop=True)\n",
        "\n",
        "  return df\n",
        "\n",
        "def featured_c_vm(df):\n",
        "  #LAG=5が0.001未満が続くところを、飽和領域とみなす。\n",
        "  p_c_vm = df.loc[:, 'VM'][df.loc[:, 'VM'].diff(5) < 0.001]\n",
        "  #飽和領域のなかで、最初の点を点P_C_VMとする。\n",
        "  p_c_vm = p_c_vm.reset_index(inplace=False)\n",
        "  p_c_vm = p_c_vm['index'].iloc[0]\n",
        "  #充電VMの特徴量は、点P_C_VMにおける時間\n",
        "  feature_c_vm = df['Time'].loc[p_c_vm]\n",
        "  return feature_c_vm\n",
        "\n",
        "def featured_c_cm(df):\n",
        "  #飽和領域からの立ち下がり点(LAG=5の勾配が最小となる点)を点P_C_CMとする。\n",
        "  p_c_cm = np.gradient(df.loc[:, 'CM'].diff(5)[10:]).argmin()\n",
        "  #充電CMの特徴量は、点P_C_CMにおける時間\n",
        "  feature_c_cm = df['Time'].loc[p_c_cm]\n",
        "  return feature_c_cm\n",
        "\n",
        "def featured_c_vc(df):\n",
        "  #VCが最大値を示す点を、点P_C_VCとする。\n",
        "  p_c_vc = df.VC.argmax()\n",
        "  #充電VCの特徴量は、点P_C_VCにおける時間\n",
        "  feature_c_vc = df['Time'].loc[p_c_vc]\n",
        "  return feature_c_vc\n",
        "\n",
        "def featured_d_vm(df):\n",
        "  #VMが最小値を示す点を、点P_D_VMとする。\n",
        "  p_d_vm = df.VM.argmin()\n",
        "  #放電VMの特徴量は、点P_D_VMにおける時間\n",
        "  feature_d_vm = df['Time'].loc[p_d_vm]\n",
        "  return feature_d_vm\n",
        "\n",
        "def featured_d_vl(df):\n",
        "  #VLの最大値点以降の領域において、最小値を示す点を、点P_D_VLとする。\n",
        "  VL_max = df.VL.argmax()\n",
        "  p_d_vl = df.VL[VL_max: ].argmin()\n",
        "  #放電VLの特徴量は、点P_D_VLにおける時間\n",
        "  feature_d_vl = df['Time'].loc[p_d_vl]\n",
        "  return feature_d_vl"
      ],
      "execution_count": 3,
      "outputs": []
    },
    {
      "cell_type": "code",
      "metadata": {
        "colab": {
          "base_uri": "https://localhost:8080/"
        },
        "id": "V3waOB7Il7Kj",
        "outputId": "4c6dbd32-35c8-4f25-afee-653928a1610d"
      },
      "source": [
        "%time\n",
        "#データの読み込み(学習)\n",
        "#充電\n",
        "\n",
        "DATA_DIR = DIR_DATA_TRAIN\n",
        "#DATA_DIR = DIR_DATA_TEST\n",
        "\n",
        "C = 'Charge'\n",
        "#C = 'Discharge'\n",
        "\n",
        "df_train_charge = data_reading(DATA_DIR, C)\n",
        "\n",
        "#データの読み込み(学習)\n",
        "#放電\n",
        "\n",
        "DATA_DIR = DIR_DATA_TRAIN\n",
        "#DATA_DIR = DIR_DATA_TEST\n",
        "\n",
        "#C = 'Charge'\n",
        "C = 'Discharge'\n",
        "\n",
        "df_train_discharge = data_reading(DATA_DIR, C)\n",
        "\n",
        "#充電と放電の特徴量のデータセット作成\n",
        "df_train_feature = pd.merge(df_train_charge, df_train_discharge,\n",
        "                            how = 'inner',\n",
        "                            on = ['unit', 'Cycle_num'])\n",
        "\n",
        "#データの読み込み(学習)\n",
        "#充電\n",
        "\n",
        "#DATA_DIR = DIR_DATA_TRAIN\n",
        "DATA_DIR = DIR_DATA_TEST\n",
        "\n",
        "C = 'Charge'\n",
        "#C = 'Discharge'\n",
        "\n",
        "df_test_charge = data_reading(DATA_DIR, C)\n",
        "\n",
        "#データの読み込み(学習)\n",
        "#放電\n",
        "\n",
        "#DATA_DIR = DIR_DATA_TRAIN\n",
        "DATA_DIR = DIR_DATA_TEST\n",
        "\n",
        "#C = 'Charge'\n",
        "C = 'Discharge'\n",
        "\n",
        "df_test_discharge = data_reading(DATA_DIR, C)\n",
        "\n",
        "#充電と放電の特徴量のデータセット作成\n",
        "df_test_feature = pd.merge(df_test_charge, df_test_discharge,\n",
        "                            how = 'inner',\n",
        "                            on = ['unit', 'Cycle_num'])\n"
      ],
      "execution_count": 4,
      "outputs": [
        {
          "output_type": "stream",
          "name": "stdout",
          "text": [
            "CPU times: user 2 µs, sys: 1 µs, total: 3 µs\n",
            "Wall time: 5.48 µs\n"
          ]
        },
        {
          "output_type": "stream",
          "name": "stderr",
          "text": [
            "100%|██████████| 3/3 [00:54<00:00, 18.32s/it]\n",
            "100%|██████████| 3/3 [00:51<00:00, 17.31s/it]\n",
            "100%|██████████| 3/3 [00:30<00:00, 10.23s/it]\n",
            "100%|██████████| 3/3 [00:28<00:00,  9.35s/it]\n"
          ]
        }
      ]
    },
    {
      "cell_type": "code",
      "metadata": {
        "id": "wtU3mo8ovCv5"
      },
      "source": [
        "df_train = df_train_feature.copy()"
      ],
      "execution_count": 23,
      "outputs": []
    },
    {
      "cell_type": "code",
      "metadata": {
        "id": "4EFkuWmUwvWy"
      },
      "source": [
        "df_test = df_test_feature.copy()"
      ],
      "execution_count": 24,
      "outputs": []
    },
    {
      "cell_type": "markdown",
      "metadata": {
        "id": "wyg2Uq1OmPGd"
      },
      "source": [
        "データセットの改善"
      ]
    },
    {
      "cell_type": "markdown",
      "metadata": {
        "id": "Ge2XSCaamTAK"
      },
      "source": [
        "RLU列を設定"
      ]
    },
    {
      "cell_type": "code",
      "metadata": {
        "id": "BK0DKkS4n0Bo"
      },
      "source": [
        "num_train_unit_1 = 124\n",
        "num_train_unit_2 = 40\n",
        "num_train_unit_3 = 97\n",
        "\n",
        "num_test_unit_1 = 70\n",
        "num_test_unit_2 = 12\n",
        "num_test_unit_3 = 55"
      ],
      "execution_count": 25,
      "outputs": []
    },
    {
      "cell_type": "code",
      "metadata": {
        "colab": {
          "base_uri": "https://localhost:8080/",
          "height": 206
        },
        "id": "th8YQZIRmGaM",
        "outputId": "888c71af-7bab-4ba5-f0ff-234f4aabd643"
      },
      "source": [
        "df_train.head()\n",
        "#df_train.shape"
      ],
      "execution_count": 26,
      "outputs": [
        {
          "output_type": "execute_result",
          "data": {
            "text/html": [
              "<div>\n",
              "<style scoped>\n",
              "    .dataframe tbody tr th:only-of-type {\n",
              "        vertical-align: middle;\n",
              "    }\n",
              "\n",
              "    .dataframe tbody tr th {\n",
              "        vertical-align: top;\n",
              "    }\n",
              "\n",
              "    .dataframe thead th {\n",
              "        text-align: right;\n",
              "    }\n",
              "</style>\n",
              "<table border=\"1\" class=\"dataframe\">\n",
              "  <thead>\n",
              "    <tr style=\"text-align: right;\">\n",
              "      <th></th>\n",
              "      <th>unit</th>\n",
              "      <th>charge_mode_x</th>\n",
              "      <th>Cycle_num</th>\n",
              "      <th>feature_c_vm</th>\n",
              "      <th>feature_c_cm</th>\n",
              "      <th>feature_c_vc</th>\n",
              "      <th>charge_mode_y</th>\n",
              "      <th>feature_d_vm</th>\n",
              "      <th>feature_d_vl</th>\n",
              "    </tr>\n",
              "  </thead>\n",
              "  <tbody>\n",
              "    <tr>\n",
              "      <th>0</th>\n",
              "      <td>Train_Unit_1</td>\n",
              "      <td>Charge</td>\n",
              "      <td>1</td>\n",
              "      <td>3422.5</td>\n",
              "      <td>3207.4</td>\n",
              "      <td>3241.8</td>\n",
              "      <td>Discharge</td>\n",
              "      <td>3346.9</td>\n",
              "      <td>3327.2</td>\n",
              "    </tr>\n",
              "    <tr>\n",
              "      <th>1</th>\n",
              "      <td>Train_Unit_1</td>\n",
              "      <td>Charge</td>\n",
              "      <td>2</td>\n",
              "      <td>3431.6</td>\n",
              "      <td>3181.8</td>\n",
              "      <td>3262.3</td>\n",
              "      <td>Discharge</td>\n",
              "      <td>3328.8</td>\n",
              "      <td>3309.2</td>\n",
              "    </tr>\n",
              "    <tr>\n",
              "      <th>2</th>\n",
              "      <td>Train_Unit_1</td>\n",
              "      <td>Charge</td>\n",
              "      <td>3</td>\n",
              "      <td>3409.1</td>\n",
              "      <td>9692.7</td>\n",
              "      <td>3229.2</td>\n",
              "      <td>Discharge</td>\n",
              "      <td>3309.4</td>\n",
              "      <td>3289.8</td>\n",
              "    </tr>\n",
              "    <tr>\n",
              "      <th>3</th>\n",
              "      <td>Train_Unit_1</td>\n",
              "      <td>Charge</td>\n",
              "      <td>4</td>\n",
              "      <td>3407.7</td>\n",
              "      <td>3160.2</td>\n",
              "      <td>3228.2</td>\n",
              "      <td>Discharge</td>\n",
              "      <td>3309.7</td>\n",
              "      <td>3289.9</td>\n",
              "    </tr>\n",
              "    <tr>\n",
              "      <th>4</th>\n",
              "      <td>Train_Unit_1</td>\n",
              "      <td>Charge</td>\n",
              "      <td>5</td>\n",
              "      <td>3409.6</td>\n",
              "      <td>3172.4</td>\n",
              "      <td>3217.9</td>\n",
              "      <td>Discharge</td>\n",
              "      <td>3307.7</td>\n",
              "      <td>3287.9</td>\n",
              "    </tr>\n",
              "  </tbody>\n",
              "</table>\n",
              "</div>"
            ],
            "text/plain": [
              "           unit charge_mode_x  ...  feature_d_vm  feature_d_vl\n",
              "0  Train_Unit_1        Charge  ...        3346.9        3327.2\n",
              "1  Train_Unit_1        Charge  ...        3328.8        3309.2\n",
              "2  Train_Unit_1        Charge  ...        3309.4        3289.8\n",
              "3  Train_Unit_1        Charge  ...        3309.7        3289.9\n",
              "4  Train_Unit_1        Charge  ...        3307.7        3287.9\n",
              "\n",
              "[5 rows x 9 columns]"
            ]
          },
          "metadata": {},
          "execution_count": 26
        }
      ]
    },
    {
      "cell_type": "code",
      "metadata": {
        "id": "Tv7OA6OInrAu"
      },
      "source": [
        "#寿命列を付与する関数\n",
        "def add_LT(x):\n",
        "  if x == 'Train_Unit_1':\n",
        "    return num_train_unit_1\n",
        "\n",
        "  elif x == 'Train_Unit_2':\n",
        "    return num_train_unit_2\n",
        "  \n",
        "  elif x == 'Train_Unit_3':\n",
        "    return num_train_unit_3"
      ],
      "execution_count": 27,
      "outputs": []
    },
    {
      "cell_type": "code",
      "metadata": {
        "id": "_68m_Z8DvfNG"
      },
      "source": [
        "df_train['LifeTime'] = df_train['unit'].apply(add_LT)"
      ],
      "execution_count": 28,
      "outputs": []
    },
    {
      "cell_type": "code",
      "metadata": {
        "colab": {
          "base_uri": "https://localhost:8080/",
          "height": 206
        },
        "id": "XWuAaROMvpdx",
        "outputId": "0f23322e-4e6a-45be-ff93-882a212f2de3"
      },
      "source": [
        "df_train.head()"
      ],
      "execution_count": 29,
      "outputs": [
        {
          "output_type": "execute_result",
          "data": {
            "text/html": [
              "<div>\n",
              "<style scoped>\n",
              "    .dataframe tbody tr th:only-of-type {\n",
              "        vertical-align: middle;\n",
              "    }\n",
              "\n",
              "    .dataframe tbody tr th {\n",
              "        vertical-align: top;\n",
              "    }\n",
              "\n",
              "    .dataframe thead th {\n",
              "        text-align: right;\n",
              "    }\n",
              "</style>\n",
              "<table border=\"1\" class=\"dataframe\">\n",
              "  <thead>\n",
              "    <tr style=\"text-align: right;\">\n",
              "      <th></th>\n",
              "      <th>unit</th>\n",
              "      <th>charge_mode_x</th>\n",
              "      <th>Cycle_num</th>\n",
              "      <th>feature_c_vm</th>\n",
              "      <th>feature_c_cm</th>\n",
              "      <th>feature_c_vc</th>\n",
              "      <th>charge_mode_y</th>\n",
              "      <th>feature_d_vm</th>\n",
              "      <th>feature_d_vl</th>\n",
              "      <th>LifeTime</th>\n",
              "    </tr>\n",
              "  </thead>\n",
              "  <tbody>\n",
              "    <tr>\n",
              "      <th>0</th>\n",
              "      <td>Train_Unit_1</td>\n",
              "      <td>Charge</td>\n",
              "      <td>1</td>\n",
              "      <td>3422.5</td>\n",
              "      <td>3207.4</td>\n",
              "      <td>3241.8</td>\n",
              "      <td>Discharge</td>\n",
              "      <td>3346.9</td>\n",
              "      <td>3327.2</td>\n",
              "      <td>124</td>\n",
              "    </tr>\n",
              "    <tr>\n",
              "      <th>1</th>\n",
              "      <td>Train_Unit_1</td>\n",
              "      <td>Charge</td>\n",
              "      <td>2</td>\n",
              "      <td>3431.6</td>\n",
              "      <td>3181.8</td>\n",
              "      <td>3262.3</td>\n",
              "      <td>Discharge</td>\n",
              "      <td>3328.8</td>\n",
              "      <td>3309.2</td>\n",
              "      <td>124</td>\n",
              "    </tr>\n",
              "    <tr>\n",
              "      <th>2</th>\n",
              "      <td>Train_Unit_1</td>\n",
              "      <td>Charge</td>\n",
              "      <td>3</td>\n",
              "      <td>3409.1</td>\n",
              "      <td>9692.7</td>\n",
              "      <td>3229.2</td>\n",
              "      <td>Discharge</td>\n",
              "      <td>3309.4</td>\n",
              "      <td>3289.8</td>\n",
              "      <td>124</td>\n",
              "    </tr>\n",
              "    <tr>\n",
              "      <th>3</th>\n",
              "      <td>Train_Unit_1</td>\n",
              "      <td>Charge</td>\n",
              "      <td>4</td>\n",
              "      <td>3407.7</td>\n",
              "      <td>3160.2</td>\n",
              "      <td>3228.2</td>\n",
              "      <td>Discharge</td>\n",
              "      <td>3309.7</td>\n",
              "      <td>3289.9</td>\n",
              "      <td>124</td>\n",
              "    </tr>\n",
              "    <tr>\n",
              "      <th>4</th>\n",
              "      <td>Train_Unit_1</td>\n",
              "      <td>Charge</td>\n",
              "      <td>5</td>\n",
              "      <td>3409.6</td>\n",
              "      <td>3172.4</td>\n",
              "      <td>3217.9</td>\n",
              "      <td>Discharge</td>\n",
              "      <td>3307.7</td>\n",
              "      <td>3287.9</td>\n",
              "      <td>124</td>\n",
              "    </tr>\n",
              "  </tbody>\n",
              "</table>\n",
              "</div>"
            ],
            "text/plain": [
              "           unit charge_mode_x  Cycle_num  ...  feature_d_vm  feature_d_vl  LifeTime\n",
              "0  Train_Unit_1        Charge          1  ...        3346.9        3327.2       124\n",
              "1  Train_Unit_1        Charge          2  ...        3328.8        3309.2       124\n",
              "2  Train_Unit_1        Charge          3  ...        3309.4        3289.8       124\n",
              "3  Train_Unit_1        Charge          4  ...        3309.7        3289.9       124\n",
              "4  Train_Unit_1        Charge          5  ...        3307.7        3287.9       124\n",
              "\n",
              "[5 rows x 10 columns]"
            ]
          },
          "metadata": {},
          "execution_count": 29
        }
      ]
    },
    {
      "cell_type": "code",
      "metadata": {
        "id": "VPIwSjEkqqH4"
      },
      "source": [
        "#RULを付与\n",
        "df_train['RUL'] = df_train['LifeTime'] - df_train['Cycle_num']"
      ],
      "execution_count": 30,
      "outputs": []
    },
    {
      "cell_type": "code",
      "metadata": {
        "colab": {
          "base_uri": "https://localhost:8080/",
          "height": 206
        },
        "id": "1dI23TtQv_UB",
        "outputId": "af8f7ecb-e3ee-451e-b98a-c49cbfdbbceb"
      },
      "source": [
        "df_train.head()"
      ],
      "execution_count": 31,
      "outputs": [
        {
          "output_type": "execute_result",
          "data": {
            "text/html": [
              "<div>\n",
              "<style scoped>\n",
              "    .dataframe tbody tr th:only-of-type {\n",
              "        vertical-align: middle;\n",
              "    }\n",
              "\n",
              "    .dataframe tbody tr th {\n",
              "        vertical-align: top;\n",
              "    }\n",
              "\n",
              "    .dataframe thead th {\n",
              "        text-align: right;\n",
              "    }\n",
              "</style>\n",
              "<table border=\"1\" class=\"dataframe\">\n",
              "  <thead>\n",
              "    <tr style=\"text-align: right;\">\n",
              "      <th></th>\n",
              "      <th>unit</th>\n",
              "      <th>charge_mode_x</th>\n",
              "      <th>Cycle_num</th>\n",
              "      <th>feature_c_vm</th>\n",
              "      <th>feature_c_cm</th>\n",
              "      <th>feature_c_vc</th>\n",
              "      <th>charge_mode_y</th>\n",
              "      <th>feature_d_vm</th>\n",
              "      <th>feature_d_vl</th>\n",
              "      <th>LifeTime</th>\n",
              "      <th>RUL</th>\n",
              "    </tr>\n",
              "  </thead>\n",
              "  <tbody>\n",
              "    <tr>\n",
              "      <th>0</th>\n",
              "      <td>Train_Unit_1</td>\n",
              "      <td>Charge</td>\n",
              "      <td>1</td>\n",
              "      <td>3422.5</td>\n",
              "      <td>3207.4</td>\n",
              "      <td>3241.8</td>\n",
              "      <td>Discharge</td>\n",
              "      <td>3346.9</td>\n",
              "      <td>3327.2</td>\n",
              "      <td>124</td>\n",
              "      <td>123</td>\n",
              "    </tr>\n",
              "    <tr>\n",
              "      <th>1</th>\n",
              "      <td>Train_Unit_1</td>\n",
              "      <td>Charge</td>\n",
              "      <td>2</td>\n",
              "      <td>3431.6</td>\n",
              "      <td>3181.8</td>\n",
              "      <td>3262.3</td>\n",
              "      <td>Discharge</td>\n",
              "      <td>3328.8</td>\n",
              "      <td>3309.2</td>\n",
              "      <td>124</td>\n",
              "      <td>122</td>\n",
              "    </tr>\n",
              "    <tr>\n",
              "      <th>2</th>\n",
              "      <td>Train_Unit_1</td>\n",
              "      <td>Charge</td>\n",
              "      <td>3</td>\n",
              "      <td>3409.1</td>\n",
              "      <td>9692.7</td>\n",
              "      <td>3229.2</td>\n",
              "      <td>Discharge</td>\n",
              "      <td>3309.4</td>\n",
              "      <td>3289.8</td>\n",
              "      <td>124</td>\n",
              "      <td>121</td>\n",
              "    </tr>\n",
              "    <tr>\n",
              "      <th>3</th>\n",
              "      <td>Train_Unit_1</td>\n",
              "      <td>Charge</td>\n",
              "      <td>4</td>\n",
              "      <td>3407.7</td>\n",
              "      <td>3160.2</td>\n",
              "      <td>3228.2</td>\n",
              "      <td>Discharge</td>\n",
              "      <td>3309.7</td>\n",
              "      <td>3289.9</td>\n",
              "      <td>124</td>\n",
              "      <td>120</td>\n",
              "    </tr>\n",
              "    <tr>\n",
              "      <th>4</th>\n",
              "      <td>Train_Unit_1</td>\n",
              "      <td>Charge</td>\n",
              "      <td>5</td>\n",
              "      <td>3409.6</td>\n",
              "      <td>3172.4</td>\n",
              "      <td>3217.9</td>\n",
              "      <td>Discharge</td>\n",
              "      <td>3307.7</td>\n",
              "      <td>3287.9</td>\n",
              "      <td>124</td>\n",
              "      <td>119</td>\n",
              "    </tr>\n",
              "  </tbody>\n",
              "</table>\n",
              "</div>"
            ],
            "text/plain": [
              "           unit charge_mode_x  Cycle_num  ...  feature_d_vl  LifeTime  RUL\n",
              "0  Train_Unit_1        Charge          1  ...        3327.2       124  123\n",
              "1  Train_Unit_1        Charge          2  ...        3309.2       124  122\n",
              "2  Train_Unit_1        Charge          3  ...        3289.8       124  121\n",
              "3  Train_Unit_1        Charge          4  ...        3289.9       124  120\n",
              "4  Train_Unit_1        Charge          5  ...        3287.9       124  119\n",
              "\n",
              "[5 rows x 11 columns]"
            ]
          },
          "metadata": {},
          "execution_count": 31
        }
      ]
    },
    {
      "cell_type": "markdown",
      "metadata": {
        "id": "Xnm2QfmpwKbu"
      },
      "source": [
        "モデリング"
      ]
    },
    {
      "cell_type": "code",
      "metadata": {
        "id": "eIwsOXwDwLHg"
      },
      "source": [
        "#学習データとテストデータ\n",
        "train_unit_1 = df_train[df_train['unit'] == 'Train_Unit_1' ].reset_index(drop=True)\n",
        "train_unit_2 = df_train[df_train['unit'] == 'Train_Unit_2' ].reset_index(drop=True)\n",
        "train_unit_3 = df_train[df_train['unit'] == 'Train_Unit_3' ].reset_index(drop=True)\n",
        "test_unit_1 = df_test[df_test['unit'] == 'Test_Unit_1' ].reset_index(drop=True)\n",
        "test_unit_2 = df_test[df_test['unit'] == 'Test_Unit_2' ].reset_index(drop=True)\n",
        "test_unit_3 = df_test[df_test['unit'] == 'Test_Unit_3' ].reset_index(drop=True)"
      ],
      "execution_count": 32,
      "outputs": []
    },
    {
      "cell_type": "code",
      "metadata": {
        "colab": {
          "base_uri": "https://localhost:8080/"
        },
        "id": "xN4p-FFFw9VJ",
        "outputId": "3cc18282-b440-4770-b84d-37e3d747706f"
      },
      "source": [
        "df_train.columns"
      ],
      "execution_count": 15,
      "outputs": [
        {
          "output_type": "execute_result",
          "data": {
            "text/plain": [
              "Index(['unit', 'charge_mode_x', 'Cycle_num', 'feature_c_vm', 'feature_c_cm',\n",
              "       'feature_c_vc', 'charge_mode_y', 'feature_d_vm', 'feature_d_vl',\n",
              "       'LifeTime', 'RUL'],\n",
              "      dtype='object')"
            ]
          },
          "metadata": {},
          "execution_count": 15
        }
      ]
    },
    {
      "cell_type": "code",
      "metadata": {
        "colab": {
          "base_uri": "https://localhost:8080/"
        },
        "id": "BcltgsaS-W4R",
        "outputId": "85e489d5-7204-45ca-e80a-8ee671e0e1ad"
      },
      "source": [
        "col_train = df_train.columns[3:].drop(['charge_mode_y','LifeTime'])\n",
        "col_train"
      ],
      "execution_count": 34,
      "outputs": [
        {
          "output_type": "execute_result",
          "data": {
            "text/plain": [
              "Index(['feature_c_vm', 'feature_c_cm', 'feature_c_vc', 'feature_d_vm',\n",
              "       'feature_d_vl', 'RUL'],\n",
              "      dtype='object')"
            ]
          },
          "metadata": {},
          "execution_count": 34
        }
      ]
    },
    {
      "cell_type": "code",
      "metadata": {
        "colab": {
          "base_uri": "https://localhost:8080/"
        },
        "id": "F19W91GH-ufM",
        "outputId": "a16c3a1d-bb7b-4063-d8d5-801d671d7a20"
      },
      "source": [
        "col_test = df_test.columns[3:].drop(['charge_mode_y'])\n",
        "col_test"
      ],
      "execution_count": 35,
      "outputs": [
        {
          "output_type": "execute_result",
          "data": {
            "text/plain": [
              "Index(['feature_c_vm', 'feature_c_cm', 'feature_c_vc', 'feature_d_vm',\n",
              "       'feature_d_vl'],\n",
              "      dtype='object')"
            ]
          },
          "metadata": {},
          "execution_count": 35
        }
      ]
    },
    {
      "cell_type": "markdown",
      "metadata": {
        "id": "mCZs3MDTwUjE"
      },
      "source": [
        "ユニット1用"
      ]
    },
    {
      "cell_type": "code",
      "metadata": {
        "id": "zWT3FWqiw2MR"
      },
      "source": [
        "train_X_1 = train_unit_1[col_train[:-1]]\n",
        "train_y_1 = train_unit_1[col_train[-1]]\n",
        "train_X_2 = train_unit_2[col_train[:-1]]\n",
        "train_y_2 = train_unit_2[col_train[-1]]\n",
        "train_X_3 = train_unit_3[col_train[:-1]]\n",
        "train_y_3 = train_unit_3[col_train[-1]]"
      ],
      "execution_count": 38,
      "outputs": []
    },
    {
      "cell_type": "code",
      "metadata": {
        "colab": {
          "base_uri": "https://localhost:8080/"
        },
        "id": "om08Jhve-oEy",
        "outputId": "0b6f3274-bc0c-4e06-e536-64830d7f226e"
      },
      "source": [
        "print(train_X_1)\n",
        "print(train_y_1)"
      ],
      "execution_count": 37,
      "outputs": [
        {
          "output_type": "stream",
          "name": "stdout",
          "text": [
            "     feature_c_vm  feature_c_cm  feature_c_vc  feature_d_vm  feature_d_vl\n",
            "0         3422.50        3207.4        3241.8        3346.9        3327.2\n",
            "1         3431.60        3181.8        3262.3        3328.8        3309.2\n",
            "2         3409.10        9692.7        3229.2        3309.4        3289.8\n",
            "3         3407.70        3160.2        3228.2        3309.7        3289.9\n",
            "4         3409.60        3172.4        3217.9        3307.7        3287.9\n",
            "..            ...           ...           ...           ...           ...\n",
            "119       1932.20        2706.9        1902.4        2577.9        2568.5\n",
            "120        543.23        2894.9        1960.2        2587.0        2577.5\n",
            "121        939.70        3271.7        1966.2        2549.7        2540.1\n",
            "122       1970.20        2230.0        1932.3        2531.3        2521.7\n",
            "123        464.92       10035.0        1886.0        2520.9        2511.4\n",
            "\n",
            "[124 rows x 5 columns]\n",
            "0      123\n",
            "1      122\n",
            "2      121\n",
            "3      120\n",
            "4      119\n",
            "      ... \n",
            "119      4\n",
            "120      3\n",
            "121      2\n",
            "122      1\n",
            "123      0\n",
            "Name: RUL, Length: 124, dtype: int64\n"
          ]
        }
      ]
    },
    {
      "cell_type": "code",
      "metadata": {
        "id": "5g6e177HxdLg"
      },
      "source": [
        "test_X_1 = test_unit_1[col_test]\n",
        "test_X_2 = test_unit_2[col_test]\n",
        "test_X_3 = test_unit_3[col_test]"
      ],
      "execution_count": 39,
      "outputs": []
    },
    {
      "cell_type": "code",
      "metadata": {
        "id": "FB1exCaIyOKq"
      },
      "source": [
        "from xgboost import XGBRegressor"
      ],
      "execution_count": 40,
      "outputs": []
    },
    {
      "cell_type": "code",
      "metadata": {
        "colab": {
          "base_uri": "https://localhost:8080/"
        },
        "id": "7M9dfQCJyQYD",
        "outputId": "d369434b-e1f9-4275-fc7f-ed577ede5c30"
      },
      "source": [
        "#モデルの作成\n",
        "model_1 = XGBRegressor(n_estimators=20, random_state=71)\n",
        "model_1.fit(train_X_1,train_y_1)\n",
        "\n",
        "model_2 = XGBRegressor(n_estimators=20, random_state=71)\n",
        "model_2.fit(train_X_2,train_y_2)\n",
        "\n",
        "model_3 = XGBRegressor(n_estimators=20, random_state=71)\n",
        "model_3.fit(train_X_3,train_y_3)"
      ],
      "execution_count": 44,
      "outputs": [
        {
          "output_type": "stream",
          "name": "stdout",
          "text": [
            "[11:27:41] WARNING: /workspace/src/objective/regression_obj.cu:152: reg:linear is now deprecated in favor of reg:squarederror.\n",
            "[11:27:41] WARNING: /workspace/src/objective/regression_obj.cu:152: reg:linear is now deprecated in favor of reg:squarederror.\n",
            "[11:27:41] WARNING: /workspace/src/objective/regression_obj.cu:152: reg:linear is now deprecated in favor of reg:squarederror.\n"
          ]
        },
        {
          "output_type": "execute_result",
          "data": {
            "text/plain": [
              "XGBRegressor(base_score=0.5, booster='gbtree', colsample_bylevel=1,\n",
              "             colsample_bynode=1, colsample_bytree=1, gamma=0,\n",
              "             importance_type='gain', learning_rate=0.1, max_delta_step=0,\n",
              "             max_depth=3, min_child_weight=1, missing=None, n_estimators=20,\n",
              "             n_jobs=1, nthread=None, objective='reg:linear', random_state=71,\n",
              "             reg_alpha=0, reg_lambda=1, scale_pos_weight=1, seed=None,\n",
              "             silent=None, subsample=1, verbosity=1)"
            ]
          },
          "metadata": {},
          "execution_count": 44
        }
      ]
    },
    {
      "cell_type": "code",
      "metadata": {
        "id": "eO-hRqD4ySkh"
      },
      "source": [
        "#テストデータの予測値を出力\n",
        "pred_1 = model_1.predict(test_X_1)\n",
        "pred_2 = model_2.predict(test_X_2)\n",
        "pred_3 = model_3.predict(test_X_3)"
      ],
      "execution_count": 45,
      "outputs": []
    },
    {
      "cell_type": "code",
      "metadata": {
        "colab": {
          "base_uri": "https://localhost:8080/",
          "height": 851
        },
        "id": "vFgG5LgXyWw1",
        "outputId": "5c776c13-f41b-429e-9652-96923a6cfbdc"
      },
      "source": [
        "fig, ax1 = plt.subplots()\n",
        "\n",
        "ax1.hist(pred_1, bins=10)\n",
        "ax1.set_title('train:Unit1, test:Unit1')\n",
        "ax1.set_xlabel('RUL')\n",
        "ax1.set_ylabel('count')\n",
        "\n",
        "fig, ax2 = plt.subplots()\n",
        "ax2.hist(pred_2, bins=10)\n",
        "ax2.set_title('train:Unit2, test:Unit2')\n",
        "ax2.set_xlabel('RUL')\n",
        "ax2.set_ylabel('count')\n",
        "\n",
        "fig, ax3 = plt.subplots()\n",
        "ax3.hist(pred_3, bins=10)\n",
        "ax3.set_title('train:Unit3, test:Unit3')\n",
        "ax3.set_xlabel('RUL')\n",
        "ax3.set_ylabel('count')\n",
        "\n",
        "plt.show()"
      ],
      "execution_count": 50,
      "outputs": [
        {
          "output_type": "display_data",
          "data": {
            "image/png": "[encoded data removed]",
            "text/plain": [
              "<Figure size 432x288 with 1 Axes>"
            ]
          },
          "metadata": {
            "needs_background": "light"
          }
        },
        {
          "output_type": "display_data",
          "data": {
            "image/png": "[encoded data removed]",
            "text/plain": [
              "<Figure size 432x288 with 1 Axes>"
            ]
          },
          "metadata": {
            "needs_background": "light"
          }
        },
        {
          "output_type": "display_data",
          "data": {
            "image/png": "[encoded data removed]",
            "text/plain": [
              "<Figure size 432x288 with 1 Axes>"
            ]
          },
          "metadata": {
            "needs_background": "light"
          }
        }
      ]
    },
    {
      "cell_type": "code",
      "metadata": {
        "colab": {
          "base_uri": "https://localhost:8080/"
        },
        "id": "bLOniUqf0Ia2",
        "outputId": "d0a90f63-c098-4fa9-f2a5-bf95ef68a89a"
      },
      "source": [
        "#ヒストグラムの最頻値をRLUと定義\n",
        "lifetime_test_1 = round(statistics.mode(pred_1))\n",
        "lifetime_test_2 = round(statistics.mode(pred_2))\n",
        "lifetime_test_3 = round(statistics.mode(pred_3))\n",
        "\n",
        "print(lifetime_test_1,lifetime_test_2,lifetime_test_3)"
      ],
      "execution_count": 51,
      "outputs": [
        {
          "output_type": "stream",
          "name": "stdout",
          "text": [
            "80 22 70\n"
          ]
        }
      ]
    },
    {
      "cell_type": "markdown",
      "metadata": {
        "id": "8K1gY8eCB6_1"
      },
      "source": [
        "# 提出"
      ]
    },
    {
      "cell_type": "code",
      "metadata": {
        "id": "D-YfHktnB0p2"
      },
      "source": [
        "#残寿命の算出\n",
        "RUL_unit_1 = lifetime_test_1\n",
        "RUL_unit_2 = lifetime_test_2\n",
        "RUL_unit_3 = lifetime_test_3"
      ],
      "execution_count": 52,
      "outputs": []
    },
    {
      "cell_type": "code",
      "metadata": {
        "colab": {
          "base_uri": "https://localhost:8080/"
        },
        "id": "zOk5zIPRDRoS",
        "outputId": "9eb328ad-e813-4b4e-85ef-7c58b4925662"
      },
      "source": [
        "print(type(RUL_unit_1))\n",
        "print(type(RUL_unit_2))\n",
        "print(type(RUL_unit_3))"
      ],
      "execution_count": 53,
      "outputs": [
        {
          "output_type": "stream",
          "name": "stdout",
          "text": [
            "<class 'int'>\n",
            "<class 'int'>\n",
            "<class 'int'>\n"
          ]
        }
      ]
    },
    {
      "cell_type": "code",
      "metadata": {
        "id": "pt2JYeBKB_Cy"
      },
      "source": [
        "#提出ファイルの読み込み\n",
        "file_submit = pd.read_csv(os.path.join(DIR, 'data', 'ISID_08_09_2021.csv'))"
      ],
      "execution_count": 54,
      "outputs": []
    },
    {
      "cell_type": "code",
      "metadata": {
        "colab": {
          "base_uri": "https://localhost:8080/"
        },
        "id": "vQDKn-utDM9W",
        "outputId": "66ca54a1-fedb-4f5e-cea1-9ac394208d60"
      },
      "source": [
        "file_submit.columns"
      ],
      "execution_count": 55,
      "outputs": [
        {
          "output_type": "execute_result",
          "data": {
            "text/plain": [
              "Index(['Unit 1 RUL', 'Unit 2 RUL', 'Unit 3 RUL'], dtype='object')"
            ]
          },
          "metadata": {},
          "execution_count": 55
        }
      ]
    },
    {
      "cell_type": "code",
      "metadata": {
        "id": "eqVKQf1hCF_Z"
      },
      "source": [
        "pd.DataFrame({\n",
        "    file_submit.columns[0]: [RUL_unit_1],\n",
        "    file_submit.columns[1]: [RUL_unit_2],\n",
        "    file_submit.columns[2]: [RUL_unit_3],}).to_csv(os.path.join(DIR, \"C0002_27_09_2021_2.csv\"), index=False)"
      ],
      "execution_count": 56,
      "outputs": []
    },
    {
      "cell_type": "code",
      "metadata": {
        "id": "WQL1M-ndCPik"
      },
      "source": [
        ""
      ],
      "execution_count": null,
      "outputs": []
    }
  ]
}
{
  "nbformat": 4,
  "nbformat_minor": 0,
  "metadata": {
    "colab": {
      "name": "210904_学習データの読み込み.ipynb",
      "provenance": [],
      "collapsed_sections": [],
      "mount_file_id": "1lzcteTbfcs26uklMfx7HMetHcXd4YlwG",
      "authorship_tag": "ABX9TyNVciDGDCgmU/PneaqWUfgV",
      "include_colab_link": true
    },
    "kernelspec": {
      "name": "python3",
      "display_name": "Python 3"
    },
    "language_info": {
      "name": "python"
    }
  },
  "cells": [
    {
      "cell_type": "markdown",
      "metadata": {
        "id": "view-in-github",
        "colab_type": "text"
      },
      "source": [
        "<a href=\"https://colab.research.google.com/github/minassy/ISID_2021/blob/main/210904_%E5%AD%A6%E7%BF%92%E3%83%87%E3%83%BC%E3%82%BF%E3%81%AE%E8%AA%AD%E3%81%BF%E8%BE%BC%E3%81%BF.ipynb\" target=\"_parent\"><img src=\"https://colab.research.google.com/assets/colab-badge.svg\" alt=\"Open In Colab\"/></a>"
      ]
    },
    {
      "cell_type": "markdown",
      "metadata": {
        "id": "9NSAtRwvj04M"
      },
      "source": [
        "#データ準備"
      ]
    },
    {
      "cell_type": "code",
      "metadata": {
        "id": "o8a7FFuejjGc"
      },
      "source": [
        "import os\n",
        "import zipfile\n",
        "import glob\n",
        "import pandas as pd\n",
        "import numpy as np\n",
        "import pathlib\n",
        "from tqdm import tqdm"
      ],
      "execution_count": 2,
      "outputs": []
    },
    {
      "cell_type": "code",
      "metadata": {
        "colab": {
          "base_uri": "https://localhost:8080/"
        },
        "id": "ZCFLBF05j2iJ",
        "outputId": "8b283c99-03f6-4630-dea7-13b9e4ad4a86"
      },
      "source": [
        "#作業基本ディレクトリ\n",
        "DIR = 'drive/MyDrive/00_Competition/ISID/2021'\n",
        "os.listdir(DIR)\n",
        "#os.mkdir(DIR+'/data')"
      ],
      "execution_count": 3,
      "outputs": [
        {
          "output_type": "execute_result",
          "data": {
            "text/plain": [
              "['210904.ipynb', 'data']"
            ]
          },
          "metadata": {},
          "execution_count": 3
        }
      ]
    },
    {
      "cell_type": "code",
      "metadata": {
        "colab": {
          "base_uri": "https://localhost:8080/"
        },
        "id": "o5gjBUGJkkLx",
        "outputId": "b49e88e9-dee4-4c85-cd71-fefed9cf814c"
      },
      "source": [
        "os.listdir(os.path.join(DIR, 'data'))"
      ],
      "execution_count": 4,
      "outputs": [
        {
          "output_type": "execute_result",
          "data": {
            "text/plain": [
              "['ISID_08_09_2021.csv',\n",
              " 'Test_Unit_20210903.zip',\n",
              " 'Train_Unit_20210903.zip',\n",
              " 'Train_Unit_20210903',\n",
              " 'Test_Unit_20210903']"
            ]
          },
          "metadata": {},
          "execution_count": 4
        }
      ]
    },
    {
      "cell_type": "code",
      "metadata": {
        "id": "W8HokYm7j_vB"
      },
      "source": [
        "#データセットの解凍\n",
        "#TARGET_PATH_train = os.path.join(DIR, 'data', 'Train_Unit_20210903.zip')\n",
        "#TARGET_PATH_test = os.path.join(DIR, 'data', 'Test_Unit_20210903.zip')\n",
        "#OUT_PATH = os.path.join(DIR, 'data')\n",
        "#with zipfile.ZipFile(TARGET_PATH_test, 'r') as f: \n",
        "#  f.extractall(path=OUT_PATH)"
      ],
      "execution_count": 5,
      "outputs": []
    },
    {
      "cell_type": "code",
      "metadata": {
        "id": "4kqDX5rCo9mQ"
      },
      "source": [
        "DIR_DATA_TRAIN = os.path.join(DIR, 'data', 'Train_Unit_20210903')\n",
        "DIR_DATA_TEST = os.path.join(DIR, 'data', 'Test_Unit_20210903')"
      ],
      "execution_count": 6,
      "outputs": []
    },
    {
      "cell_type": "code",
      "metadata": {
        "colab": {
          "base_uri": "https://localhost:8080/"
        },
        "id": "imA5EjYBpJcM",
        "outputId": "592e52cf-c8d4-48a3-f945-74019a24de4c"
      },
      "source": [
        "print(os.listdir(DIR_DATA_TRAIN))\n",
        "print(os.listdir(DIR_DATA_TRAIN + '/Train_Unit_1'))"
      ],
      "execution_count": 7,
      "outputs": [
        {
          "output_type": "stream",
          "name": "stdout",
          "text": [
            "['Train_Unit_3', 'Train_Unit_2', 'Train_Unit_1']\n",
            "['Charge', 'Discharge']\n"
          ]
        }
      ]
    },
    {
      "cell_type": "code",
      "metadata": {
        "colab": {
          "base_uri": "https://localhost:8080/"
        },
        "id": "KZBX9UKglGTx",
        "outputId": "b8bc4e72-ab8a-4b7f-cdd7-c4dd2568f188"
      },
      "source": [
        "#サブフォルダを含む、全ファイルを取得しファイル数を確認。\n",
        "#訓練データ\n",
        "for folder in os.listdir(DIR_DATA_TRAIN):\n",
        "  for C in os.listdir(os.path.join(DIR_DATA_TRAIN, folder)):\n",
        "    files = glob.glob(os.path.join(DIR_DATA_TRAIN, folder, C, '*.csv'))\n",
        "    print(f'{folder}','--',f'{C}のCSVファイル数：',len(files))"
      ],
      "execution_count": 8,
      "outputs": [
        {
          "output_type": "stream",
          "name": "stdout",
          "text": [
            "Train_Unit_3 -- ChargeのCSVファイル数： 97\n",
            "Train_Unit_3 -- DischargeのCSVファイル数： 97\n",
            "Train_Unit_2 -- ChargeのCSVファイル数： 40\n",
            "Train_Unit_2 -- DischargeのCSVファイル数： 40\n",
            "Train_Unit_1 -- ChargeのCSVファイル数： 124\n",
            "Train_Unit_1 -- DischargeのCSVファイル数： 124\n"
          ]
        }
      ]
    },
    {
      "cell_type": "code",
      "metadata": {
        "colab": {
          "base_uri": "https://localhost:8080/"
        },
        "id": "nZ7jy7CBoSLE",
        "outputId": "39edfa92-7905-42fe-b5f1-fac8fa86abd6"
      },
      "source": [
        "#サブフォルダを含む、全ファイルを取得しファイル数を確認。\n",
        "#テストデータ\n",
        "for folder in os.listdir(DIR_DATA_TEST):\n",
        "  for C in os.listdir(os.path.join(DIR_DATA_TEST, folder)):\n",
        "    files = glob.glob(os.path.join(DIR_DATA_TEST, folder, C, '*.csv'))\n",
        "    print(f'{folder}','--',f'{C}のCSVファイル数：',len(files))"
      ],
      "execution_count": 9,
      "outputs": [
        {
          "output_type": "stream",
          "name": "stdout",
          "text": [
            "Test_Unit_1 -- ChargeのCSVファイル数： 70\n",
            "Test_Unit_1 -- DischargeのCSVファイル数： 70\n",
            "Test_Unit_2 -- ChargeのCSVファイル数： 12\n",
            "Test_Unit_2 -- DischargeのCSVファイル数： 12\n",
            "Test_Unit_3 -- ChargeのCSVファイル数： 55\n",
            "Test_Unit_3 -- DischargeのCSVファイル数： 55\n"
          ]
        }
      ]
    },
    {
      "cell_type": "code",
      "metadata": {
        "id": "qlRIfzBHsX9T"
      },
      "source": [
        "#データ例の確認\n",
        "folder = 'Train_Unit_1'\n",
        "C = 'Charge'\n",
        "exp_files = glob.glob(os.path.join(DIR_DATA_TRAIN, folder, C, '*.csv'))\n",
        "exp_file = [s for s in exp_files if 'File_1.csv' in s]"
      ],
      "execution_count": 10,
      "outputs": []
    },
    {
      "cell_type": "code",
      "metadata": {
        "colab": {
          "base_uri": "https://localhost:8080/",
          "height": 35
        },
        "id": "t2bXqDx9CMNH",
        "outputId": "dbb9f9cb-e3e3-4bef-93ce-35133b0841ba"
      },
      "source": [
        "exp_file[0]"
      ],
      "execution_count": 11,
      "outputs": [
        {
          "output_type": "execute_result",
          "data": {
            "application/vnd.google.colaboratory.intrinsic+json": {
              "type": "string"
            },
            "text/plain": [
              "'drive/MyDrive/00_Competition/ISID/2021/data/Train_Unit_20210903/Train_Unit_1/Charge/Training_Unit_1_File_1.csv'"
            ]
          },
          "metadata": {},
          "execution_count": 11
        }
      ]
    },
    {
      "cell_type": "code",
      "metadata": {
        "id": "t-oYmSAus9iN"
      },
      "source": [
        "tmp_df = pd.read_csv(exp_file[0], encoding='utf-8')"
      ],
      "execution_count": 12,
      "outputs": []
    },
    {
      "cell_type": "code",
      "metadata": {
        "colab": {
          "base_uri": "https://localhost:8080/",
          "height": 697
        },
        "id": "Qtk_FECxtUvx",
        "outputId": "cb2ff093-ad69-421d-a58b-236c47a65819"
      },
      "source": [
        "#データの確認\n",
        "Dataframe = tmp_df\n",
        "print('レコード数：',Dataframe.shape[0],'カラム数：',Dataframe.shape[1])\n",
        "print('/'*30)\n",
        "print('データセット情報:')\n",
        "Dataframe.info()\n",
        "print('/'*30)\n",
        "print('欠損値確認：')\n",
        "print(Dataframe.isnull().sum())\n",
        "print('/'*30)\n",
        "Dataframe.head()"
      ],
      "execution_count": 13,
      "outputs": [
        {
          "output_type": "stream",
          "name": "stdout",
          "text": [
            "レコード数： 940 カラム数： 7\n",
            "//////////////////////////////\n",
            "データセット情報:\n",
            "<class 'pandas.core.frame.DataFrame'>\n",
            "RangeIndex: 940 entries, 0 to 939\n",
            "Data columns (total 7 columns):\n",
            " #   Column                   Non-Null Count  Dtype  \n",
            "---  ------                   --------------  -----  \n",
            " 0   Time (s)                 940 non-null    float64\n",
            " 1   Voltage Measured (V)     940 non-null    float64\n",
            " 2   Voltage Charge (V)       940 non-null    float64\n",
            " 3   Current Measured (Amps)  940 non-null    float64\n",
            " 4   Current Charge (Amps)    940 non-null    float64\n",
            " 5   Temperature (degree C)   940 non-null    float64\n",
            " 6   Unnamed: 6               0 non-null      float64\n",
            "dtypes: float64(7)\n",
            "memory usage: 51.5 KB\n",
            "//////////////////////////////\n",
            "欠損値確認：\n",
            "Time (s)                     0\n",
            "Voltage Measured (V)         0\n",
            "Voltage Charge (V)           0\n",
            "Current Measured (Amps)      0\n",
            "Current Charge (Amps)        0\n",
            "Temperature (degree C)       0\n",
            "Unnamed: 6                 940\n",
            "dtype: int64\n",
            "//////////////////////////////\n"
          ]
        },
        {
          "output_type": "execute_result",
          "data": {
            "text/html": [
              "<div>\n",
              "<style scoped>\n",
              "    .dataframe tbody tr th:only-of-type {\n",
              "        vertical-align: middle;\n",
              "    }\n",
              "\n",
              "    .dataframe tbody tr th {\n",
              "        vertical-align: top;\n",
              "    }\n",
              "\n",
              "    .dataframe thead th {\n",
              "        text-align: right;\n",
              "    }\n",
              "</style>\n",
              "<table border=\"1\" class=\"dataframe\">\n",
              "  <thead>\n",
              "    <tr style=\"text-align: right;\">\n",
              "      <th></th>\n",
              "      <th>Time (s)</th>\n",
              "      <th>Voltage Measured (V)</th>\n",
              "      <th>Voltage Charge (V)</th>\n",
              "      <th>Current Measured (Amps)</th>\n",
              "      <th>Current Charge (Amps)</th>\n",
              "      <th>Temperature (degree C)</th>\n",
              "      <th>Unnamed: 6</th>\n",
              "    </tr>\n",
              "  </thead>\n",
              "  <tbody>\n",
              "    <tr>\n",
              "      <th>0</th>\n",
              "      <td>0.000</td>\n",
              "      <td>3.3251</td>\n",
              "      <td>0.003</td>\n",
              "      <td>0.000302</td>\n",
              "      <td>-0.002</td>\n",
              "      <td>29.342</td>\n",
              "      <td>NaN</td>\n",
              "    </tr>\n",
              "    <tr>\n",
              "      <th>1</th>\n",
              "      <td>2.516</td>\n",
              "      <td>3.0020</td>\n",
              "      <td>1.414</td>\n",
              "      <td>-3.362000</td>\n",
              "      <td>-3.370</td>\n",
              "      <td>29.336</td>\n",
              "      <td>NaN</td>\n",
              "    </tr>\n",
              "    <tr>\n",
              "      <th>2</th>\n",
              "      <td>5.500</td>\n",
              "      <td>3.4346</td>\n",
              "      <td>4.142</td>\n",
              "      <td>1.508700</td>\n",
              "      <td>1.498</td>\n",
              "      <td>29.335</td>\n",
              "      <td>NaN</td>\n",
              "    </tr>\n",
              "    <tr>\n",
              "      <th>3</th>\n",
              "      <td>8.391</td>\n",
              "      <td>3.4549</td>\n",
              "      <td>4.180</td>\n",
              "      <td>1.510000</td>\n",
              "      <td>1.498</td>\n",
              "      <td>29.342</td>\n",
              "      <td>NaN</td>\n",
              "    </tr>\n",
              "    <tr>\n",
              "      <th>4</th>\n",
              "      <td>11.266</td>\n",
              "      <td>3.4688</td>\n",
              "      <td>4.196</td>\n",
              "      <td>1.508700</td>\n",
              "      <td>1.498</td>\n",
              "      <td>29.331</td>\n",
              "      <td>NaN</td>\n",
              "    </tr>\n",
              "  </tbody>\n",
              "</table>\n",
              "</div>"
            ],
            "text/plain": [
              "   Time (s)  Voltage Measured (V)  ...  Temperature (degree C)  Unnamed: 6\n",
              "0     0.000                3.3251  ...                  29.342         NaN\n",
              "1     2.516                3.0020  ...                  29.336         NaN\n",
              "2     5.500                3.4346  ...                  29.335         NaN\n",
              "3     8.391                3.4549  ...                  29.342         NaN\n",
              "4    11.266                3.4688  ...                  29.331         NaN\n",
              "\n",
              "[5 rows x 7 columns]"
            ]
          },
          "metadata": {},
          "execution_count": 13
        }
      ]
    },
    {
      "cell_type": "markdown",
      "metadata": {
        "id": "JOzSM4LB-VJw"
      },
      "source": [
        "メモ(現時点での分析方針のアイデア)  \n",
        "■どういうデータセット構成が必要かを考える。  \n",
        "■ChargeとDischargeについて、サイクル毎で統合が必要か？  \n",
        "  ⇒それぞれが、残寿命に対する予測に寄与する特徴量となる？  \n",
        "  ⇒ChargeとDischaegeをつなぐキー列は何？(候補：サイクル数 + Time(s)か？)  \n",
        "  ⇒たぶん違う。  \n",
        "  ⇒ChargeモデルとDischargeモデルがおそらく必要。  \n",
        "  ⇒それぞれのモデルから出された予測について、アンサンブルする？(平均 or 重み付け)  \n",
        "  ■目的変数が\"サイクル数\"なので、ファイル名からサイクル数の付与が必要。  \n",
        "■1ファイルにつき、1統計量？みたいな感じで、データの丸めが必要か。  \n",
        "■EDA的に、サイクル数と特徴量の時系列変化を見て、サイクル数増える(命を削る)ことに対し、増減変動している特徴は何か？を確認する。  \n",
        "■ChargeとDischargeの情報を縮約して、予測する。  \n",
        "■モデル数としては、全部で6つ。  \n",
        "ユニット1の充電と放電、ユニット2の充電と放電、ユニット3の充電と放電。  \n",
        "⇒テストに使うモデルの選択は、データの傾向を見て、同じようなものを予測モデルに適用する流れか？  \n",
        "■打ち切りのデータ。ある意味、機械学習というよりは信頼工学的なアプローチを取ってもいいかもしれない。"
      ]
    },
    {
      "cell_type": "markdown",
      "metadata": {
        "id": "wFyleywtnMGm"
      },
      "source": [
        "# データ処理"
      ]
    },
    {
      "cell_type": "markdown",
      "metadata": {
        "id": "5P1IXoJ0UkM3"
      },
      "source": [
        "・サイクル数の列を付与する。"
      ]
    },
    {
      "cell_type": "code",
      "metadata": {
        "id": "7FFshRZcubCR",
        "colab": {
          "base_uri": "https://localhost:8080/",
          "height": 221
        },
        "outputId": "930910ce-ad05-4151-e5aa-f0fa49641557"
      },
      "source": [
        "#expファイルで試す。\n",
        "tmp_df.head()"
      ],
      "execution_count": 14,
      "outputs": [
        {
          "output_type": "execute_result",
          "data": {
            "text/html": [
              "<div>\n",
              "<style scoped>\n",
              "    .dataframe tbody tr th:only-of-type {\n",
              "        vertical-align: middle;\n",
              "    }\n",
              "\n",
              "    .dataframe tbody tr th {\n",
              "        vertical-align: top;\n",
              "    }\n",
              "\n",
              "    .dataframe thead th {\n",
              "        text-align: right;\n",
              "    }\n",
              "</style>\n",
              "<table border=\"1\" class=\"dataframe\">\n",
              "  <thead>\n",
              "    <tr style=\"text-align: right;\">\n",
              "      <th></th>\n",
              "      <th>Time (s)</th>\n",
              "      <th>Voltage Measured (V)</th>\n",
              "      <th>Voltage Charge (V)</th>\n",
              "      <th>Current Measured (Amps)</th>\n",
              "      <th>Current Charge (Amps)</th>\n",
              "      <th>Temperature (degree C)</th>\n",
              "      <th>Unnamed: 6</th>\n",
              "    </tr>\n",
              "  </thead>\n",
              "  <tbody>\n",
              "    <tr>\n",
              "      <th>0</th>\n",
              "      <td>0.000</td>\n",
              "      <td>3.3251</td>\n",
              "      <td>0.003</td>\n",
              "      <td>0.000302</td>\n",
              "      <td>-0.002</td>\n",
              "      <td>29.342</td>\n",
              "      <td>NaN</td>\n",
              "    </tr>\n",
              "    <tr>\n",
              "      <th>1</th>\n",
              "      <td>2.516</td>\n",
              "      <td>3.0020</td>\n",
              "      <td>1.414</td>\n",
              "      <td>-3.362000</td>\n",
              "      <td>-3.370</td>\n",
              "      <td>29.336</td>\n",
              "      <td>NaN</td>\n",
              "    </tr>\n",
              "    <tr>\n",
              "      <th>2</th>\n",
              "      <td>5.500</td>\n",
              "      <td>3.4346</td>\n",
              "      <td>4.142</td>\n",
              "      <td>1.508700</td>\n",
              "      <td>1.498</td>\n",
              "      <td>29.335</td>\n",
              "      <td>NaN</td>\n",
              "    </tr>\n",
              "    <tr>\n",
              "      <th>3</th>\n",
              "      <td>8.391</td>\n",
              "      <td>3.4549</td>\n",
              "      <td>4.180</td>\n",
              "      <td>1.510000</td>\n",
              "      <td>1.498</td>\n",
              "      <td>29.342</td>\n",
              "      <td>NaN</td>\n",
              "    </tr>\n",
              "    <tr>\n",
              "      <th>4</th>\n",
              "      <td>11.266</td>\n",
              "      <td>3.4688</td>\n",
              "      <td>4.196</td>\n",
              "      <td>1.508700</td>\n",
              "      <td>1.498</td>\n",
              "      <td>29.331</td>\n",
              "      <td>NaN</td>\n",
              "    </tr>\n",
              "  </tbody>\n",
              "</table>\n",
              "</div>"
            ],
            "text/plain": [
              "   Time (s)  Voltage Measured (V)  ...  Temperature (degree C)  Unnamed: 6\n",
              "0     0.000                3.3251  ...                  29.342         NaN\n",
              "1     2.516                3.0020  ...                  29.336         NaN\n",
              "2     5.500                3.4346  ...                  29.335         NaN\n",
              "3     8.391                3.4549  ...                  29.342         NaN\n",
              "4    11.266                3.4688  ...                  29.331         NaN\n",
              "\n",
              "[5 rows x 7 columns]"
            ]
          },
          "metadata": {},
          "execution_count": 14
        }
      ]
    },
    {
      "cell_type": "code",
      "metadata": {
        "colab": {
          "base_uri": "https://localhost:8080/"
        },
        "id": "mN-IsQ3Zce8F",
        "outputId": "0055b06a-c61f-4667-b465-058442c2f0c4"
      },
      "source": [
        "#フォルダ名から、ユニット名を取得。\n",
        "dirname = os.path.dirname(exp_file[0])\n",
        "dirname_split = dirname.split('/')#区切り文字'/'で分割\n",
        "dirname_split\n",
        "unit = dirname_split[-2]\n",
        "charge_mode = dirname_split[-1]\n",
        "unit, charge_mode"
      ],
      "execution_count": 15,
      "outputs": [
        {
          "output_type": "execute_result",
          "data": {
            "text/plain": [
              "('Train_Unit_1', 'Charge')"
            ]
          },
          "metadata": {},
          "execution_count": 15
        }
      ]
    },
    {
      "cell_type": "code",
      "metadata": {
        "id": "r8MAzl-e-T-t",
        "colab": {
          "base_uri": "https://localhost:8080/",
          "height": 35
        },
        "outputId": "7b77162d-cfb4-4e62-9db8-de01a2ffdf3a"
      },
      "source": [
        "#ファイル名から、サイクル数を取得。\n",
        "basename = os.path.basename(exp_file[0])\n",
        "basename_split = basename.split('_')[4]#区切り文字'_'で分割\n",
        "cycle_num = basename_split.split('.')[0]\n",
        "cycle_num"
      ],
      "execution_count": 16,
      "outputs": [
        {
          "output_type": "execute_result",
          "data": {
            "application/vnd.google.colaboratory.intrinsic+json": {
              "type": "string"
            },
            "text/plain": [
              "'1'"
            ]
          },
          "metadata": {},
          "execution_count": 16
        }
      ]
    },
    {
      "cell_type": "code",
      "metadata": {
        "colab": {
          "base_uri": "https://localhost:8080/",
          "height": 238
        },
        "id": "G_yPl0BKV2lx",
        "outputId": "563895bc-28a5-4911-e91b-74cc14903308"
      },
      "source": [
        "#新たに取得した、ユニット名、充・放電モード、サイクル数を付与\n",
        "tmp_df[['unit', 'charge_mode', 'Cycle_num']] = unit, charge_mode, cycle_num\n",
        "tmp_df.head()"
      ],
      "execution_count": 17,
      "outputs": [
        {
          "output_type": "execute_result",
          "data": {
            "text/html": [
              "<div>\n",
              "<style scoped>\n",
              "    .dataframe tbody tr th:only-of-type {\n",
              "        vertical-align: middle;\n",
              "    }\n",
              "\n",
              "    .dataframe tbody tr th {\n",
              "        vertical-align: top;\n",
              "    }\n",
              "\n",
              "    .dataframe thead th {\n",
              "        text-align: right;\n",
              "    }\n",
              "</style>\n",
              "<table border=\"1\" class=\"dataframe\">\n",
              "  <thead>\n",
              "    <tr style=\"text-align: right;\">\n",
              "      <th></th>\n",
              "      <th>Time (s)</th>\n",
              "      <th>Voltage Measured (V)</th>\n",
              "      <th>Voltage Charge (V)</th>\n",
              "      <th>Current Measured (Amps)</th>\n",
              "      <th>Current Charge (Amps)</th>\n",
              "      <th>Temperature (degree C)</th>\n",
              "      <th>Unnamed: 6</th>\n",
              "      <th>unit</th>\n",
              "      <th>charge_mode</th>\n",
              "      <th>Cycle_num</th>\n",
              "    </tr>\n",
              "  </thead>\n",
              "  <tbody>\n",
              "    <tr>\n",
              "      <th>0</th>\n",
              "      <td>0.000</td>\n",
              "      <td>3.3251</td>\n",
              "      <td>0.003</td>\n",
              "      <td>0.000302</td>\n",
              "      <td>-0.002</td>\n",
              "      <td>29.342</td>\n",
              "      <td>NaN</td>\n",
              "      <td>Train_Unit_1</td>\n",
              "      <td>Charge</td>\n",
              "      <td>1</td>\n",
              "    </tr>\n",
              "    <tr>\n",
              "      <th>1</th>\n",
              "      <td>2.516</td>\n",
              "      <td>3.0020</td>\n",
              "      <td>1.414</td>\n",
              "      <td>-3.362000</td>\n",
              "      <td>-3.370</td>\n",
              "      <td>29.336</td>\n",
              "      <td>NaN</td>\n",
              "      <td>Train_Unit_1</td>\n",
              "      <td>Charge</td>\n",
              "      <td>1</td>\n",
              "    </tr>\n",
              "    <tr>\n",
              "      <th>2</th>\n",
              "      <td>5.500</td>\n",
              "      <td>3.4346</td>\n",
              "      <td>4.142</td>\n",
              "      <td>1.508700</td>\n",
              "      <td>1.498</td>\n",
              "      <td>29.335</td>\n",
              "      <td>NaN</td>\n",
              "      <td>Train_Unit_1</td>\n",
              "      <td>Charge</td>\n",
              "      <td>1</td>\n",
              "    </tr>\n",
              "    <tr>\n",
              "      <th>3</th>\n",
              "      <td>8.391</td>\n",
              "      <td>3.4549</td>\n",
              "      <td>4.180</td>\n",
              "      <td>1.510000</td>\n",
              "      <td>1.498</td>\n",
              "      <td>29.342</td>\n",
              "      <td>NaN</td>\n",
              "      <td>Train_Unit_1</td>\n",
              "      <td>Charge</td>\n",
              "      <td>1</td>\n",
              "    </tr>\n",
              "    <tr>\n",
              "      <th>4</th>\n",
              "      <td>11.266</td>\n",
              "      <td>3.4688</td>\n",
              "      <td>4.196</td>\n",
              "      <td>1.508700</td>\n",
              "      <td>1.498</td>\n",
              "      <td>29.331</td>\n",
              "      <td>NaN</td>\n",
              "      <td>Train_Unit_1</td>\n",
              "      <td>Charge</td>\n",
              "      <td>1</td>\n",
              "    </tr>\n",
              "  </tbody>\n",
              "</table>\n",
              "</div>"
            ],
            "text/plain": [
              "   Time (s)  Voltage Measured (V)  ...  charge_mode  Cycle_num\n",
              "0     0.000                3.3251  ...       Charge          1\n",
              "1     2.516                3.0020  ...       Charge          1\n",
              "2     5.500                3.4346  ...       Charge          1\n",
              "3     8.391                3.4549  ...       Charge          1\n",
              "4    11.266                3.4688  ...       Charge          1\n",
              "\n",
              "[5 rows x 10 columns]"
            ]
          },
          "metadata": {},
          "execution_count": 17
        }
      ]
    },
    {
      "cell_type": "code",
      "metadata": {
        "id": "jMTV5bTgjGv0"
      },
      "source": [
        "#一連の流れを関数化。\n",
        "def get_some_values(file_path):\n",
        "  #ファイルパスから、ユニット名を取得。\n",
        "  dirname = os.path.dirname(file_path)\n",
        "  dirname_split = dirname.split('/')#区切り文字'/'で分割\n",
        "  unit = dirname_split[-2]\n",
        "  charge_mode = dirname_split[-1]\n",
        "  #ファイルパスから、サイクル数を取得。\n",
        "  basename = os.path.basename(file_path)\n",
        "  basename_split = basename.split('_')[4]#区切り文字'_'で分割\n",
        "  cycle_num = basename_split.split('.')[0]\n",
        "  return unit, charge_mode, cycle_num"
      ],
      "execution_count": 18,
      "outputs": []
    },
    {
      "cell_type": "markdown",
      "metadata": {
        "id": "mayH71t4nTq_"
      },
      "source": [
        "全ユニットの全フォルダに対して連続処理し、1つのデータセットとして保有するためのデータ連結処理"
      ]
    },
    {
      "cell_type": "code",
      "metadata": {
        "colab": {
          "base_uri": "https://localhost:8080/"
        },
        "id": "vn2NSBgGWMnw",
        "outputId": "703e5fa6-db3a-473c-b94d-a869140363fa"
      },
      "source": [
        "%time\n",
        "df_list = []\n",
        "for folder in tqdm(os.listdir(DIR_DATA_TRAIN)):\n",
        "  df_list_1 = []\n",
        "  for C in ['Charge', 'Discharge']:\n",
        "    files = glob.glob(os.path.join(DIR_DATA_TRAIN, folder, C, '*.csv'))\n",
        "    df_list_0 = []\n",
        "    for file in files:\n",
        "      tmp_df = pd.read_csv(file, encoding='utf-8')\n",
        "      unit, charge_mode, cycle_num = get_some_values(file)\n",
        "      #新たに取得した、ユニット名、充・放電モード、サイクル数を付与\n",
        "      tmp_df[['unit', 'charge_mode', 'Cycle_num']] = unit, charge_mode, cycle_num\n",
        "      df_list_0.append(tmp_df)\n",
        "    df_0 = pd.concat(df_list_0)\n",
        "    df_list_1.append(df_0)\n",
        "  df_1 = pd.concat(df_list_1)\n",
        "  df_list.append(df_1)\n",
        "df = pd.concat(df_list)"
      ],
      "execution_count": 20,
      "outputs": [
        {
          "output_type": "stream",
          "name": "stdout",
          "text": [
            "CPU times: user 3 µs, sys: 1 µs, total: 4 µs\n",
            "Wall time: 7.63 µs\n"
          ]
        },
        {
          "output_type": "stream",
          "name": "stderr",
          "text": [
            "100%|██████████| 3/3 [01:21<00:00, 27.13s/it]\n"
          ]
        }
      ]
    },
    {
      "cell_type": "code",
      "metadata": {
        "colab": {
          "base_uri": "https://localhost:8080/"
        },
        "id": "lwOash86draM",
        "outputId": "c8898b2d-a0f2-4b93-ff49-6aedb9a7c89b"
      },
      "source": [
        "df.shape"
      ],
      "execution_count": 21,
      "outputs": [
        {
          "output_type": "execute_result",
          "data": {
            "text/plain": [
              "(756089, 12)"
            ]
          },
          "metadata": {},
          "execution_count": 21
        }
      ]
    },
    {
      "cell_type": "code",
      "metadata": {
        "colab": {
          "base_uri": "https://localhost:8080/"
        },
        "id": "Luce6cYKh8jh",
        "outputId": "7b290162-cbb4-4beb-dd40-c2de3d86ff5a"
      },
      "source": [
        "df[['Cycle_num', 'unit', 'charge_mode']].nunique()"
      ],
      "execution_count": 22,
      "outputs": [
        {
          "output_type": "execute_result",
          "data": {
            "text/plain": [
              "Cycle_num      124\n",
              "unit             3\n",
              "charge_mode      2\n",
              "dtype: int64"
            ]
          },
          "metadata": {},
          "execution_count": 22
        }
      ]
    },
    {
      "cell_type": "code",
      "metadata": {
        "colab": {
          "base_uri": "https://localhost:8080/",
          "height": 258
        },
        "id": "DriaxRh6iYw0",
        "outputId": "81583ee0-bdb4-4c44-c16a-3a003225c03a"
      },
      "source": [
        "df.head()"
      ],
      "execution_count": 23,
      "outputs": [
        {
          "output_type": "execute_result",
          "data": {
            "text/html": [
              "<div>\n",
              "<style scoped>\n",
              "    .dataframe tbody tr th:only-of-type {\n",
              "        vertical-align: middle;\n",
              "    }\n",
              "\n",
              "    .dataframe tbody tr th {\n",
              "        vertical-align: top;\n",
              "    }\n",
              "\n",
              "    .dataframe thead th {\n",
              "        text-align: right;\n",
              "    }\n",
              "</style>\n",
              "<table border=\"1\" class=\"dataframe\">\n",
              "  <thead>\n",
              "    <tr style=\"text-align: right;\">\n",
              "      <th></th>\n",
              "      <th>Time (s)</th>\n",
              "      <th>Voltage Measured (V)</th>\n",
              "      <th>Voltage Charge (V)</th>\n",
              "      <th>Current Measured (Amps)</th>\n",
              "      <th>Current Charge (Amps)</th>\n",
              "      <th>Temperature (degree C)</th>\n",
              "      <th>Unnamed: 6</th>\n",
              "      <th>unit</th>\n",
              "      <th>charge_mode</th>\n",
              "      <th>Cycle_num</th>\n",
              "      <th>Voltage Load (V)</th>\n",
              "      <th>Current Load (Amps)</th>\n",
              "    </tr>\n",
              "  </thead>\n",
              "  <tbody>\n",
              "    <tr>\n",
              "      <th>0</th>\n",
              "      <td>0.000</td>\n",
              "      <td>3.6927</td>\n",
              "      <td>0.003</td>\n",
              "      <td>-0.004495</td>\n",
              "      <td>0.000</td>\n",
              "      <td>25.663</td>\n",
              "      <td>NaN</td>\n",
              "      <td>Train_Unit_3</td>\n",
              "      <td>Charge</td>\n",
              "      <td>90</td>\n",
              "      <td>NaN</td>\n",
              "      <td>NaN</td>\n",
              "    </tr>\n",
              "    <tr>\n",
              "      <th>1</th>\n",
              "      <td>2.453</td>\n",
              "      <td>3.1721</td>\n",
              "      <td>1.462</td>\n",
              "      <td>-3.573100</td>\n",
              "      <td>-3.563</td>\n",
              "      <td>25.660</td>\n",
              "      <td>NaN</td>\n",
              "      <td>Train_Unit_3</td>\n",
              "      <td>Charge</td>\n",
              "      <td>90</td>\n",
              "      <td>NaN</td>\n",
              "      <td>NaN</td>\n",
              "    </tr>\n",
              "    <tr>\n",
              "      <th>2</th>\n",
              "      <td>8.921</td>\n",
              "      <td>3.8846</td>\n",
              "      <td>4.618</td>\n",
              "      <td>1.505800</td>\n",
              "      <td>1.498</td>\n",
              "      <td>25.743</td>\n",
              "      <td>NaN</td>\n",
              "      <td>Train_Unit_3</td>\n",
              "      <td>Charge</td>\n",
              "      <td>90</td>\n",
              "      <td>NaN</td>\n",
              "      <td>NaN</td>\n",
              "    </tr>\n",
              "    <tr>\n",
              "      <th>3</th>\n",
              "      <td>15.156</td>\n",
              "      <td>3.9054</td>\n",
              "      <td>4.650</td>\n",
              "      <td>1.506600</td>\n",
              "      <td>1.500</td>\n",
              "      <td>25.835</td>\n",
              "      <td>NaN</td>\n",
              "      <td>Train_Unit_3</td>\n",
              "      <td>Charge</td>\n",
              "      <td>90</td>\n",
              "      <td>NaN</td>\n",
              "      <td>NaN</td>\n",
              "    </tr>\n",
              "    <tr>\n",
              "      <th>4</th>\n",
              "      <td>21.750</td>\n",
              "      <td>3.9165</td>\n",
              "      <td>4.661</td>\n",
              "      <td>1.509000</td>\n",
              "      <td>1.500</td>\n",
              "      <td>25.884</td>\n",
              "      <td>NaN</td>\n",
              "      <td>Train_Unit_3</td>\n",
              "      <td>Charge</td>\n",
              "      <td>90</td>\n",
              "      <td>NaN</td>\n",
              "      <td>NaN</td>\n",
              "    </tr>\n",
              "  </tbody>\n",
              "</table>\n",
              "</div>"
            ],
            "text/plain": [
              "   Time (s)  Voltage Measured (V)  ...  Voltage Load (V)  Current Load (Amps)\n",
              "0     0.000                3.6927  ...               NaN                  NaN\n",
              "1     2.453                3.1721  ...               NaN                  NaN\n",
              "2     8.921                3.8846  ...               NaN                  NaN\n",
              "3    15.156                3.9054  ...               NaN                  NaN\n",
              "4    21.750                3.9165  ...               NaN                  NaN\n",
              "\n",
              "[5 rows x 12 columns]"
            ]
          },
          "metadata": {},
          "execution_count": 23
        }
      ]
    },
    {
      "cell_type": "code",
      "metadata": {
        "colab": {
          "base_uri": "https://localhost:8080/",
          "height": 904
        },
        "id": "EcfEe8dPmbbd",
        "outputId": "76d8b6d9-10c9-4a3b-e192-b197338825b4"
      },
      "source": [
        "#データの確認\n",
        "Dataframe = df\n",
        "print('レコード数：',Dataframe.shape[0],'カラム数：',Dataframe.shape[1])\n",
        "print('/'*30)\n",
        "print('データセット情報:')\n",
        "Dataframe.info()\n",
        "print('/'*30)\n",
        "print('欠損値確認：')\n",
        "print(Dataframe.isnull().sum())\n",
        "print('/'*30)\n",
        "Dataframe.head()"
      ],
      "execution_count": 24,
      "outputs": [
        {
          "output_type": "stream",
          "name": "stdout",
          "text": [
            "レコード数： 756089 カラム数： 12\n",
            "//////////////////////////////\n",
            "データセット情報:\n",
            "<class 'pandas.core.frame.DataFrame'>\n",
            "Int64Index: 756089 entries, 0 to 300\n",
            "Data columns (total 12 columns):\n",
            " #   Column                   Non-Null Count   Dtype  \n",
            "---  ------                   --------------   -----  \n",
            " 0   Time (s)                 756089 non-null  float64\n",
            " 1   Voltage Measured (V)     756088 non-null  float64\n",
            " 2   Voltage Charge (V)       699412 non-null  float64\n",
            " 3   Current Measured (Amps)  756088 non-null  float64\n",
            " 4   Current Charge (Amps)    699412 non-null  float64\n",
            " 5   Temperature (degree C)   756088 non-null  float64\n",
            " 6   Unnamed: 6               0 non-null       float64\n",
            " 7   unit                     756089 non-null  object \n",
            " 8   charge_mode              756089 non-null  object \n",
            " 9   Cycle_num                756089 non-null  object \n",
            " 10  Voltage Load (V)         56677 non-null   float64\n",
            " 11  Current Load (Amps)      56677 non-null   float64\n",
            "dtypes: float64(9), object(3)\n",
            "memory usage: 75.0+ MB\n",
            "//////////////////////////////\n",
            "欠損値確認：\n",
            "Time (s)                        0\n",
            "Voltage Measured (V)            1\n",
            "Voltage Charge (V)          56677\n",
            "Current Measured (Amps)         1\n",
            "Current Charge (Amps)       56677\n",
            "Temperature (degree C)          1\n",
            "Unnamed: 6                 756089\n",
            "unit                            0\n",
            "charge_mode                     0\n",
            "Cycle_num                       0\n",
            "Voltage Load (V)           699412\n",
            "Current Load (Amps)        699412\n",
            "dtype: int64\n",
            "//////////////////////////////\n"
          ]
        },
        {
          "output_type": "execute_result",
          "data": {
            "text/html": [
              "<div>\n",
              "<style scoped>\n",
              "    .dataframe tbody tr th:only-of-type {\n",
              "        vertical-align: middle;\n",
              "    }\n",
              "\n",
              "    .dataframe tbody tr th {\n",
              "        vertical-align: top;\n",
              "    }\n",
              "\n",
              "    .dataframe thead th {\n",
              "        text-align: right;\n",
              "    }\n",
              "</style>\n",
              "<table border=\"1\" class=\"dataframe\">\n",
              "  <thead>\n",
              "    <tr style=\"text-align: right;\">\n",
              "      <th></th>\n",
              "      <th>Time (s)</th>\n",
              "      <th>Voltage Measured (V)</th>\n",
              "      <th>Voltage Charge (V)</th>\n",
              "      <th>Current Measured (Amps)</th>\n",
              "      <th>Current Charge (Amps)</th>\n",
              "      <th>Temperature (degree C)</th>\n",
              "      <th>Unnamed: 6</th>\n",
              "      <th>unit</th>\n",
              "      <th>charge_mode</th>\n",
              "      <th>Cycle_num</th>\n",
              "      <th>Voltage Load (V)</th>\n",
              "      <th>Current Load (Amps)</th>\n",
              "    </tr>\n",
              "  </thead>\n",
              "  <tbody>\n",
              "    <tr>\n",
              "      <th>0</th>\n",
              "      <td>0.000</td>\n",
              "      <td>3.6927</td>\n",
              "      <td>0.003</td>\n",
              "      <td>-0.004495</td>\n",
              "      <td>0.000</td>\n",
              "      <td>25.663</td>\n",
              "      <td>NaN</td>\n",
              "      <td>Train_Unit_3</td>\n",
              "      <td>Charge</td>\n",
              "      <td>90</td>\n",
              "      <td>NaN</td>\n",
              "      <td>NaN</td>\n",
              "    </tr>\n",
              "    <tr>\n",
              "      <th>1</th>\n",
              "      <td>2.453</td>\n",
              "      <td>3.1721</td>\n",
              "      <td>1.462</td>\n",
              "      <td>-3.573100</td>\n",
              "      <td>-3.563</td>\n",
              "      <td>25.660</td>\n",
              "      <td>NaN</td>\n",
              "      <td>Train_Unit_3</td>\n",
              "      <td>Charge</td>\n",
              "      <td>90</td>\n",
              "      <td>NaN</td>\n",
              "      <td>NaN</td>\n",
              "    </tr>\n",
              "    <tr>\n",
              "      <th>2</th>\n",
              "      <td>8.921</td>\n",
              "      <td>3.8846</td>\n",
              "      <td>4.618</td>\n",
              "      <td>1.505800</td>\n",
              "      <td>1.498</td>\n",
              "      <td>25.743</td>\n",
              "      <td>NaN</td>\n",
              "      <td>Train_Unit_3</td>\n",
              "      <td>Charge</td>\n",
              "      <td>90</td>\n",
              "      <td>NaN</td>\n",
              "      <td>NaN</td>\n",
              "    </tr>\n",
              "    <tr>\n",
              "      <th>3</th>\n",
              "      <td>15.156</td>\n",
              "      <td>3.9054</td>\n",
              "      <td>4.650</td>\n",
              "      <td>1.506600</td>\n",
              "      <td>1.500</td>\n",
              "      <td>25.835</td>\n",
              "      <td>NaN</td>\n",
              "      <td>Train_Unit_3</td>\n",
              "      <td>Charge</td>\n",
              "      <td>90</td>\n",
              "      <td>NaN</td>\n",
              "      <td>NaN</td>\n",
              "    </tr>\n",
              "    <tr>\n",
              "      <th>4</th>\n",
              "      <td>21.750</td>\n",
              "      <td>3.9165</td>\n",
              "      <td>4.661</td>\n",
              "      <td>1.509000</td>\n",
              "      <td>1.500</td>\n",
              "      <td>25.884</td>\n",
              "      <td>NaN</td>\n",
              "      <td>Train_Unit_3</td>\n",
              "      <td>Charge</td>\n",
              "      <td>90</td>\n",
              "      <td>NaN</td>\n",
              "      <td>NaN</td>\n",
              "    </tr>\n",
              "  </tbody>\n",
              "</table>\n",
              "</div>"
            ],
            "text/plain": [
              "   Time (s)  Voltage Measured (V)  ...  Voltage Load (V)  Current Load (Amps)\n",
              "0     0.000                3.6927  ...               NaN                  NaN\n",
              "1     2.453                3.1721  ...               NaN                  NaN\n",
              "2     8.921                3.8846  ...               NaN                  NaN\n",
              "3    15.156                3.9054  ...               NaN                  NaN\n",
              "4    21.750                3.9165  ...               NaN                  NaN\n",
              "\n",
              "[5 rows x 12 columns]"
            ]
          },
          "metadata": {},
          "execution_count": 24
        }
      ]
    },
    {
      "cell_type": "code",
      "metadata": {
        "id": "IKSlCLqpmwhu"
      },
      "source": [
        "#CSVファイルとして一旦出力\n",
        "df.to_csv(os.path.join(DIR_DATA_TRAIN, 'dataset_train_all.csv'), encoding='utf-8')"
      ],
      "execution_count": 25,
      "outputs": []
    },
    {
      "cell_type": "code",
      "metadata": {
        "colab": {
          "base_uri": "https://localhost:8080/"
        },
        "id": "cqTafGvPh4tn",
        "outputId": "78640aee-3320-4f14-b021-07e54bb55761"
      },
      "source": [
        "os.listdir(DIR_DATA_TRAIN)"
      ],
      "execution_count": 27,
      "outputs": [
        {
          "output_type": "execute_result",
          "data": {
            "text/plain": [
              "['Train_Unit_3', 'Train_Unit_2', 'Train_Unit_1', 'dataset_train_all.csv']"
            ]
          },
          "metadata": {},
          "execution_count": 27
        }
      ]
    },
    {
      "cell_type": "code",
      "metadata": {
        "id": "ZoHygY2ph-UQ"
      },
      "source": [
        ""
      ],
      "execution_count": null,
      "outputs": []
    }
  ]
}
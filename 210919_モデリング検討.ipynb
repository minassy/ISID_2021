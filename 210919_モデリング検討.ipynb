{
  "nbformat": 4,
  "nbformat_minor": 0,
  "metadata": {
    "colab": {
      "name": "210919_モデリング検討.ipynb",
      "provenance": [],
      "collapsed_sections": [],
      "mount_file_id": "1LfLZJlnTrfVkcHcZHptmhk92J3TlWdSI",
      "authorship_tag": "ABX9TyNtGrBAPZkphlACDUKd3dbf",
      "include_colab_link": true
    },
    "kernelspec": {
      "name": "python3",
      "display_name": "Python 3"
    },
    "language_info": {
      "name": "python"
    }
  },
  "cells": [
    {
      "cell_type": "markdown",
      "metadata": {
        "id": "view-in-github",
        "colab_type": "text"
      },
      "source": [
        "<a href=\"https://colab.research.google.com/github/minassy/ISID_2021/blob/main/210919_%E3%83%A2%E3%83%87%E3%83%AA%E3%83%B3%E3%82%B0%E6%A4%9C%E8%A8%8E.ipynb\" target=\"_parent\"><img src=\"https://colab.research.google.com/assets/colab-badge.svg\" alt=\"Open In Colab\"/></a>"
      ]
    },
    {
      "cell_type": "code",
      "metadata": {
        "id": "wr2EYXxeaj8M"
      },
      "source": [
        "import os\n",
        "import zipfile\n",
        "import glob\n",
        "import pandas as pd\n",
        "import numpy as np\n",
        "import pathlib\n",
        "from tqdm import tqdm\n",
        "import matplotlib.pyplot as plt\n",
        "import seaborn as sns"
      ],
      "execution_count": 1,
      "outputs": []
    },
    {
      "cell_type": "code",
      "metadata": {
        "colab": {
          "base_uri": "https://localhost:8080/"
        },
        "id": "OZd0Z2m1asuW",
        "outputId": "64bf3468-32fe-46d5-9f1d-ba6a292827d8"
      },
      "source": [
        "#作業基本ディレクトリ\n",
        "DIR = 'drive/MyDrive/00_Competition/ISID/2021'\n",
        "os.listdir(DIR)\n",
        "#os.mkdir(DIR+'/data')"
      ],
      "execution_count": 2,
      "outputs": [
        {
          "output_type": "execute_result",
          "data": {
            "text/plain": [
              "['data', 'notebook']"
            ]
          },
          "metadata": {},
          "execution_count": 2
        }
      ]
    },
    {
      "cell_type": "code",
      "metadata": {
        "id": "mVzIl_MEav3c"
      },
      "source": [
        "DIR_DATA_TRAIN = os.path.join(DIR, 'data', 'Train_Unit_20210903')\n",
        "DIR_DATA_TEST = os.path.join(DIR, 'data', 'Test_Unit_20210903')"
      ],
      "execution_count": 3,
      "outputs": []
    },
    {
      "cell_type": "code",
      "metadata": {
        "id": "pUMZNmmmaxUs"
      },
      "source": [
        "#一連のデータ処理\n",
        "def get_some_values(file_path):\n",
        "  #ファイルパスから、ユニット名を取得。\n",
        "  dirname = os.path.dirname(file_path)\n",
        "  dirname_split = dirname.split('/')#区切り文字'/'で分割\n",
        "  unit = dirname_split[-2]\n",
        "  charge_mode = dirname_split[-1]\n",
        "  #ファイルパスから、サイクル数を取得。\n",
        "  basename = os.path.basename(file_path)\n",
        "  basename_split = basename.split('_')[4]#区切り文字'_'で分割\n",
        "  cycle_num = basename_split.split('.')[0]\n",
        "  return unit, charge_mode, cycle_num\n",
        "\n",
        "#%time\n",
        "#DATA_DIR = DIR_DATA_TRAIN\n",
        "#DATA_DIR = DIR_DATA_TEST\n",
        "\n",
        "#C = 'Charge'\n",
        "#C = 'Discharge'\n",
        "\n",
        "def data_reading(DATA_DIR, C):\n",
        "\n",
        "  #カラム名変更前後の辞書\n",
        "  col_list = {'Time (s)' : 'Time',\n",
        "              'Voltage Measured (V)' : 'VM',\n",
        "              'Voltage Charge (V)' : 'VC',\n",
        "              'Current Measured (Amps)' : 'CM', \n",
        "              'Current Charge (Amps)' : 'CC',\n",
        "              'Temperature (degree C)': 'Temp', \n",
        "              'unit' : 'unit_name', \n",
        "              'charge_mode' : 'mode', \n",
        "              'Cycle_num' : 'Cycle',\n",
        "              'Voltage Load (V)' : 'VL',\n",
        "              'Current Load (Amps)' : 'CL'\n",
        "  }\n",
        "\n",
        "  df_list = []\n",
        "  for folder in tqdm(os.listdir(DATA_DIR)[:3]):\n",
        "    files = glob.glob(os.path.join(DATA_DIR, folder, C, '*.csv'))\n",
        "    df_list_0 = []\n",
        "    for file in files:\n",
        "      tmp_df = pd.read_csv(file, encoding='utf-8')\n",
        "      tmp_df = tmp_df.rename(columns=col_list)\n",
        "      #ユニット名、充・放電モード、サイクル数の取得\n",
        "      unit, charge_mode, cycle_num = get_some_values(file)\n",
        "      #特徴量のデータフレームの作成\n",
        "      if C == 'Charge':\n",
        "        df_exp = pd.DataFrame([{'unit':unit,\n",
        "                          'charge_mode' : charge_mode,\n",
        "                          'Cycle_num' : int(cycle_num),\n",
        "                          'feature_c_vm' : featured_c_vm(tmp_df),\n",
        "                          'feature_c_cm' : featured_c_cm(tmp_df),\n",
        "                          'feature_c_vc' : featured_c_vc(tmp_df)}])\n",
        "      else:\n",
        "        df_exp = pd.DataFrame([{'unit':unit,\n",
        "                          'charge_mode' : charge_mode,\n",
        "                          'Cycle_num' : int(cycle_num),\n",
        "                          'feature_d_vm' : featured_d_vm(tmp_df),\n",
        "                          'feature_d_vl' : featured_d_vl(tmp_df)}])\n",
        "      df_list_0.append(df_exp)\n",
        "    df_0 = pd.concat(df_list_0)\n",
        "    df_list.append(df_0)\n",
        "  df = pd.concat(df_list)\n",
        "\n",
        "  #ユニットとサイクルでソート。\n",
        "  df = df.sort_values(['unit', 'Cycle_num'])\n",
        "  #インデックスの振り直し\n",
        "  df = df.reset_index(drop=True)\n",
        "\n",
        "  return df\n",
        "\n",
        "def featured_c_vm(df):\n",
        "  #LAG=5が0.001未満が続くところを、飽和領域とみなす。\n",
        "  p_c_vm = df.loc[:, 'VM'][df.loc[:, 'VM'].diff(5) < 0.001]\n",
        "  #飽和領域のなかで、最初の点を点P_C_VMとする。\n",
        "  p_c_vm = p_c_vm.reset_index(inplace=False)\n",
        "  p_c_vm = p_c_vm['index'].iloc[0]\n",
        "  #充電VMの特徴量は、点P_C_VMにおける時間\n",
        "  feature_c_vm = df['Time'].loc[p_c_vm]\n",
        "  return feature_c_vm\n",
        "\n",
        "def featured_c_cm(df):\n",
        "  #飽和領域からの立ち下がり点(LAG=5の勾配が最小となる点)を点P_C_CMとする。\n",
        "  p_c_cm = np.gradient(df.loc[:, 'CM'].diff(5)[10:]).argmin()\n",
        "  #充電CMの特徴量は、点P_C_CMにおける時間\n",
        "  feature_c_cm = df['Time'].loc[p_c_cm]\n",
        "  return feature_c_cm\n",
        "\n",
        "def featured_c_vc(df):\n",
        "  #VCが最大値を示す点を、点P_C_VCとする。\n",
        "  p_c_vc = df.VC.argmax()\n",
        "  #充電VCの特徴量は、点P_C_VCにおける時間\n",
        "  feature_c_vc = df['Time'].loc[p_c_vc]\n",
        "  return feature_c_vc\n",
        "\n",
        "def featured_d_vm(df):\n",
        "  #VMが最小値を示す点を、点P_D_VMとする。\n",
        "  p_d_vm = df.VM.argmin()\n",
        "  #放電VMの特徴量は、点P_D_VMにおける時間\n",
        "  feature_d_vm = df['Time'].loc[p_d_vm]\n",
        "  return feature_d_vm\n",
        "\n",
        "def featured_d_vl(df):\n",
        "  #VLの最大値点以降の領域において、最小値を示す点を、点P_D_VLとする。\n",
        "  VL_max = df.VL.argmax()\n",
        "  p_d_vl = df.VL[VL_max: ].argmin()\n",
        "  #放電VLの特徴量は、点P_D_VLにおける時間\n",
        "  feature_d_vl = df['Time'].loc[p_d_vl]\n",
        "  return feature_d_vl"
      ],
      "execution_count": 4,
      "outputs": []
    },
    {
      "cell_type": "code",
      "metadata": {
        "colab": {
          "base_uri": "https://localhost:8080/"
        },
        "id": "ZP4S646_a8PC",
        "outputId": "d7aa12d5-ff4e-44ce-c0ac-7f4630377060"
      },
      "source": [
        "%time\n",
        "#データの読み込み(学習)\n",
        "#充電\n",
        "\n",
        "DATA_DIR = DIR_DATA_TRAIN\n",
        "#DATA_DIR = DIR_DATA_TEST\n",
        "\n",
        "C = 'Charge'\n",
        "#C = 'Discharge'\n",
        "\n",
        "df_train_charge = data_reading(DATA_DIR, C)\n",
        "\n",
        "#データの読み込み(学習)\n",
        "#放電\n",
        "\n",
        "DATA_DIR = DIR_DATA_TRAIN\n",
        "#DATA_DIR = DIR_DATA_TEST\n",
        "\n",
        "#C = 'Charge'\n",
        "C = 'Discharge'\n",
        "\n",
        "df_train_discharge = data_reading(DATA_DIR, C)"
      ],
      "execution_count": 5,
      "outputs": [
        {
          "output_type": "stream",
          "name": "stdout",
          "text": [
            "CPU times: user 2 µs, sys: 1 µs, total: 3 µs\n",
            "Wall time: 7.39 µs\n"
          ]
        },
        {
          "output_type": "stream",
          "name": "stderr",
          "text": [
            "100%|██████████| 3/3 [01:40<00:00, 33.37s/it]\n",
            "100%|██████████| 3/3 [01:17<00:00, 25.89s/it]\n"
          ]
        }
      ]
    },
    {
      "cell_type": "code",
      "metadata": {
        "colab": {
          "base_uri": "https://localhost:8080/",
          "height": 204
        },
        "id": "O7J4yiNvbEit",
        "outputId": "d53ec53c-3c2f-4501-95ba-771663e31810"
      },
      "source": [
        "#充電と放電の特徴量のデータセット作成\n",
        "df_train_feature = pd.merge(df_train_charge, df_train_discharge,\n",
        "                            how = 'inner',\n",
        "                            on = ['unit', 'Cycle_num'])\n",
        "df_train_feature.head()"
      ],
      "execution_count": 6,
      "outputs": [
        {
          "output_type": "execute_result",
          "data": {
            "text/html": [
              "<div>\n",
              "<style scoped>\n",
              "    .dataframe tbody tr th:only-of-type {\n",
              "        vertical-align: middle;\n",
              "    }\n",
              "\n",
              "    .dataframe tbody tr th {\n",
              "        vertical-align: top;\n",
              "    }\n",
              "\n",
              "    .dataframe thead th {\n",
              "        text-align: right;\n",
              "    }\n",
              "</style>\n",
              "<table border=\"1\" class=\"dataframe\">\n",
              "  <thead>\n",
              "    <tr style=\"text-align: right;\">\n",
              "      <th></th>\n",
              "      <th>unit</th>\n",
              "      <th>charge_mode_x</th>\n",
              "      <th>Cycle_num</th>\n",
              "      <th>feature_c_vm</th>\n",
              "      <th>feature_c_cm</th>\n",
              "      <th>feature_c_vc</th>\n",
              "      <th>charge_mode_y</th>\n",
              "      <th>feature_d_vm</th>\n",
              "      <th>feature_d_vl</th>\n",
              "    </tr>\n",
              "  </thead>\n",
              "  <tbody>\n",
              "    <tr>\n",
              "      <th>0</th>\n",
              "      <td>Train_Unit_1</td>\n",
              "      <td>Charge</td>\n",
              "      <td>1</td>\n",
              "      <td>3422.5</td>\n",
              "      <td>3207.4</td>\n",
              "      <td>3241.8</td>\n",
              "      <td>Discharge</td>\n",
              "      <td>3346.9</td>\n",
              "      <td>3327.2</td>\n",
              "    </tr>\n",
              "    <tr>\n",
              "      <th>1</th>\n",
              "      <td>Train_Unit_1</td>\n",
              "      <td>Charge</td>\n",
              "      <td>2</td>\n",
              "      <td>3431.6</td>\n",
              "      <td>3181.8</td>\n",
              "      <td>3262.3</td>\n",
              "      <td>Discharge</td>\n",
              "      <td>3328.8</td>\n",
              "      <td>3309.2</td>\n",
              "    </tr>\n",
              "    <tr>\n",
              "      <th>2</th>\n",
              "      <td>Train_Unit_1</td>\n",
              "      <td>Charge</td>\n",
              "      <td>3</td>\n",
              "      <td>3409.1</td>\n",
              "      <td>9692.7</td>\n",
              "      <td>3229.2</td>\n",
              "      <td>Discharge</td>\n",
              "      <td>3309.4</td>\n",
              "      <td>3289.8</td>\n",
              "    </tr>\n",
              "    <tr>\n",
              "      <th>3</th>\n",
              "      <td>Train_Unit_1</td>\n",
              "      <td>Charge</td>\n",
              "      <td>4</td>\n",
              "      <td>3407.7</td>\n",
              "      <td>3160.2</td>\n",
              "      <td>3228.2</td>\n",
              "      <td>Discharge</td>\n",
              "      <td>3309.7</td>\n",
              "      <td>3289.9</td>\n",
              "    </tr>\n",
              "    <tr>\n",
              "      <th>4</th>\n",
              "      <td>Train_Unit_1</td>\n",
              "      <td>Charge</td>\n",
              "      <td>5</td>\n",
              "      <td>3409.6</td>\n",
              "      <td>3172.4</td>\n",
              "      <td>3217.9</td>\n",
              "      <td>Discharge</td>\n",
              "      <td>3307.7</td>\n",
              "      <td>3287.9</td>\n",
              "    </tr>\n",
              "  </tbody>\n",
              "</table>\n",
              "</div>"
            ],
            "text/plain": [
              "           unit charge_mode_x  ...  feature_d_vm  feature_d_vl\n",
              "0  Train_Unit_1        Charge  ...        3346.9        3327.2\n",
              "1  Train_Unit_1        Charge  ...        3328.8        3309.2\n",
              "2  Train_Unit_1        Charge  ...        3309.4        3289.8\n",
              "3  Train_Unit_1        Charge  ...        3309.7        3289.9\n",
              "4  Train_Unit_1        Charge  ...        3307.7        3287.9\n",
              "\n",
              "[5 rows x 9 columns]"
            ]
          },
          "metadata": {},
          "execution_count": 6
        }
      ]
    },
    {
      "cell_type": "code",
      "metadata": {
        "colab": {
          "base_uri": "https://localhost:8080/"
        },
        "id": "ADWrI9W_bHsA",
        "outputId": "574b8fac-879d-4761-d64d-1718cde46254"
      },
      "source": [
        "%time\n",
        "#データの読み込み(学習)\n",
        "#充電\n",
        "\n",
        "#DATA_DIR = DIR_DATA_TRAIN\n",
        "DATA_DIR = DIR_DATA_TEST\n",
        "\n",
        "C = 'Charge'\n",
        "#C = 'Discharge'\n",
        "\n",
        "df_test_charge = data_reading(DATA_DIR, C)\n",
        "\n",
        "#データの読み込み(学習)\n",
        "#放電\n",
        "\n",
        "#DATA_DIR = DIR_DATA_TRAIN\n",
        "DATA_DIR = DIR_DATA_TEST\n",
        "\n",
        "#C = 'Charge'\n",
        "C = 'Discharge'\n",
        "\n",
        "df_test_discharge = data_reading(DATA_DIR, C)"
      ],
      "execution_count": 7,
      "outputs": [
        {
          "output_type": "stream",
          "name": "stdout",
          "text": [
            "CPU times: user 2 µs, sys: 0 ns, total: 2 µs\n",
            "Wall time: 5.72 µs\n"
          ]
        },
        {
          "output_type": "stream",
          "name": "stderr",
          "text": [
            "100%|██████████| 3/3 [00:48<00:00, 16.33s/it]\n",
            "100%|██████████| 3/3 [00:41<00:00, 13.83s/it]\n"
          ]
        }
      ]
    },
    {
      "cell_type": "code",
      "metadata": {
        "colab": {
          "base_uri": "https://localhost:8080/",
          "height": 204
        },
        "id": "7bf_PfIdbOE9",
        "outputId": "43c6fa6a-4979-4d85-b359-2ae18950c2ee"
      },
      "source": [
        "#充電と放電の特徴量のデータセット作成\n",
        "df_test_feature = pd.merge(df_test_charge, df_test_discharge,\n",
        "                            how = 'inner',\n",
        "                            on = ['unit', 'Cycle_num'])\n",
        "df_test_feature.head()"
      ],
      "execution_count": 8,
      "outputs": [
        {
          "output_type": "execute_result",
          "data": {
            "text/html": [
              "<div>\n",
              "<style scoped>\n",
              "    .dataframe tbody tr th:only-of-type {\n",
              "        vertical-align: middle;\n",
              "    }\n",
              "\n",
              "    .dataframe tbody tr th {\n",
              "        vertical-align: top;\n",
              "    }\n",
              "\n",
              "    .dataframe thead th {\n",
              "        text-align: right;\n",
              "    }\n",
              "</style>\n",
              "<table border=\"1\" class=\"dataframe\">\n",
              "  <thead>\n",
              "    <tr style=\"text-align: right;\">\n",
              "      <th></th>\n",
              "      <th>unit</th>\n",
              "      <th>charge_mode_x</th>\n",
              "      <th>Cycle_num</th>\n",
              "      <th>feature_c_vm</th>\n",
              "      <th>feature_c_cm</th>\n",
              "      <th>feature_c_vc</th>\n",
              "      <th>charge_mode_y</th>\n",
              "      <th>feature_d_vm</th>\n",
              "      <th>feature_d_vl</th>\n",
              "    </tr>\n",
              "  </thead>\n",
              "  <tbody>\n",
              "    <tr>\n",
              "      <th>0</th>\n",
              "      <td>Test_Unit_1</td>\n",
              "      <td>Charge</td>\n",
              "      <td>1</td>\n",
              "      <td>741.86</td>\n",
              "      <td>3476.3</td>\n",
              "      <td>3141.4</td>\n",
              "      <td>Discharge</td>\n",
              "      <td>3338.4</td>\n",
              "      <td>3328.9</td>\n",
              "    </tr>\n",
              "    <tr>\n",
              "      <th>1</th>\n",
              "      <td>Test_Unit_1</td>\n",
              "      <td>Charge</td>\n",
              "      <td>2</td>\n",
              "      <td>849.45</td>\n",
              "      <td>3451.6</td>\n",
              "      <td>3164.0</td>\n",
              "      <td>Discharge</td>\n",
              "      <td>3318.3</td>\n",
              "      <td>3308.8</td>\n",
              "    </tr>\n",
              "    <tr>\n",
              "      <th>2</th>\n",
              "      <td>Test_Unit_1</td>\n",
              "      <td>Charge</td>\n",
              "      <td>3</td>\n",
              "      <td>803.84</td>\n",
              "      <td>8280.7</td>\n",
              "      <td>3145.7</td>\n",
              "      <td>Discharge</td>\n",
              "      <td>3312.4</td>\n",
              "      <td>3302.7</td>\n",
              "    </tr>\n",
              "    <tr>\n",
              "      <th>3</th>\n",
              "      <td>Test_Unit_1</td>\n",
              "      <td>Charge</td>\n",
              "      <td>4</td>\n",
              "      <td>806.83</td>\n",
              "      <td>3102.9</td>\n",
              "      <td>3123.4</td>\n",
              "      <td>Discharge</td>\n",
              "      <td>3296.1</td>\n",
              "      <td>3286.4</td>\n",
              "    </tr>\n",
              "    <tr>\n",
              "      <th>4</th>\n",
              "      <td>Test_Unit_1</td>\n",
              "      <td>Charge</td>\n",
              "      <td>5</td>\n",
              "      <td>1004.50</td>\n",
              "      <td>3147.9</td>\n",
              "      <td>3163.0</td>\n",
              "      <td>Discharge</td>\n",
              "      <td>3298.1</td>\n",
              "      <td>3288.2</td>\n",
              "    </tr>\n",
              "  </tbody>\n",
              "</table>\n",
              "</div>"
            ],
            "text/plain": [
              "          unit charge_mode_x  ...  feature_d_vm  feature_d_vl\n",
              "0  Test_Unit_1        Charge  ...        3338.4        3328.9\n",
              "1  Test_Unit_1        Charge  ...        3318.3        3308.8\n",
              "2  Test_Unit_1        Charge  ...        3312.4        3302.7\n",
              "3  Test_Unit_1        Charge  ...        3296.1        3286.4\n",
              "4  Test_Unit_1        Charge  ...        3298.1        3288.2\n",
              "\n",
              "[5 rows x 9 columns]"
            ]
          },
          "metadata": {},
          "execution_count": 8
        }
      ]
    },
    {
      "cell_type": "markdown",
      "metadata": {
        "id": "2854RnFybqu0"
      },
      "source": [
        "# モデリング"
      ]
    },
    {
      "cell_type": "markdown",
      "metadata": {
        "id": "XWPjgRxZcX1h"
      },
      "source": [
        "学習データ：X⇒trainのXXcycle、y⇒testのXXcylce\n",
        "テストデータ：X⇒trainのXX以降のCycle、 y⇒予測"
      ]
    },
    {
      "cell_type": "code",
      "metadata": {
        "id": "vJdzjm1ybQFG"
      },
      "source": [
        "num_train_unit_1 = 124\n",
        "num_train_unit_2 = 40\n",
        "num_train_unit_3 = 97\n",
        "\n",
        "num_test_unit_1 = 70\n",
        "num_test_unit_2 = 12\n",
        "num_test_unit_3 = 55"
      ],
      "execution_count": 9,
      "outputs": []
    },
    {
      "cell_type": "code",
      "metadata": {
        "id": "dzO7a5S9f480"
      },
      "source": [
        "#学習データとテストデータ\n",
        "train_unit_1 = df_train_feature[df_train_feature['unit'] == 'Train_Unit_1' ].reset_index()\n",
        "test_unit_1 = df_test_feature[df_test_feature['unit'] == 'Test_Unit_1' ].reset_index()"
      ],
      "execution_count": 10,
      "outputs": []
    },
    {
      "cell_type": "markdown",
      "metadata": {
        "id": "HfNwhf6fcdYX"
      },
      "source": [
        "テストユニット1_XGBoost"
      ]
    },
    {
      "cell_type": "code",
      "metadata": {
        "id": "Iy0pg97AcSj9"
      },
      "source": [
        "col_train = train_unit_1.columns[4:].drop(['charge_mode_y'])\n",
        "train_X = train_unit_1[:num_test_unit_1][col_train]\n",
        "train_y = test_unit_1[:num_test_unit_1]['feature_d_vm']"
      ],
      "execution_count": 11,
      "outputs": []
    },
    {
      "cell_type": "code",
      "metadata": {
        "colab": {
          "base_uri": "https://localhost:8080/"
        },
        "id": "MKGah_yadZ6d",
        "outputId": "71e35069-3bbe-4b60-94dc-74085a73625c"
      },
      "source": [
        "train_X.head()\n",
        "train_y.head()"
      ],
      "execution_count": 12,
      "outputs": [
        {
          "output_type": "execute_result",
          "data": {
            "text/plain": [
              "0    3338.4\n",
              "1    3318.3\n",
              "2    3312.4\n",
              "3    3296.1\n",
              "4    3298.1\n",
              "Name: feature_d_vm, dtype: float64"
            ]
          },
          "metadata": {},
          "execution_count": 12
        }
      ]
    },
    {
      "cell_type": "code",
      "metadata": {
        "colab": {
          "base_uri": "https://localhost:8080/",
          "height": 204
        },
        "id": "h7ePD5wKetFp",
        "outputId": "d624183d-352f-43d5-9f10-79d187565e6c"
      },
      "source": [
        "col_test = train_unit_1.columns[4:].drop(['charge_mode_y'])\n",
        "test_X = train_unit_1[num_test_unit_1:][col_test]\n",
        "test_X.head()"
      ],
      "execution_count": 13,
      "outputs": [
        {
          "output_type": "execute_result",
          "data": {
            "text/html": [
              "<div>\n",
              "<style scoped>\n",
              "    .dataframe tbody tr th:only-of-type {\n",
              "        vertical-align: middle;\n",
              "    }\n",
              "\n",
              "    .dataframe tbody tr th {\n",
              "        vertical-align: top;\n",
              "    }\n",
              "\n",
              "    .dataframe thead th {\n",
              "        text-align: right;\n",
              "    }\n",
              "</style>\n",
              "<table border=\"1\" class=\"dataframe\">\n",
              "  <thead>\n",
              "    <tr style=\"text-align: right;\">\n",
              "      <th></th>\n",
              "      <th>feature_c_vm</th>\n",
              "      <th>feature_c_cm</th>\n",
              "      <th>feature_c_vc</th>\n",
              "      <th>feature_d_vm</th>\n",
              "      <th>feature_d_vl</th>\n",
              "    </tr>\n",
              "  </thead>\n",
              "  <tbody>\n",
              "    <tr>\n",
              "      <th>70</th>\n",
              "      <td>631.09</td>\n",
              "      <td>3072.4</td>\n",
              "      <td>2560.9</td>\n",
              "      <td>2916.1</td>\n",
              "      <td>2906.6</td>\n",
              "    </tr>\n",
              "    <tr>\n",
              "      <th>71</th>\n",
              "      <td>545.75</td>\n",
              "      <td>9730.6</td>\n",
              "      <td>2554.5</td>\n",
              "      <td>2896.8</td>\n",
              "      <td>2887.3</td>\n",
              "    </tr>\n",
              "    <tr>\n",
              "      <th>72</th>\n",
              "      <td>590.06</td>\n",
              "      <td>3273.4</td>\n",
              "      <td>2507.8</td>\n",
              "      <td>2888.2</td>\n",
              "      <td>2878.7</td>\n",
              "    </tr>\n",
              "    <tr>\n",
              "      <th>73</th>\n",
              "      <td>520.11</td>\n",
              "      <td>3408.9</td>\n",
              "      <td>2484.8</td>\n",
              "      <td>2879.3</td>\n",
              "      <td>2869.8</td>\n",
              "    </tr>\n",
              "    <tr>\n",
              "      <th>74</th>\n",
              "      <td>530.22</td>\n",
              "      <td>3713.3</td>\n",
              "      <td>2485.3</td>\n",
              "      <td>2859.7</td>\n",
              "      <td>2850.2</td>\n",
              "    </tr>\n",
              "  </tbody>\n",
              "</table>\n",
              "</div>"
            ],
            "text/plain": [
              "    feature_c_vm  feature_c_cm  feature_c_vc  feature_d_vm  feature_d_vl\n",
              "70        631.09        3072.4        2560.9        2916.1        2906.6\n",
              "71        545.75        9730.6        2554.5        2896.8        2887.3\n",
              "72        590.06        3273.4        2507.8        2888.2        2878.7\n",
              "73        520.11        3408.9        2484.8        2879.3        2869.8\n",
              "74        530.22        3713.3        2485.3        2859.7        2850.2"
            ]
          },
          "metadata": {},
          "execution_count": 13
        }
      ]
    },
    {
      "cell_type": "code",
      "metadata": {
        "id": "bzoWVrPBdCrw"
      },
      "source": [
        "from xgboost import XGBRegressor"
      ],
      "execution_count": 14,
      "outputs": []
    },
    {
      "cell_type": "code",
      "metadata": {
        "colab": {
          "base_uri": "https://localhost:8080/"
        },
        "id": "rFyJI1LCdRto",
        "outputId": "7126c22c-0197-44fa-a871-0678f7bc1d4f"
      },
      "source": [
        "#モデルの作成\n",
        "model = XGBRegressor(n_estimators=20, random_state=71)\n",
        "model.fit(train_X,train_y)"
      ],
      "execution_count": 15,
      "outputs": [
        {
          "output_type": "stream",
          "name": "stdout",
          "text": [
            "[15:32:54] WARNING: /workspace/src/objective/regression_obj.cu:152: reg:linear is now deprecated in favor of reg:squarederror.\n"
          ]
        },
        {
          "output_type": "execute_result",
          "data": {
            "text/plain": [
              "XGBRegressor(base_score=0.5, booster='gbtree', colsample_bylevel=1,\n",
              "             colsample_bynode=1, colsample_bytree=1, gamma=0,\n",
              "             importance_type='gain', learning_rate=0.1, max_delta_step=0,\n",
              "             max_depth=3, min_child_weight=1, missing=None, n_estimators=20,\n",
              "             n_jobs=1, nthread=None, objective='reg:linear', random_state=71,\n",
              "             reg_alpha=0, reg_lambda=1, scale_pos_weight=1, seed=None,\n",
              "             silent=None, subsample=1, verbosity=1)"
            ]
          },
          "metadata": {},
          "execution_count": 15
        }
      ]
    },
    {
      "cell_type": "code",
      "metadata": {
        "colab": {
          "base_uri": "https://localhost:8080/"
        },
        "id": "ZMkcRTjjdWQo",
        "outputId": "5e782b22-b944-4c81-92d0-5a005ae7c19d"
      },
      "source": [
        "#テストデータの予測値を確率で出力\n",
        "pred = model.predict(test_X)\n",
        "pred"
      ],
      "execution_count": 16,
      "outputs": [
        {
          "output_type": "execute_result",
          "data": {
            "text/plain": [
              "array([2490.7053, 2490.7053, 2490.7053, 2490.7053, 2490.7053, 2490.7053,\n",
              "       2490.7053, 2490.7053, 2490.7053, 2490.7053, 2490.7053, 2490.7053,\n",
              "       2490.7053, 2490.7053, 2490.7053, 2490.7053, 2490.7053, 2490.7053,\n",
              "       2490.7053, 2490.7053, 2490.7053, 2490.7053, 2490.7053, 2490.7053,\n",
              "       2490.7053, 2490.7053, 2490.7053, 2490.7053, 2490.7053, 2490.7053,\n",
              "       2490.7053, 2605.9805, 2490.7053, 2490.7053, 2490.7053, 2490.7053,\n",
              "       2490.7053, 2490.7053, 2605.9805, 2490.7053, 2605.9805, 2490.7053,\n",
              "       2605.9805, 2605.9805, 2605.9805, 2490.7053, 2490.7053, 2490.7053,\n",
              "       2490.7053, 2490.7053, 2490.7053, 2490.7053, 2490.7053, 2490.7053],\n",
              "      dtype=float32)"
            ]
          },
          "metadata": {},
          "execution_count": 16
        }
      ]
    },
    {
      "cell_type": "markdown",
      "metadata": {
        "id": "72RbAmJamcDx"
      },
      "source": [
        "XGBoostは、本タスクには向かなさそう。(変数とデータ数が少ないから？)"
      ]
    },
    {
      "cell_type": "markdown",
      "metadata": {
        "id": "XKjOY7C7fe6o"
      },
      "source": [
        "テストユニット1_線形回帰"
      ]
    },
    {
      "cell_type": "code",
      "metadata": {
        "id": "7UY1pSj0fA-N"
      },
      "source": [
        "from sklearn.linear_model import LinearRegression as LR"
      ],
      "execution_count": 17,
      "outputs": []
    },
    {
      "cell_type": "code",
      "metadata": {
        "id": "ZEnaei1Uf09A"
      },
      "source": [
        "train_X = train_unit_1[:num_test_unit_1]['feature_d_vm'].values\n",
        "train_y = test_unit_1[:num_test_unit_1]['feature_d_vm'].values"
      ],
      "execution_count": 18,
      "outputs": []
    },
    {
      "cell_type": "code",
      "metadata": {
        "id": "AH76DdqngT05"
      },
      "source": [
        "train_X = np.reshape(train_X, (-1, 1))\n",
        "train_y = np.reshape(train_y, (-1, 1))"
      ],
      "execution_count": 19,
      "outputs": []
    },
    {
      "cell_type": "code",
      "metadata": {
        "colab": {
          "base_uri": "https://localhost:8080/"
        },
        "id": "0YEUcjbufvlC",
        "outputId": "16fbc994-d69e-46c2-b0bb-fc8e9e608151"
      },
      "source": [
        "model_lr = LR()\n",
        "model_lr.fit(train_X, train_y)"
      ],
      "execution_count": 20,
      "outputs": [
        {
          "output_type": "execute_result",
          "data": {
            "text/plain": [
              "LinearRegression(copy_X=True, fit_intercept=True, n_jobs=None, normalize=False)"
            ]
          },
          "metadata": {},
          "execution_count": 20
        }
      ]
    },
    {
      "cell_type": "code",
      "metadata": {
        "colab": {
          "base_uri": "https://localhost:8080/",
          "height": 265
        },
        "id": "jsSW-c7pgRhP",
        "outputId": "54ab021a-894b-4cdd-c65b-7cec8b3f066d"
      },
      "source": [
        "fig, ax = plt.subplots()\n",
        "\n",
        "ax.plot(train_X, train_y, 'o')\n",
        "ax.plot(train_X, model_lr.predict(train_X), linestyle=\"solid\")\n",
        "\n",
        "plt.show()"
      ],
      "execution_count": 21,
      "outputs": [
        {
          "output_type": "display_data",
          "data": {
            "image/png": "[encoded data removed]",
            "text/plain": [
              "<Figure size 432x288 with 1 Axes>"
            ]
          },
          "metadata": {
            "needs_background": "light"
          }
        }
      ]
    },
    {
      "cell_type": "code",
      "metadata": {
        "colab": {
          "base_uri": "https://localhost:8080/"
        },
        "id": "LZMwzx8RhlG6",
        "outputId": "5bca4e8a-55d4-4826-8b06-3bc347a18f37"
      },
      "source": [
        "print('モデル関数の回帰変数 w1: %.3f' %model_lr.coef_)\n",
        "print('モデル関数の切片 w2: %.3f' %model_lr.intercept_)\n",
        "print('y= %.3fx + %.3f' % (model_lr.coef_ , model_lr.intercept_))\n",
        "print('決定係数 R^2： ', model_lr.score(train_X, train_y))"
      ],
      "execution_count": 22,
      "outputs": [
        {
          "output_type": "stream",
          "name": "stdout",
          "text": [
            "モデル関数の回帰変数 w1: 1.271\n",
            "モデル関数の切片 w2: -1022.966\n",
            "y= 1.271x + -1022.966\n",
            "決定係数 R^2：  0.7460659839610881\n"
          ]
        }
      ]
    },
    {
      "cell_type": "code",
      "metadata": {
        "colab": {
          "base_uri": "https://localhost:8080/"
        },
        "id": "KS3h2sbbh_Nt",
        "outputId": "33069335-267b-4166-f2dc-011b742b36f1"
      },
      "source": [
        "pred_values = 3500\n",
        "pred_values = np.reshape(pred_values, (-1, 1))\n",
        "model_lr.predict(pred_values)"
      ],
      "execution_count": 23,
      "outputs": [
        {
          "output_type": "execute_result",
          "data": {
            "text/plain": [
              "array([[3425.16242126]])"
            ]
          },
          "metadata": {},
          "execution_count": 23
        }
      ]
    },
    {
      "cell_type": "code",
      "metadata": {
        "id": "0PtOdqefi6X0"
      },
      "source": [
        "test_X = train_unit_1[num_test_unit_1:]['feature_d_vm'].values\n",
        "test_X = np.reshape(test_X, (-1, 1))\n",
        "#test_X"
      ],
      "execution_count": 24,
      "outputs": []
    },
    {
      "cell_type": "code",
      "metadata": {
        "id": "lFAnv7ikiXUQ"
      },
      "source": [
        "#テストデータの予測\n",
        "pred_test = model_lr.predict(test_X)\n",
        "#pred_test"
      ],
      "execution_count": 25,
      "outputs": []
    },
    {
      "cell_type": "code",
      "metadata": {
        "id": "7qkrQ7dujKyp"
      },
      "source": [
        "test_unit_1_70 = train_y\n",
        "test_unit_1_pred = pred_test"
      ],
      "execution_count": 26,
      "outputs": []
    },
    {
      "cell_type": "code",
      "metadata": {
        "id": "mgxUr5q1kXDp"
      },
      "source": [
        "test_unit_1 = np.concatenate([test_unit_1_70, test_unit_1_pred])\n",
        "#test_unit_1"
      ],
      "execution_count": 54,
      "outputs": []
    },
    {
      "cell_type": "code",
      "metadata": {
        "colab": {
          "base_uri": "https://localhost:8080/",
          "height": 265
        },
        "id": "JaZcY316kgXJ",
        "outputId": "ff1ac9b2-dcaa-4b1a-fb1d-e1035bdcd045"
      },
      "source": [
        "fig, ax = plt.subplots()\n",
        "\n",
        "ax.plot(test_unit_1)\n",
        "\n",
        "plt.show()"
      ],
      "execution_count": 28,
      "outputs": [
        {
          "output_type": "display_data",
          "data": {
            "image/png": "[encoded data removed]",
            "text/plain": [
              "<Figure size 432x288 with 1 Axes>"
            ]
          },
          "metadata": {
            "needs_background": "light"
          }
        }
      ]
    },
    {
      "cell_type": "code",
      "metadata": {
        "colab": {
          "base_uri": "https://localhost:8080/"
        },
        "id": "AW87r_wfk5P7",
        "outputId": "46f5a09f-d2dc-490d-9bd0-45f6221610a5"
      },
      "source": [
        "#ゴール(学習ユニットの故障時の到達点)\n",
        "train_unit_1_min = np.min(train_unit_1['feature_d_vm'].values)\n",
        "train_unit_1_min"
      ],
      "execution_count": 29,
      "outputs": [
        {
          "output_type": "execute_result",
          "data": {
            "text/plain": [
              "2520.9"
            ]
          },
          "metadata": {},
          "execution_count": 29
        }
      ]
    },
    {
      "cell_type": "code",
      "metadata": {
        "colab": {
          "base_uri": "https://localhost:8080/",
          "height": 268
        },
        "id": "6H0b_jUQliJI",
        "outputId": "d391ea92-f78f-4791-c43a-ce59f0fbe5bb"
      },
      "source": [
        "fig, ax = plt.subplots()\n",
        "\n",
        "ax.plot(test_unit_1, label='test unit')\n",
        "ax.plot(train_unit_1['feature_d_vm'], label='train unit')\n",
        "\n",
        "plt.hlines(train_unit_1_min, 0, 150, linestyles='--', label='Life time Train_Unit_1')\n",
        "\n",
        "plt.legend()\n",
        "plt.show()"
      ],
      "execution_count": 51,
      "outputs": [
        {
          "output_type": "display_data",
          "data": {
            "image/png": "[encoded data removed]",
            "text/plain": [
              "<Figure size 432x288 with 1 Axes>"
            ]
          },
          "metadata": {
            "needs_background": "light"
          }
        }
      ]
    },
    {
      "cell_type": "code",
      "metadata": {
        "id": "-JSSTawfmtzg",
        "colab": {
          "base_uri": "https://localhost:8080/"
        },
        "outputId": "07b5bedc-82ce-4654-ffc6-d12cbeb3117e"
      },
      "source": [
        "#回帰式\n",
        "coef = model_lr.coef_\n",
        "intercept = model_lr.intercept_\n",
        "print('y=',coef,'x+',intercept)"
      ],
      "execution_count": 41,
      "outputs": [
        {
          "output_type": "stream",
          "name": "stdout",
          "text": [
            "y= [[1.2708939]] x+ [-1022.96621132]\n"
          ]
        }
      ]
    },
    {
      "cell_type": "code",
      "metadata": {
        "colab": {
          "base_uri": "https://localhost:8080/"
        },
        "id": "ivCMnTvT2CIq",
        "outputId": "ac47d3cf-427f-4f59-a13d-3e6f6c331039"
      },
      "source": [
        "#逆推定\n",
        "print('x=','y-',model_lr.intercept_,'÷',model_lr.coef_)"
      ],
      "execution_count": 34,
      "outputs": [
        {
          "output_type": "stream",
          "name": "stdout",
          "text": [
            "x= y- [-1022.96621132] ÷ [[1.2708939]]\n"
          ]
        }
      ]
    },
    {
      "cell_type": "code",
      "metadata": {
        "colab": {
          "base_uri": "https://localhost:8080/",
          "height": 419
        },
        "id": "jqRy2Vyy4zHH",
        "outputId": "84e74146-43b2-44f4-e287-aeaea6c57aeb"
      },
      "source": [
        "#テストユニットのデータセットを眺める\n",
        "df_test_unit_1 = pd.DataFrame(test_unit_1, columns=['feature_d_vm'])\n",
        "df_test_unit_1['Cycle'] = df_test_unit_1.index + 1\n",
        "df_test_unit_1"
      ],
      "execution_count": 64,
      "outputs": [
        {
          "output_type": "execute_result",
          "data": {
            "text/html": [
              "<div>\n",
              "<style scoped>\n",
              "    .dataframe tbody tr th:only-of-type {\n",
              "        vertical-align: middle;\n",
              "    }\n",
              "\n",
              "    .dataframe tbody tr th {\n",
              "        vertical-align: top;\n",
              "    }\n",
              "\n",
              "    .dataframe thead th {\n",
              "        text-align: right;\n",
              "    }\n",
              "</style>\n",
              "<table border=\"1\" class=\"dataframe\">\n",
              "  <thead>\n",
              "    <tr style=\"text-align: right;\">\n",
              "      <th></th>\n",
              "      <th>feature_d_vm</th>\n",
              "      <th>Cycle</th>\n",
              "    </tr>\n",
              "  </thead>\n",
              "  <tbody>\n",
              "    <tr>\n",
              "      <th>0</th>\n",
              "      <td>3338.0</td>\n",
              "      <td>1</td>\n",
              "    </tr>\n",
              "    <tr>\n",
              "      <th>1</th>\n",
              "      <td>3318.0</td>\n",
              "      <td>2</td>\n",
              "    </tr>\n",
              "    <tr>\n",
              "      <th>2</th>\n",
              "      <td>3312.0</td>\n",
              "      <td>3</td>\n",
              "    </tr>\n",
              "    <tr>\n",
              "      <th>3</th>\n",
              "      <td>3296.0</td>\n",
              "      <td>4</td>\n",
              "    </tr>\n",
              "    <tr>\n",
              "      <th>4</th>\n",
              "      <td>3298.0</td>\n",
              "      <td>5</td>\n",
              "    </tr>\n",
              "    <tr>\n",
              "      <th>...</th>\n",
              "      <td>...</td>\n",
              "      <td>...</td>\n",
              "    </tr>\n",
              "    <tr>\n",
              "      <th>119</th>\n",
              "      <td>2253.0</td>\n",
              "      <td>120</td>\n",
              "    </tr>\n",
              "    <tr>\n",
              "      <th>120</th>\n",
              "      <td>2265.0</td>\n",
              "      <td>121</td>\n",
              "    </tr>\n",
              "    <tr>\n",
              "      <th>121</th>\n",
              "      <td>2217.0</td>\n",
              "      <td>122</td>\n",
              "    </tr>\n",
              "    <tr>\n",
              "      <th>122</th>\n",
              "      <td>2194.0</td>\n",
              "      <td>123</td>\n",
              "    </tr>\n",
              "    <tr>\n",
              "      <th>123</th>\n",
              "      <td>2181.0</td>\n",
              "      <td>124</td>\n",
              "    </tr>\n",
              "  </tbody>\n",
              "</table>\n",
              "<p>124 rows × 2 columns</p>\n",
              "</div>"
            ],
            "text/plain": [
              "     feature_d_vm  Cycle\n",
              "0          3338.0      1\n",
              "1          3318.0      2\n",
              "2          3312.0      3\n",
              "3          3296.0      4\n",
              "4          3298.0      5\n",
              "..            ...    ...\n",
              "119        2253.0    120\n",
              "120        2265.0    121\n",
              "121        2217.0    122\n",
              "122        2194.0    123\n",
              "123        2181.0    124\n",
              "\n",
              "[124 rows x 2 columns]"
            ]
          },
          "metadata": {},
          "execution_count": 64
        }
      ]
    },
    {
      "cell_type": "code",
      "metadata": {
        "id": "lop5pO5X9pV1"
      },
      "source": [
        "search_step = 5\n",
        "search_min = train_unit_1_min - search_step\n",
        "search_max = search_step + train_unit_1_min"
      ],
      "execution_count": 74,
      "outputs": []
    },
    {
      "cell_type": "code",
      "metadata": {
        "colab": {
          "base_uri": "https://localhost:8080/"
        },
        "id": "PFbPS9Hp_vja",
        "outputId": "2547a2b6-7c0a-4912-82bf-e4eb71caf237"
      },
      "source": [
        "lifetime_test_1 = df_test_unit_1.query('@search_min <= feature_d_vm <= @search_max')\n",
        "lifetime_test_1 = lifetime_test_1['Cycle']\n",
        "lifetime_test_1"
      ],
      "execution_count": 78,
      "outputs": [
        {
          "output_type": "execute_result",
          "data": {
            "text/plain": [
              "83    84\n",
              "Name: Cycle, dtype: int64"
            ]
          },
          "metadata": {},
          "execution_count": 78
        }
      ]
    }
  ]
}
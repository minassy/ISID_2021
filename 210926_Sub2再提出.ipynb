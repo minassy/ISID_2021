{
  "nbformat": 4,
  "nbformat_minor": 0,
  "metadata": {
    "colab": {
      "name": "210926_Sub2再提出.ipynb",
      "provenance": [],
      "collapsed_sections": [],
      "mount_file_id": "1NNxcu6uNtp8Ksl2gSkloY73s0HTzT9g3",
      "authorship_tag": "ABX9TyMncq8C1K3uI9szrIrQMQk4",
      "include_colab_link": true
    },
    "kernelspec": {
      "name": "python3",
      "display_name": "Python 3"
    },
    "language_info": {
      "name": "python"
    }
  },
  "cells": [
    {
      "cell_type": "markdown",
      "metadata": {
        "id": "view-in-github",
        "colab_type": "text"
      },
      "source": [
        "<a href=\"https://colab.research.google.com/github/minassy/ISID_2021/blob/main/210926_Sub2%E5%86%8D%E6%8F%90%E5%87%BA.ipynb\" target=\"_parent\"><img src=\"https://colab.research.google.com/assets/colab-badge.svg\" alt=\"Open In Colab\"/></a>"
      ]
    },
    {
      "cell_type": "code",
      "metadata": {
        "id": "PtnFeEYOlSBo"
      },
      "source": [
        "import os\n",
        "import zipfile\n",
        "import glob\n",
        "import pandas as pd\n",
        "import numpy as np\n",
        "import math\n",
        "import statistics\n",
        "import pathlib\n",
        "from tqdm import tqdm\n",
        "import matplotlib.pyplot as plt\n",
        "import seaborn as sns"
      ],
      "execution_count": null,
      "outputs": []
    },
    {
      "cell_type": "code",
      "metadata": {
        "id": "QFUedyBWlolI"
      },
      "source": [
        "#作業基本ディレクトリ\n",
        "DIR = 'drive/MyDrive/00_Competition/ISID/2021'\n",
        "#学習データディレクトリ\n",
        "DIR_DATA_TRAIN = os.path.join(DIR, 'data', 'Train_Unit_20210903')\n",
        "#テストデータディレクトリ\n",
        "DIR_DATA_TEST = os.path.join(DIR, 'data', 'Test_Unit_20210903')"
      ],
      "execution_count": null,
      "outputs": []
    },
    {
      "cell_type": "code",
      "metadata": {
        "id": "tm9SxxOVlscL"
      },
      "source": [
        "#一連のデータ処理\n",
        "def get_some_values(file_path):\n",
        "  #ファイルパスから、ユニット名を取得。\n",
        "  dirname = os.path.dirname(file_path)\n",
        "  dirname_split = dirname.split('/')#区切り文字'/'で分割\n",
        "  unit = dirname_split[-2]\n",
        "  charge_mode = dirname_split[-1]\n",
        "  #ファイルパスから、サイクル数を取得。\n",
        "  basename = os.path.basename(file_path)\n",
        "  basename_split = basename.split('_')[4]#区切り文字'_'で分割\n",
        "  cycle_num = basename_split.split('.')[0]\n",
        "  return unit, charge_mode, cycle_num\n",
        "\n",
        "#%time\n",
        "#DATA_DIR = DIR_DATA_TRAIN\n",
        "#DATA_DIR = DIR_DATA_TEST\n",
        "\n",
        "#C = 'Charge'\n",
        "#C = 'Discharge'\n",
        "\n",
        "def data_reading(DATA_DIR, C):\n",
        "\n",
        "  #カラム名変更前後の辞書\n",
        "  col_list = {'Time (s)' : 'Time',\n",
        "              'Voltage Measured (V)' : 'VM',\n",
        "              'Voltage Charge (V)' : 'VC',\n",
        "              'Current Measured (Amps)' : 'CM', \n",
        "              'Current Charge (Amps)' : 'CC',\n",
        "              'Temperature (degree C)': 'Temp', \n",
        "              'unit' : 'unit_name', \n",
        "              'charge_mode' : 'mode', \n",
        "              'Cycle_num' : 'Cycle',\n",
        "              'Voltage Load (V)' : 'VL',\n",
        "              'Current Load (Amps)' : 'CL'\n",
        "  }\n",
        "\n",
        "  df_list = []\n",
        "  for folder in tqdm(os.listdir(DATA_DIR)[:3]):\n",
        "    files = glob.glob(os.path.join(DATA_DIR, folder, C, '*.csv'))\n",
        "    df_list_0 = []\n",
        "    for file in files:\n",
        "      tmp_df = pd.read_csv(file, encoding='utf-8')\n",
        "      tmp_df = tmp_df.rename(columns=col_list)\n",
        "      #ユニット名、充・放電モード、サイクル数の取得\n",
        "      unit, charge_mode, cycle_num = get_some_values(file)\n",
        "      #特徴量のデータフレームの作成\n",
        "      if C == 'Charge':\n",
        "        df_exp = pd.DataFrame([{'unit':unit,\n",
        "                          'charge_mode' : charge_mode,\n",
        "                          'Cycle_num' : int(cycle_num),\n",
        "                          'feature_c_vm' : featured_c_vm(tmp_df),\n",
        "                          'feature_c_cm' : featured_c_cm(tmp_df),\n",
        "                          'feature_c_vc' : featured_c_vc(tmp_df)}])\n",
        "      else:\n",
        "        df_exp = pd.DataFrame([{'unit':unit,\n",
        "                          'charge_mode' : charge_mode,\n",
        "                          'Cycle_num' : int(cycle_num),\n",
        "                          'feature_d_vm' : featured_d_vm(tmp_df),\n",
        "                          'feature_d_vl' : featured_d_vl(tmp_df)}])\n",
        "      df_list_0.append(df_exp)\n",
        "    df_0 = pd.concat(df_list_0)\n",
        "    df_list.append(df_0)\n",
        "  df = pd.concat(df_list)\n",
        "\n",
        "  #ユニットとサイクルでソート。\n",
        "  df = df.sort_values(['unit', 'Cycle_num'])\n",
        "  #インデックスの振り直し\n",
        "  df = df.reset_index(drop=True)\n",
        "\n",
        "  return df\n",
        "\n",
        "def featured_c_vm(df):\n",
        "  #LAG=5が0.001未満が続くところを、飽和領域とみなす。\n",
        "  p_c_vm = df.loc[:, 'VM'][df.loc[:, 'VM'].diff(5) < 0.001]\n",
        "  #飽和領域のなかで、最初の点を点P_C_VMとする。\n",
        "  p_c_vm = p_c_vm.reset_index(inplace=False)\n",
        "  p_c_vm = p_c_vm['index'].iloc[0]\n",
        "  #充電VMの特徴量は、点P_C_VMにおける時間\n",
        "  feature_c_vm = df['Time'].loc[p_c_vm]\n",
        "  return feature_c_vm\n",
        "\n",
        "def featured_c_cm(df):\n",
        "  #飽和領域からの立ち下がり点(LAG=5の勾配が最小となる点)を点P_C_CMとする。\n",
        "  p_c_cm = np.gradient(df.loc[:, 'CM'].diff(5)[10:]).argmin()\n",
        "  #充電CMの特徴量は、点P_C_CMにおける時間\n",
        "  feature_c_cm = df['Time'].loc[p_c_cm]\n",
        "  return feature_c_cm\n",
        "\n",
        "def featured_c_vc(df):\n",
        "  #VCが最大値を示す点を、点P_C_VCとする。\n",
        "  p_c_vc = df.VC.argmax()\n",
        "  #充電VCの特徴量は、点P_C_VCにおける時間\n",
        "  feature_c_vc = df['Time'].loc[p_c_vc]\n",
        "  return feature_c_vc\n",
        "\n",
        "def featured_d_vm(df):\n",
        "  #VMが最小値を示す点を、点P_D_VMとする。\n",
        "  p_d_vm = df.VM.argmin()\n",
        "  #放電VMの特徴量は、点P_D_VMにおける時間\n",
        "  feature_d_vm = df['Time'].loc[p_d_vm]\n",
        "  return feature_d_vm\n",
        "\n",
        "def featured_d_vl(df):\n",
        "  #VLの最大値点以降の領域において、最小値を示す点を、点P_D_VLとする。\n",
        "  VL_max = df.VL.argmax()\n",
        "  p_d_vl = df.VL[VL_max: ].argmin()\n",
        "  #放電VLの特徴量は、点P_D_VLにおける時間\n",
        "  feature_d_vl = df['Time'].loc[p_d_vl]\n",
        "  return feature_d_vl"
      ],
      "execution_count": null,
      "outputs": []
    },
    {
      "cell_type": "code",
      "metadata": {
        "colab": {
          "base_uri": "https://localhost:8080/"
        },
        "id": "V3waOB7Il7Kj",
        "outputId": "791cda2e-bde5-4126-c2e0-7213e75719a3"
      },
      "source": [
        "%time\n",
        "#データの読み込み(学習)\n",
        "#充電\n",
        "\n",
        "DATA_DIR = DIR_DATA_TRAIN\n",
        "#DATA_DIR = DIR_DATA_TEST\n",
        "\n",
        "C = 'Charge'\n",
        "#C = 'Discharge'\n",
        "\n",
        "df_train_charge = data_reading(DATA_DIR, C)\n",
        "\n",
        "#データの読み込み(学習)\n",
        "#放電\n",
        "\n",
        "DATA_DIR = DIR_DATA_TRAIN\n",
        "#DATA_DIR = DIR_DATA_TEST\n",
        "\n",
        "#C = 'Charge'\n",
        "C = 'Discharge'\n",
        "\n",
        "df_train_discharge = data_reading(DATA_DIR, C)\n",
        "\n",
        "#充電と放電の特徴量のデータセット作成\n",
        "df_train_feature = pd.merge(df_train_charge, df_train_discharge,\n",
        "                            how = 'inner',\n",
        "                            on = ['unit', 'Cycle_num'])\n",
        "\n",
        "#データの読み込み(学習)\n",
        "#充電\n",
        "\n",
        "#DATA_DIR = DIR_DATA_TRAIN\n",
        "DATA_DIR = DIR_DATA_TEST\n",
        "\n",
        "C = 'Charge'\n",
        "#C = 'Discharge'\n",
        "\n",
        "df_test_charge = data_reading(DATA_DIR, C)\n",
        "\n",
        "#データの読み込み(学習)\n",
        "#放電\n",
        "\n",
        "#DATA_DIR = DIR_DATA_TRAIN\n",
        "DATA_DIR = DIR_DATA_TEST\n",
        "\n",
        "#C = 'Charge'\n",
        "C = 'Discharge'\n",
        "\n",
        "df_test_discharge = data_reading(DATA_DIR, C)\n",
        "\n",
        "#充電と放電の特徴量のデータセット作成\n",
        "df_test_feature = pd.merge(df_test_charge, df_test_discharge,\n",
        "                            how = 'inner',\n",
        "                            on = ['unit', 'Cycle_num'])\n"
      ],
      "execution_count": null,
      "outputs": [
        {
          "output_type": "stream",
          "name": "stdout",
          "text": [
            "CPU times: user 3 µs, sys: 1 µs, total: 4 µs\n",
            "Wall time: 6.68 µs\n"
          ]
        },
        {
          "output_type": "stream",
          "name": "stderr",
          "text": [
            "100%|██████████| 3/3 [01:18<00:00, 26.05s/it]\n",
            "100%|██████████| 3/3 [01:03<00:00, 21.21s/it]\n",
            "100%|██████████| 3/3 [00:37<00:00, 12.59s/it]\n",
            "100%|██████████| 3/3 [00:33<00:00, 11.22s/it]\n"
          ]
        }
      ]
    },
    {
      "cell_type": "code",
      "metadata": {
        "id": "wtU3mo8ovCv5"
      },
      "source": [
        "df_train = df_train_feature.copy()"
      ],
      "execution_count": null,
      "outputs": []
    },
    {
      "cell_type": "code",
      "metadata": {
        "id": "4EFkuWmUwvWy"
      },
      "source": [
        "df_test = df_test_feature.copy()"
      ],
      "execution_count": null,
      "outputs": []
    },
    {
      "cell_type": "markdown",
      "metadata": {
        "id": "wyg2Uq1OmPGd"
      },
      "source": [
        "データセットの改善"
      ]
    },
    {
      "cell_type": "markdown",
      "metadata": {
        "id": "Ge2XSCaamTAK"
      },
      "source": [
        "RLU列を設定"
      ]
    },
    {
      "cell_type": "code",
      "metadata": {
        "id": "BK0DKkS4n0Bo"
      },
      "source": [
        "num_train_unit_1 = 124\n",
        "num_train_unit_2 = 40\n",
        "num_train_unit_3 = 97\n",
        "\n",
        "num_test_unit_1 = 70\n",
        "num_test_unit_2 = 12\n",
        "num_test_unit_3 = 55"
      ],
      "execution_count": null,
      "outputs": []
    },
    {
      "cell_type": "code",
      "metadata": {
        "colab": {
          "base_uri": "https://localhost:8080/",
          "height": 206
        },
        "id": "th8YQZIRmGaM",
        "outputId": "00f4298d-672c-4700-8137-4dbca5795f53"
      },
      "source": [
        "df_train.head()\n",
        "#df_train.shape"
      ],
      "execution_count": null,
      "outputs": [
        {
          "output_type": "execute_result",
          "data": {
            "text/html": [
              "<div>\n",
              "<style scoped>\n",
              "    .dataframe tbody tr th:only-of-type {\n",
              "        vertical-align: middle;\n",
              "    }\n",
              "\n",
              "    .dataframe tbody tr th {\n",
              "        vertical-align: top;\n",
              "    }\n",
              "\n",
              "    .dataframe thead th {\n",
              "        text-align: right;\n",
              "    }\n",
              "</style>\n",
              "<table border=\"1\" class=\"dataframe\">\n",
              "  <thead>\n",
              "    <tr style=\"text-align: right;\">\n",
              "      <th></th>\n",
              "      <th>unit</th>\n",
              "      <th>charge_mode_x</th>\n",
              "      <th>Cycle_num</th>\n",
              "      <th>feature_c_vm</th>\n",
              "      <th>feature_c_cm</th>\n",
              "      <th>feature_c_vc</th>\n",
              "      <th>charge_mode_y</th>\n",
              "      <th>feature_d_vm</th>\n",
              "      <th>feature_d_vl</th>\n",
              "    </tr>\n",
              "  </thead>\n",
              "  <tbody>\n",
              "    <tr>\n",
              "      <th>0</th>\n",
              "      <td>Train_Unit_1</td>\n",
              "      <td>Charge</td>\n",
              "      <td>1</td>\n",
              "      <td>3422.5</td>\n",
              "      <td>3207.4</td>\n",
              "      <td>3241.8</td>\n",
              "      <td>Discharge</td>\n",
              "      <td>3346.9</td>\n",
              "      <td>3327.2</td>\n",
              "    </tr>\n",
              "    <tr>\n",
              "      <th>1</th>\n",
              "      <td>Train_Unit_1</td>\n",
              "      <td>Charge</td>\n",
              "      <td>2</td>\n",
              "      <td>3431.6</td>\n",
              "      <td>3181.8</td>\n",
              "      <td>3262.3</td>\n",
              "      <td>Discharge</td>\n",
              "      <td>3328.8</td>\n",
              "      <td>3309.2</td>\n",
              "    </tr>\n",
              "    <tr>\n",
              "      <th>2</th>\n",
              "      <td>Train_Unit_1</td>\n",
              "      <td>Charge</td>\n",
              "      <td>3</td>\n",
              "      <td>3409.1</td>\n",
              "      <td>9692.7</td>\n",
              "      <td>3229.2</td>\n",
              "      <td>Discharge</td>\n",
              "      <td>3309.4</td>\n",
              "      <td>3289.8</td>\n",
              "    </tr>\n",
              "    <tr>\n",
              "      <th>3</th>\n",
              "      <td>Train_Unit_1</td>\n",
              "      <td>Charge</td>\n",
              "      <td>4</td>\n",
              "      <td>3407.7</td>\n",
              "      <td>3160.2</td>\n",
              "      <td>3228.2</td>\n",
              "      <td>Discharge</td>\n",
              "      <td>3309.7</td>\n",
              "      <td>3289.9</td>\n",
              "    </tr>\n",
              "    <tr>\n",
              "      <th>4</th>\n",
              "      <td>Train_Unit_1</td>\n",
              "      <td>Charge</td>\n",
              "      <td>5</td>\n",
              "      <td>3409.6</td>\n",
              "      <td>3172.4</td>\n",
              "      <td>3217.9</td>\n",
              "      <td>Discharge</td>\n",
              "      <td>3307.7</td>\n",
              "      <td>3287.9</td>\n",
              "    </tr>\n",
              "  </tbody>\n",
              "</table>\n",
              "</div>"
            ],
            "text/plain": [
              "           unit charge_mode_x  ...  feature_d_vm  feature_d_vl\n",
              "0  Train_Unit_1        Charge  ...        3346.9        3327.2\n",
              "1  Train_Unit_1        Charge  ...        3328.8        3309.2\n",
              "2  Train_Unit_1        Charge  ...        3309.4        3289.8\n",
              "3  Train_Unit_1        Charge  ...        3309.7        3289.9\n",
              "4  Train_Unit_1        Charge  ...        3307.7        3287.9\n",
              "\n",
              "[5 rows x 9 columns]"
            ]
          },
          "metadata": {},
          "execution_count": 8
        }
      ]
    },
    {
      "cell_type": "code",
      "metadata": {
        "id": "Tv7OA6OInrAu"
      },
      "source": [
        "#寿命列を付与する関数\n",
        "def add_LT(x):\n",
        "  if x == 'Train_Unit_1':\n",
        "    return num_train_unit_1\n",
        "\n",
        "  elif x == 'Train_Unit_2':\n",
        "    return num_train_unit_2\n",
        "  \n",
        "  elif x == 'Train_Unit_3':\n",
        "    return num_train_unit_3"
      ],
      "execution_count": null,
      "outputs": []
    },
    {
      "cell_type": "code",
      "metadata": {
        "id": "_68m_Z8DvfNG"
      },
      "source": [
        "df_train['LifeTime'] = df_train['unit'].apply(add_LT)"
      ],
      "execution_count": null,
      "outputs": []
    },
    {
      "cell_type": "code",
      "metadata": {
        "colab": {
          "base_uri": "https://localhost:8080/",
          "height": 206
        },
        "id": "XWuAaROMvpdx",
        "outputId": "8f4c33b1-4e48-4e10-d66a-213c7a2a9455"
      },
      "source": [
        "df_train.head()"
      ],
      "execution_count": null,
      "outputs": [
        {
          "output_type": "execute_result",
          "data": {
            "text/html": [
              "<div>\n",
              "<style scoped>\n",
              "    .dataframe tbody tr th:only-of-type {\n",
              "        vertical-align: middle;\n",
              "    }\n",
              "\n",
              "    .dataframe tbody tr th {\n",
              "        vertical-align: top;\n",
              "    }\n",
              "\n",
              "    .dataframe thead th {\n",
              "        text-align: right;\n",
              "    }\n",
              "</style>\n",
              "<table border=\"1\" class=\"dataframe\">\n",
              "  <thead>\n",
              "    <tr style=\"text-align: right;\">\n",
              "      <th></th>\n",
              "      <th>unit</th>\n",
              "      <th>charge_mode_x</th>\n",
              "      <th>Cycle_num</th>\n",
              "      <th>feature_c_vm</th>\n",
              "      <th>feature_c_cm</th>\n",
              "      <th>feature_c_vc</th>\n",
              "      <th>charge_mode_y</th>\n",
              "      <th>feature_d_vm</th>\n",
              "      <th>feature_d_vl</th>\n",
              "      <th>LifeTime</th>\n",
              "    </tr>\n",
              "  </thead>\n",
              "  <tbody>\n",
              "    <tr>\n",
              "      <th>0</th>\n",
              "      <td>Train_Unit_1</td>\n",
              "      <td>Charge</td>\n",
              "      <td>1</td>\n",
              "      <td>3422.5</td>\n",
              "      <td>3207.4</td>\n",
              "      <td>3241.8</td>\n",
              "      <td>Discharge</td>\n",
              "      <td>3346.9</td>\n",
              "      <td>3327.2</td>\n",
              "      <td>124</td>\n",
              "    </tr>\n",
              "    <tr>\n",
              "      <th>1</th>\n",
              "      <td>Train_Unit_1</td>\n",
              "      <td>Charge</td>\n",
              "      <td>2</td>\n",
              "      <td>3431.6</td>\n",
              "      <td>3181.8</td>\n",
              "      <td>3262.3</td>\n",
              "      <td>Discharge</td>\n",
              "      <td>3328.8</td>\n",
              "      <td>3309.2</td>\n",
              "      <td>124</td>\n",
              "    </tr>\n",
              "    <tr>\n",
              "      <th>2</th>\n",
              "      <td>Train_Unit_1</td>\n",
              "      <td>Charge</td>\n",
              "      <td>3</td>\n",
              "      <td>3409.1</td>\n",
              "      <td>9692.7</td>\n",
              "      <td>3229.2</td>\n",
              "      <td>Discharge</td>\n",
              "      <td>3309.4</td>\n",
              "      <td>3289.8</td>\n",
              "      <td>124</td>\n",
              "    </tr>\n",
              "    <tr>\n",
              "      <th>3</th>\n",
              "      <td>Train_Unit_1</td>\n",
              "      <td>Charge</td>\n",
              "      <td>4</td>\n",
              "      <td>3407.7</td>\n",
              "      <td>3160.2</td>\n",
              "      <td>3228.2</td>\n",
              "      <td>Discharge</td>\n",
              "      <td>3309.7</td>\n",
              "      <td>3289.9</td>\n",
              "      <td>124</td>\n",
              "    </tr>\n",
              "    <tr>\n",
              "      <th>4</th>\n",
              "      <td>Train_Unit_1</td>\n",
              "      <td>Charge</td>\n",
              "      <td>5</td>\n",
              "      <td>3409.6</td>\n",
              "      <td>3172.4</td>\n",
              "      <td>3217.9</td>\n",
              "      <td>Discharge</td>\n",
              "      <td>3307.7</td>\n",
              "      <td>3287.9</td>\n",
              "      <td>124</td>\n",
              "    </tr>\n",
              "  </tbody>\n",
              "</table>\n",
              "</div>"
            ],
            "text/plain": [
              "           unit charge_mode_x  Cycle_num  ...  feature_d_vm  feature_d_vl  LifeTime\n",
              "0  Train_Unit_1        Charge          1  ...        3346.9        3327.2       124\n",
              "1  Train_Unit_1        Charge          2  ...        3328.8        3309.2       124\n",
              "2  Train_Unit_1        Charge          3  ...        3309.4        3289.8       124\n",
              "3  Train_Unit_1        Charge          4  ...        3309.7        3289.9       124\n",
              "4  Train_Unit_1        Charge          5  ...        3307.7        3287.9       124\n",
              "\n",
              "[5 rows x 10 columns]"
            ]
          },
          "metadata": {},
          "execution_count": 11
        }
      ]
    },
    {
      "cell_type": "code",
      "metadata": {
        "id": "VPIwSjEkqqH4"
      },
      "source": [
        "#RLUを付与\n",
        "df_train['RLU'] = df_train['LifeTime'] - df_train['Cycle_num']"
      ],
      "execution_count": null,
      "outputs": []
    },
    {
      "cell_type": "code",
      "metadata": {
        "colab": {
          "base_uri": "https://localhost:8080/",
          "height": 206
        },
        "id": "1dI23TtQv_UB",
        "outputId": "3054c15d-34a2-4e40-b002-4f5514d6081e"
      },
      "source": [
        "df_train.head()"
      ],
      "execution_count": null,
      "outputs": [
        {
          "output_type": "execute_result",
          "data": {
            "text/html": [
              "<div>\n",
              "<style scoped>\n",
              "    .dataframe tbody tr th:only-of-type {\n",
              "        vertical-align: middle;\n",
              "    }\n",
              "\n",
              "    .dataframe tbody tr th {\n",
              "        vertical-align: top;\n",
              "    }\n",
              "\n",
              "    .dataframe thead th {\n",
              "        text-align: right;\n",
              "    }\n",
              "</style>\n",
              "<table border=\"1\" class=\"dataframe\">\n",
              "  <thead>\n",
              "    <tr style=\"text-align: right;\">\n",
              "      <th></th>\n",
              "      <th>unit</th>\n",
              "      <th>charge_mode_x</th>\n",
              "      <th>Cycle_num</th>\n",
              "      <th>feature_c_vm</th>\n",
              "      <th>feature_c_cm</th>\n",
              "      <th>feature_c_vc</th>\n",
              "      <th>charge_mode_y</th>\n",
              "      <th>feature_d_vm</th>\n",
              "      <th>feature_d_vl</th>\n",
              "      <th>LifeTime</th>\n",
              "      <th>RLU</th>\n",
              "    </tr>\n",
              "  </thead>\n",
              "  <tbody>\n",
              "    <tr>\n",
              "      <th>0</th>\n",
              "      <td>Train_Unit_1</td>\n",
              "      <td>Charge</td>\n",
              "      <td>1</td>\n",
              "      <td>3422.5</td>\n",
              "      <td>3207.4</td>\n",
              "      <td>3241.8</td>\n",
              "      <td>Discharge</td>\n",
              "      <td>3346.9</td>\n",
              "      <td>3327.2</td>\n",
              "      <td>124</td>\n",
              "      <td>123</td>\n",
              "    </tr>\n",
              "    <tr>\n",
              "      <th>1</th>\n",
              "      <td>Train_Unit_1</td>\n",
              "      <td>Charge</td>\n",
              "      <td>2</td>\n",
              "      <td>3431.6</td>\n",
              "      <td>3181.8</td>\n",
              "      <td>3262.3</td>\n",
              "      <td>Discharge</td>\n",
              "      <td>3328.8</td>\n",
              "      <td>3309.2</td>\n",
              "      <td>124</td>\n",
              "      <td>122</td>\n",
              "    </tr>\n",
              "    <tr>\n",
              "      <th>2</th>\n",
              "      <td>Train_Unit_1</td>\n",
              "      <td>Charge</td>\n",
              "      <td>3</td>\n",
              "      <td>3409.1</td>\n",
              "      <td>9692.7</td>\n",
              "      <td>3229.2</td>\n",
              "      <td>Discharge</td>\n",
              "      <td>3309.4</td>\n",
              "      <td>3289.8</td>\n",
              "      <td>124</td>\n",
              "      <td>121</td>\n",
              "    </tr>\n",
              "    <tr>\n",
              "      <th>3</th>\n",
              "      <td>Train_Unit_1</td>\n",
              "      <td>Charge</td>\n",
              "      <td>4</td>\n",
              "      <td>3407.7</td>\n",
              "      <td>3160.2</td>\n",
              "      <td>3228.2</td>\n",
              "      <td>Discharge</td>\n",
              "      <td>3309.7</td>\n",
              "      <td>3289.9</td>\n",
              "      <td>124</td>\n",
              "      <td>120</td>\n",
              "    </tr>\n",
              "    <tr>\n",
              "      <th>4</th>\n",
              "      <td>Train_Unit_1</td>\n",
              "      <td>Charge</td>\n",
              "      <td>5</td>\n",
              "      <td>3409.6</td>\n",
              "      <td>3172.4</td>\n",
              "      <td>3217.9</td>\n",
              "      <td>Discharge</td>\n",
              "      <td>3307.7</td>\n",
              "      <td>3287.9</td>\n",
              "      <td>124</td>\n",
              "      <td>119</td>\n",
              "    </tr>\n",
              "  </tbody>\n",
              "</table>\n",
              "</div>"
            ],
            "text/plain": [
              "           unit charge_mode_x  Cycle_num  ...  feature_d_vl  LifeTime  RLU\n",
              "0  Train_Unit_1        Charge          1  ...        3327.2       124  123\n",
              "1  Train_Unit_1        Charge          2  ...        3309.2       124  122\n",
              "2  Train_Unit_1        Charge          3  ...        3289.8       124  121\n",
              "3  Train_Unit_1        Charge          4  ...        3289.9       124  120\n",
              "4  Train_Unit_1        Charge          5  ...        3287.9       124  119\n",
              "\n",
              "[5 rows x 11 columns]"
            ]
          },
          "metadata": {},
          "execution_count": 13
        }
      ]
    },
    {
      "cell_type": "markdown",
      "metadata": {
        "id": "Xnm2QfmpwKbu"
      },
      "source": [
        "モデリング"
      ]
    },
    {
      "cell_type": "markdown",
      "metadata": {
        "id": "mCZs3MDTwUjE"
      },
      "source": [
        "ユニット1用"
      ]
    },
    {
      "cell_type": "code",
      "metadata": {
        "id": "eIwsOXwDwLHg"
      },
      "source": [
        "#学習データとテストデータ\n",
        "train_unit_1 = df_train[df_train['unit'] == 'Train_Unit_1' ].reset_index()\n",
        "test_unit_1 = df_test[df_test['unit'] == 'Test_Unit_1' ].reset_index()"
      ],
      "execution_count": null,
      "outputs": []
    },
    {
      "cell_type": "code",
      "metadata": {
        "colab": {
          "base_uri": "https://localhost:8080/"
        },
        "id": "xN4p-FFFw9VJ",
        "outputId": "3f0635ec-d4d0-42a7-d7f6-83df8cce2475"
      },
      "source": [
        "train_unit_1.columns"
      ],
      "execution_count": null,
      "outputs": [
        {
          "output_type": "execute_result",
          "data": {
            "text/plain": [
              "Index(['index', 'unit', 'charge_mode_x', 'Cycle_num', 'feature_c_vm',\n",
              "       'feature_c_cm', 'feature_c_vc', 'charge_mode_y', 'feature_d_vm',\n",
              "       'feature_d_vl', 'LifeTime', 'RLU'],\n",
              "      dtype='object')"
            ]
          },
          "metadata": {},
          "execution_count": 15
        }
      ]
    },
    {
      "cell_type": "code",
      "metadata": {
        "id": "zWT3FWqiw2MR"
      },
      "source": [
        "col_train = train_unit_1.columns[4:10].drop(['charge_mode_y'])\n",
        "train_X = train_unit_1[col_train]\n",
        "train_y = train_unit_1['RLU']"
      ],
      "execution_count": null,
      "outputs": []
    },
    {
      "cell_type": "code",
      "metadata": {
        "id": "5g6e177HxdLg"
      },
      "source": [
        "test_X = df_test[col_train]"
      ],
      "execution_count": null,
      "outputs": []
    },
    {
      "cell_type": "code",
      "metadata": {
        "id": "FB1exCaIyOKq"
      },
      "source": [
        "from xgboost import XGBRegressor"
      ],
      "execution_count": null,
      "outputs": []
    },
    {
      "cell_type": "code",
      "metadata": {
        "colab": {
          "base_uri": "https://localhost:8080/"
        },
        "id": "7M9dfQCJyQYD",
        "outputId": "079feedf-c9a0-447d-f319-1e62668ca5da"
      },
      "source": [
        "#モデルの作成\n",
        "model = XGBRegressor(n_estimators=20, random_state=71)\n",
        "model.fit(train_X,train_y)"
      ],
      "execution_count": null,
      "outputs": [
        {
          "output_type": "stream",
          "name": "stdout",
          "text": [
            "[15:17:25] WARNING: /workspace/src/objective/regression_obj.cu:152: reg:linear is now deprecated in favor of reg:squarederror.\n"
          ]
        },
        {
          "output_type": "execute_result",
          "data": {
            "text/plain": [
              "XGBRegressor(base_score=0.5, booster='gbtree', colsample_bylevel=1,\n",
              "             colsample_bynode=1, colsample_bytree=1, gamma=0,\n",
              "             importance_type='gain', learning_rate=0.1, max_delta_step=0,\n",
              "             max_depth=3, min_child_weight=1, missing=None, n_estimators=20,\n",
              "             n_jobs=1, nthread=None, objective='reg:linear', random_state=71,\n",
              "             reg_alpha=0, reg_lambda=1, scale_pos_weight=1, seed=None,\n",
              "             silent=None, subsample=1, verbosity=1)"
            ]
          },
          "metadata": {},
          "execution_count": 19
        }
      ]
    },
    {
      "cell_type": "code",
      "metadata": {
        "colab": {
          "base_uri": "https://localhost:8080/"
        },
        "id": "eO-hRqD4ySkh",
        "outputId": "72d9c3cb-1cf1-49aa-ea91-f4090978306d"
      },
      "source": [
        "#テストデータの予測値を出力\n",
        "pred = model.predict(test_X)\n",
        "pred"
      ],
      "execution_count": null,
      "outputs": [
        {
          "output_type": "execute_result",
          "data": {
            "text/plain": [
              "array([76.414955, 80.02196 , 80.02196 , 80.02196 , 80.02196 , 80.02196 ,\n",
              "       80.02196 , 80.02196 , 80.02196 , 80.02196 , 80.02196 , 80.02196 ,\n",
              "       71.46323 , 71.46323 , 82.75009 , 82.75009 , 82.75009 , 75.8764  ,\n",
              "       64.58955 , 74.76296 , 74.76296 , 61.870884, 65.25337 , 61.870884,\n",
              "       75.8764  , 74.76296 , 68.27923 , 65.25337 , 61.870884, 57.92661 ,\n",
              "       57.071022, 57.071022, 52.44623 , 48.140884, 50.1674  , 48.140884,\n",
              "       46.03869 , 44.639763, 43.24144 , 54.95854 , 50.1674  , 46.03869 ,\n",
              "       43.24144 , 41.15759 , 42.051918, 56.847515, 67.21972 , 57.92661 ,\n",
              "       57.071022, 52.44623 , 52.932026, 50.1674  , 46.66628 , 44.30646 ,\n",
              "       44.514866, 50.69749 , 31.86629 , 45.888714, 42.49659 , 39.270256,\n",
              "       39.270256, 37.610237, 38.36194 , 39.397995, 37.060936, 33.8346  ,\n",
              "       32.045387, 26.68699 , 24.85371 , 24.85371 , 76.84379 , 76.84379 ,\n",
              "       76.84379 , 76.84379 , 76.84379 , 76.84379 , 76.84379 , 76.84379 ,\n",
              "       76.84379 , 76.84379 , 76.84379 , 76.84379 , 91.05974 , 91.05974 ,\n",
              "       91.05974 , 91.05974 , 91.05974 , 91.05974 , 91.05974 , 91.05974 ,\n",
              "       91.05974 , 91.05974 , 91.05974 , 88.13064 , 91.05974 , 88.72007 ,\n",
              "       91.05974 , 87.90601 , 87.90601 , 88.66211 , 87.701805, 87.701805,\n",
              "       91.05974 , 91.05974 , 91.05974 , 91.05974 , 91.05974 , 87.90601 ,\n",
              "       88.66211 , 87.701805, 91.30881 , 87.701805, 87.701805, 77.630684,\n",
              "       76.414955, 80.02196 , 80.02196 , 80.02196 , 77.29532 , 71.46323 ,\n",
              "       70.28378 , 67.24382 , 65.37644 , 64.263   , 67.24382 , 70.28378 ,\n",
              "       64.263   , 59.806618, 57.028984, 78.842514, 78.842514, 71.46323 ,\n",
              "       65.44245 , 64.263   , 58.283203, 56.478973, 53.59687 ],\n",
              "      dtype=float32)"
            ]
          },
          "metadata": {},
          "execution_count": 20
        }
      ]
    },
    {
      "cell_type": "code",
      "metadata": {
        "colab": {
          "base_uri": "https://localhost:8080/",
          "height": 295
        },
        "id": "vFgG5LgXyWw1",
        "outputId": "a0d683fe-3e4f-49ce-9c06-9c859b4b5156"
      },
      "source": [
        "fig, ax = plt.subplots()\n",
        "\n",
        "ax.hist(pred, bins=10)\n",
        "\n",
        "ax.set_title('train:Unit1, test:Unit1')\n",
        "ax.set_xlabel('RLU')\n",
        "ax.set_ylabel('count')\n",
        "\n",
        "plt.show()"
      ],
      "execution_count": null,
      "outputs": [
        {
          "output_type": "display_data",
          "data": {
            "image/png": "[encoded data removed]",
            "text/plain": [
              "<Figure size 432x288 with 1 Axes>"
            ]
          },
          "metadata": {
            "needs_background": "light"
          }
        }
      ]
    },
    {
      "cell_type": "code",
      "metadata": {
        "colab": {
          "base_uri": "https://localhost:8080/"
        },
        "id": "bLOniUqf0Ia2",
        "outputId": "938e3a24-1e0d-4fd7-c1c1-15732421790f"
      },
      "source": [
        "#ヒストグラムの最頻値をRLUと定義\n",
        "lifetime_test_1 = round(statistics.mode(pred))\n",
        "lifetime_test_1"
      ],
      "execution_count": null,
      "outputs": [
        {
          "output_type": "execute_result",
          "data": {
            "text/plain": [
              "91"
            ]
          },
          "metadata": {},
          "execution_count": 22
        }
      ]
    },
    {
      "cell_type": "markdown",
      "metadata": {
        "id": "2IfqgeQx1zd8"
      },
      "source": [
        "学習データを変えて再試行"
      ]
    },
    {
      "cell_type": "code",
      "metadata": {
        "colab": {
          "base_uri": "https://localhost:8080/",
          "height": 518
        },
        "id": "0wKJEaFc1yrj",
        "outputId": "51e205f3-6aaf-4f5a-c5d1-a944c893f2dd"
      },
      "source": [
        "unit_train = 'Train_Unit_1'\n",
        "unit_test = 'Test_Unit_1'\n",
        "\n",
        "#学習データとテストデータ\n",
        "train = df_train[df_train['unit'] == unit_train].reset_index()\n",
        "test = df_test[df_test['unit'] == unit_test].reset_index()\n",
        "\n",
        "col_train = train.columns[3:9].drop(['charge_mode_y'])\n",
        "train_X = train[col_train]\n",
        "train_y = train['RLU']\n",
        "test_X = test[col_train]\n",
        "\n",
        "#モデルの作成\n",
        "model = XGBRegressor(n_estimators=20, random_state=71)\n",
        "model.fit(train_X,train_y)\n",
        "\n",
        "#テストデータの予測値を出力\n",
        "pred = model.predict(test_X)\n",
        "\n",
        "#ヒストグラムの描画\n",
        "fig, ax = plt.subplots()\n",
        "\n",
        "ax.hist(pred, bins=10)\n",
        "\n",
        "ax.set_title(f'{unit_train} & {unit_test}')\n",
        "ax.set_xlabel('RLU')\n",
        "ax.set_ylabel('count')\n",
        "\n",
        "plt.show()\n",
        "\n",
        "#ヒストグラムの最頻値をRLUと定義\n",
        "mode_pred = round(statistics.mode(pred))\n",
        "print('最頻値：',mode_pred)\n",
        "\n",
        "RLU[f'{unit_train} & {unit_test}'] = mode_pred"
      ],
      "execution_count": null,
      "outputs": [
        {
          "output_type": "stream",
          "name": "stdout",
          "text": [
            "[15:17:26] WARNING: /workspace/src/objective/regression_obj.cu:152: reg:linear is now deprecated in favor of reg:squarederror.\n"
          ]
        },
        {
          "output_type": "display_data",
          "data": {
            "image/png": "[encoded data removed]",
            "text/plain": [
              "<Figure size 432x288 with 1 Axes>"
            ]
          },
          "metadata": {
            "needs_background": "light"
          }
        },
        {
          "output_type": "stream",
          "name": "stdout",
          "text": [
            "最頻値： 99\n"
          ]
        },
        {
          "output_type": "error",
          "ename": "NameError",
          "evalue": "ignored",
          "traceback": [
            "\u001b[0;31m---------------------------------------------------------------------------\u001b[0m",
            "\u001b[0;31mNameError\u001b[0m                                 Traceback (most recent call last)",
            "\u001b[0;32m<ipython-input-23-2020fc8e12f2>\u001b[0m in \u001b[0;36m<module>\u001b[0;34m()\u001b[0m\n\u001b[1;32m     33\u001b[0m \u001b[0mprint\u001b[0m\u001b[0;34m(\u001b[0m\u001b[0;34m'最頻値：'\u001b[0m\u001b[0;34m,\u001b[0m\u001b[0mmode_pred\u001b[0m\u001b[0;34m)\u001b[0m\u001b[0;34m\u001b[0m\u001b[0;34m\u001b[0m\u001b[0m\n\u001b[1;32m     34\u001b[0m \u001b[0;34m\u001b[0m\u001b[0m\n\u001b[0;32m---> 35\u001b[0;31m \u001b[0mRLU\u001b[0m\u001b[0;34m[\u001b[0m\u001b[0;34mf'{unit_train} & {unit_test}'\u001b[0m\u001b[0;34m]\u001b[0m \u001b[0;34m=\u001b[0m \u001b[0mmode_pred\u001b[0m\u001b[0;34m\u001b[0m\u001b[0;34m\u001b[0m\u001b[0m\n\u001b[0m",
            "\u001b[0;31mNameError\u001b[0m: name 'RLU' is not defined"
          ]
        }
      ]
    },
    {
      "cell_type": "code",
      "metadata": {
        "id": "kCCwyyInBHRu"
      },
      "source": [
        "unit_train = 'Train_Unit_1'\n",
        "unit_test = 'Test_Unit_1'\n",
        "\n",
        "#RLUの算出を関数化\n",
        "\n",
        "def RLU_pred(unit_train, unit_test):\n",
        "  #学習データとテストデータ\n",
        "  train = df_train[df_train['unit'] == unit_train].reset_index()\n",
        "  test = df_test[df_test['unit'] == unit_test].reset_index()\n",
        "\n",
        "  col_train = train.columns[3:9].drop(['charge_mode_y'])\n",
        "  train_X = train[col_train]\n",
        "  train_y = train['RLU']\n",
        "  test_X = test[col_train]\n",
        "\n",
        "  #モデルの作成\n",
        "  model = XGBRegressor(n_estimators=20, random_state=71)\n",
        "  model.fit(train_X,train_y)\n",
        "\n",
        "  #テストデータの予測値を出力\n",
        "  pred = model.predict(test_X)\n",
        "\n",
        "  #ヒストグラムの最頻値をRLUと定義\n",
        "  mode_pred = round(statistics.mode(pred))\n",
        "\n",
        "  return mode_pred"
      ],
      "execution_count": null,
      "outputs": []
    },
    {
      "cell_type": "code",
      "metadata": {
        "colab": {
          "base_uri": "https://localhost:8080/"
        },
        "id": "5rV0LJ3pBZKP",
        "outputId": "274b0727-41b1-471f-85a0-03af971a408f"
      },
      "source": [
        "#ユニット1\n",
        "unit_train = 'Train_Unit_1'\n",
        "unit_test = 'Test_Unit_1'\n",
        "\n",
        "lifetime_test_1 = RLU_pred(unit_train, unit_test)\n",
        "lifetime_test_1"
      ],
      "execution_count": null,
      "outputs": [
        {
          "output_type": "stream",
          "name": "stdout",
          "text": [
            "[15:17:41] WARNING: /workspace/src/objective/regression_obj.cu:152: reg:linear is now deprecated in favor of reg:squarederror.\n"
          ]
        },
        {
          "output_type": "execute_result",
          "data": {
            "text/plain": [
              "99"
            ]
          },
          "metadata": {},
          "execution_count": 25
        }
      ]
    },
    {
      "cell_type": "code",
      "metadata": {
        "colab": {
          "base_uri": "https://localhost:8080/"
        },
        "id": "3uOPMv6SBm4A",
        "outputId": "d424587a-b27c-43c0-a1c5-4d1fbc481dfd"
      },
      "source": [
        "#ユニット2\n",
        "unit_train = 'Train_Unit_2'\n",
        "unit_test = 'Test_Unit_2'\n",
        "\n",
        "lifetime_test_2 = RLU_pred(unit_train, unit_test)\n",
        "lifetime_test_2"
      ],
      "execution_count": null,
      "outputs": [
        {
          "output_type": "stream",
          "name": "stdout",
          "text": [
            "[15:17:42] WARNING: /workspace/src/objective/regression_obj.cu:152: reg:linear is now deprecated in favor of reg:squarederror.\n"
          ]
        },
        {
          "output_type": "execute_result",
          "data": {
            "text/plain": [
              "30"
            ]
          },
          "metadata": {},
          "execution_count": 26
        }
      ]
    },
    {
      "cell_type": "code",
      "metadata": {
        "colab": {
          "base_uri": "https://localhost:8080/"
        },
        "id": "HYC7HNONBwVC",
        "outputId": "901253ff-2876-421b-8182-9df7352b25cb"
      },
      "source": [
        "#ユニット3\n",
        "unit_train = 'Train_Unit_3'\n",
        "unit_test = 'Test_Unit_3'\n",
        "\n",
        "lifetime_test_3 = RLU_pred(unit_train, unit_test)\n",
        "lifetime_test_3"
      ],
      "execution_count": null,
      "outputs": [
        {
          "output_type": "stream",
          "name": "stdout",
          "text": [
            "[15:17:44] WARNING: /workspace/src/objective/regression_obj.cu:152: reg:linear is now deprecated in favor of reg:squarederror.\n"
          ]
        },
        {
          "output_type": "execute_result",
          "data": {
            "text/plain": [
              "77"
            ]
          },
          "metadata": {},
          "execution_count": 27
        }
      ]
    },
    {
      "cell_type": "markdown",
      "metadata": {
        "id": "8K1gY8eCB6_1"
      },
      "source": [
        "# 提出"
      ]
    },
    {
      "cell_type": "code",
      "metadata": {
        "id": "D-YfHktnB0p2"
      },
      "source": [
        "#残寿命の算出\n",
        "RUL_unit_1 = lifetime_test_1\n",
        "RUL_unit_2 = lifetime_test_2\n",
        "RUL_unit_3 = lifetime_test_3"
      ],
      "execution_count": null,
      "outputs": []
    },
    {
      "cell_type": "code",
      "metadata": {
        "colab": {
          "base_uri": "https://localhost:8080/"
        },
        "id": "zOk5zIPRDRoS",
        "outputId": "bc0b6aa2-611a-4845-fce6-49583bf4f940"
      },
      "source": [
        "print(type(RUL_unit_1))\n",
        "print(type(RUL_unit_2))\n",
        "print(type(RUL_unit_3))"
      ],
      "execution_count": null,
      "outputs": [
        {
          "output_type": "stream",
          "name": "stdout",
          "text": [
            "<class 'int'>\n",
            "<class 'int'>\n",
            "<class 'int'>\n"
          ]
        }
      ]
    },
    {
      "cell_type": "code",
      "metadata": {
        "id": "pt2JYeBKB_Cy"
      },
      "source": [
        "#提出ファイルの読み込み\n",
        "file_submit = pd.read_csv(os.path.join(DIR, 'data', 'ISID_08_09_2021.csv'))"
      ],
      "execution_count": null,
      "outputs": []
    },
    {
      "cell_type": "code",
      "metadata": {
        "colab": {
          "base_uri": "https://localhost:8080/"
        },
        "id": "vQDKn-utDM9W",
        "outputId": "77bbab26-a46b-4943-8ca0-33b0ec2165a8"
      },
      "source": [
        "file_submit.columns"
      ],
      "execution_count": null,
      "outputs": [
        {
          "output_type": "execute_result",
          "data": {
            "text/plain": [
              "Index(['Unit 1 RUL', 'Unit 2 RUL', 'Unit 3 RUL'], dtype='object')"
            ]
          },
          "metadata": {},
          "execution_count": 31
        }
      ]
    },
    {
      "cell_type": "code",
      "metadata": {
        "id": "eqVKQf1hCF_Z"
      },
      "source": [
        "pd.DataFrame({\n",
        "    file_submit.columns[0]: [RUL_unit_1],\n",
        "    file_submit.columns[1]: [RUL_unit_2],\n",
        "    file_submit.columns[2]: [RUL_unit_3],}).to_csv(os.path.join(DIR, \"C0002_27_09_2021.csv\"), index=False)"
      ],
      "execution_count": null,
      "outputs": []
    },
    {
      "cell_type": "code",
      "metadata": {
        "id": "WQL1M-ndCPik"
      },
      "source": [
        ""
      ],
      "execution_count": null,
      "outputs": []
    }
  ]
}
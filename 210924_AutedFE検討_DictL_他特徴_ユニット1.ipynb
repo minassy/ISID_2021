{
  "nbformat": 4,
  "nbformat_minor": 0,
  "metadata": {
    "colab": {
      "name": "210924_AutedFE検討_DictL_他特徴_ユニット1.ipynb",
      "provenance": [],
      "collapsed_sections": [],
      "mount_file_id": "1f7USRxxTwcoLc80tQrxpiMZLryU9h4P6",
      "authorship_tag": "ABX9TyMgVEkyUcU5tzfL6lpd2x+E",
      "include_colab_link": true
    },
    "kernelspec": {
      "name": "python3",
      "display_name": "Python 3"
    },
    "language_info": {
      "name": "python"
    }
  },
  "cells": [
    {
      "cell_type": "markdown",
      "metadata": {
        "id": "view-in-github",
        "colab_type": "text"
      },
      "source": [
        "<a href=\"https://colab.research.google.com/github/minassy/ISID_2021/blob/main/210924_AutedFE%E6%A4%9C%E8%A8%8E_DictL_%E4%BB%96%E7%89%B9%E5%BE%B4_%E3%83%A6%E3%83%8B%E3%83%83%E3%83%881.ipynb\" target=\"_parent\"><img src=\"https://colab.research.google.com/assets/colab-badge.svg\" alt=\"Open In Colab\"/></a>"
      ]
    },
    {
      "cell_type": "code",
      "metadata": {
        "id": "4evVV_YF0kWH"
      },
      "source": [
        "import os\n",
        "import zipfile\n",
        "import glob\n",
        "import pandas as pd\n",
        "import numpy as np\n",
        "import pathlib\n",
        "from tqdm import tqdm\n",
        "import matplotlib.pyplot as plt\n",
        "import seaborn as sns\n",
        "\n",
        "import warnings\n",
        "warnings.simplefilter('ignore')"
      ],
      "execution_count": 1,
      "outputs": []
    },
    {
      "cell_type": "code",
      "metadata": {
        "colab": {
          "base_uri": "https://localhost:8080/"
        },
        "id": "RLm94v2M0vjY",
        "outputId": "95275c3c-fb6b-4b7a-8c9e-881014532bc3"
      },
      "source": [
        "#作業基本ディレクトリ\n",
        "DIR = 'drive/MyDrive/00_Competition/ISID/2021'\n",
        "os.listdir(DIR)\n",
        "#os.mkdir(DIR+'/data')"
      ],
      "execution_count": 2,
      "outputs": [
        {
          "output_type": "execute_result",
          "data": {
            "text/plain": [
              "['data', 'notebook', 'C0002_21_09_2021.csv', 'C0002_23_09_2021.csv', 'ref']"
            ]
          },
          "metadata": {},
          "execution_count": 2
        }
      ]
    },
    {
      "cell_type": "code",
      "metadata": {
        "id": "nx65zeUn0x-_"
      },
      "source": [
        "#データの読み込み\n",
        "df_0 = pd.read_csv(\n",
        "    os.path.join(DIR, 'data', 'Train_Unit_20210903', 'dataset_train_all.csv'),\n",
        "    encoding='utf-8')\n",
        "#不必要なIndex列と空白列を削除。\n",
        "df_0 = df_0.drop(df_0.columns[[0, 7]], axis=1)\n",
        "#データ処理用にDFをコピー\n",
        "df_base = df_0.copy()"
      ],
      "execution_count": 3,
      "outputs": []
    },
    {
      "cell_type": "code",
      "metadata": {
        "id": "0F3um3Bt05IK"
      },
      "source": [
        "#カラム名変更前後の辞書\n",
        "col_list = {'Time (s)' : 'Time',\n",
        "            'Voltage Measured (V)' : 'VM',\n",
        "            'Voltage Charge (V)' : 'VC',\n",
        "            'Current Measured (Amps)' : 'CM', \n",
        "            'Current Charge (Amps)' : 'CC',\n",
        "            'Temperature (degree C)': 'Temp', \n",
        "            'unit' : 'unit_name', \n",
        "            'charge_mode' : 'mode', \n",
        "            'Cycle_num' : 'Cycle',\n",
        "            'Voltage Load (V)' : 'VL',\n",
        "            'Current Load (Amps)' : 'CL'\n",
        "}"
      ],
      "execution_count": 4,
      "outputs": []
    },
    {
      "cell_type": "code",
      "metadata": {
        "id": "3Ju-4ISQ06ib"
      },
      "source": [
        "df_base = df_base.rename(columns=col_list)\n",
        "#ユニットとサイクルでソート。\n",
        "df_base = df_base.sort_values(['unit_name', 'Cycle']).reset_index(drop=True)"
      ],
      "execution_count": 5,
      "outputs": []
    },
    {
      "cell_type": "code",
      "metadata": {
        "colab": {
          "base_uri": "https://localhost:8080/",
          "height": 206
        },
        "id": "MiAwk-0i1MGJ",
        "outputId": "62959082-c10e-4776-945a-f0310bf1e422"
      },
      "source": [
        "df_base.head()"
      ],
      "execution_count": 6,
      "outputs": [
        {
          "output_type": "execute_result",
          "data": {
            "text/html": [
              "<div>\n",
              "<style scoped>\n",
              "    .dataframe tbody tr th:only-of-type {\n",
              "        vertical-align: middle;\n",
              "    }\n",
              "\n",
              "    .dataframe tbody tr th {\n",
              "        vertical-align: top;\n",
              "    }\n",
              "\n",
              "    .dataframe thead th {\n",
              "        text-align: right;\n",
              "    }\n",
              "</style>\n",
              "<table border=\"1\" class=\"dataframe\">\n",
              "  <thead>\n",
              "    <tr style=\"text-align: right;\">\n",
              "      <th></th>\n",
              "      <th>Time</th>\n",
              "      <th>VM</th>\n",
              "      <th>VC</th>\n",
              "      <th>CM</th>\n",
              "      <th>CC</th>\n",
              "      <th>Temp</th>\n",
              "      <th>unit_name</th>\n",
              "      <th>mode</th>\n",
              "      <th>Cycle</th>\n",
              "      <th>VL</th>\n",
              "      <th>CL</th>\n",
              "    </tr>\n",
              "  </thead>\n",
              "  <tbody>\n",
              "    <tr>\n",
              "      <th>0</th>\n",
              "      <td>0.000</td>\n",
              "      <td>3.3251</td>\n",
              "      <td>0.003</td>\n",
              "      <td>0.000302</td>\n",
              "      <td>-0.002</td>\n",
              "      <td>29.342</td>\n",
              "      <td>Train_Unit_1</td>\n",
              "      <td>Charge</td>\n",
              "      <td>1</td>\n",
              "      <td>NaN</td>\n",
              "      <td>NaN</td>\n",
              "    </tr>\n",
              "    <tr>\n",
              "      <th>1</th>\n",
              "      <td>2.516</td>\n",
              "      <td>3.0020</td>\n",
              "      <td>1.414</td>\n",
              "      <td>-3.362000</td>\n",
              "      <td>-3.370</td>\n",
              "      <td>29.336</td>\n",
              "      <td>Train_Unit_1</td>\n",
              "      <td>Charge</td>\n",
              "      <td>1</td>\n",
              "      <td>NaN</td>\n",
              "      <td>NaN</td>\n",
              "    </tr>\n",
              "    <tr>\n",
              "      <th>2</th>\n",
              "      <td>5.500</td>\n",
              "      <td>3.4346</td>\n",
              "      <td>4.142</td>\n",
              "      <td>1.508700</td>\n",
              "      <td>1.498</td>\n",
              "      <td>29.335</td>\n",
              "      <td>Train_Unit_1</td>\n",
              "      <td>Charge</td>\n",
              "      <td>1</td>\n",
              "      <td>NaN</td>\n",
              "      <td>NaN</td>\n",
              "    </tr>\n",
              "    <tr>\n",
              "      <th>3</th>\n",
              "      <td>8.391</td>\n",
              "      <td>3.4549</td>\n",
              "      <td>4.180</td>\n",
              "      <td>1.510000</td>\n",
              "      <td>1.498</td>\n",
              "      <td>29.342</td>\n",
              "      <td>Train_Unit_1</td>\n",
              "      <td>Charge</td>\n",
              "      <td>1</td>\n",
              "      <td>NaN</td>\n",
              "      <td>NaN</td>\n",
              "    </tr>\n",
              "    <tr>\n",
              "      <th>4</th>\n",
              "      <td>11.266</td>\n",
              "      <td>3.4688</td>\n",
              "      <td>4.196</td>\n",
              "      <td>1.508700</td>\n",
              "      <td>1.498</td>\n",
              "      <td>29.331</td>\n",
              "      <td>Train_Unit_1</td>\n",
              "      <td>Charge</td>\n",
              "      <td>1</td>\n",
              "      <td>NaN</td>\n",
              "      <td>NaN</td>\n",
              "    </tr>\n",
              "  </tbody>\n",
              "</table>\n",
              "</div>"
            ],
            "text/plain": [
              "     Time      VM     VC        CM     CC  ...     unit_name    mode Cycle  VL  CL\n",
              "0   0.000  3.3251  0.003  0.000302 -0.002  ...  Train_Unit_1  Charge     1 NaN NaN\n",
              "1   2.516  3.0020  1.414 -3.362000 -3.370  ...  Train_Unit_1  Charge     1 NaN NaN\n",
              "2   5.500  3.4346  4.142  1.508700  1.498  ...  Train_Unit_1  Charge     1 NaN NaN\n",
              "3   8.391  3.4549  4.180  1.510000  1.498  ...  Train_Unit_1  Charge     1 NaN NaN\n",
              "4  11.266  3.4688  4.196  1.508700  1.498  ...  Train_Unit_1  Charge     1 NaN NaN\n",
              "\n",
              "[5 rows x 11 columns]"
            ]
          },
          "metadata": {},
          "execution_count": 6
        }
      ]
    },
    {
      "cell_type": "markdown",
      "metadata": {
        "id": "OcCWjOLq1Tnv"
      },
      "source": [
        "# データ加工(間引き、外れ値除去)"
      ]
    },
    {
      "cell_type": "markdown",
      "metadata": {
        "id": "uFhBZbyt24A4"
      },
      "source": [
        "メモ(ユニット1)  \n",
        "VM cutoff_time = 3250、外れ値 = 32Cycle  \n",
        "VC cutoff_time = 11000、外れ値 = 32Cycle  \n",
        "CM cutoff_time = なし、外れ値 = 32Cycle  \n",
        "CC cutoff_time = なし、外れ値 = 32Cycle  \n",
        "Temp cutoff_time = なし、外れ値 = 32Cycle？  \n",
        "\n",
        "VL cutoff_time = なし、外れ値 = なし  \n",
        "※CL cutoff_time = なし、外れ値 = なし ⇒特徴が無く、使いにくいので無し。"
      ]
    },
    {
      "cell_type": "code",
      "metadata": {
        "colab": {
          "base_uri": "https://localhost:8080/",
          "height": 206
        },
        "id": "dpWWeM497tW2",
        "outputId": "1e76c897-1eb2-4db0-ae9e-ec6ca3abca92"
      },
      "source": [
        "df_unit_1 = df_base[df_base['unit_name'] == 'Train_Unit_1']\n",
        "df_unit_1.head()"
      ],
      "execution_count": 7,
      "outputs": [
        {
          "output_type": "execute_result",
          "data": {
            "text/html": [
              "<div>\n",
              "<style scoped>\n",
              "    .dataframe tbody tr th:only-of-type {\n",
              "        vertical-align: middle;\n",
              "    }\n",
              "\n",
              "    .dataframe tbody tr th {\n",
              "        vertical-align: top;\n",
              "    }\n",
              "\n",
              "    .dataframe thead th {\n",
              "        text-align: right;\n",
              "    }\n",
              "</style>\n",
              "<table border=\"1\" class=\"dataframe\">\n",
              "  <thead>\n",
              "    <tr style=\"text-align: right;\">\n",
              "      <th></th>\n",
              "      <th>Time</th>\n",
              "      <th>VM</th>\n",
              "      <th>VC</th>\n",
              "      <th>CM</th>\n",
              "      <th>CC</th>\n",
              "      <th>Temp</th>\n",
              "      <th>unit_name</th>\n",
              "      <th>mode</th>\n",
              "      <th>Cycle</th>\n",
              "      <th>VL</th>\n",
              "      <th>CL</th>\n",
              "    </tr>\n",
              "  </thead>\n",
              "  <tbody>\n",
              "    <tr>\n",
              "      <th>0</th>\n",
              "      <td>0.000</td>\n",
              "      <td>3.3251</td>\n",
              "      <td>0.003</td>\n",
              "      <td>0.000302</td>\n",
              "      <td>-0.002</td>\n",
              "      <td>29.342</td>\n",
              "      <td>Train_Unit_1</td>\n",
              "      <td>Charge</td>\n",
              "      <td>1</td>\n",
              "      <td>NaN</td>\n",
              "      <td>NaN</td>\n",
              "    </tr>\n",
              "    <tr>\n",
              "      <th>1</th>\n",
              "      <td>2.516</td>\n",
              "      <td>3.0020</td>\n",
              "      <td>1.414</td>\n",
              "      <td>-3.362000</td>\n",
              "      <td>-3.370</td>\n",
              "      <td>29.336</td>\n",
              "      <td>Train_Unit_1</td>\n",
              "      <td>Charge</td>\n",
              "      <td>1</td>\n",
              "      <td>NaN</td>\n",
              "      <td>NaN</td>\n",
              "    </tr>\n",
              "    <tr>\n",
              "      <th>2</th>\n",
              "      <td>5.500</td>\n",
              "      <td>3.4346</td>\n",
              "      <td>4.142</td>\n",
              "      <td>1.508700</td>\n",
              "      <td>1.498</td>\n",
              "      <td>29.335</td>\n",
              "      <td>Train_Unit_1</td>\n",
              "      <td>Charge</td>\n",
              "      <td>1</td>\n",
              "      <td>NaN</td>\n",
              "      <td>NaN</td>\n",
              "    </tr>\n",
              "    <tr>\n",
              "      <th>3</th>\n",
              "      <td>8.391</td>\n",
              "      <td>3.4549</td>\n",
              "      <td>4.180</td>\n",
              "      <td>1.510000</td>\n",
              "      <td>1.498</td>\n",
              "      <td>29.342</td>\n",
              "      <td>Train_Unit_1</td>\n",
              "      <td>Charge</td>\n",
              "      <td>1</td>\n",
              "      <td>NaN</td>\n",
              "      <td>NaN</td>\n",
              "    </tr>\n",
              "    <tr>\n",
              "      <th>4</th>\n",
              "      <td>11.266</td>\n",
              "      <td>3.4688</td>\n",
              "      <td>4.196</td>\n",
              "      <td>1.508700</td>\n",
              "      <td>1.498</td>\n",
              "      <td>29.331</td>\n",
              "      <td>Train_Unit_1</td>\n",
              "      <td>Charge</td>\n",
              "      <td>1</td>\n",
              "      <td>NaN</td>\n",
              "      <td>NaN</td>\n",
              "    </tr>\n",
              "  </tbody>\n",
              "</table>\n",
              "</div>"
            ],
            "text/plain": [
              "     Time      VM     VC        CM     CC  ...     unit_name    mode Cycle  VL  CL\n",
              "0   0.000  3.3251  0.003  0.000302 -0.002  ...  Train_Unit_1  Charge     1 NaN NaN\n",
              "1   2.516  3.0020  1.414 -3.362000 -3.370  ...  Train_Unit_1  Charge     1 NaN NaN\n",
              "2   5.500  3.4346  4.142  1.508700  1.498  ...  Train_Unit_1  Charge     1 NaN NaN\n",
              "3   8.391  3.4549  4.180  1.510000  1.498  ...  Train_Unit_1  Charge     1 NaN NaN\n",
              "4  11.266  3.4688  4.196  1.508700  1.498  ...  Train_Unit_1  Charge     1 NaN NaN\n",
              "\n",
              "[5 rows x 11 columns]"
            ]
          },
          "metadata": {},
          "execution_count": 7
        }
      ]
    },
    {
      "cell_type": "code",
      "metadata": {
        "colab": {
          "base_uri": "https://localhost:8080/",
          "height": 819
        },
        "id": "w6tSIdY21NO-",
        "outputId": "aef2d5bd-f9d4-4a95-a0b2-4860c3116614"
      },
      "source": [
        "#プロット\n",
        "feature = 'CM'\n",
        "mode = 'Charge'\n",
        "cycles = df_unit_1['Cycle'].unique()\n",
        "cutoff_time = 11000\n",
        "\n",
        "fig, ax = plt.subplots()\n",
        "fig.set_figwidth(20)\n",
        "fig.set_figheight(10)\n",
        "\n",
        "for cycle in cycles:\n",
        "  #df_plot = df[df['Time'] < cutoff_time]\n",
        "  df_plot = df_unit_1\n",
        "  plot_x = df_plot[ (df_plot['unit_name'] == unit) & (df_plot['Cycle'] == cycle) & (df_plot['mode'] == mode)]['Time']\n",
        "  plot_y = df_plot[ (df_plot['unit_name'] == unit) & (df_plot['Cycle'] == cycle) & (df_plot['mode'] == mode)][feature]\n",
        "  ax.plot(plot_x, plot_y, label= f'{unit}__{feature}__{cycle}Cycle')\n",
        "  #ax.set_xticks(np.arange(0, cutoff_time, 1000))\n",
        "  #ax.set_ylim(3, 5)\n",
        "\n",
        "#plt.legend()\n",
        "plt.show()"
      ],
      "execution_count": 9,
      "outputs": [
        {
          "output_type": "error",
          "ename": "NameError",
          "evalue": "ignored",
          "traceback": [
            "\u001b[0;31m---------------------------------------------------------------------------\u001b[0m",
            "\u001b[0;31mNameError\u001b[0m                                 Traceback (most recent call last)",
            "\u001b[0;32m<ipython-input-9-9e0272f30cf2>\u001b[0m in \u001b[0;36m<module>\u001b[0;34m()\u001b[0m\n\u001b[1;32m     12\u001b[0m   \u001b[0;31m#df_plot = df[df['Time'] < cutoff_time]\u001b[0m\u001b[0;34m\u001b[0m\u001b[0;34m\u001b[0m\u001b[0;34m\u001b[0m\u001b[0m\n\u001b[1;32m     13\u001b[0m   \u001b[0mdf_plot\u001b[0m \u001b[0;34m=\u001b[0m \u001b[0mdf_unit_1\u001b[0m\u001b[0;34m\u001b[0m\u001b[0;34m\u001b[0m\u001b[0m\n\u001b[0;32m---> 14\u001b[0;31m   \u001b[0mplot_x\u001b[0m \u001b[0;34m=\u001b[0m \u001b[0mdf_plot\u001b[0m\u001b[0;34m[\u001b[0m \u001b[0;34m(\u001b[0m\u001b[0mdf_plot\u001b[0m\u001b[0;34m[\u001b[0m\u001b[0;34m'unit_name'\u001b[0m\u001b[0;34m]\u001b[0m \u001b[0;34m==\u001b[0m \u001b[0munit\u001b[0m\u001b[0;34m)\u001b[0m \u001b[0;34m&\u001b[0m \u001b[0;34m(\u001b[0m\u001b[0mdf_plot\u001b[0m\u001b[0;34m[\u001b[0m\u001b[0;34m'Cycle'\u001b[0m\u001b[0;34m]\u001b[0m \u001b[0;34m==\u001b[0m \u001b[0mcycle\u001b[0m\u001b[0;34m)\u001b[0m \u001b[0;34m&\u001b[0m \u001b[0;34m(\u001b[0m\u001b[0mdf_plot\u001b[0m\u001b[0;34m[\u001b[0m\u001b[0;34m'mode'\u001b[0m\u001b[0;34m]\u001b[0m \u001b[0;34m==\u001b[0m \u001b[0mmode\u001b[0m\u001b[0;34m)\u001b[0m\u001b[0;34m]\u001b[0m\u001b[0;34m[\u001b[0m\u001b[0;34m'Time'\u001b[0m\u001b[0;34m]\u001b[0m\u001b[0;34m\u001b[0m\u001b[0;34m\u001b[0m\u001b[0m\n\u001b[0m\u001b[1;32m     15\u001b[0m   \u001b[0mplot_y\u001b[0m \u001b[0;34m=\u001b[0m \u001b[0mdf_plot\u001b[0m\u001b[0;34m[\u001b[0m \u001b[0;34m(\u001b[0m\u001b[0mdf_plot\u001b[0m\u001b[0;34m[\u001b[0m\u001b[0;34m'unit_name'\u001b[0m\u001b[0;34m]\u001b[0m \u001b[0;34m==\u001b[0m \u001b[0munit\u001b[0m\u001b[0;34m)\u001b[0m \u001b[0;34m&\u001b[0m \u001b[0;34m(\u001b[0m\u001b[0mdf_plot\u001b[0m\u001b[0;34m[\u001b[0m\u001b[0;34m'Cycle'\u001b[0m\u001b[0;34m]\u001b[0m \u001b[0;34m==\u001b[0m \u001b[0mcycle\u001b[0m\u001b[0;34m)\u001b[0m \u001b[0;34m&\u001b[0m \u001b[0;34m(\u001b[0m\u001b[0mdf_plot\u001b[0m\u001b[0;34m[\u001b[0m\u001b[0;34m'mode'\u001b[0m\u001b[0;34m]\u001b[0m \u001b[0;34m==\u001b[0m \u001b[0mmode\u001b[0m\u001b[0;34m)\u001b[0m\u001b[0;34m]\u001b[0m\u001b[0;34m[\u001b[0m\u001b[0mfeature\u001b[0m\u001b[0;34m]\u001b[0m\u001b[0;34m\u001b[0m\u001b[0;34m\u001b[0m\u001b[0m\n\u001b[1;32m     16\u001b[0m   \u001b[0max\u001b[0m\u001b[0;34m.\u001b[0m\u001b[0mplot\u001b[0m\u001b[0;34m(\u001b[0m\u001b[0mplot_x\u001b[0m\u001b[0;34m,\u001b[0m \u001b[0mplot_y\u001b[0m\u001b[0;34m,\u001b[0m \u001b[0mlabel\u001b[0m\u001b[0;34m=\u001b[0m \u001b[0;34mf'{unit}__{feature}__{cycle}Cycle'\u001b[0m\u001b[0;34m)\u001b[0m\u001b[0;34m\u001b[0m\u001b[0;34m\u001b[0m\u001b[0m\n",
            "\u001b[0;31mNameError\u001b[0m: name 'unit' is not defined"
          ]
        },
        {
          "output_type": "display_data",
          "data": {
            "image/png": "[encoded data removed]",
            "text/plain": [
              "<Figure size 1440x720 with 1 Axes>"
            ]
          },
          "metadata": {
            "needs_background": "light"
          }
        }
      ]
    },
    {
      "cell_type": "code",
      "metadata": {
        "colab": {
          "base_uri": "https://localhost:8080/"
        },
        "id": "74ULukR61xeM",
        "outputId": "730395c5-84ef-4834-e274-7ab9f403ae1d"
      },
      "source": [
        "#外れ値探索\n",
        "feature = 'CC'\n",
        "mode = 'Charge'\n",
        "\n",
        "#最大\n",
        "#outlier_idx = df_unit_1[feature].argmax()\n",
        "#最小\n",
        "outlier_idx = df_unit_1[feature].argmin()\n",
        "\n",
        "df_unit_1.iloc[outlier_idx,]"
      ],
      "execution_count": 10,
      "outputs": [
        {
          "output_type": "execute_result",
          "data": {
            "text/plain": [
              "Time                2.531\n",
              "VM                 3.8194\n",
              "VC                  1.668\n",
              "CM                -4.4797\n",
              "CC                 -4.468\n",
              "Temp               23.892\n",
              "unit_name    Train_Unit_1\n",
              "mode               Charge\n",
              "Cycle                  32\n",
              "VL                    NaN\n",
              "CL                    NaN\n",
              "Name: 34407, dtype: object"
            ]
          },
          "metadata": {},
          "execution_count": 10
        }
      ]
    },
    {
      "cell_type": "markdown",
      "metadata": {
        "id": "MthvkDPB6d9m"
      },
      "source": [
        "元データから、32Cycleのデータは削除しておく。"
      ]
    },
    {
      "cell_type": "code",
      "metadata": {
        "id": "2VSsfo4q6dQo"
      },
      "source": [
        "#32サイクル目を除去。(=Cycle=32でないもののみ、抜き出し。)\n",
        "df_unit_1 = df_unit_1[df_unit_1['Cycle'] !=32]"
      ],
      "execution_count": 11,
      "outputs": []
    },
    {
      "cell_type": "code",
      "metadata": {
        "colab": {
          "base_uri": "https://localhost:8080/",
          "height": 206
        },
        "id": "FNzpJl-S2SDI",
        "outputId": "9f107b0a-6067-45ca-dcd6-a033ce751b92"
      },
      "source": [
        "df_unit_1.head()"
      ],
      "execution_count": 12,
      "outputs": [
        {
          "output_type": "execute_result",
          "data": {
            "text/html": [
              "<div>\n",
              "<style scoped>\n",
              "    .dataframe tbody tr th:only-of-type {\n",
              "        vertical-align: middle;\n",
              "    }\n",
              "\n",
              "    .dataframe tbody tr th {\n",
              "        vertical-align: top;\n",
              "    }\n",
              "\n",
              "    .dataframe thead th {\n",
              "        text-align: right;\n",
              "    }\n",
              "</style>\n",
              "<table border=\"1\" class=\"dataframe\">\n",
              "  <thead>\n",
              "    <tr style=\"text-align: right;\">\n",
              "      <th></th>\n",
              "      <th>Time</th>\n",
              "      <th>VM</th>\n",
              "      <th>VC</th>\n",
              "      <th>CM</th>\n",
              "      <th>CC</th>\n",
              "      <th>Temp</th>\n",
              "      <th>unit_name</th>\n",
              "      <th>mode</th>\n",
              "      <th>Cycle</th>\n",
              "      <th>VL</th>\n",
              "      <th>CL</th>\n",
              "    </tr>\n",
              "  </thead>\n",
              "  <tbody>\n",
              "    <tr>\n",
              "      <th>0</th>\n",
              "      <td>0.000</td>\n",
              "      <td>3.3251</td>\n",
              "      <td>0.003</td>\n",
              "      <td>0.000302</td>\n",
              "      <td>-0.002</td>\n",
              "      <td>29.342</td>\n",
              "      <td>Train_Unit_1</td>\n",
              "      <td>Charge</td>\n",
              "      <td>1</td>\n",
              "      <td>NaN</td>\n",
              "      <td>NaN</td>\n",
              "    </tr>\n",
              "    <tr>\n",
              "      <th>1</th>\n",
              "      <td>2.516</td>\n",
              "      <td>3.0020</td>\n",
              "      <td>1.414</td>\n",
              "      <td>-3.362000</td>\n",
              "      <td>-3.370</td>\n",
              "      <td>29.336</td>\n",
              "      <td>Train_Unit_1</td>\n",
              "      <td>Charge</td>\n",
              "      <td>1</td>\n",
              "      <td>NaN</td>\n",
              "      <td>NaN</td>\n",
              "    </tr>\n",
              "    <tr>\n",
              "      <th>2</th>\n",
              "      <td>5.500</td>\n",
              "      <td>3.4346</td>\n",
              "      <td>4.142</td>\n",
              "      <td>1.508700</td>\n",
              "      <td>1.498</td>\n",
              "      <td>29.335</td>\n",
              "      <td>Train_Unit_1</td>\n",
              "      <td>Charge</td>\n",
              "      <td>1</td>\n",
              "      <td>NaN</td>\n",
              "      <td>NaN</td>\n",
              "    </tr>\n",
              "    <tr>\n",
              "      <th>3</th>\n",
              "      <td>8.391</td>\n",
              "      <td>3.4549</td>\n",
              "      <td>4.180</td>\n",
              "      <td>1.510000</td>\n",
              "      <td>1.498</td>\n",
              "      <td>29.342</td>\n",
              "      <td>Train_Unit_1</td>\n",
              "      <td>Charge</td>\n",
              "      <td>1</td>\n",
              "      <td>NaN</td>\n",
              "      <td>NaN</td>\n",
              "    </tr>\n",
              "    <tr>\n",
              "      <th>4</th>\n",
              "      <td>11.266</td>\n",
              "      <td>3.4688</td>\n",
              "      <td>4.196</td>\n",
              "      <td>1.508700</td>\n",
              "      <td>1.498</td>\n",
              "      <td>29.331</td>\n",
              "      <td>Train_Unit_1</td>\n",
              "      <td>Charge</td>\n",
              "      <td>1</td>\n",
              "      <td>NaN</td>\n",
              "      <td>NaN</td>\n",
              "    </tr>\n",
              "  </tbody>\n",
              "</table>\n",
              "</div>"
            ],
            "text/plain": [
              "     Time      VM     VC        CM     CC  ...     unit_name    mode Cycle  VL  CL\n",
              "0   0.000  3.3251  0.003  0.000302 -0.002  ...  Train_Unit_1  Charge     1 NaN NaN\n",
              "1   2.516  3.0020  1.414 -3.362000 -3.370  ...  Train_Unit_1  Charge     1 NaN NaN\n",
              "2   5.500  3.4346  4.142  1.508700  1.498  ...  Train_Unit_1  Charge     1 NaN NaN\n",
              "3   8.391  3.4549  4.180  1.510000  1.498  ...  Train_Unit_1  Charge     1 NaN NaN\n",
              "4  11.266  3.4688  4.196  1.508700  1.498  ...  Train_Unit_1  Charge     1 NaN NaN\n",
              "\n",
              "[5 rows x 11 columns]"
            ]
          },
          "metadata": {},
          "execution_count": 12
        }
      ]
    },
    {
      "cell_type": "markdown",
      "metadata": {
        "id": "uQaO_fNW8m9o"
      },
      "source": [
        "# 辞書学習による特徴量の抽出"
      ]
    },
    {
      "cell_type": "markdown",
      "metadata": {
        "id": "YgQ3XjTl9ErJ"
      },
      "source": [
        "50秒間に抜き出す(統計量)データセットを作成  \n",
        "⇒1サイクルあたり、11000/50 = 220コ×124Cycleのかたまりができるイメージ。  \n",
        "\n",
        "※インターバルが小さすぎるとピボットテーブル化した時にNaNが出る。  \n",
        "削除で対処するが、削られる欠測の数で調整が必要。"
      ]
    },
    {
      "cell_type": "code",
      "metadata": {
        "id": "EC6-9YNM-N2N"
      },
      "source": [
        "df_unit_1_C = df_unit_1[df_unit_1['mode'] == 'Charge']\n",
        "df_unit_1_D = df_unit_1[df_unit_1['mode'] == 'Discharge']"
      ],
      "execution_count": 13,
      "outputs": []
    },
    {
      "cell_type": "code",
      "metadata": {
        "id": "oQQnLtMT8mdJ"
      },
      "source": [
        "#関数化：グループIDを付与する。\n",
        "def add_group(max_value, df, interval):\n",
        "  group_list = []\n",
        "  for i in np.arange(1, max_value/interval):\n",
        "      lower = interval*i-interval\n",
        "      upper = interval*i\n",
        "      tmp_df = df[ (lower < df['Time']) & (upper > df['Time'])]\n",
        "      tmp_df['group_id'] = f'{lower} -- {upper}'\n",
        "      group_list.append(tmp_df)\n",
        "  df_add_group = pd.concat(group_list)\n",
        "  return df_add_group"
      ],
      "execution_count": 14,
      "outputs": []
    },
    {
      "cell_type": "code",
      "metadata": {
        "colab": {
          "base_uri": "https://localhost:8080/",
          "height": 206
        },
        "id": "3X4ok6Om8kAW",
        "outputId": "9d9b45a6-e979-443d-88f6-b689280ab954"
      },
      "source": [
        "#インターバルは50sec。\n",
        "grouped_unit_1_C = add_group(11000, df_unit_1_C, interval=50)\n",
        "grouped_unit_1_C = grouped_unit_1_C.reset_index(drop=True)\n",
        "grouped_unit_1_C.head()"
      ],
      "execution_count": 15,
      "outputs": [
        {
          "output_type": "execute_result",
          "data": {
            "text/html": [
              "<div>\n",
              "<style scoped>\n",
              "    .dataframe tbody tr th:only-of-type {\n",
              "        vertical-align: middle;\n",
              "    }\n",
              "\n",
              "    .dataframe tbody tr th {\n",
              "        vertical-align: top;\n",
              "    }\n",
              "\n",
              "    .dataframe thead th {\n",
              "        text-align: right;\n",
              "    }\n",
              "</style>\n",
              "<table border=\"1\" class=\"dataframe\">\n",
              "  <thead>\n",
              "    <tr style=\"text-align: right;\">\n",
              "      <th></th>\n",
              "      <th>Time</th>\n",
              "      <th>VM</th>\n",
              "      <th>VC</th>\n",
              "      <th>CM</th>\n",
              "      <th>CC</th>\n",
              "      <th>Temp</th>\n",
              "      <th>unit_name</th>\n",
              "      <th>mode</th>\n",
              "      <th>Cycle</th>\n",
              "      <th>VL</th>\n",
              "      <th>CL</th>\n",
              "      <th>group_id</th>\n",
              "    </tr>\n",
              "  </thead>\n",
              "  <tbody>\n",
              "    <tr>\n",
              "      <th>0</th>\n",
              "      <td>2.516</td>\n",
              "      <td>3.0020</td>\n",
              "      <td>1.414</td>\n",
              "      <td>-3.3620</td>\n",
              "      <td>-3.370</td>\n",
              "      <td>29.336</td>\n",
              "      <td>Train_Unit_1</td>\n",
              "      <td>Charge</td>\n",
              "      <td>1</td>\n",
              "      <td>NaN</td>\n",
              "      <td>NaN</td>\n",
              "      <td>0.0 -- 50.0</td>\n",
              "    </tr>\n",
              "    <tr>\n",
              "      <th>1</th>\n",
              "      <td>5.500</td>\n",
              "      <td>3.4346</td>\n",
              "      <td>4.142</td>\n",
              "      <td>1.5087</td>\n",
              "      <td>1.498</td>\n",
              "      <td>29.335</td>\n",
              "      <td>Train_Unit_1</td>\n",
              "      <td>Charge</td>\n",
              "      <td>1</td>\n",
              "      <td>NaN</td>\n",
              "      <td>NaN</td>\n",
              "      <td>0.0 -- 50.0</td>\n",
              "    </tr>\n",
              "    <tr>\n",
              "      <th>2</th>\n",
              "      <td>8.391</td>\n",
              "      <td>3.4549</td>\n",
              "      <td>4.180</td>\n",
              "      <td>1.5100</td>\n",
              "      <td>1.498</td>\n",
              "      <td>29.342</td>\n",
              "      <td>Train_Unit_1</td>\n",
              "      <td>Charge</td>\n",
              "      <td>1</td>\n",
              "      <td>NaN</td>\n",
              "      <td>NaN</td>\n",
              "      <td>0.0 -- 50.0</td>\n",
              "    </tr>\n",
              "    <tr>\n",
              "      <th>3</th>\n",
              "      <td>11.266</td>\n",
              "      <td>3.4688</td>\n",
              "      <td>4.196</td>\n",
              "      <td>1.5087</td>\n",
              "      <td>1.498</td>\n",
              "      <td>29.331</td>\n",
              "      <td>Train_Unit_1</td>\n",
              "      <td>Charge</td>\n",
              "      <td>1</td>\n",
              "      <td>NaN</td>\n",
              "      <td>NaN</td>\n",
              "      <td>0.0 -- 50.0</td>\n",
              "    </tr>\n",
              "    <tr>\n",
              "      <th>4</th>\n",
              "      <td>14.141</td>\n",
              "      <td>3.4810</td>\n",
              "      <td>4.207</td>\n",
              "      <td>1.5116</td>\n",
              "      <td>1.500</td>\n",
              "      <td>29.323</td>\n",
              "      <td>Train_Unit_1</td>\n",
              "      <td>Charge</td>\n",
              "      <td>1</td>\n",
              "      <td>NaN</td>\n",
              "      <td>NaN</td>\n",
              "      <td>0.0 -- 50.0</td>\n",
              "    </tr>\n",
              "  </tbody>\n",
              "</table>\n",
              "</div>"
            ],
            "text/plain": [
              "     Time      VM     VC      CM     CC  ...    mode Cycle  VL  CL     group_id\n",
              "0   2.516  3.0020  1.414 -3.3620 -3.370  ...  Charge     1 NaN NaN  0.0 -- 50.0\n",
              "1   5.500  3.4346  4.142  1.5087  1.498  ...  Charge     1 NaN NaN  0.0 -- 50.0\n",
              "2   8.391  3.4549  4.180  1.5100  1.498  ...  Charge     1 NaN NaN  0.0 -- 50.0\n",
              "3  11.266  3.4688  4.196  1.5087  1.498  ...  Charge     1 NaN NaN  0.0 -- 50.0\n",
              "4  14.141  3.4810  4.207  1.5116  1.500  ...  Charge     1 NaN NaN  0.0 -- 50.0\n",
              "\n",
              "[5 rows x 12 columns]"
            ]
          },
          "metadata": {},
          "execution_count": 15
        }
      ]
    },
    {
      "cell_type": "code",
      "metadata": {
        "id": "Kw58o7nQ-IUj"
      },
      "source": [
        "#サイクル、グループID毎にグループ化し、平均値をとる。\n",
        "grouped_unit_1_C_mean = grouped_unit_1_C.groupby(['Cycle', 'group_id']).mean().sort_values(['Cycle','Time'])"
      ],
      "execution_count": 16,
      "outputs": []
    },
    {
      "cell_type": "code",
      "metadata": {
        "colab": {
          "base_uri": "https://localhost:8080/"
        },
        "id": "40ZANZCQ_Vrr",
        "outputId": "37b84680-97a7-4223-bffe-c0c3d656ea5d"
      },
      "source": [
        "#欠測値の確認。この状態だと基本なし。\n",
        "grouped_unit_1_C_mean.isnull().sum()"
      ],
      "execution_count": 17,
      "outputs": [
        {
          "output_type": "execute_result",
          "data": {
            "text/plain": [
              "Time        0\n",
              "VM          0\n",
              "VC          0\n",
              "CM          0\n",
              "CC          0\n",
              "Temp        0\n",
              "VL      25817\n",
              "CL      25817\n",
              "dtype: int64"
            ]
          },
          "metadata": {},
          "execution_count": 17
        }
      ]
    },
    {
      "cell_type": "code",
      "metadata": {
        "colab": {
          "base_uri": "https://localhost:8080/"
        },
        "id": "fR-9f0mr-_Cf",
        "outputId": "344569b0-b40d-4bf1-be55-24bd92aa5ca1"
      },
      "source": [
        "#ピボットテーブルを作成(VM)\n",
        "pt_VM = pd.pivot_table(grouped_unit_1_C_mean, index='group_id', columns='Cycle', values='VM')\n",
        "#欠測値は削除。\n",
        "pt_VM = pt_VM.dropna()\n",
        "pt_VM.isnull().sum()\n",
        "pt_VM.shape"
      ],
      "execution_count": 18,
      "outputs": [
        {
          "output_type": "execute_result",
          "data": {
            "text/plain": [
              "(192, 123)"
            ]
          },
          "metadata": {},
          "execution_count": 18
        }
      ]
    },
    {
      "cell_type": "code",
      "metadata": {
        "id": "G_Q8yMsyA-38"
      },
      "source": [
        "from sklearn.decomposition import DictionaryLearning"
      ],
      "execution_count": 19,
      "outputs": []
    },
    {
      "cell_type": "code",
      "metadata": {
        "id": "bRYtGWEP_LG4"
      },
      "source": [
        "X_VM = np.asarray(pt_VM.values)\n",
        "X_train = X_VM"
      ],
      "execution_count": 20,
      "outputs": []
    },
    {
      "cell_type": "code",
      "metadata": {
        "id": "KAXAiNJXA0DZ"
      },
      "source": [
        "n_components = 10\n",
        "dict_learner = DictionaryLearning(\n",
        "    n_components=n_components,\n",
        "    fit_algorithm='cd',\n",
        "    transform_algorithm = 'lasso_lars',\n",
        "    random_state = 42,\n",
        "    positive_code = True,\n",
        "    positive_dict = True,\n",
        "    alpha = 1\n",
        ")"
      ],
      "execution_count": 21,
      "outputs": []
    },
    {
      "cell_type": "code",
      "metadata": {
        "id": "XcPha6koA4sP"
      },
      "source": [
        "X_train_transformed = dict_learner.fit_transform(X_train)"
      ],
      "execution_count": 22,
      "outputs": []
    },
    {
      "cell_type": "code",
      "metadata": {
        "colab": {
          "base_uri": "https://localhost:8080/"
        },
        "id": "Pb0tDLMUBIQH",
        "outputId": "27ba98f1-394c-41fd-8510-b96b88e6d621"
      },
      "source": [
        "time_range = np.arange(dict_learner.components_.shape[1])\n",
        "time_range"
      ],
      "execution_count": 23,
      "outputs": [
        {
          "output_type": "execute_result",
          "data": {
            "text/plain": [
              "array([  0,   1,   2,   3,   4,   5,   6,   7,   8,   9,  10,  11,  12,\n",
              "        13,  14,  15,  16,  17,  18,  19,  20,  21,  22,  23,  24,  25,\n",
              "        26,  27,  28,  29,  30,  31,  32,  33,  34,  35,  36,  37,  38,\n",
              "        39,  40,  41,  42,  43,  44,  45,  46,  47,  48,  49,  50,  51,\n",
              "        52,  53,  54,  55,  56,  57,  58,  59,  60,  61,  62,  63,  64,\n",
              "        65,  66,  67,  68,  69,  70,  71,  72,  73,  74,  75,  76,  77,\n",
              "        78,  79,  80,  81,  82,  83,  84,  85,  86,  87,  88,  89,  90,\n",
              "        91,  92,  93,  94,  95,  96,  97,  98,  99, 100, 101, 102, 103,\n",
              "       104, 105, 106, 107, 108, 109, 110, 111, 112, 113, 114, 115, 116,\n",
              "       117, 118, 119, 120, 121, 122])"
            ]
          },
          "metadata": {},
          "execution_count": 23
        }
      ]
    },
    {
      "cell_type": "code",
      "metadata": {
        "colab": {
          "base_uri": "https://localhost:8080/",
          "height": 1000
        },
        "id": "Pyn4hbYLFhzj",
        "outputId": "9c0db06f-ef15-4f12-9a11-0fe704ce31c8"
      },
      "source": [
        "for i in range(n_components):\n",
        "  fig, ax = plt.subplots()\n",
        "  ax.plot(time_range, dict_learner.components_[i])\n",
        "  ax.set_title(f'Dict Component {i}')\n",
        "  ax.set_xlabel('Cycle')\n",
        "  ax.set_ylabel('Dict')\n",
        "  #plt.legend()\n",
        "  plt.show()\n",
        "  "
      ],
      "execution_count": 24,
      "outputs": [
        {
          "output_type": "display_data",
          "data": {
            "image/png": "[encoded data removed]",
            "text/plain": [
              "<Figure size 432x288 with 1 Axes>"
            ]
          },
          "metadata": {
            "needs_background": "light"
          }
        },
        {
          "output_type": "display_data",
          "data": {
            "image/png": "[encoded data removed]",
            "text/plain": [
              "<Figure size 432x288 with 1 Axes>"
            ]
          },
          "metadata": {
            "needs_background": "light"
          }
        },
        {
          "output_type": "display_data",
          "data": {
            "image/png": "[encoded data removed]",
            "text/plain": [
              "<Figure size 432x288 with 1 Axes>"
            ]
          },
          "metadata": {
            "needs_background": "light"
          }
        },
        {
          "output_type": "display_data",
          "data": {
            "image/png": "[encoded data removed]",
            "text/plain": [
              "<Figure size 432x288 with 1 Axes>"
            ]
          },
          "metadata": {
            "needs_background": "light"
          }
        },
        {
          "output_type": "display_data",
          "data": {
            "image/png": "[encoded data removed]",
            "text/plain": [
              "<Figure size 432x288 with 1 Axes>"
            ]
          },
          "metadata": {
            "needs_background": "light"
          }
        },
        {
          "output_type": "display_data",
          "data": {
            "image/png": "[encoded data removed]",
            "text/plain": [
              "<Figure size 432x288 with 1 Axes>"
            ]
          },
          "metadata": {
            "needs_background": "light"
          }
        },
        {
          "output_type": "display_data",
          "data": {
            "image/png": "[encoded data removed]",
            "text/plain": [
              "<Figure size 432x288 with 1 Axes>"
            ]
          },
          "metadata": {
            "needs_background": "light"
          }
        },
        {
          "output_type": "display_data",
          "data": {
            "image/png": "[encoded data removed]",
            "text/plain": [
              "<Figure size 432x288 with 1 Axes>"
            ]
          },
          "metadata": {
            "needs_background": "light"
          }
        },
        {
          "output_type": "display_data",
          "data": {
            "image/png": "[encoded data removed]",
            "text/plain": [
              "<Figure size 432x288 with 1 Axes>"
            ]
          },
          "metadata": {
            "needs_background": "light"
          }
        },
        {
          "output_type": "display_data",
          "data": {
            "image/png": "[encoded data removed]",
            "text/plain": [
              "<Figure size 432x288 with 1 Axes>"
            ]
          },
          "metadata": {
            "needs_background": "light"
          }
        }
      ]
    },
    {
      "cell_type": "code",
      "metadata": {
        "colab": {
          "base_uri": "https://localhost:8080/"
        },
        "id": "A8PIkNJ8FkuO",
        "outputId": "27d0c555-25e8-4a1c-f15c-3d2e9c239f3c"
      },
      "source": [
        "#データフレームに残す。\n",
        "dict_a = dict_learner.components_.T\n",
        "dict_a"
      ],
      "execution_count": 25,
      "outputs": [
        {
          "output_type": "execute_result",
          "data": {
            "text/plain": [
              "array([[0.09042595, 0.15240638, 0.06167356, ..., 0.08965007, 0.08961563,\n",
              "        0.09322786],\n",
              "       [0.09043553, 0.10838037, 0.        , ..., 0.08979321, 0.08950999,\n",
              "        0.2222426 ],\n",
              "       [0.09043746, 0.        , 0.07661921, ..., 0.08992023, 0.08944525,\n",
              "        0.0369318 ],\n",
              "       ...,\n",
              "       [0.08983539, 0.05726045, 0.19708235, ..., 0.0894021 , 0.09153047,\n",
              "        0.        ],\n",
              "       [0.08983358, 0.08861996, 0.        , ..., 0.08930387, 0.09163478,\n",
              "        0.        ],\n",
              "       [0.08983632, 0.09646561, 0.12986969, ..., 0.08924529, 0.09169403,\n",
              "        0.        ]])"
            ]
          },
          "metadata": {},
          "execution_count": 25
        }
      ]
    },
    {
      "cell_type": "code",
      "metadata": {
        "id": "jM_DetpnMZC-"
      },
      "source": [
        "cols = []\n",
        "for i in np.arange(0, 10):\n",
        "  col = f'Component_{i}'\n",
        "  cols.append(col)"
      ],
      "execution_count": 42,
      "outputs": []
    },
    {
      "cell_type": "code",
      "metadata": {
        "colab": {
          "base_uri": "https://localhost:8080/"
        },
        "id": "iQYwuqT6NHI-",
        "outputId": "51ad9707-2368-40f4-e324-f5a6d778901f"
      },
      "source": [
        "cols"
      ],
      "execution_count": 43,
      "outputs": [
        {
          "output_type": "execute_result",
          "data": {
            "text/plain": [
              "['Component_0',\n",
              " 'Component_1',\n",
              " 'Component_2',\n",
              " 'Component_3',\n",
              " 'Component_4',\n",
              " 'Component_5',\n",
              " 'Component_6',\n",
              " 'Component_7',\n",
              " 'Component_8',\n",
              " 'Component_9']"
            ]
          },
          "metadata": {},
          "execution_count": 43
        }
      ]
    },
    {
      "cell_type": "code",
      "metadata": {
        "id": "utogP0iLGEG5"
      },
      "source": [
        "df_dict_VM = pd.DataFrame(dict_a, columns=cols)"
      ],
      "execution_count": 44,
      "outputs": []
    },
    {
      "cell_type": "code",
      "metadata": {
        "colab": {
          "base_uri": "https://localhost:8080/",
          "height": 424
        },
        "id": "bWwk8q77G8bo",
        "outputId": "33db71a9-49cd-43be-a80b-307d1f8bbb53"
      },
      "source": [
        "df_dict_VM"
      ],
      "execution_count": 45,
      "outputs": [
        {
          "output_type": "execute_result",
          "data": {
            "text/html": [
              "<div>\n",
              "<style scoped>\n",
              "    .dataframe tbody tr th:only-of-type {\n",
              "        vertical-align: middle;\n",
              "    }\n",
              "\n",
              "    .dataframe tbody tr th {\n",
              "        vertical-align: top;\n",
              "    }\n",
              "\n",
              "    .dataframe thead th {\n",
              "        text-align: right;\n",
              "    }\n",
              "</style>\n",
              "<table border=\"1\" class=\"dataframe\">\n",
              "  <thead>\n",
              "    <tr style=\"text-align: right;\">\n",
              "      <th></th>\n",
              "      <th>Component_0</th>\n",
              "      <th>Component_1</th>\n",
              "      <th>Component_2</th>\n",
              "      <th>Component_3</th>\n",
              "      <th>Component_4</th>\n",
              "      <th>Component_5</th>\n",
              "      <th>Component_6</th>\n",
              "      <th>Component_7</th>\n",
              "      <th>Component_8</th>\n",
              "      <th>Component_9</th>\n",
              "    </tr>\n",
              "  </thead>\n",
              "  <tbody>\n",
              "    <tr>\n",
              "      <th>0</th>\n",
              "      <td>0.090426</td>\n",
              "      <td>0.152406</td>\n",
              "      <td>0.061674</td>\n",
              "      <td>0.000000</td>\n",
              "      <td>0.083775</td>\n",
              "      <td>0.091097</td>\n",
              "      <td>0.089686</td>\n",
              "      <td>0.089650</td>\n",
              "      <td>0.089616</td>\n",
              "      <td>0.093228</td>\n",
              "    </tr>\n",
              "    <tr>\n",
              "      <th>1</th>\n",
              "      <td>0.090436</td>\n",
              "      <td>0.108380</td>\n",
              "      <td>0.000000</td>\n",
              "      <td>0.000000</td>\n",
              "      <td>0.084171</td>\n",
              "      <td>0.091240</td>\n",
              "      <td>0.089411</td>\n",
              "      <td>0.089793</td>\n",
              "      <td>0.089510</td>\n",
              "      <td>0.222243</td>\n",
              "    </tr>\n",
              "    <tr>\n",
              "      <th>2</th>\n",
              "      <td>0.090437</td>\n",
              "      <td>0.000000</td>\n",
              "      <td>0.076619</td>\n",
              "      <td>0.066920</td>\n",
              "      <td>0.084650</td>\n",
              "      <td>0.091291</td>\n",
              "      <td>0.089236</td>\n",
              "      <td>0.089920</td>\n",
              "      <td>0.089445</td>\n",
              "      <td>0.036932</td>\n",
              "    </tr>\n",
              "    <tr>\n",
              "      <th>3</th>\n",
              "      <td>0.090440</td>\n",
              "      <td>0.000000</td>\n",
              "      <td>0.000000</td>\n",
              "      <td>0.000000</td>\n",
              "      <td>0.084496</td>\n",
              "      <td>0.091337</td>\n",
              "      <td>0.089227</td>\n",
              "      <td>0.089904</td>\n",
              "      <td>0.089442</td>\n",
              "      <td>0.059181</td>\n",
              "    </tr>\n",
              "    <tr>\n",
              "      <th>4</th>\n",
              "      <td>0.090441</td>\n",
              "      <td>0.000000</td>\n",
              "      <td>0.000000</td>\n",
              "      <td>0.141081</td>\n",
              "      <td>0.084346</td>\n",
              "      <td>0.091360</td>\n",
              "      <td>0.089235</td>\n",
              "      <td>0.089880</td>\n",
              "      <td>0.089443</td>\n",
              "      <td>0.000000</td>\n",
              "    </tr>\n",
              "    <tr>\n",
              "      <th>...</th>\n",
              "      <td>...</td>\n",
              "      <td>...</td>\n",
              "      <td>...</td>\n",
              "      <td>...</td>\n",
              "      <td>...</td>\n",
              "      <td>...</td>\n",
              "      <td>...</td>\n",
              "      <td>...</td>\n",
              "      <td>...</td>\n",
              "      <td>...</td>\n",
              "    </tr>\n",
              "    <tr>\n",
              "      <th>118</th>\n",
              "      <td>0.089832</td>\n",
              "      <td>0.000000</td>\n",
              "      <td>0.118829</td>\n",
              "      <td>0.092309</td>\n",
              "      <td>0.094150</td>\n",
              "      <td>0.088619</td>\n",
              "      <td>0.092547</td>\n",
              "      <td>0.089262</td>\n",
              "      <td>0.091677</td>\n",
              "      <td>0.000000</td>\n",
              "    </tr>\n",
              "    <tr>\n",
              "      <th>119</th>\n",
              "      <td>0.089843</td>\n",
              "      <td>0.000000</td>\n",
              "      <td>0.000000</td>\n",
              "      <td>0.000000</td>\n",
              "      <td>0.094128</td>\n",
              "      <td>0.088710</td>\n",
              "      <td>0.092296</td>\n",
              "      <td>0.089456</td>\n",
              "      <td>0.091523</td>\n",
              "      <td>0.000000</td>\n",
              "    </tr>\n",
              "    <tr>\n",
              "      <th>120</th>\n",
              "      <td>0.089835</td>\n",
              "      <td>0.057260</td>\n",
              "      <td>0.197082</td>\n",
              "      <td>0.134645</td>\n",
              "      <td>0.093922</td>\n",
              "      <td>0.088869</td>\n",
              "      <td>0.092252</td>\n",
              "      <td>0.089402</td>\n",
              "      <td>0.091530</td>\n",
              "      <td>0.000000</td>\n",
              "    </tr>\n",
              "    <tr>\n",
              "      <th>121</th>\n",
              "      <td>0.089834</td>\n",
              "      <td>0.088620</td>\n",
              "      <td>0.000000</td>\n",
              "      <td>0.000000</td>\n",
              "      <td>0.094108</td>\n",
              "      <td>0.088674</td>\n",
              "      <td>0.092466</td>\n",
              "      <td>0.089304</td>\n",
              "      <td>0.091635</td>\n",
              "      <td>0.000000</td>\n",
              "    </tr>\n",
              "    <tr>\n",
              "      <th>122</th>\n",
              "      <td>0.089836</td>\n",
              "      <td>0.096466</td>\n",
              "      <td>0.129870</td>\n",
              "      <td>0.029287</td>\n",
              "      <td>0.094206</td>\n",
              "      <td>0.088552</td>\n",
              "      <td>0.092594</td>\n",
              "      <td>0.089245</td>\n",
              "      <td>0.091694</td>\n",
              "      <td>0.000000</td>\n",
              "    </tr>\n",
              "  </tbody>\n",
              "</table>\n",
              "<p>123 rows × 10 columns</p>\n",
              "</div>"
            ],
            "text/plain": [
              "     Component_0  Component_1  ...  Component_8  Component_9\n",
              "0       0.090426     0.152406  ...     0.089616     0.093228\n",
              "1       0.090436     0.108380  ...     0.089510     0.222243\n",
              "2       0.090437     0.000000  ...     0.089445     0.036932\n",
              "3       0.090440     0.000000  ...     0.089442     0.059181\n",
              "4       0.090441     0.000000  ...     0.089443     0.000000\n",
              "..           ...          ...  ...          ...          ...\n",
              "118     0.089832     0.000000  ...     0.091677     0.000000\n",
              "119     0.089843     0.000000  ...     0.091523     0.000000\n",
              "120     0.089835     0.057260  ...     0.091530     0.000000\n",
              "121     0.089834     0.088620  ...     0.091635     0.000000\n",
              "122     0.089836     0.096466  ...     0.091694     0.000000\n",
              "\n",
              "[123 rows x 10 columns]"
            ]
          },
          "metadata": {},
          "execution_count": 45
        }
      ]
    },
    {
      "cell_type": "markdown",
      "metadata": {
        "id": "mjpTV5TAJjnu"
      },
      "source": [
        "連続処理"
      ]
    },
    {
      "cell_type": "code",
      "metadata": {
        "colab": {
          "base_uri": "https://localhost:8080/"
        },
        "id": "sv_FvGtYKeCo",
        "outputId": "feab10b6-4c38-44fd-b086-8eac974d64a7"
      },
      "source": [
        "grouped_unit_1_C_mean.columns"
      ],
      "execution_count": 28,
      "outputs": [
        {
          "output_type": "execute_result",
          "data": {
            "text/plain": [
              "Index(['Time', 'VM', 'VC', 'CM', 'CC', 'Temp', 'VL', 'CL'], dtype='object')"
            ]
          },
          "metadata": {},
          "execution_count": 28
        }
      ]
    },
    {
      "cell_type": "code",
      "metadata": {
        "colab": {
          "base_uri": "https://localhost:8080/"
        },
        "id": "7uDSGg1MJjBf",
        "outputId": "711b00f0-dae6-41a4-82b3-8451a865c24b"
      },
      "source": [
        "#対象カラムリスト\n",
        "col_charge = grouped_unit_1_C_mean.columns[2:6]\n",
        "col_charge"
      ],
      "execution_count": 29,
      "outputs": [
        {
          "output_type": "execute_result",
          "data": {
            "text/plain": [
              "Index(['VC', 'CM', 'CC', 'Temp'], dtype='object')"
            ]
          },
          "metadata": {},
          "execution_count": 29
        }
      ]
    },
    {
      "cell_type": "code",
      "metadata": {
        "id": "6_7aB-drJIhj"
      },
      "source": [
        "#base_df = grouped_unit_1_C_mean\n",
        "#col = 'VC'\n",
        "#mode = 'C'\n",
        "\n",
        "def components_to_DF(base_df, col, mode):\n",
        "  #ピボットテーブルを作成\n",
        "  pt = pd.pivot_table(base_df, index='group_id', columns='Cycle', values=col)\n",
        "  #欠測値は削除。\n",
        "  pt = pt.dropna()\n",
        "\n",
        "  X = np.asarray(pt.values)\n",
        "  X_train = X\n",
        "\n",
        "  n_components = 10\n",
        "  dict_learner = DictionaryLearning(\n",
        "        n_components=n_components,\n",
        "        fit_algorithm='cd',\n",
        "        transform_algorithm = 'lasso_lars',\n",
        "        random_state = 42,\n",
        "        positive_code = True,\n",
        "        positive_dict = True,\n",
        "        alpha = 1\n",
        "    )\n",
        "\n",
        "  X_train_transformed = dict_learner.fit_transform(X_train)\n",
        "\n",
        "  cols = []\n",
        "  for i in np.arange(0, 10):\n",
        "    c = f'Component_{i}_{col}_{mode}'\n",
        "    cols.append(c)\n",
        "  \n",
        "  df_dict = pd.DataFrame(dict_learner.components_.T, columns=cols)\n",
        "\n",
        "  return df_dict"
      ],
      "execution_count": 60,
      "outputs": []
    },
    {
      "cell_type": "code",
      "metadata": {
        "id": "0aGf2FzFVqP2"
      },
      "source": [
        "df_dict_VM_c = components_to_DF(grouped_unit_1_C_mean, 'VM', 'C')\n",
        "df_dict_VC_c = components_to_DF(grouped_unit_1_C_mean, 'VC', 'C')\n",
        "df_dict_CM_c = components_to_DF(grouped_unit_1_C_mean, 'CM', 'C')\n",
        "df_dict_CC_c = components_to_DF(grouped_unit_1_C_mean, 'CC', 'C')\n",
        "df_dict_Temp_c = components_to_DF(grouped_unit_1_C_mean, 'Temp', 'C')"
      ],
      "execution_count": 76,
      "outputs": []
    },
    {
      "cell_type": "markdown",
      "metadata": {
        "id": "eNA0QuUpYHZ0"
      },
      "source": [
        "VLのみ処理"
      ]
    },
    {
      "cell_type": "code",
      "metadata": {
        "colab": {
          "base_uri": "https://localhost:8080/",
          "height": 206
        },
        "id": "CTs6bEB2V0eT",
        "outputId": "3d2d3bc1-b2ec-488d-f07a-dbcf3153b61e"
      },
      "source": [
        "#インターバルは50sec。\n",
        "grouped_unit_1_D = add_group(11000, df_unit_1_D, interval=50)\n",
        "grouped_unit_1_D = grouped_unit_1_D.reset_index(drop=True)\n",
        "grouped_unit_1_D.head()"
      ],
      "execution_count": 77,
      "outputs": [
        {
          "output_type": "execute_result",
          "data": {
            "text/html": [
              "<div>\n",
              "<style scoped>\n",
              "    .dataframe tbody tr th:only-of-type {\n",
              "        vertical-align: middle;\n",
              "    }\n",
              "\n",
              "    .dataframe tbody tr th {\n",
              "        vertical-align: top;\n",
              "    }\n",
              "\n",
              "    .dataframe thead th {\n",
              "        text-align: right;\n",
              "    }\n",
              "</style>\n",
              "<table border=\"1\" class=\"dataframe\">\n",
              "  <thead>\n",
              "    <tr style=\"text-align: right;\">\n",
              "      <th></th>\n",
              "      <th>Time</th>\n",
              "      <th>VM</th>\n",
              "      <th>VC</th>\n",
              "      <th>CM</th>\n",
              "      <th>CC</th>\n",
              "      <th>Temp</th>\n",
              "      <th>unit_name</th>\n",
              "      <th>mode</th>\n",
              "      <th>Cycle</th>\n",
              "      <th>VL</th>\n",
              "      <th>CL</th>\n",
              "      <th>group_id</th>\n",
              "    </tr>\n",
              "  </thead>\n",
              "  <tbody>\n",
              "    <tr>\n",
              "      <th>0</th>\n",
              "      <td>16.781</td>\n",
              "      <td>4.1907</td>\n",
              "      <td>NaN</td>\n",
              "      <td>-0.001478</td>\n",
              "      <td>NaN</td>\n",
              "      <td>24.326</td>\n",
              "      <td>Train_Unit_1</td>\n",
              "      <td>Discharge</td>\n",
              "      <td>1</td>\n",
              "      <td>4.206</td>\n",
              "      <td>-0.0006</td>\n",
              "      <td>0.0 -- 50.0</td>\n",
              "    </tr>\n",
              "    <tr>\n",
              "      <th>1</th>\n",
              "      <td>35.703</td>\n",
              "      <td>3.9749</td>\n",
              "      <td>NaN</td>\n",
              "      <td>-2.012500</td>\n",
              "      <td>NaN</td>\n",
              "      <td>24.389</td>\n",
              "      <td>Train_Unit_1</td>\n",
              "      <td>Discharge</td>\n",
              "      <td>1</td>\n",
              "      <td>3.062</td>\n",
              "      <td>-1.9982</td>\n",
              "      <td>0.0 -- 50.0</td>\n",
              "    </tr>\n",
              "    <tr>\n",
              "      <th>2</th>\n",
              "      <td>16.672</td>\n",
              "      <td>4.1889</td>\n",
              "      <td>NaN</td>\n",
              "      <td>-0.000879</td>\n",
              "      <td>NaN</td>\n",
              "      <td>24.686</td>\n",
              "      <td>Train_Unit_1</td>\n",
              "      <td>Discharge</td>\n",
              "      <td>2</td>\n",
              "      <td>4.204</td>\n",
              "      <td>-0.0006</td>\n",
              "      <td>0.0 -- 50.0</td>\n",
              "    </tr>\n",
              "    <tr>\n",
              "      <th>3</th>\n",
              "      <td>35.703</td>\n",
              "      <td>3.9792</td>\n",
              "      <td>NaN</td>\n",
              "      <td>-2.014700</td>\n",
              "      <td>NaN</td>\n",
              "      <td>24.738</td>\n",
              "      <td>Train_Unit_1</td>\n",
              "      <td>Discharge</td>\n",
              "      <td>2</td>\n",
              "      <td>3.056</td>\n",
              "      <td>-1.9984</td>\n",
              "      <td>0.0 -- 50.0</td>\n",
              "    </tr>\n",
              "    <tr>\n",
              "      <th>4</th>\n",
              "      <td>16.797</td>\n",
              "      <td>4.1872</td>\n",
              "      <td>NaN</td>\n",
              "      <td>-0.001792</td>\n",
              "      <td>NaN</td>\n",
              "      <td>24.741</td>\n",
              "      <td>Train_Unit_1</td>\n",
              "      <td>Discharge</td>\n",
              "      <td>3</td>\n",
              "      <td>4.203</td>\n",
              "      <td>-0.0006</td>\n",
              "      <td>0.0 -- 50.0</td>\n",
              "    </tr>\n",
              "  </tbody>\n",
              "</table>\n",
              "</div>"
            ],
            "text/plain": [
              "     Time      VM  VC        CM  ...  Cycle     VL      CL     group_id\n",
              "0  16.781  4.1907 NaN -0.001478  ...      1  4.206 -0.0006  0.0 -- 50.0\n",
              "1  35.703  3.9749 NaN -2.012500  ...      1  3.062 -1.9982  0.0 -- 50.0\n",
              "2  16.672  4.1889 NaN -0.000879  ...      2  4.204 -0.0006  0.0 -- 50.0\n",
              "3  35.703  3.9792 NaN -2.014700  ...      2  3.056 -1.9984  0.0 -- 50.0\n",
              "4  16.797  4.1872 NaN -0.001792  ...      3  4.203 -0.0006  0.0 -- 50.0\n",
              "\n",
              "[5 rows x 12 columns]"
            ]
          },
          "metadata": {},
          "execution_count": 77
        }
      ]
    },
    {
      "cell_type": "code",
      "metadata": {
        "id": "rpg0i_KJV7ux"
      },
      "source": [
        "#サイクル、グループID毎にグループ化し、平均値をとる。\n",
        "grouped_unit_1_D_mean = grouped_unit_1_D.groupby(['Cycle', 'group_id']).mean().sort_values(['Cycle','Time'])"
      ],
      "execution_count": 78,
      "outputs": []
    },
    {
      "cell_type": "code",
      "metadata": {
        "colab": {
          "base_uri": "https://localhost:8080/"
        },
        "id": "1C2Ue6KgY52o",
        "outputId": "7cc05f61-8339-402f-813e-68ab4211edbb"
      },
      "source": [
        "#欠測値の確認。この状態だと基本なし。\n",
        "grouped_unit_1_D_mean.isnull().sum()"
      ],
      "execution_count": 79,
      "outputs": [
        {
          "output_type": "execute_result",
          "data": {
            "text/plain": [
              "Time       0\n",
              "VM         0\n",
              "VC      7387\n",
              "CM         0\n",
              "CC      7387\n",
              "Temp       0\n",
              "VL         0\n",
              "CL         0\n",
              "dtype: int64"
            ]
          },
          "metadata": {},
          "execution_count": 79
        }
      ]
    },
    {
      "cell_type": "code",
      "metadata": {
        "id": "SNTlwfsQY7A2"
      },
      "source": [
        "df_dict_VM_d = components_to_DF(grouped_unit_1_D_mean,'VM', 'D')\n",
        "df_dict_CM_d = components_to_DF(grouped_unit_1_D_mean,'CM', 'D')\n",
        "df_dict_Temp_d = components_to_DF(grouped_unit_1_D_mean,'Temp', 'D')\n",
        "df_dict_VL_d = components_to_DF(grouped_unit_1_D_mean,'VL', 'D')\n",
        "#df_dict_CL_d = components_to_DF(grouped_unit_1_D_mean,'CC')：CLは無し。"
      ],
      "execution_count": 80,
      "outputs": []
    },
    {
      "cell_type": "code",
      "metadata": {
        "colab": {
          "base_uri": "https://localhost:8080/",
          "height": 444
        },
        "id": "7Hlssz0vb6Io",
        "outputId": "04511ca9-fb04-402a-9aa8-6c128a528aaf"
      },
      "source": [
        "df_dict_VL_d"
      ],
      "execution_count": 81,
      "outputs": [
        {
          "output_type": "execute_result",
          "data": {
            "text/html": [
              "<div>\n",
              "<style scoped>\n",
              "    .dataframe tbody tr th:only-of-type {\n",
              "        vertical-align: middle;\n",
              "    }\n",
              "\n",
              "    .dataframe tbody tr th {\n",
              "        vertical-align: top;\n",
              "    }\n",
              "\n",
              "    .dataframe thead th {\n",
              "        text-align: right;\n",
              "    }\n",
              "</style>\n",
              "<table border=\"1\" class=\"dataframe\">\n",
              "  <thead>\n",
              "    <tr style=\"text-align: right;\">\n",
              "      <th></th>\n",
              "      <th>Component_0_VL_D</th>\n",
              "      <th>Component_1_VL_D</th>\n",
              "      <th>Component_2_VL_D</th>\n",
              "      <th>Component_3_VL_D</th>\n",
              "      <th>Component_4_VL_D</th>\n",
              "      <th>Component_5_VL_D</th>\n",
              "      <th>Component_6_VL_D</th>\n",
              "      <th>Component_7_VL_D</th>\n",
              "      <th>Component_8_VL_D</th>\n",
              "      <th>Component_9_VL_D</th>\n",
              "    </tr>\n",
              "  </thead>\n",
              "  <tbody>\n",
              "    <tr>\n",
              "      <th>0</th>\n",
              "      <td>0.018419</td>\n",
              "      <td>0.096646</td>\n",
              "      <td>0.091854</td>\n",
              "      <td>0.093100</td>\n",
              "      <td>0.060703</td>\n",
              "      <td>0.000000</td>\n",
              "      <td>0.086624</td>\n",
              "      <td>0.000000</td>\n",
              "      <td>0.000000</td>\n",
              "      <td>0.059665</td>\n",
              "    </tr>\n",
              "    <tr>\n",
              "      <th>1</th>\n",
              "      <td>0.043750</td>\n",
              "      <td>0.096522</td>\n",
              "      <td>0.091535</td>\n",
              "      <td>0.000000</td>\n",
              "      <td>0.094849</td>\n",
              "      <td>0.023968</td>\n",
              "      <td>0.082550</td>\n",
              "      <td>0.000000</td>\n",
              "      <td>0.008952</td>\n",
              "      <td>0.030656</td>\n",
              "    </tr>\n",
              "    <tr>\n",
              "      <th>2</th>\n",
              "      <td>0.068880</td>\n",
              "      <td>0.096382</td>\n",
              "      <td>0.091460</td>\n",
              "      <td>0.000000</td>\n",
              "      <td>0.078682</td>\n",
              "      <td>0.111580</td>\n",
              "      <td>0.016902</td>\n",
              "      <td>0.000000</td>\n",
              "      <td>0.217162</td>\n",
              "      <td>0.077345</td>\n",
              "    </tr>\n",
              "    <tr>\n",
              "      <th>3</th>\n",
              "      <td>0.000000</td>\n",
              "      <td>0.096319</td>\n",
              "      <td>0.091431</td>\n",
              "      <td>0.081007</td>\n",
              "      <td>0.060267</td>\n",
              "      <td>0.000000</td>\n",
              "      <td>0.000000</td>\n",
              "      <td>0.000000</td>\n",
              "      <td>0.000000</td>\n",
              "      <td>0.000000</td>\n",
              "    </tr>\n",
              "    <tr>\n",
              "      <th>4</th>\n",
              "      <td>0.000000</td>\n",
              "      <td>0.096326</td>\n",
              "      <td>0.091475</td>\n",
              "      <td>0.124272</td>\n",
              "      <td>0.019724</td>\n",
              "      <td>0.000000</td>\n",
              "      <td>0.175582</td>\n",
              "      <td>0.000000</td>\n",
              "      <td>0.036787</td>\n",
              "      <td>0.211476</td>\n",
              "    </tr>\n",
              "    <tr>\n",
              "      <th>...</th>\n",
              "      <td>...</td>\n",
              "      <td>...</td>\n",
              "      <td>...</td>\n",
              "      <td>...</td>\n",
              "      <td>...</td>\n",
              "      <td>...</td>\n",
              "      <td>...</td>\n",
              "      <td>...</td>\n",
              "      <td>...</td>\n",
              "      <td>...</td>\n",
              "    </tr>\n",
              "    <tr>\n",
              "      <th>118</th>\n",
              "      <td>0.000000</td>\n",
              "      <td>0.080216</td>\n",
              "      <td>0.089985</td>\n",
              "      <td>0.000000</td>\n",
              "      <td>0.155814</td>\n",
              "      <td>0.268272</td>\n",
              "      <td>0.000000</td>\n",
              "      <td>0.148056</td>\n",
              "      <td>0.084741</td>\n",
              "      <td>0.156341</td>\n",
              "    </tr>\n",
              "    <tr>\n",
              "      <th>119</th>\n",
              "      <td>0.000000</td>\n",
              "      <td>0.080692</td>\n",
              "      <td>0.089927</td>\n",
              "      <td>0.073207</td>\n",
              "      <td>0.236597</td>\n",
              "      <td>0.000000</td>\n",
              "      <td>0.000000</td>\n",
              "      <td>0.009509</td>\n",
              "      <td>0.146052</td>\n",
              "      <td>0.000000</td>\n",
              "    </tr>\n",
              "    <tr>\n",
              "      <th>120</th>\n",
              "      <td>0.000000</td>\n",
              "      <td>0.078291</td>\n",
              "      <td>0.090018</td>\n",
              "      <td>0.000000</td>\n",
              "      <td>0.000000</td>\n",
              "      <td>0.000000</td>\n",
              "      <td>0.086956</td>\n",
              "      <td>0.099769</td>\n",
              "      <td>0.000000</td>\n",
              "      <td>0.000000</td>\n",
              "    </tr>\n",
              "    <tr>\n",
              "      <th>121</th>\n",
              "      <td>0.000000</td>\n",
              "      <td>0.076933</td>\n",
              "      <td>0.089906</td>\n",
              "      <td>0.050844</td>\n",
              "      <td>0.005717</td>\n",
              "      <td>0.219494</td>\n",
              "      <td>0.000000</td>\n",
              "      <td>0.097750</td>\n",
              "      <td>0.000000</td>\n",
              "      <td>0.105536</td>\n",
              "    </tr>\n",
              "    <tr>\n",
              "      <th>122</th>\n",
              "      <td>0.102238</td>\n",
              "      <td>0.076114</td>\n",
              "      <td>0.089920</td>\n",
              "      <td>0.110397</td>\n",
              "      <td>0.000000</td>\n",
              "      <td>0.000000</td>\n",
              "      <td>0.185805</td>\n",
              "      <td>0.000000</td>\n",
              "      <td>0.000000</td>\n",
              "      <td>0.000000</td>\n",
              "    </tr>\n",
              "  </tbody>\n",
              "</table>\n",
              "<p>123 rows × 10 columns</p>\n",
              "</div>"
            ],
            "text/plain": [
              "     Component_0_VL_D  Component_1_VL_D  ...  Component_8_VL_D  Component_9_VL_D\n",
              "0            0.018419          0.096646  ...          0.000000          0.059665\n",
              "1            0.043750          0.096522  ...          0.008952          0.030656\n",
              "2            0.068880          0.096382  ...          0.217162          0.077345\n",
              "3            0.000000          0.096319  ...          0.000000          0.000000\n",
              "4            0.000000          0.096326  ...          0.036787          0.211476\n",
              "..                ...               ...  ...               ...               ...\n",
              "118          0.000000          0.080216  ...          0.084741          0.156341\n",
              "119          0.000000          0.080692  ...          0.146052          0.000000\n",
              "120          0.000000          0.078291  ...          0.000000          0.000000\n",
              "121          0.000000          0.076933  ...          0.000000          0.105536\n",
              "122          0.102238          0.076114  ...          0.000000          0.000000\n",
              "\n",
              "[123 rows x 10 columns]"
            ]
          },
          "metadata": {},
          "execution_count": 81
        }
      ]
    },
    {
      "cell_type": "markdown",
      "metadata": {
        "id": "6EjrG58Da0do"
      },
      "source": [
        "特徴量の選択：Cycle数と相関が高いものを抽出"
      ]
    },
    {
      "cell_type": "code",
      "metadata": {
        "colab": {
          "base_uri": "https://localhost:8080/",
          "height": 492
        },
        "id": "sbH8sf7IaWrs",
        "outputId": "f4f37cb8-8142-49ba-c05a-204614da7320"
      },
      "source": [
        "#comp = df_dict_VM_c 0,4,5,6,7,8\n",
        "#comp = df_dict_VC_c 2,4\n",
        "#comp = df_dict_CM_c 1,2,6\n",
        "#comp = df_dict_CC_c 1,2,6\n",
        "#comp = df_dict_Temp_c 1,4\n",
        "#comp = df_dict_VM_d 1\n",
        "#comp = df_dict_CM_d ×\n",
        "#comp = df_dict_Temp_d 1,3\n",
        "#comp = df_dict_VL_d 1\n",
        "\n",
        "for i in range(0 , 10):\n",
        "  fig, ax = plt.subplots()\n",
        "  ax.plot(comp.index, comp[i])\n",
        "  ax.set_title(f'Component：{i}')\n",
        "  ax.set_xlabel('Cycle')\n",
        "  ax.set_ylabel('Dict')\n",
        "  plt.show()"
      ],
      "execution_count": 69,
      "outputs": [
        {
          "output_type": "error",
          "ename": "NameError",
          "evalue": "ignored",
          "traceback": [
            "\u001b[0;31m---------------------------------------------------------------------------\u001b[0m",
            "\u001b[0;31mNameError\u001b[0m                                 Traceback (most recent call last)",
            "\u001b[0;32m<ipython-input-69-ece9ed75c0f3>\u001b[0m in \u001b[0;36m<module>\u001b[0;34m()\u001b[0m\n\u001b[1;32m     11\u001b[0m \u001b[0;32mfor\u001b[0m \u001b[0mi\u001b[0m \u001b[0;32min\u001b[0m \u001b[0mrange\u001b[0m\u001b[0;34m(\u001b[0m\u001b[0;36m0\u001b[0m \u001b[0;34m,\u001b[0m \u001b[0;36m10\u001b[0m\u001b[0;34m)\u001b[0m\u001b[0;34m:\u001b[0m\u001b[0;34m\u001b[0m\u001b[0;34m\u001b[0m\u001b[0m\n\u001b[1;32m     12\u001b[0m   \u001b[0mfig\u001b[0m\u001b[0;34m,\u001b[0m \u001b[0max\u001b[0m \u001b[0;34m=\u001b[0m \u001b[0mplt\u001b[0m\u001b[0;34m.\u001b[0m\u001b[0msubplots\u001b[0m\u001b[0;34m(\u001b[0m\u001b[0;34m)\u001b[0m\u001b[0;34m\u001b[0m\u001b[0;34m\u001b[0m\u001b[0m\n\u001b[0;32m---> 13\u001b[0;31m   \u001b[0max\u001b[0m\u001b[0;34m.\u001b[0m\u001b[0mplot\u001b[0m\u001b[0;34m(\u001b[0m\u001b[0mcomp\u001b[0m\u001b[0;34m.\u001b[0m\u001b[0mindex\u001b[0m\u001b[0;34m,\u001b[0m \u001b[0mcomp\u001b[0m\u001b[0;34m[\u001b[0m\u001b[0mi\u001b[0m\u001b[0;34m]\u001b[0m\u001b[0;34m)\u001b[0m\u001b[0;34m\u001b[0m\u001b[0;34m\u001b[0m\u001b[0m\n\u001b[0m\u001b[1;32m     14\u001b[0m   \u001b[0max\u001b[0m\u001b[0;34m.\u001b[0m\u001b[0mset_title\u001b[0m\u001b[0;34m(\u001b[0m\u001b[0;34mf'Component：{i}'\u001b[0m\u001b[0;34m)\u001b[0m\u001b[0;34m\u001b[0m\u001b[0;34m\u001b[0m\u001b[0m\n\u001b[1;32m     15\u001b[0m   \u001b[0max\u001b[0m\u001b[0;34m.\u001b[0m\u001b[0mset_xlabel\u001b[0m\u001b[0;34m(\u001b[0m\u001b[0;34m'Cycle'\u001b[0m\u001b[0;34m)\u001b[0m\u001b[0;34m\u001b[0m\u001b[0;34m\u001b[0m\u001b[0m\n",
            "\u001b[0;31mNameError\u001b[0m: name 'comp' is not defined"
          ]
        },
        {
          "output_type": "display_data",
          "data": {
            "image/png": "[encoded data removed]",
            "text/plain": [
              "<Figure size 432x288 with 1 Axes>"
            ]
          },
          "metadata": {
            "needs_background": "light"
          }
        }
      ]
    },
    {
      "cell_type": "code",
      "metadata": {
        "colab": {
          "base_uri": "https://localhost:8080/",
          "height": 226
        },
        "id": "tpqZvl5XRg7X",
        "outputId": "159ceb93-e2ca-4ee8-8fbd-a49f3eed7bc8"
      },
      "source": [
        "df_dict_VM_c.head()"
      ],
      "execution_count": 82,
      "outputs": [
        {
          "output_type": "execute_result",
          "data": {
            "text/html": [
              "<div>\n",
              "<style scoped>\n",
              "    .dataframe tbody tr th:only-of-type {\n",
              "        vertical-align: middle;\n",
              "    }\n",
              "\n",
              "    .dataframe tbody tr th {\n",
              "        vertical-align: top;\n",
              "    }\n",
              "\n",
              "    .dataframe thead th {\n",
              "        text-align: right;\n",
              "    }\n",
              "</style>\n",
              "<table border=\"1\" class=\"dataframe\">\n",
              "  <thead>\n",
              "    <tr style=\"text-align: right;\">\n",
              "      <th></th>\n",
              "      <th>Component_0_VM_C</th>\n",
              "      <th>Component_1_VM_C</th>\n",
              "      <th>Component_2_VM_C</th>\n",
              "      <th>Component_3_VM_C</th>\n",
              "      <th>Component_4_VM_C</th>\n",
              "      <th>Component_5_VM_C</th>\n",
              "      <th>Component_6_VM_C</th>\n",
              "      <th>Component_7_VM_C</th>\n",
              "      <th>Component_8_VM_C</th>\n",
              "      <th>Component_9_VM_C</th>\n",
              "    </tr>\n",
              "  </thead>\n",
              "  <tbody>\n",
              "    <tr>\n",
              "      <th>0</th>\n",
              "      <td>0.090426</td>\n",
              "      <td>0.152406</td>\n",
              "      <td>0.061674</td>\n",
              "      <td>0.000000</td>\n",
              "      <td>0.083775</td>\n",
              "      <td>0.091097</td>\n",
              "      <td>0.089686</td>\n",
              "      <td>0.089650</td>\n",
              "      <td>0.089616</td>\n",
              "      <td>0.093228</td>\n",
              "    </tr>\n",
              "    <tr>\n",
              "      <th>1</th>\n",
              "      <td>0.090436</td>\n",
              "      <td>0.108380</td>\n",
              "      <td>0.000000</td>\n",
              "      <td>0.000000</td>\n",
              "      <td>0.084171</td>\n",
              "      <td>0.091240</td>\n",
              "      <td>0.089411</td>\n",
              "      <td>0.089793</td>\n",
              "      <td>0.089510</td>\n",
              "      <td>0.222243</td>\n",
              "    </tr>\n",
              "    <tr>\n",
              "      <th>2</th>\n",
              "      <td>0.090437</td>\n",
              "      <td>0.000000</td>\n",
              "      <td>0.076619</td>\n",
              "      <td>0.066920</td>\n",
              "      <td>0.084650</td>\n",
              "      <td>0.091291</td>\n",
              "      <td>0.089236</td>\n",
              "      <td>0.089920</td>\n",
              "      <td>0.089445</td>\n",
              "      <td>0.036932</td>\n",
              "    </tr>\n",
              "    <tr>\n",
              "      <th>3</th>\n",
              "      <td>0.090440</td>\n",
              "      <td>0.000000</td>\n",
              "      <td>0.000000</td>\n",
              "      <td>0.000000</td>\n",
              "      <td>0.084496</td>\n",
              "      <td>0.091337</td>\n",
              "      <td>0.089227</td>\n",
              "      <td>0.089904</td>\n",
              "      <td>0.089442</td>\n",
              "      <td>0.059181</td>\n",
              "    </tr>\n",
              "    <tr>\n",
              "      <th>4</th>\n",
              "      <td>0.090441</td>\n",
              "      <td>0.000000</td>\n",
              "      <td>0.000000</td>\n",
              "      <td>0.141081</td>\n",
              "      <td>0.084346</td>\n",
              "      <td>0.091360</td>\n",
              "      <td>0.089235</td>\n",
              "      <td>0.089880</td>\n",
              "      <td>0.089443</td>\n",
              "      <td>0.000000</td>\n",
              "    </tr>\n",
              "  </tbody>\n",
              "</table>\n",
              "</div>"
            ],
            "text/plain": [
              "   Component_0_VM_C  Component_1_VM_C  ...  Component_8_VM_C  Component_9_VM_C\n",
              "0          0.090426          0.152406  ...          0.089616          0.093228\n",
              "1          0.090436          0.108380  ...          0.089510          0.222243\n",
              "2          0.090437          0.000000  ...          0.089445          0.036932\n",
              "3          0.090440          0.000000  ...          0.089442          0.059181\n",
              "4          0.090441          0.000000  ...          0.089443          0.000000\n",
              "\n",
              "[5 rows x 10 columns]"
            ]
          },
          "metadata": {},
          "execution_count": 82
        }
      ]
    },
    {
      "cell_type": "code",
      "metadata": {
        "id": "EazexGxOacHj"
      },
      "source": [
        "#特徴量の選択\n",
        "df_1 = df_dict_VM_c.iloc[:, [0,4,5,6,7,8]]\n",
        "df_2 = df_dict_VC_c.iloc[:, [2,4]]\n",
        "df_3 = df_dict_CM_c.iloc[:, [1,2,6]]\n",
        "df_4 = df_dict_CC_c.iloc[:, [1,2,6]]\n",
        "df_5 = df_dict_Temp_c.iloc[:, [1,4]]\n",
        "df_6 = df_dict_VM_d.iloc[:, [1]]\n",
        "df_7 = df_dict_Temp_d.iloc[:, [1,3]]\n",
        "df_8 = df_dict_VL_d.iloc[:, [1]]"
      ],
      "execution_count": 84,
      "outputs": []
    },
    {
      "cell_type": "code",
      "metadata": {
        "colab": {
          "base_uri": "https://localhost:8080/"
        },
        "id": "YTx9M4JoWTX1",
        "outputId": "5b1b66e9-2dca-4257-fb77-d79694fdfe1a"
      },
      "source": [
        "str_1 = 'A'\n",
        "str_2 = 'B'\n",
        "str_3 = 'C'\n",
        "\n",
        "for i in range(1, 4):\n",
        "  #print(str_i)\n",
        "  exec_command = 'print(str_' + str(i) + ')'\n",
        "  exec(exec_command)"
      ],
      "execution_count": 89,
      "outputs": [
        {
          "output_type": "stream",
          "name": "stdout",
          "text": [
            "A\n",
            "B\n",
            "C\n"
          ]
        }
      ]
    },
    {
      "cell_type": "code",
      "metadata": {
        "colab": {
          "base_uri": "https://localhost:8080/"
        },
        "id": "EZAc6z_HSlo1",
        "outputId": "f8510db9-0c1f-471f-c22f-351460fb43f5"
      },
      "source": [
        "#変数名の連番取得\n",
        "df_number = []\n",
        "for i in range(1, 9):\n",
        "  exec_command = 'df_number.append(str(df_' + str(i) + '))'\n",
        "  exec(exec_command)\n",
        "df_number"
      ],
      "execution_count": 92,
      "outputs": [
        {
          "output_type": "execute_result",
          "data": {
            "text/plain": [
              "['     Component_0_VM_C  Component_4_VM_C  ...  Component_7_VM_C  Component_8_VM_C\\n0            0.090426          0.083775  ...          0.089650          0.089616\\n1            0.090436          0.084171  ...          0.089793          0.089510\\n2            0.090437          0.084650  ...          0.089920          0.089445\\n3            0.090440          0.084496  ...          0.089904          0.089442\\n4            0.090441          0.084346  ...          0.089880          0.089443\\n..                ...               ...  ...               ...               ...\\n118          0.089832          0.094150  ...          0.089262          0.091677\\n119          0.089843          0.094128  ...          0.089456          0.091523\\n120          0.089835          0.093922  ...          0.089402          0.091530\\n121          0.089834          0.094108  ...          0.089304          0.091635\\n122          0.089836          0.094206  ...          0.089245          0.091694\\n\\n[123 rows x 6 columns]',\n",
              " '     Component_2_VC_C  Component_4_VC_C\\n0            0.097345          0.089231\\n1            0.097390          0.089253\\n2            0.097254          0.089285\\n3            0.097322          0.089282\\n4            0.097350          0.089277\\n..                ...               ...\\n118          0.081266          0.090978\\n119          0.081849          0.090975\\n120          0.081871          0.090938\\n121          0.081435          0.090972\\n122          0.081222          0.090992\\n\\n[123 rows x 2 columns]',\n",
              " '     Component_1_CM_C  Component_2_CM_C  Component_6_CM_C\\n0            0.126304          0.099976          0.090270\\n1            0.125938          0.100044          0.090267\\n2            0.124594          0.100212          0.090263\\n3            0.124770          0.100104          0.090255\\n4            0.124731          0.100141          0.090240\\n..                ...               ...               ...\\n118          0.047251          0.051061          0.088933\\n119          0.049174          0.056774          0.089544\\n120          0.049255          0.056266          0.089590\\n121          0.047938          0.052529          0.089164\\n122          0.047341          0.050430          0.088872\\n\\n[123 rows x 3 columns]',\n",
              " '     Component_1_CC_C  Component_2_CC_C  Component_6_CC_C\\n0            0.126332          0.100030          0.090278\\n1            0.125942          0.100049          0.090268\\n2            0.124639          0.100198          0.090251\\n3            0.124782          0.100153          0.090245\\n4            0.124811          0.100178          0.090243\\n..                ...               ...               ...\\n118          0.047210          0.051054          0.088935\\n119          0.049151          0.056790          0.089541\\n120          0.049194          0.056264          0.089588\\n121          0.047871          0.052532          0.089153\\n122          0.047295          0.050426          0.088860\\n\\n[123 rows x 3 columns]',\n",
              " '     Component_1_Temp_C  Component_4_Temp_C\\n0              0.089559            0.071698\\n1              0.090023            0.071846\\n2              0.089801            0.071513\\n3              0.089428            0.071348\\n4              0.089107            0.071431\\n..                  ...                 ...\\n118            0.097516            0.111567\\n119            0.096082            0.113962\\n120            0.096744            0.112610\\n121            0.095606            0.112131\\n122            0.094968            0.110883\\n\\n[123 rows x 2 columns]',\n",
              " '     Component_1_VM_D\\n0            0.091161\\n1            0.091287\\n2            0.091324\\n3            0.091356\\n4            0.091369\\n..                ...\\n118          0.088000\\n119          0.088191\\n120          0.087801\\n121          0.087581\\n122          0.087426\\n\\n[123 rows x 1 columns]',\n",
              " '     Component_1_Temp_D  Component_3_Temp_D\\n0              0.087262            0.070494\\n1              0.087560            0.073134\\n2              0.087367            0.073891\\n3              0.087021            0.073595\\n4              0.086682            0.074142\\n..                  ...                 ...\\n118            0.097287            0.118168\\n119            0.097649            0.115752\\n120            0.097501            0.120930\\n121            0.097209            0.122097\\n122            0.097298            0.123911\\n\\n[123 rows x 2 columns]',\n",
              " '     Component_1_VL_D\\n0            0.096646\\n1            0.096522\\n2            0.096382\\n3            0.096319\\n4            0.096326\\n..                ...\\n118          0.080216\\n119          0.080692\\n120          0.078291\\n121          0.076933\\n122          0.076114\\n\\n[123 rows x 1 columns]']"
            ]
          },
          "metadata": {},
          "execution_count": 92
        }
      ]
    },
    {
      "cell_type": "code",
      "metadata": {
        "id": "NgEzuyaRhhFq"
      },
      "source": [
        "df_dict_merge = pd.concat([df_1, df_2, df_3, df_4, df_5, df_6, df_7, df_8], axis=1)"
      ],
      "execution_count": 93,
      "outputs": []
    },
    {
      "cell_type": "code",
      "metadata": {
        "colab": {
          "base_uri": "https://localhost:8080/",
          "height": 444
        },
        "id": "pf2zropShiSb",
        "outputId": "e6290f51-3f0b-4cf2-cceb-0a69a57055a4"
      },
      "source": [
        "df_dict_merge"
      ],
      "execution_count": 94,
      "outputs": [
        {
          "output_type": "execute_result",
          "data": {
            "text/html": [
              "<div>\n",
              "<style scoped>\n",
              "    .dataframe tbody tr th:only-of-type {\n",
              "        vertical-align: middle;\n",
              "    }\n",
              "\n",
              "    .dataframe tbody tr th {\n",
              "        vertical-align: top;\n",
              "    }\n",
              "\n",
              "    .dataframe thead th {\n",
              "        text-align: right;\n",
              "    }\n",
              "</style>\n",
              "<table border=\"1\" class=\"dataframe\">\n",
              "  <thead>\n",
              "    <tr style=\"text-align: right;\">\n",
              "      <th></th>\n",
              "      <th>Component_0_VM_C</th>\n",
              "      <th>Component_4_VM_C</th>\n",
              "      <th>Component_5_VM_C</th>\n",
              "      <th>Component_6_VM_C</th>\n",
              "      <th>Component_7_VM_C</th>\n",
              "      <th>Component_8_VM_C</th>\n",
              "      <th>Component_2_VC_C</th>\n",
              "      <th>Component_4_VC_C</th>\n",
              "      <th>Component_1_CM_C</th>\n",
              "      <th>Component_2_CM_C</th>\n",
              "      <th>Component_6_CM_C</th>\n",
              "      <th>Component_1_CC_C</th>\n",
              "      <th>Component_2_CC_C</th>\n",
              "      <th>Component_6_CC_C</th>\n",
              "      <th>Component_1_Temp_C</th>\n",
              "      <th>Component_4_Temp_C</th>\n",
              "      <th>Component_1_VM_D</th>\n",
              "      <th>Component_1_Temp_D</th>\n",
              "      <th>Component_3_Temp_D</th>\n",
              "      <th>Component_1_VL_D</th>\n",
              "    </tr>\n",
              "  </thead>\n",
              "  <tbody>\n",
              "    <tr>\n",
              "      <th>0</th>\n",
              "      <td>0.090426</td>\n",
              "      <td>0.083775</td>\n",
              "      <td>0.091097</td>\n",
              "      <td>0.089686</td>\n",
              "      <td>0.089650</td>\n",
              "      <td>0.089616</td>\n",
              "      <td>0.097345</td>\n",
              "      <td>0.089231</td>\n",
              "      <td>0.126304</td>\n",
              "      <td>0.099976</td>\n",
              "      <td>0.090270</td>\n",
              "      <td>0.126332</td>\n",
              "      <td>0.100030</td>\n",
              "      <td>0.090278</td>\n",
              "      <td>0.089559</td>\n",
              "      <td>0.071698</td>\n",
              "      <td>0.091161</td>\n",
              "      <td>0.087262</td>\n",
              "      <td>0.070494</td>\n",
              "      <td>0.096646</td>\n",
              "    </tr>\n",
              "    <tr>\n",
              "      <th>1</th>\n",
              "      <td>0.090436</td>\n",
              "      <td>0.084171</td>\n",
              "      <td>0.091240</td>\n",
              "      <td>0.089411</td>\n",
              "      <td>0.089793</td>\n",
              "      <td>0.089510</td>\n",
              "      <td>0.097390</td>\n",
              "      <td>0.089253</td>\n",
              "      <td>0.125938</td>\n",
              "      <td>0.100044</td>\n",
              "      <td>0.090267</td>\n",
              "      <td>0.125942</td>\n",
              "      <td>0.100049</td>\n",
              "      <td>0.090268</td>\n",
              "      <td>0.090023</td>\n",
              "      <td>0.071846</td>\n",
              "      <td>0.091287</td>\n",
              "      <td>0.087560</td>\n",
              "      <td>0.073134</td>\n",
              "      <td>0.096522</td>\n",
              "    </tr>\n",
              "    <tr>\n",
              "      <th>2</th>\n",
              "      <td>0.090437</td>\n",
              "      <td>0.084650</td>\n",
              "      <td>0.091291</td>\n",
              "      <td>0.089236</td>\n",
              "      <td>0.089920</td>\n",
              "      <td>0.089445</td>\n",
              "      <td>0.097254</td>\n",
              "      <td>0.089285</td>\n",
              "      <td>0.124594</td>\n",
              "      <td>0.100212</td>\n",
              "      <td>0.090263</td>\n",
              "      <td>0.124639</td>\n",
              "      <td>0.100198</td>\n",
              "      <td>0.090251</td>\n",
              "      <td>0.089801</td>\n",
              "      <td>0.071513</td>\n",
              "      <td>0.091324</td>\n",
              "      <td>0.087367</td>\n",
              "      <td>0.073891</td>\n",
              "      <td>0.096382</td>\n",
              "    </tr>\n",
              "    <tr>\n",
              "      <th>3</th>\n",
              "      <td>0.090440</td>\n",
              "      <td>0.084496</td>\n",
              "      <td>0.091337</td>\n",
              "      <td>0.089227</td>\n",
              "      <td>0.089904</td>\n",
              "      <td>0.089442</td>\n",
              "      <td>0.097322</td>\n",
              "      <td>0.089282</td>\n",
              "      <td>0.124770</td>\n",
              "      <td>0.100104</td>\n",
              "      <td>0.090255</td>\n",
              "      <td>0.124782</td>\n",
              "      <td>0.100153</td>\n",
              "      <td>0.090245</td>\n",
              "      <td>0.089428</td>\n",
              "      <td>0.071348</td>\n",
              "      <td>0.091356</td>\n",
              "      <td>0.087021</td>\n",
              "      <td>0.073595</td>\n",
              "      <td>0.096319</td>\n",
              "    </tr>\n",
              "    <tr>\n",
              "      <th>4</th>\n",
              "      <td>0.090441</td>\n",
              "      <td>0.084346</td>\n",
              "      <td>0.091360</td>\n",
              "      <td>0.089235</td>\n",
              "      <td>0.089880</td>\n",
              "      <td>0.089443</td>\n",
              "      <td>0.097350</td>\n",
              "      <td>0.089277</td>\n",
              "      <td>0.124731</td>\n",
              "      <td>0.100141</td>\n",
              "      <td>0.090240</td>\n",
              "      <td>0.124811</td>\n",
              "      <td>0.100178</td>\n",
              "      <td>0.090243</td>\n",
              "      <td>0.089107</td>\n",
              "      <td>0.071431</td>\n",
              "      <td>0.091369</td>\n",
              "      <td>0.086682</td>\n",
              "      <td>0.074142</td>\n",
              "      <td>0.096326</td>\n",
              "    </tr>\n",
              "    <tr>\n",
              "      <th>...</th>\n",
              "      <td>...</td>\n",
              "      <td>...</td>\n",
              "      <td>...</td>\n",
              "      <td>...</td>\n",
              "      <td>...</td>\n",
              "      <td>...</td>\n",
              "      <td>...</td>\n",
              "      <td>...</td>\n",
              "      <td>...</td>\n",
              "      <td>...</td>\n",
              "      <td>...</td>\n",
              "      <td>...</td>\n",
              "      <td>...</td>\n",
              "      <td>...</td>\n",
              "      <td>...</td>\n",
              "      <td>...</td>\n",
              "      <td>...</td>\n",
              "      <td>...</td>\n",
              "      <td>...</td>\n",
              "      <td>...</td>\n",
              "    </tr>\n",
              "    <tr>\n",
              "      <th>118</th>\n",
              "      <td>0.089832</td>\n",
              "      <td>0.094150</td>\n",
              "      <td>0.088619</td>\n",
              "      <td>0.092547</td>\n",
              "      <td>0.089262</td>\n",
              "      <td>0.091677</td>\n",
              "      <td>0.081266</td>\n",
              "      <td>0.090978</td>\n",
              "      <td>0.047251</td>\n",
              "      <td>0.051061</td>\n",
              "      <td>0.088933</td>\n",
              "      <td>0.047210</td>\n",
              "      <td>0.051054</td>\n",
              "      <td>0.088935</td>\n",
              "      <td>0.097516</td>\n",
              "      <td>0.111567</td>\n",
              "      <td>0.088000</td>\n",
              "      <td>0.097287</td>\n",
              "      <td>0.118168</td>\n",
              "      <td>0.080216</td>\n",
              "    </tr>\n",
              "    <tr>\n",
              "      <th>119</th>\n",
              "      <td>0.089843</td>\n",
              "      <td>0.094128</td>\n",
              "      <td>0.088710</td>\n",
              "      <td>0.092296</td>\n",
              "      <td>0.089456</td>\n",
              "      <td>0.091523</td>\n",
              "      <td>0.081849</td>\n",
              "      <td>0.090975</td>\n",
              "      <td>0.049174</td>\n",
              "      <td>0.056774</td>\n",
              "      <td>0.089544</td>\n",
              "      <td>0.049151</td>\n",
              "      <td>0.056790</td>\n",
              "      <td>0.089541</td>\n",
              "      <td>0.096082</td>\n",
              "      <td>0.113962</td>\n",
              "      <td>0.088191</td>\n",
              "      <td>0.097649</td>\n",
              "      <td>0.115752</td>\n",
              "      <td>0.080692</td>\n",
              "    </tr>\n",
              "    <tr>\n",
              "      <th>120</th>\n",
              "      <td>0.089835</td>\n",
              "      <td>0.093922</td>\n",
              "      <td>0.088869</td>\n",
              "      <td>0.092252</td>\n",
              "      <td>0.089402</td>\n",
              "      <td>0.091530</td>\n",
              "      <td>0.081871</td>\n",
              "      <td>0.090938</td>\n",
              "      <td>0.049255</td>\n",
              "      <td>0.056266</td>\n",
              "      <td>0.089590</td>\n",
              "      <td>0.049194</td>\n",
              "      <td>0.056264</td>\n",
              "      <td>0.089588</td>\n",
              "      <td>0.096744</td>\n",
              "      <td>0.112610</td>\n",
              "      <td>0.087801</td>\n",
              "      <td>0.097501</td>\n",
              "      <td>0.120930</td>\n",
              "      <td>0.078291</td>\n",
              "    </tr>\n",
              "    <tr>\n",
              "      <th>121</th>\n",
              "      <td>0.089834</td>\n",
              "      <td>0.094108</td>\n",
              "      <td>0.088674</td>\n",
              "      <td>0.092466</td>\n",
              "      <td>0.089304</td>\n",
              "      <td>0.091635</td>\n",
              "      <td>0.081435</td>\n",
              "      <td>0.090972</td>\n",
              "      <td>0.047938</td>\n",
              "      <td>0.052529</td>\n",
              "      <td>0.089164</td>\n",
              "      <td>0.047871</td>\n",
              "      <td>0.052532</td>\n",
              "      <td>0.089153</td>\n",
              "      <td>0.095606</td>\n",
              "      <td>0.112131</td>\n",
              "      <td>0.087581</td>\n",
              "      <td>0.097209</td>\n",
              "      <td>0.122097</td>\n",
              "      <td>0.076933</td>\n",
              "    </tr>\n",
              "    <tr>\n",
              "      <th>122</th>\n",
              "      <td>0.089836</td>\n",
              "      <td>0.094206</td>\n",
              "      <td>0.088552</td>\n",
              "      <td>0.092594</td>\n",
              "      <td>0.089245</td>\n",
              "      <td>0.091694</td>\n",
              "      <td>0.081222</td>\n",
              "      <td>0.090992</td>\n",
              "      <td>0.047341</td>\n",
              "      <td>0.050430</td>\n",
              "      <td>0.088872</td>\n",
              "      <td>0.047295</td>\n",
              "      <td>0.050426</td>\n",
              "      <td>0.088860</td>\n",
              "      <td>0.094968</td>\n",
              "      <td>0.110883</td>\n",
              "      <td>0.087426</td>\n",
              "      <td>0.097298</td>\n",
              "      <td>0.123911</td>\n",
              "      <td>0.076114</td>\n",
              "    </tr>\n",
              "  </tbody>\n",
              "</table>\n",
              "<p>123 rows × 20 columns</p>\n",
              "</div>"
            ],
            "text/plain": [
              "     Component_0_VM_C  Component_4_VM_C  ...  Component_3_Temp_D  Component_1_VL_D\n",
              "0            0.090426          0.083775  ...            0.070494          0.096646\n",
              "1            0.090436          0.084171  ...            0.073134          0.096522\n",
              "2            0.090437          0.084650  ...            0.073891          0.096382\n",
              "3            0.090440          0.084496  ...            0.073595          0.096319\n",
              "4            0.090441          0.084346  ...            0.074142          0.096326\n",
              "..                ...               ...  ...                 ...               ...\n",
              "118          0.089832          0.094150  ...            0.118168          0.080216\n",
              "119          0.089843          0.094128  ...            0.115752          0.080692\n",
              "120          0.089835          0.093922  ...            0.120930          0.078291\n",
              "121          0.089834          0.094108  ...            0.122097          0.076933\n",
              "122          0.089836          0.094206  ...            0.123911          0.076114\n",
              "\n",
              "[123 rows x 20 columns]"
            ]
          },
          "metadata": {},
          "execution_count": 94
        }
      ]
    },
    {
      "cell_type": "code",
      "metadata": {
        "colab": {
          "base_uri": "https://localhost:8080/",
          "height": 444
        },
        "id": "EUadlC1qks_l",
        "outputId": "5187fa56-660d-4c33-ed49-704af8aee55f"
      },
      "source": [
        "feature_dict = df_dict_merge\n",
        "feature_dict['RLU'] = feature_dict.index + 1\n",
        "feature_dict['RLU'] = 123 - feature_dict['RLU']\n",
        "feature_dict"
      ],
      "execution_count": 95,
      "outputs": [
        {
          "output_type": "execute_result",
          "data": {
            "text/html": [
              "<div>\n",
              "<style scoped>\n",
              "    .dataframe tbody tr th:only-of-type {\n",
              "        vertical-align: middle;\n",
              "    }\n",
              "\n",
              "    .dataframe tbody tr th {\n",
              "        vertical-align: top;\n",
              "    }\n",
              "\n",
              "    .dataframe thead th {\n",
              "        text-align: right;\n",
              "    }\n",
              "</style>\n",
              "<table border=\"1\" class=\"dataframe\">\n",
              "  <thead>\n",
              "    <tr style=\"text-align: right;\">\n",
              "      <th></th>\n",
              "      <th>Component_0_VM_C</th>\n",
              "      <th>Component_4_VM_C</th>\n",
              "      <th>Component_5_VM_C</th>\n",
              "      <th>Component_6_VM_C</th>\n",
              "      <th>Component_7_VM_C</th>\n",
              "      <th>Component_8_VM_C</th>\n",
              "      <th>Component_2_VC_C</th>\n",
              "      <th>Component_4_VC_C</th>\n",
              "      <th>Component_1_CM_C</th>\n",
              "      <th>Component_2_CM_C</th>\n",
              "      <th>Component_6_CM_C</th>\n",
              "      <th>Component_1_CC_C</th>\n",
              "      <th>Component_2_CC_C</th>\n",
              "      <th>Component_6_CC_C</th>\n",
              "      <th>Component_1_Temp_C</th>\n",
              "      <th>Component_4_Temp_C</th>\n",
              "      <th>Component_1_VM_D</th>\n",
              "      <th>Component_1_Temp_D</th>\n",
              "      <th>Component_3_Temp_D</th>\n",
              "      <th>Component_1_VL_D</th>\n",
              "      <th>RLU</th>\n",
              "    </tr>\n",
              "  </thead>\n",
              "  <tbody>\n",
              "    <tr>\n",
              "      <th>0</th>\n",
              "      <td>0.090426</td>\n",
              "      <td>0.083775</td>\n",
              "      <td>0.091097</td>\n",
              "      <td>0.089686</td>\n",
              "      <td>0.089650</td>\n",
              "      <td>0.089616</td>\n",
              "      <td>0.097345</td>\n",
              "      <td>0.089231</td>\n",
              "      <td>0.126304</td>\n",
              "      <td>0.099976</td>\n",
              "      <td>0.090270</td>\n",
              "      <td>0.126332</td>\n",
              "      <td>0.100030</td>\n",
              "      <td>0.090278</td>\n",
              "      <td>0.089559</td>\n",
              "      <td>0.071698</td>\n",
              "      <td>0.091161</td>\n",
              "      <td>0.087262</td>\n",
              "      <td>0.070494</td>\n",
              "      <td>0.096646</td>\n",
              "      <td>122</td>\n",
              "    </tr>\n",
              "    <tr>\n",
              "      <th>1</th>\n",
              "      <td>0.090436</td>\n",
              "      <td>0.084171</td>\n",
              "      <td>0.091240</td>\n",
              "      <td>0.089411</td>\n",
              "      <td>0.089793</td>\n",
              "      <td>0.089510</td>\n",
              "      <td>0.097390</td>\n",
              "      <td>0.089253</td>\n",
              "      <td>0.125938</td>\n",
              "      <td>0.100044</td>\n",
              "      <td>0.090267</td>\n",
              "      <td>0.125942</td>\n",
              "      <td>0.100049</td>\n",
              "      <td>0.090268</td>\n",
              "      <td>0.090023</td>\n",
              "      <td>0.071846</td>\n",
              "      <td>0.091287</td>\n",
              "      <td>0.087560</td>\n",
              "      <td>0.073134</td>\n",
              "      <td>0.096522</td>\n",
              "      <td>121</td>\n",
              "    </tr>\n",
              "    <tr>\n",
              "      <th>2</th>\n",
              "      <td>0.090437</td>\n",
              "      <td>0.084650</td>\n",
              "      <td>0.091291</td>\n",
              "      <td>0.089236</td>\n",
              "      <td>0.089920</td>\n",
              "      <td>0.089445</td>\n",
              "      <td>0.097254</td>\n",
              "      <td>0.089285</td>\n",
              "      <td>0.124594</td>\n",
              "      <td>0.100212</td>\n",
              "      <td>0.090263</td>\n",
              "      <td>0.124639</td>\n",
              "      <td>0.100198</td>\n",
              "      <td>0.090251</td>\n",
              "      <td>0.089801</td>\n",
              "      <td>0.071513</td>\n",
              "      <td>0.091324</td>\n",
              "      <td>0.087367</td>\n",
              "      <td>0.073891</td>\n",
              "      <td>0.096382</td>\n",
              "      <td>120</td>\n",
              "    </tr>\n",
              "    <tr>\n",
              "      <th>3</th>\n",
              "      <td>0.090440</td>\n",
              "      <td>0.084496</td>\n",
              "      <td>0.091337</td>\n",
              "      <td>0.089227</td>\n",
              "      <td>0.089904</td>\n",
              "      <td>0.089442</td>\n",
              "      <td>0.097322</td>\n",
              "      <td>0.089282</td>\n",
              "      <td>0.124770</td>\n",
              "      <td>0.100104</td>\n",
              "      <td>0.090255</td>\n",
              "      <td>0.124782</td>\n",
              "      <td>0.100153</td>\n",
              "      <td>0.090245</td>\n",
              "      <td>0.089428</td>\n",
              "      <td>0.071348</td>\n",
              "      <td>0.091356</td>\n",
              "      <td>0.087021</td>\n",
              "      <td>0.073595</td>\n",
              "      <td>0.096319</td>\n",
              "      <td>119</td>\n",
              "    </tr>\n",
              "    <tr>\n",
              "      <th>4</th>\n",
              "      <td>0.090441</td>\n",
              "      <td>0.084346</td>\n",
              "      <td>0.091360</td>\n",
              "      <td>0.089235</td>\n",
              "      <td>0.089880</td>\n",
              "      <td>0.089443</td>\n",
              "      <td>0.097350</td>\n",
              "      <td>0.089277</td>\n",
              "      <td>0.124731</td>\n",
              "      <td>0.100141</td>\n",
              "      <td>0.090240</td>\n",
              "      <td>0.124811</td>\n",
              "      <td>0.100178</td>\n",
              "      <td>0.090243</td>\n",
              "      <td>0.089107</td>\n",
              "      <td>0.071431</td>\n",
              "      <td>0.091369</td>\n",
              "      <td>0.086682</td>\n",
              "      <td>0.074142</td>\n",
              "      <td>0.096326</td>\n",
              "      <td>118</td>\n",
              "    </tr>\n",
              "    <tr>\n",
              "      <th>...</th>\n",
              "      <td>...</td>\n",
              "      <td>...</td>\n",
              "      <td>...</td>\n",
              "      <td>...</td>\n",
              "      <td>...</td>\n",
              "      <td>...</td>\n",
              "      <td>...</td>\n",
              "      <td>...</td>\n",
              "      <td>...</td>\n",
              "      <td>...</td>\n",
              "      <td>...</td>\n",
              "      <td>...</td>\n",
              "      <td>...</td>\n",
              "      <td>...</td>\n",
              "      <td>...</td>\n",
              "      <td>...</td>\n",
              "      <td>...</td>\n",
              "      <td>...</td>\n",
              "      <td>...</td>\n",
              "      <td>...</td>\n",
              "      <td>...</td>\n",
              "    </tr>\n",
              "    <tr>\n",
              "      <th>118</th>\n",
              "      <td>0.089832</td>\n",
              "      <td>0.094150</td>\n",
              "      <td>0.088619</td>\n",
              "      <td>0.092547</td>\n",
              "      <td>0.089262</td>\n",
              "      <td>0.091677</td>\n",
              "      <td>0.081266</td>\n",
              "      <td>0.090978</td>\n",
              "      <td>0.047251</td>\n",
              "      <td>0.051061</td>\n",
              "      <td>0.088933</td>\n",
              "      <td>0.047210</td>\n",
              "      <td>0.051054</td>\n",
              "      <td>0.088935</td>\n",
              "      <td>0.097516</td>\n",
              "      <td>0.111567</td>\n",
              "      <td>0.088000</td>\n",
              "      <td>0.097287</td>\n",
              "      <td>0.118168</td>\n",
              "      <td>0.080216</td>\n",
              "      <td>4</td>\n",
              "    </tr>\n",
              "    <tr>\n",
              "      <th>119</th>\n",
              "      <td>0.089843</td>\n",
              "      <td>0.094128</td>\n",
              "      <td>0.088710</td>\n",
              "      <td>0.092296</td>\n",
              "      <td>0.089456</td>\n",
              "      <td>0.091523</td>\n",
              "      <td>0.081849</td>\n",
              "      <td>0.090975</td>\n",
              "      <td>0.049174</td>\n",
              "      <td>0.056774</td>\n",
              "      <td>0.089544</td>\n",
              "      <td>0.049151</td>\n",
              "      <td>0.056790</td>\n",
              "      <td>0.089541</td>\n",
              "      <td>0.096082</td>\n",
              "      <td>0.113962</td>\n",
              "      <td>0.088191</td>\n",
              "      <td>0.097649</td>\n",
              "      <td>0.115752</td>\n",
              "      <td>0.080692</td>\n",
              "      <td>3</td>\n",
              "    </tr>\n",
              "    <tr>\n",
              "      <th>120</th>\n",
              "      <td>0.089835</td>\n",
              "      <td>0.093922</td>\n",
              "      <td>0.088869</td>\n",
              "      <td>0.092252</td>\n",
              "      <td>0.089402</td>\n",
              "      <td>0.091530</td>\n",
              "      <td>0.081871</td>\n",
              "      <td>0.090938</td>\n",
              "      <td>0.049255</td>\n",
              "      <td>0.056266</td>\n",
              "      <td>0.089590</td>\n",
              "      <td>0.049194</td>\n",
              "      <td>0.056264</td>\n",
              "      <td>0.089588</td>\n",
              "      <td>0.096744</td>\n",
              "      <td>0.112610</td>\n",
              "      <td>0.087801</td>\n",
              "      <td>0.097501</td>\n",
              "      <td>0.120930</td>\n",
              "      <td>0.078291</td>\n",
              "      <td>2</td>\n",
              "    </tr>\n",
              "    <tr>\n",
              "      <th>121</th>\n",
              "      <td>0.089834</td>\n",
              "      <td>0.094108</td>\n",
              "      <td>0.088674</td>\n",
              "      <td>0.092466</td>\n",
              "      <td>0.089304</td>\n",
              "      <td>0.091635</td>\n",
              "      <td>0.081435</td>\n",
              "      <td>0.090972</td>\n",
              "      <td>0.047938</td>\n",
              "      <td>0.052529</td>\n",
              "      <td>0.089164</td>\n",
              "      <td>0.047871</td>\n",
              "      <td>0.052532</td>\n",
              "      <td>0.089153</td>\n",
              "      <td>0.095606</td>\n",
              "      <td>0.112131</td>\n",
              "      <td>0.087581</td>\n",
              "      <td>0.097209</td>\n",
              "      <td>0.122097</td>\n",
              "      <td>0.076933</td>\n",
              "      <td>1</td>\n",
              "    </tr>\n",
              "    <tr>\n",
              "      <th>122</th>\n",
              "      <td>0.089836</td>\n",
              "      <td>0.094206</td>\n",
              "      <td>0.088552</td>\n",
              "      <td>0.092594</td>\n",
              "      <td>0.089245</td>\n",
              "      <td>0.091694</td>\n",
              "      <td>0.081222</td>\n",
              "      <td>0.090992</td>\n",
              "      <td>0.047341</td>\n",
              "      <td>0.050430</td>\n",
              "      <td>0.088872</td>\n",
              "      <td>0.047295</td>\n",
              "      <td>0.050426</td>\n",
              "      <td>0.088860</td>\n",
              "      <td>0.094968</td>\n",
              "      <td>0.110883</td>\n",
              "      <td>0.087426</td>\n",
              "      <td>0.097298</td>\n",
              "      <td>0.123911</td>\n",
              "      <td>0.076114</td>\n",
              "      <td>0</td>\n",
              "    </tr>\n",
              "  </tbody>\n",
              "</table>\n",
              "<p>123 rows × 21 columns</p>\n",
              "</div>"
            ],
            "text/plain": [
              "     Component_0_VM_C  Component_4_VM_C  ...  Component_1_VL_D  RLU\n",
              "0            0.090426          0.083775  ...          0.096646  122\n",
              "1            0.090436          0.084171  ...          0.096522  121\n",
              "2            0.090437          0.084650  ...          0.096382  120\n",
              "3            0.090440          0.084496  ...          0.096319  119\n",
              "4            0.090441          0.084346  ...          0.096326  118\n",
              "..                ...               ...  ...               ...  ...\n",
              "118          0.089832          0.094150  ...          0.080216    4\n",
              "119          0.089843          0.094128  ...          0.080692    3\n",
              "120          0.089835          0.093922  ...          0.078291    2\n",
              "121          0.089834          0.094108  ...          0.076933    1\n",
              "122          0.089836          0.094206  ...          0.076114    0\n",
              "\n",
              "[123 rows x 21 columns]"
            ]
          },
          "metadata": {},
          "execution_count": 95
        }
      ]
    },
    {
      "cell_type": "markdown",
      "metadata": {
        "id": "9_1j_wbjmZCG"
      },
      "source": [
        "学習"
      ]
    },
    {
      "cell_type": "code",
      "metadata": {
        "id": "67ouSijvlXCh"
      },
      "source": [
        "train_X = feature_dict.iloc[:, :-1]\n",
        "train_y = feature_dict.iloc[:,-1]"
      ],
      "execution_count": 96,
      "outputs": []
    },
    {
      "cell_type": "code",
      "metadata": {
        "colab": {
          "base_uri": "https://localhost:8080/"
        },
        "id": "V7t8MD-lmmli",
        "outputId": "7262ef26-eb1b-4cea-9083-0d7e7d276185"
      },
      "source": [
        "train_X\n",
        "train_y"
      ],
      "execution_count": 97,
      "outputs": [
        {
          "output_type": "execute_result",
          "data": {
            "text/plain": [
              "0      122\n",
              "1      121\n",
              "2      120\n",
              "3      119\n",
              "4      118\n",
              "      ... \n",
              "118      4\n",
              "119      3\n",
              "120      2\n",
              "121      1\n",
              "122      0\n",
              "Name: RLU, Length: 123, dtype: int64"
            ]
          },
          "metadata": {},
          "execution_count": 97
        }
      ]
    },
    {
      "cell_type": "code",
      "metadata": {
        "id": "Z93t1Mhfmvid"
      },
      "source": [
        "from xgboost import XGBRegressor"
      ],
      "execution_count": 98,
      "outputs": []
    },
    {
      "cell_type": "code",
      "metadata": {
        "colab": {
          "base_uri": "https://localhost:8080/"
        },
        "id": "4jHhZa9fnYfY",
        "outputId": "a0c7dd2f-c491-41bb-dbb3-e89eac35be66"
      },
      "source": [
        "#モデルの作成\n",
        "model = XGBRegressor(n_estimators=20, random_state=71)\n",
        "model.fit(train_X,train_y)"
      ],
      "execution_count": 99,
      "outputs": [
        {
          "output_type": "stream",
          "name": "stdout",
          "text": [
            "[14:34:43] WARNING: /workspace/src/objective/regression_obj.cu:152: reg:linear is now deprecated in favor of reg:squarederror.\n"
          ]
        },
        {
          "output_type": "execute_result",
          "data": {
            "text/plain": [
              "XGBRegressor(base_score=0.5, booster='gbtree', colsample_bylevel=1,\n",
              "             colsample_bynode=1, colsample_bytree=1, gamma=0,\n",
              "             importance_type='gain', learning_rate=0.1, max_delta_step=0,\n",
              "             max_depth=3, min_child_weight=1, missing=None, n_estimators=20,\n",
              "             n_jobs=1, nthread=None, objective='reg:linear', random_state=71,\n",
              "             reg_alpha=0, reg_lambda=1, scale_pos_weight=1, seed=None,\n",
              "             silent=None, subsample=1, verbosity=1)"
            ]
          },
          "metadata": {},
          "execution_count": 99
        }
      ]
    },
    {
      "cell_type": "markdown",
      "metadata": {
        "id": "BacwrRpPYfq1"
      },
      "source": [
        "テストデータの読み込み～加工"
      ]
    },
    {
      "cell_type": "code",
      "metadata": {
        "id": "Br93l3UAnZyo"
      },
      "source": [
        "#データの読み込み\n",
        "df_test_0 = pd.read_csv(\n",
        "    os.path.join(DIR, 'data', 'Test_Unit_20210903', 'dataset_test_all.csv'),\n",
        "    encoding='utf-8')\n",
        "#不必要なIndex列と空白列を削除。\n",
        "df_test_0 = df_test_0.drop(df_test_0.columns[[0, 7]], axis=1)\n",
        "#データ処理用にDFをコピー\n",
        "df_base_test = df_test_0.copy()"
      ],
      "execution_count": 105,
      "outputs": []
    },
    {
      "cell_type": "code",
      "metadata": {
        "colab": {
          "base_uri": "https://localhost:8080/",
          "height": 224
        },
        "id": "lgRJk7L8ZzYB",
        "outputId": "ab0ea09a-8a4e-46cc-ec04-ba67c52f3e84"
      },
      "source": [
        "df_test_0.head()"
      ],
      "execution_count": 106,
      "outputs": [
        {
          "output_type": "execute_result",
          "data": {
            "text/html": [
              "<div>\n",
              "<style scoped>\n",
              "    .dataframe tbody tr th:only-of-type {\n",
              "        vertical-align: middle;\n",
              "    }\n",
              "\n",
              "    .dataframe tbody tr th {\n",
              "        vertical-align: top;\n",
              "    }\n",
              "\n",
              "    .dataframe thead th {\n",
              "        text-align: right;\n",
              "    }\n",
              "</style>\n",
              "<table border=\"1\" class=\"dataframe\">\n",
              "  <thead>\n",
              "    <tr style=\"text-align: right;\">\n",
              "      <th></th>\n",
              "      <th>Time (s)</th>\n",
              "      <th>Voltage Measured (V)</th>\n",
              "      <th>Voltage Charge (V)</th>\n",
              "      <th>Current Measured (Amps)</th>\n",
              "      <th>Current Charge (Amps)</th>\n",
              "      <th>Temperature (degree C)</th>\n",
              "      <th>unit</th>\n",
              "      <th>charge_mode</th>\n",
              "      <th>Cycle_num</th>\n",
              "      <th>Voltage Load (V)</th>\n",
              "      <th>Current Load (Amps)</th>\n",
              "    </tr>\n",
              "  </thead>\n",
              "  <tbody>\n",
              "    <tr>\n",
              "      <th>0</th>\n",
              "      <td>0.000</td>\n",
              "      <td>3.4268</td>\n",
              "      <td>-0.007</td>\n",
              "      <td>0.000887</td>\n",
              "      <td>0.000</td>\n",
              "      <td>33.569</td>\n",
              "      <td>Test_Unit_1</td>\n",
              "      <td>Charge</td>\n",
              "      <td>61</td>\n",
              "      <td>NaN</td>\n",
              "      <td>NaN</td>\n",
              "    </tr>\n",
              "    <tr>\n",
              "      <th>1</th>\n",
              "      <td>2.484</td>\n",
              "      <td>3.1242</td>\n",
              "      <td>1.439</td>\n",
              "      <td>-3.518300</td>\n",
              "      <td>-3.536</td>\n",
              "      <td>33.511</td>\n",
              "      <td>Test_Unit_1</td>\n",
              "      <td>Charge</td>\n",
              "      <td>61</td>\n",
              "      <td>NaN</td>\n",
              "      <td>NaN</td>\n",
              "    </tr>\n",
              "    <tr>\n",
              "      <th>2</th>\n",
              "      <td>7.297</td>\n",
              "      <td>3.5065</td>\n",
              "      <td>4.219</td>\n",
              "      <td>1.516100</td>\n",
              "      <td>1.507</td>\n",
              "      <td>33.502</td>\n",
              "      <td>Test_Unit_1</td>\n",
              "      <td>Charge</td>\n",
              "      <td>61</td>\n",
              "      <td>NaN</td>\n",
              "      <td>NaN</td>\n",
              "    </tr>\n",
              "    <tr>\n",
              "      <th>3</th>\n",
              "      <td>11.891</td>\n",
              "      <td>3.5454</td>\n",
              "      <td>4.273</td>\n",
              "      <td>1.517200</td>\n",
              "      <td>1.507</td>\n",
              "      <td>33.491</td>\n",
              "      <td>Test_Unit_1</td>\n",
              "      <td>Charge</td>\n",
              "      <td>61</td>\n",
              "      <td>NaN</td>\n",
              "      <td>NaN</td>\n",
              "    </tr>\n",
              "    <tr>\n",
              "      <th>4</th>\n",
              "      <td>16.484</td>\n",
              "      <td>3.5689</td>\n",
              "      <td>4.295</td>\n",
              "      <td>1.517200</td>\n",
              "      <td>1.507</td>\n",
              "      <td>33.453</td>\n",
              "      <td>Test_Unit_1</td>\n",
              "      <td>Charge</td>\n",
              "      <td>61</td>\n",
              "      <td>NaN</td>\n",
              "      <td>NaN</td>\n",
              "    </tr>\n",
              "  </tbody>\n",
              "</table>\n",
              "</div>"
            ],
            "text/plain": [
              "   Time (s)  Voltage Measured (V)  ...  Voltage Load (V)  Current Load (Amps)\n",
              "0     0.000                3.4268  ...               NaN                  NaN\n",
              "1     2.484                3.1242  ...               NaN                  NaN\n",
              "2     7.297                3.5065  ...               NaN                  NaN\n",
              "3    11.891                3.5454  ...               NaN                  NaN\n",
              "4    16.484                3.5689  ...               NaN                  NaN\n",
              "\n",
              "[5 rows x 11 columns]"
            ]
          },
          "metadata": {},
          "execution_count": 106
        }
      ]
    },
    {
      "cell_type": "code",
      "metadata": {
        "id": "-b4hl8NcZF1N"
      },
      "source": [
        "df_base_test = df_base_test.rename(columns=col_list)\n",
        "#ユニットとサイクルでソート。\n",
        "df_base_test = df_base_test.sort_values(['unit_name', 'Cycle']).reset_index(drop=True)"
      ],
      "execution_count": 107,
      "outputs": []
    },
    {
      "cell_type": "code",
      "metadata": {
        "colab": {
          "base_uri": "https://localhost:8080/",
          "height": 206
        },
        "id": "vl6mMJ3UZS45",
        "outputId": "df2deec0-c030-489a-a91c-ccf792b4a2a9"
      },
      "source": [
        "df_base_test.head()"
      ],
      "execution_count": 108,
      "outputs": [
        {
          "output_type": "execute_result",
          "data": {
            "text/html": [
              "<div>\n",
              "<style scoped>\n",
              "    .dataframe tbody tr th:only-of-type {\n",
              "        vertical-align: middle;\n",
              "    }\n",
              "\n",
              "    .dataframe tbody tr th {\n",
              "        vertical-align: top;\n",
              "    }\n",
              "\n",
              "    .dataframe thead th {\n",
              "        text-align: right;\n",
              "    }\n",
              "</style>\n",
              "<table border=\"1\" class=\"dataframe\">\n",
              "  <thead>\n",
              "    <tr style=\"text-align: right;\">\n",
              "      <th></th>\n",
              "      <th>Time</th>\n",
              "      <th>VM</th>\n",
              "      <th>VC</th>\n",
              "      <th>CM</th>\n",
              "      <th>CC</th>\n",
              "      <th>Temp</th>\n",
              "      <th>unit_name</th>\n",
              "      <th>mode</th>\n",
              "      <th>Cycle</th>\n",
              "      <th>VL</th>\n",
              "      <th>CL</th>\n",
              "    </tr>\n",
              "  </thead>\n",
              "  <tbody>\n",
              "    <tr>\n",
              "      <th>0</th>\n",
              "      <td>0.000</td>\n",
              "      <td>3.3426</td>\n",
              "      <td>-0.007</td>\n",
              "      <td>-0.000337</td>\n",
              "      <td>0.000</td>\n",
              "      <td>24.257</td>\n",
              "      <td>Test_Unit_1</td>\n",
              "      <td>Charge</td>\n",
              "      <td>1</td>\n",
              "      <td>NaN</td>\n",
              "      <td>NaN</td>\n",
              "    </tr>\n",
              "    <tr>\n",
              "      <th>1</th>\n",
              "      <td>2.485</td>\n",
              "      <td>2.9686</td>\n",
              "      <td>1.396</td>\n",
              "      <td>-3.326200</td>\n",
              "      <td>-3.342</td>\n",
              "      <td>24.255</td>\n",
              "      <td>Test_Unit_1</td>\n",
              "      <td>Charge</td>\n",
              "      <td>1</td>\n",
              "      <td>NaN</td>\n",
              "      <td>NaN</td>\n",
              "    </tr>\n",
              "    <tr>\n",
              "      <th>2</th>\n",
              "      <td>5.219</td>\n",
              "      <td>3.4795</td>\n",
              "      <td>4.187</td>\n",
              "      <td>1.515600</td>\n",
              "      <td>1.507</td>\n",
              "      <td>24.287</td>\n",
              "      <td>Test_Unit_1</td>\n",
              "      <td>Charge</td>\n",
              "      <td>1</td>\n",
              "      <td>NaN</td>\n",
              "      <td>NaN</td>\n",
              "    </tr>\n",
              "    <tr>\n",
              "      <th>3</th>\n",
              "      <td>7.766</td>\n",
              "      <td>3.4979</td>\n",
              "      <td>4.219</td>\n",
              "      <td>1.513700</td>\n",
              "      <td>1.507</td>\n",
              "      <td>24.300</td>\n",
              "      <td>Test_Unit_1</td>\n",
              "      <td>Charge</td>\n",
              "      <td>1</td>\n",
              "      <td>NaN</td>\n",
              "      <td>NaN</td>\n",
              "    </tr>\n",
              "    <tr>\n",
              "      <th>4</th>\n",
              "      <td>10.313</td>\n",
              "      <td>3.5105</td>\n",
              "      <td>4.235</td>\n",
              "      <td>1.516100</td>\n",
              "      <td>1.507</td>\n",
              "      <td>24.299</td>\n",
              "      <td>Test_Unit_1</td>\n",
              "      <td>Charge</td>\n",
              "      <td>1</td>\n",
              "      <td>NaN</td>\n",
              "      <td>NaN</td>\n",
              "    </tr>\n",
              "  </tbody>\n",
              "</table>\n",
              "</div>"
            ],
            "text/plain": [
              "     Time      VM     VC        CM     CC  ...    unit_name    mode Cycle  VL  CL\n",
              "0   0.000  3.3426 -0.007 -0.000337  0.000  ...  Test_Unit_1  Charge     1 NaN NaN\n",
              "1   2.485  2.9686  1.396 -3.326200 -3.342  ...  Test_Unit_1  Charge     1 NaN NaN\n",
              "2   5.219  3.4795  4.187  1.515600  1.507  ...  Test_Unit_1  Charge     1 NaN NaN\n",
              "3   7.766  3.4979  4.219  1.513700  1.507  ...  Test_Unit_1  Charge     1 NaN NaN\n",
              "4  10.313  3.5105  4.235  1.516100  1.507  ...  Test_Unit_1  Charge     1 NaN NaN\n",
              "\n",
              "[5 rows x 11 columns]"
            ]
          },
          "metadata": {},
          "execution_count": 108
        }
      ]
    },
    {
      "cell_type": "code",
      "metadata": {
        "id": "edZBPd3CZT4r"
      },
      "source": [
        "df_test_unit_1 = df_base_test[df_base_test['unit_name'] == 'Test_Unit_1'].reset_index(drop=True)\n",
        "df_test_unit_2 = df_base_test[df_base_test['unit_name'] == 'Test_Unit_2'].reset_index(drop=True)\n",
        "df_test_unit_3 = df_base_test[df_base_test['unit_name'] == 'Test_Unit_3'].reset_index(drop=True)"
      ],
      "execution_count": 117,
      "outputs": []
    },
    {
      "cell_type": "code",
      "metadata": {
        "colab": {
          "base_uri": "https://localhost:8080/",
          "height": 206
        },
        "id": "MCajrIiZaHGc",
        "outputId": "87f23d9b-5715-4562-ae92-1c5614c5a14e"
      },
      "source": [
        "df_test_unit_1.head()"
      ],
      "execution_count": 121,
      "outputs": [
        {
          "output_type": "execute_result",
          "data": {
            "text/html": [
              "<div>\n",
              "<style scoped>\n",
              "    .dataframe tbody tr th:only-of-type {\n",
              "        vertical-align: middle;\n",
              "    }\n",
              "\n",
              "    .dataframe tbody tr th {\n",
              "        vertical-align: top;\n",
              "    }\n",
              "\n",
              "    .dataframe thead th {\n",
              "        text-align: right;\n",
              "    }\n",
              "</style>\n",
              "<table border=\"1\" class=\"dataframe\">\n",
              "  <thead>\n",
              "    <tr style=\"text-align: right;\">\n",
              "      <th></th>\n",
              "      <th>Time</th>\n",
              "      <th>VM</th>\n",
              "      <th>VC</th>\n",
              "      <th>CM</th>\n",
              "      <th>CC</th>\n",
              "      <th>Temp</th>\n",
              "      <th>unit_name</th>\n",
              "      <th>mode</th>\n",
              "      <th>Cycle</th>\n",
              "      <th>VL</th>\n",
              "      <th>CL</th>\n",
              "    </tr>\n",
              "  </thead>\n",
              "  <tbody>\n",
              "    <tr>\n",
              "      <th>0</th>\n",
              "      <td>0.000</td>\n",
              "      <td>3.3426</td>\n",
              "      <td>-0.007</td>\n",
              "      <td>-0.000337</td>\n",
              "      <td>0.000</td>\n",
              "      <td>24.257</td>\n",
              "      <td>Test_Unit_1</td>\n",
              "      <td>Charge</td>\n",
              "      <td>1</td>\n",
              "      <td>NaN</td>\n",
              "      <td>NaN</td>\n",
              "    </tr>\n",
              "    <tr>\n",
              "      <th>1</th>\n",
              "      <td>2.485</td>\n",
              "      <td>2.9686</td>\n",
              "      <td>1.396</td>\n",
              "      <td>-3.326200</td>\n",
              "      <td>-3.342</td>\n",
              "      <td>24.255</td>\n",
              "      <td>Test_Unit_1</td>\n",
              "      <td>Charge</td>\n",
              "      <td>1</td>\n",
              "      <td>NaN</td>\n",
              "      <td>NaN</td>\n",
              "    </tr>\n",
              "    <tr>\n",
              "      <th>2</th>\n",
              "      <td>5.219</td>\n",
              "      <td>3.4795</td>\n",
              "      <td>4.187</td>\n",
              "      <td>1.515600</td>\n",
              "      <td>1.507</td>\n",
              "      <td>24.287</td>\n",
              "      <td>Test_Unit_1</td>\n",
              "      <td>Charge</td>\n",
              "      <td>1</td>\n",
              "      <td>NaN</td>\n",
              "      <td>NaN</td>\n",
              "    </tr>\n",
              "    <tr>\n",
              "      <th>3</th>\n",
              "      <td>7.766</td>\n",
              "      <td>3.4979</td>\n",
              "      <td>4.219</td>\n",
              "      <td>1.513700</td>\n",
              "      <td>1.507</td>\n",
              "      <td>24.300</td>\n",
              "      <td>Test_Unit_1</td>\n",
              "      <td>Charge</td>\n",
              "      <td>1</td>\n",
              "      <td>NaN</td>\n",
              "      <td>NaN</td>\n",
              "    </tr>\n",
              "    <tr>\n",
              "      <th>4</th>\n",
              "      <td>10.313</td>\n",
              "      <td>3.5105</td>\n",
              "      <td>4.235</td>\n",
              "      <td>1.516100</td>\n",
              "      <td>1.507</td>\n",
              "      <td>24.299</td>\n",
              "      <td>Test_Unit_1</td>\n",
              "      <td>Charge</td>\n",
              "      <td>1</td>\n",
              "      <td>NaN</td>\n",
              "      <td>NaN</td>\n",
              "    </tr>\n",
              "  </tbody>\n",
              "</table>\n",
              "</div>"
            ],
            "text/plain": [
              "     Time      VM     VC        CM     CC  ...    unit_name    mode Cycle  VL  CL\n",
              "0   0.000  3.3426 -0.007 -0.000337  0.000  ...  Test_Unit_1  Charge     1 NaN NaN\n",
              "1   2.485  2.9686  1.396 -3.326200 -3.342  ...  Test_Unit_1  Charge     1 NaN NaN\n",
              "2   5.219  3.4795  4.187  1.515600  1.507  ...  Test_Unit_1  Charge     1 NaN NaN\n",
              "3   7.766  3.4979  4.219  1.513700  1.507  ...  Test_Unit_1  Charge     1 NaN NaN\n",
              "4  10.313  3.5105  4.235  1.516100  1.507  ...  Test_Unit_1  Charge     1 NaN NaN\n",
              "\n",
              "[5 rows x 11 columns]"
            ]
          },
          "metadata": {},
          "execution_count": 121
        }
      ]
    },
    {
      "cell_type": "code",
      "metadata": {
        "id": "0IBrhJ34aIs_"
      },
      "source": [
        "df_test_unit_1_C = df_test_unit_1[df_test_unit_1['mode'] == 'Charge']\n",
        "df_test_unit_1_D = df_test_unit_1[df_test_unit_1['mode'] == 'Discharge']"
      ],
      "execution_count": 122,
      "outputs": []
    },
    {
      "cell_type": "code",
      "metadata": {
        "colab": {
          "base_uri": "https://localhost:8080/",
          "height": 206
        },
        "id": "RWgplY1vayI6",
        "outputId": "d4edfcc3-8685-4b15-fa9f-d6c6f06efed2"
      },
      "source": [
        "#インターバルは50sec。\n",
        "grouped_test_unit_1_C = add_group(11000, df_test_unit_1_C, interval=50)\n",
        "grouped_test_unit_1_C = grouped_test_unit_1_C.reset_index(drop=True)\n",
        "grouped_test_unit_1_C.head()"
      ],
      "execution_count": 123,
      "outputs": [
        {
          "output_type": "execute_result",
          "data": {
            "text/html": [
              "<div>\n",
              "<style scoped>\n",
              "    .dataframe tbody tr th:only-of-type {\n",
              "        vertical-align: middle;\n",
              "    }\n",
              "\n",
              "    .dataframe tbody tr th {\n",
              "        vertical-align: top;\n",
              "    }\n",
              "\n",
              "    .dataframe thead th {\n",
              "        text-align: right;\n",
              "    }\n",
              "</style>\n",
              "<table border=\"1\" class=\"dataframe\">\n",
              "  <thead>\n",
              "    <tr style=\"text-align: right;\">\n",
              "      <th></th>\n",
              "      <th>Time</th>\n",
              "      <th>VM</th>\n",
              "      <th>VC</th>\n",
              "      <th>CM</th>\n",
              "      <th>CC</th>\n",
              "      <th>Temp</th>\n",
              "      <th>unit_name</th>\n",
              "      <th>mode</th>\n",
              "      <th>Cycle</th>\n",
              "      <th>VL</th>\n",
              "      <th>CL</th>\n",
              "      <th>group_id</th>\n",
              "    </tr>\n",
              "  </thead>\n",
              "  <tbody>\n",
              "    <tr>\n",
              "      <th>0</th>\n",
              "      <td>2.485</td>\n",
              "      <td>2.9686</td>\n",
              "      <td>1.396</td>\n",
              "      <td>-3.3262</td>\n",
              "      <td>-3.342</td>\n",
              "      <td>24.255</td>\n",
              "      <td>Test_Unit_1</td>\n",
              "      <td>Charge</td>\n",
              "      <td>1</td>\n",
              "      <td>NaN</td>\n",
              "      <td>NaN</td>\n",
              "      <td>0.0 -- 50.0</td>\n",
              "    </tr>\n",
              "    <tr>\n",
              "      <th>1</th>\n",
              "      <td>5.219</td>\n",
              "      <td>3.4795</td>\n",
              "      <td>4.187</td>\n",
              "      <td>1.5156</td>\n",
              "      <td>1.507</td>\n",
              "      <td>24.287</td>\n",
              "      <td>Test_Unit_1</td>\n",
              "      <td>Charge</td>\n",
              "      <td>1</td>\n",
              "      <td>NaN</td>\n",
              "      <td>NaN</td>\n",
              "      <td>0.0 -- 50.0</td>\n",
              "    </tr>\n",
              "    <tr>\n",
              "      <th>2</th>\n",
              "      <td>7.766</td>\n",
              "      <td>3.4979</td>\n",
              "      <td>4.219</td>\n",
              "      <td>1.5137</td>\n",
              "      <td>1.507</td>\n",
              "      <td>24.300</td>\n",
              "      <td>Test_Unit_1</td>\n",
              "      <td>Charge</td>\n",
              "      <td>1</td>\n",
              "      <td>NaN</td>\n",
              "      <td>NaN</td>\n",
              "      <td>0.0 -- 50.0</td>\n",
              "    </tr>\n",
              "    <tr>\n",
              "      <th>3</th>\n",
              "      <td>10.313</td>\n",
              "      <td>3.5105</td>\n",
              "      <td>4.235</td>\n",
              "      <td>1.5161</td>\n",
              "      <td>1.507</td>\n",
              "      <td>24.299</td>\n",
              "      <td>Test_Unit_1</td>\n",
              "      <td>Charge</td>\n",
              "      <td>1</td>\n",
              "      <td>NaN</td>\n",
              "      <td>NaN</td>\n",
              "      <td>0.0 -- 50.0</td>\n",
              "    </tr>\n",
              "    <tr>\n",
              "      <th>4</th>\n",
              "      <td>12.875</td>\n",
              "      <td>3.5218</td>\n",
              "      <td>4.246</td>\n",
              "      <td>1.5162</td>\n",
              "      <td>1.507</td>\n",
              "      <td>24.299</td>\n",
              "      <td>Test_Unit_1</td>\n",
              "      <td>Charge</td>\n",
              "      <td>1</td>\n",
              "      <td>NaN</td>\n",
              "      <td>NaN</td>\n",
              "      <td>0.0 -- 50.0</td>\n",
              "    </tr>\n",
              "  </tbody>\n",
              "</table>\n",
              "</div>"
            ],
            "text/plain": [
              "     Time      VM     VC      CM     CC  ...    mode Cycle  VL  CL     group_id\n",
              "0   2.485  2.9686  1.396 -3.3262 -3.342  ...  Charge     1 NaN NaN  0.0 -- 50.0\n",
              "1   5.219  3.4795  4.187  1.5156  1.507  ...  Charge     1 NaN NaN  0.0 -- 50.0\n",
              "2   7.766  3.4979  4.219  1.5137  1.507  ...  Charge     1 NaN NaN  0.0 -- 50.0\n",
              "3  10.313  3.5105  4.235  1.5161  1.507  ...  Charge     1 NaN NaN  0.0 -- 50.0\n",
              "4  12.875  3.5218  4.246  1.5162  1.507  ...  Charge     1 NaN NaN  0.0 -- 50.0\n",
              "\n",
              "[5 rows x 12 columns]"
            ]
          },
          "metadata": {},
          "execution_count": 123
        }
      ]
    },
    {
      "cell_type": "code",
      "metadata": {
        "colab": {
          "base_uri": "https://localhost:8080/",
          "height": 206
        },
        "id": "bNaUyfaMbLRc",
        "outputId": "1deafa1e-9af9-4e68-b34c-a14312de7af7"
      },
      "source": [
        "#インターバルは50sec。\n",
        "grouped_test_unit_1_D = add_group(11000, df_test_unit_1_D, interval=50)\n",
        "grouped_test_unit_1_D = grouped_test_unit_1_D.reset_index(drop=True)\n",
        "grouped_test_unit_1_D.head()"
      ],
      "execution_count": 124,
      "outputs": [
        {
          "output_type": "execute_result",
          "data": {
            "text/html": [
              "<div>\n",
              "<style scoped>\n",
              "    .dataframe tbody tr th:only-of-type {\n",
              "        vertical-align: middle;\n",
              "    }\n",
              "\n",
              "    .dataframe tbody tr th {\n",
              "        vertical-align: top;\n",
              "    }\n",
              "\n",
              "    .dataframe thead th {\n",
              "        text-align: right;\n",
              "    }\n",
              "</style>\n",
              "<table border=\"1\" class=\"dataframe\">\n",
              "  <thead>\n",
              "    <tr style=\"text-align: right;\">\n",
              "      <th></th>\n",
              "      <th>Time</th>\n",
              "      <th>VM</th>\n",
              "      <th>VC</th>\n",
              "      <th>CM</th>\n",
              "      <th>CC</th>\n",
              "      <th>Temp</th>\n",
              "      <th>unit_name</th>\n",
              "      <th>mode</th>\n",
              "      <th>Cycle</th>\n",
              "      <th>VL</th>\n",
              "      <th>CL</th>\n",
              "      <th>group_id</th>\n",
              "    </tr>\n",
              "  </thead>\n",
              "  <tbody>\n",
              "    <tr>\n",
              "      <th>0</th>\n",
              "      <td>9.422</td>\n",
              "      <td>4.1882</td>\n",
              "      <td>NaN</td>\n",
              "      <td>0.001459</td>\n",
              "      <td>NaN</td>\n",
              "      <td>23.829</td>\n",
              "      <td>Test_Unit_1</td>\n",
              "      <td>Discharge</td>\n",
              "      <td>1</td>\n",
              "      <td>4.203</td>\n",
              "      <td>0.0006</td>\n",
              "      <td>0.0 -- 50.0</td>\n",
              "    </tr>\n",
              "    <tr>\n",
              "      <th>1</th>\n",
              "      <td>19.578</td>\n",
              "      <td>3.9774</td>\n",
              "      <td>NaN</td>\n",
              "      <td>-2.005700</td>\n",
              "      <td>NaN</td>\n",
              "      <td>23.845</td>\n",
              "      <td>Test_Unit_1</td>\n",
              "      <td>Discharge</td>\n",
              "      <td>1</td>\n",
              "      <td>3.029</td>\n",
              "      <td>1.9988</td>\n",
              "      <td>0.0 -- 50.0</td>\n",
              "    </tr>\n",
              "    <tr>\n",
              "      <th>2</th>\n",
              "      <td>29.016</td>\n",
              "      <td>3.9620</td>\n",
              "      <td>NaN</td>\n",
              "      <td>-2.012200</td>\n",
              "      <td>NaN</td>\n",
              "      <td>23.926</td>\n",
              "      <td>Test_Unit_1</td>\n",
              "      <td>Discharge</td>\n",
              "      <td>1</td>\n",
              "      <td>3.026</td>\n",
              "      <td>1.9988</td>\n",
              "      <td>0.0 -- 50.0</td>\n",
              "    </tr>\n",
              "    <tr>\n",
              "      <th>3</th>\n",
              "      <td>38.485</td>\n",
              "      <td>3.9498</td>\n",
              "      <td>NaN</td>\n",
              "      <td>-2.012000</td>\n",
              "      <td>NaN</td>\n",
              "      <td>24.011</td>\n",
              "      <td>Test_Unit_1</td>\n",
              "      <td>Discharge</td>\n",
              "      <td>1</td>\n",
              "      <td>3.015</td>\n",
              "      <td>1.9988</td>\n",
              "      <td>0.0 -- 50.0</td>\n",
              "    </tr>\n",
              "    <tr>\n",
              "      <th>4</th>\n",
              "      <td>47.906</td>\n",
              "      <td>3.9396</td>\n",
              "      <td>NaN</td>\n",
              "      <td>-2.007300</td>\n",
              "      <td>NaN</td>\n",
              "      <td>24.103</td>\n",
              "      <td>Test_Unit_1</td>\n",
              "      <td>Discharge</td>\n",
              "      <td>1</td>\n",
              "      <td>3.005</td>\n",
              "      <td>1.9988</td>\n",
              "      <td>0.0 -- 50.0</td>\n",
              "    </tr>\n",
              "  </tbody>\n",
              "</table>\n",
              "</div>"
            ],
            "text/plain": [
              "     Time      VM  VC        CM  ...  Cycle     VL      CL     group_id\n",
              "0   9.422  4.1882 NaN  0.001459  ...      1  4.203  0.0006  0.0 -- 50.0\n",
              "1  19.578  3.9774 NaN -2.005700  ...      1  3.029  1.9988  0.0 -- 50.0\n",
              "2  29.016  3.9620 NaN -2.012200  ...      1  3.026  1.9988  0.0 -- 50.0\n",
              "3  38.485  3.9498 NaN -2.012000  ...      1  3.015  1.9988  0.0 -- 50.0\n",
              "4  47.906  3.9396 NaN -2.007300  ...      1  3.005  1.9988  0.0 -- 50.0\n",
              "\n",
              "[5 rows x 12 columns]"
            ]
          },
          "metadata": {},
          "execution_count": 124
        }
      ]
    },
    {
      "cell_type": "code",
      "metadata": {
        "id": "8FIjRIRVbR9R"
      },
      "source": [
        "#サイクル、グループID毎にグループ化し、平均値をとる。\n",
        "grouped_test_unit_1_C_mean = grouped_test_unit_1_C.groupby(['Cycle', 'group_id']).mean().sort_values(['Cycle','Time'])\n",
        "grouped_test_unit_1_D_mean = grouped_test_unit_1_D.groupby(['Cycle', 'group_id']).mean().sort_values(['Cycle','Time'])"
      ],
      "execution_count": 125,
      "outputs": []
    },
    {
      "cell_type": "code",
      "metadata": {
        "id": "CIjS5z57bviL"
      },
      "source": [
        "df_test_dict_VM_c = components_to_DF(grouped_test_unit_1_C_mean, 'VM', 'C')\n",
        "df_test_dict_VC_c = components_to_DF(grouped_test_unit_1_C_mean, 'VC', 'C')\n",
        "df_test_dict_CM_c = components_to_DF(grouped_test_unit_1_C_mean, 'CM', 'C')\n",
        "df_test_dict_CC_c = components_to_DF(grouped_test_unit_1_C_mean, 'CC', 'C')\n",
        "df_test_dict_Temp_c = components_to_DF(grouped_test_unit_1_C_mean, 'Temp', 'C')\n",
        "df_test_dict_VM_d = components_to_DF(grouped_test_unit_1_D_mean,'VM', 'D')\n",
        "df_test_dict_CM_d = components_to_DF(grouped_test_unit_1_D_mean,'CM', 'D')\n",
        "df_test_dict_Temp_d = components_to_DF(grouped_test_unit_1_D_mean,'Temp', 'D')\n",
        "df_test_dict_VL_d = components_to_DF(grouped_test_unit_1_D_mean,'VL', 'D')"
      ],
      "execution_count": 126,
      "outputs": []
    },
    {
      "cell_type": "code",
      "metadata": {
        "id": "bgKEq_KWcKJc"
      },
      "source": [
        "#特徴量の選択\n",
        "df_test_1 = df_test_dict_VM_c.iloc[:, [0,4,5,6,7,8]]\n",
        "df_test_2 = df_test_dict_VC_c.iloc[:, [2,4]]\n",
        "df_test_3 = df_test_dict_CM_c.iloc[:, [1,2,6]]\n",
        "df_test_4 = df_test_dict_CC_c.iloc[:, [1,2,6]]\n",
        "df_test_5 = df_test_dict_Temp_c.iloc[:, [1,4]]\n",
        "df_test_6 = df_test_dict_VM_d.iloc[:, [1]]\n",
        "df_test_7 = df_test_dict_Temp_d.iloc[:, [1,3]]\n",
        "df_test_8 = df_test_dict_VL_d.iloc[:, [1]]"
      ],
      "execution_count": 127,
      "outputs": []
    },
    {
      "cell_type": "code",
      "metadata": {
        "id": "Me_c84iCcZx2"
      },
      "source": [
        "df_test_dict_merge = pd.concat([df_test_1, df_test_2, df_test_3, df_test_4, df_test_5, df_test_6, df_test_7, df_test_8], axis=1)"
      ],
      "execution_count": 128,
      "outputs": []
    },
    {
      "cell_type": "code",
      "metadata": {
        "colab": {
          "base_uri": "https://localhost:8080/",
          "height": 226
        },
        "id": "HR7E-u4jcnLp",
        "outputId": "0ed1f4bd-3404-4fd5-c3ce-ab0c523c5b34"
      },
      "source": [
        "df_test_dict_merge.head()"
      ],
      "execution_count": 129,
      "outputs": [
        {
          "output_type": "execute_result",
          "data": {
            "text/html": [
              "<div>\n",
              "<style scoped>\n",
              "    .dataframe tbody tr th:only-of-type {\n",
              "        vertical-align: middle;\n",
              "    }\n",
              "\n",
              "    .dataframe tbody tr th {\n",
              "        vertical-align: top;\n",
              "    }\n",
              "\n",
              "    .dataframe thead th {\n",
              "        text-align: right;\n",
              "    }\n",
              "</style>\n",
              "<table border=\"1\" class=\"dataframe\">\n",
              "  <thead>\n",
              "    <tr style=\"text-align: right;\">\n",
              "      <th></th>\n",
              "      <th>Component_0_VM_C</th>\n",
              "      <th>Component_4_VM_C</th>\n",
              "      <th>Component_5_VM_C</th>\n",
              "      <th>Component_6_VM_C</th>\n",
              "      <th>Component_7_VM_C</th>\n",
              "      <th>Component_8_VM_C</th>\n",
              "      <th>Component_2_VC_C</th>\n",
              "      <th>Component_4_VC_C</th>\n",
              "      <th>Component_1_CM_C</th>\n",
              "      <th>Component_2_CM_C</th>\n",
              "      <th>Component_6_CM_C</th>\n",
              "      <th>Component_1_CC_C</th>\n",
              "      <th>Component_2_CC_C</th>\n",
              "      <th>Component_6_CC_C</th>\n",
              "      <th>Component_1_Temp_C</th>\n",
              "      <th>Component_4_Temp_C</th>\n",
              "      <th>Component_1_VM_D</th>\n",
              "      <th>Component_1_Temp_D</th>\n",
              "      <th>Component_3_Temp_D</th>\n",
              "      <th>Component_1_VL_D</th>\n",
              "    </tr>\n",
              "  </thead>\n",
              "  <tbody>\n",
              "    <tr>\n",
              "      <th>0</th>\n",
              "      <td>0.119449</td>\n",
              "      <td>0.119336</td>\n",
              "      <td>0.119617</td>\n",
              "      <td>0.000000</td>\n",
              "      <td>0.116113</td>\n",
              "      <td>0.118285</td>\n",
              "      <td>0.184309</td>\n",
              "      <td>0.119971</td>\n",
              "      <td>0.316629</td>\n",
              "      <td>0.000000</td>\n",
              "      <td>0.121055</td>\n",
              "      <td>0.084065</td>\n",
              "      <td>0.000000</td>\n",
              "      <td>0.121116</td>\n",
              "      <td>0.115593</td>\n",
              "      <td>0.070178</td>\n",
              "      <td>0.053571</td>\n",
              "      <td>0.120609</td>\n",
              "      <td>0.000000</td>\n",
              "      <td>0.00000</td>\n",
              "    </tr>\n",
              "    <tr>\n",
              "      <th>1</th>\n",
              "      <td>0.118890</td>\n",
              "      <td>0.119167</td>\n",
              "      <td>0.119048</td>\n",
              "      <td>0.000000</td>\n",
              "      <td>0.116514</td>\n",
              "      <td>0.118533</td>\n",
              "      <td>0.000000</td>\n",
              "      <td>0.119528</td>\n",
              "      <td>0.081938</td>\n",
              "      <td>0.000000</td>\n",
              "      <td>0.121110</td>\n",
              "      <td>0.114346</td>\n",
              "      <td>0.000000</td>\n",
              "      <td>0.121109</td>\n",
              "      <td>0.117153</td>\n",
              "      <td>0.080714</td>\n",
              "      <td>0.272782</td>\n",
              "      <td>0.120947</td>\n",
              "      <td>0.000000</td>\n",
              "      <td>0.00000</td>\n",
              "    </tr>\n",
              "    <tr>\n",
              "      <th>2</th>\n",
              "      <td>0.118972</td>\n",
              "      <td>0.119080</td>\n",
              "      <td>0.119148</td>\n",
              "      <td>0.108597</td>\n",
              "      <td>0.116549</td>\n",
              "      <td>0.118428</td>\n",
              "      <td>0.000000</td>\n",
              "      <td>0.119529</td>\n",
              "      <td>0.010898</td>\n",
              "      <td>0.000000</td>\n",
              "      <td>0.121116</td>\n",
              "      <td>0.000000</td>\n",
              "      <td>0.316569</td>\n",
              "      <td>0.121106</td>\n",
              "      <td>0.114663</td>\n",
              "      <td>0.079157</td>\n",
              "      <td>0.149001</td>\n",
              "      <td>0.118858</td>\n",
              "      <td>0.192280</td>\n",
              "      <td>0.00000</td>\n",
              "    </tr>\n",
              "    <tr>\n",
              "      <th>3</th>\n",
              "      <td>0.119427</td>\n",
              "      <td>0.119006</td>\n",
              "      <td>0.119766</td>\n",
              "      <td>0.282063</td>\n",
              "      <td>0.116425</td>\n",
              "      <td>0.118064</td>\n",
              "      <td>0.000000</td>\n",
              "      <td>0.119908</td>\n",
              "      <td>0.000000</td>\n",
              "      <td>0.000000</td>\n",
              "      <td>0.121100</td>\n",
              "      <td>0.000000</td>\n",
              "      <td>0.000000</td>\n",
              "      <td>0.121116</td>\n",
              "      <td>0.112797</td>\n",
              "      <td>0.068203</td>\n",
              "      <td>0.000000</td>\n",
              "      <td>0.117149</td>\n",
              "      <td>0.000000</td>\n",
              "      <td>0.00000</td>\n",
              "    </tr>\n",
              "    <tr>\n",
              "      <th>4</th>\n",
              "      <td>0.118122</td>\n",
              "      <td>0.119135</td>\n",
              "      <td>0.117826</td>\n",
              "      <td>0.000000</td>\n",
              "      <td>0.117498</td>\n",
              "      <td>0.119493</td>\n",
              "      <td>0.000000</td>\n",
              "      <td>0.118947</td>\n",
              "      <td>0.135617</td>\n",
              "      <td>0.116713</td>\n",
              "      <td>0.121107</td>\n",
              "      <td>0.083921</td>\n",
              "      <td>0.000000</td>\n",
              "      <td>0.121116</td>\n",
              "      <td>0.125664</td>\n",
              "      <td>0.146507</td>\n",
              "      <td>0.093677</td>\n",
              "      <td>0.121128</td>\n",
              "      <td>0.057128</td>\n",
              "      <td>0.32149</td>\n",
              "    </tr>\n",
              "  </tbody>\n",
              "</table>\n",
              "</div>"
            ],
            "text/plain": [
              "   Component_0_VM_C  Component_4_VM_C  ...  Component_3_Temp_D  Component_1_VL_D\n",
              "0          0.119449          0.119336  ...            0.000000           0.00000\n",
              "1          0.118890          0.119167  ...            0.000000           0.00000\n",
              "2          0.118972          0.119080  ...            0.192280           0.00000\n",
              "3          0.119427          0.119006  ...            0.000000           0.00000\n",
              "4          0.118122          0.119135  ...            0.057128           0.32149\n",
              "\n",
              "[5 rows x 20 columns]"
            ]
          },
          "metadata": {},
          "execution_count": 129
        }
      ]
    },
    {
      "cell_type": "code",
      "metadata": {
        "id": "n_zxBcXNcyP6"
      },
      "source": [
        "test_X = df_test_dict_merge"
      ],
      "execution_count": 130,
      "outputs": []
    },
    {
      "cell_type": "code",
      "metadata": {
        "colab": {
          "base_uri": "https://localhost:8080/"
        },
        "id": "9VC7m1-ycn82",
        "outputId": "c43f4387-53ed-48ea-e2c9-9d79ec9ccedd"
      },
      "source": [
        "#テストデータの予測値を出力\n",
        "pred = model.predict(test_X)\n",
        "pred"
      ],
      "execution_count": 131,
      "outputs": [
        {
          "output_type": "execute_result",
          "data": {
            "text/plain": [
              "array([67.69974 , 66.32223 , 64.31731 , 66.94498 , 73.6668  , 55.553787,\n",
              "       72.871895, 56.348694, 88.200676, 52.987514, 72.871895, 72.871895,\n",
              "       55.553787, 88.99558 , 55.553787, 55.07694 , 72.871895, 51.71576 ,\n",
              "       66.94498 , 72.871895, 52.510666, 52.987514, 53.78242 , 67.69974 ,\n",
              "       70.30562 , 52.510666, 55.553787, 54.282032, 83.476944, 55.553787,\n",
              "       53.78242 , 52.987514, 72.871895, 83.22692 , 54.282032, 53.78242 ,\n",
              "       52.987514, 51.71576 , 67.69974 , 56.348694, 55.553787, 55.553787,\n",
              "       71.100525, 67.69974 , 52.987514, 86.429306, 52.987514, 55.553787,\n",
              "       52.987514, 52.987514, 65.92836 , 52.987514, 55.553787, 52.987514,\n",
              "       55.553787, 66.94498 , 88.99558 , 52.987514, 56.348694, 71.100525,\n",
              "       73.6668  , 65.13346 , 56.348694, 55.553787, 72.871895, 54.282032,\n",
              "       66.94498 , 55.553787, 55.07694 , 72.871895], dtype=float32)"
            ]
          },
          "metadata": {},
          "execution_count": 131
        }
      ]
    },
    {
      "cell_type": "code",
      "metadata": {
        "colab": {
          "base_uri": "https://localhost:8080/",
          "height": 295
        },
        "id": "WAQTS1_2c428",
        "outputId": "05eefd8f-4e0a-4121-b5ff-4aa596a2dda0"
      },
      "source": [
        "fig, ax = plt.subplots()\n",
        "\n",
        "ax.hist(pred, bins=10)\n",
        "\n",
        "ax.set_title('train:Unit1, test:Unit1')\n",
        "ax.set_xlabel('RLU')\n",
        "ax.set_ylabel('count')\n",
        "\n",
        "plt.show()"
      ],
      "execution_count": 132,
      "outputs": [
        {
          "output_type": "display_data",
          "data": {
            "image/png": "[encoded data removed]",
            "text/plain": [
              "<Figure size 432x288 with 1 Axes>"
            ]
          },
          "metadata": {
            "needs_background": "light"
          }
        }
      ]
    }
  ]
}
{
  "nbformat": 4,
  "nbformat_minor": 0,
  "metadata": {
    "colab": {
      "name": "210921_提出用ファイル作成.ipynb",
      "provenance": [],
      "collapsed_sections": [],
      "mount_file_id": "19jw1O4G4j3tCbTuGLXvaAlhhIQq6M2cH",
      "authorship_tag": "ABX9TyPONdLwRwau6HVQm3WEEZ8X",
      "include_colab_link": true
    },
    "kernelspec": {
      "name": "python3",
      "display_name": "Python 3"
    },
    "language_info": {
      "name": "python"
    }
  },
  "cells": [
    {
      "cell_type": "markdown",
      "metadata": {
        "id": "view-in-github",
        "colab_type": "text"
      },
      "source": [
        "<a href=\"https://colab.research.google.com/github/minassy/ISID_2021/blob/main/210921_%E6%8F%90%E5%87%BA%E7%94%A8%E3%83%95%E3%82%A1%E3%82%A4%E3%83%AB%E4%BD%9C%E6%88%90.ipynb\" target=\"_parent\"><img src=\"https://colab.research.google.com/assets/colab-badge.svg\" alt=\"Open In Colab\"/></a>"
      ]
    },
    {
      "cell_type": "code",
      "metadata": {
        "id": "fw6e8FrWDVW5"
      },
      "source": [
        "import os\n",
        "import zipfile\n",
        "import glob\n",
        "import pandas as pd\n",
        "import numpy as np\n",
        "import pathlib\n",
        "from tqdm import tqdm\n",
        "import matplotlib.pyplot as plt\n",
        "import seaborn as sns"
      ],
      "execution_count": 1,
      "outputs": []
    },
    {
      "cell_type": "code",
      "metadata": {
        "colab": {
          "base_uri": "https://localhost:8080/"
        },
        "id": "qoBh9UoOKkKn",
        "outputId": "fb553d29-60d4-48be-c917-db59bbc84053"
      },
      "source": [
        "#作業基本ディレクトリ\n",
        "DIR = 'drive/MyDrive/00_Competition/ISID/2021'\n",
        "os.listdir(DIR)\n",
        "#os.mkdir(DIR+'/data')"
      ],
      "execution_count": 2,
      "outputs": [
        {
          "output_type": "execute_result",
          "data": {
            "text/plain": [
              "['data', 'notebook', 'C0002_21_09_2021.csv']"
            ]
          },
          "metadata": {},
          "execution_count": 2
        }
      ]
    },
    {
      "cell_type": "code",
      "metadata": {
        "id": "gRFnPEjhKluZ"
      },
      "source": [
        "DIR_DATA_TRAIN = os.path.join(DIR, 'data', 'Train_Unit_20210903')\n",
        "DIR_DATA_TEST = os.path.join(DIR, 'data', 'Test_Unit_20210903')"
      ],
      "execution_count": 3,
      "outputs": []
    },
    {
      "cell_type": "code",
      "metadata": {
        "id": "JELij5kGKnnd"
      },
      "source": [
        "#一連のデータ処理\n",
        "def get_some_values(file_path):\n",
        "  #ファイルパスから、ユニット名を取得。\n",
        "  dirname = os.path.dirname(file_path)\n",
        "  dirname_split = dirname.split('/')#区切り文字'/'で分割\n",
        "  unit = dirname_split[-2]\n",
        "  charge_mode = dirname_split[-1]\n",
        "  #ファイルパスから、サイクル数を取得。\n",
        "  basename = os.path.basename(file_path)\n",
        "  basename_split = basename.split('_')[4]#区切り文字'_'で分割\n",
        "  cycle_num = basename_split.split('.')[0]\n",
        "  return unit, charge_mode, cycle_num\n",
        "\n",
        "#%time\n",
        "#DATA_DIR = DIR_DATA_TRAIN\n",
        "#DATA_DIR = DIR_DATA_TEST\n",
        "\n",
        "#C = 'Charge'\n",
        "#C = 'Discharge'\n",
        "\n",
        "def data_reading(DATA_DIR, C):\n",
        "\n",
        "  #カラム名変更前後の辞書\n",
        "  col_list = {'Time (s)' : 'Time',\n",
        "              'Voltage Measured (V)' : 'VM',\n",
        "              'Voltage Charge (V)' : 'VC',\n",
        "              'Current Measured (Amps)' : 'CM', \n",
        "              'Current Charge (Amps)' : 'CC',\n",
        "              'Temperature (degree C)': 'Temp', \n",
        "              'unit' : 'unit_name', \n",
        "              'charge_mode' : 'mode', \n",
        "              'Cycle_num' : 'Cycle',\n",
        "              'Voltage Load (V)' : 'VL',\n",
        "              'Current Load (Amps)' : 'CL'\n",
        "  }\n",
        "\n",
        "  df_list = []\n",
        "  for folder in tqdm(os.listdir(DATA_DIR)[:3]):\n",
        "    files = glob.glob(os.path.join(DATA_DIR, folder, C, '*.csv'))\n",
        "    df_list_0 = []\n",
        "    for file in files:\n",
        "      tmp_df = pd.read_csv(file, encoding='utf-8')\n",
        "      tmp_df = tmp_df.rename(columns=col_list)\n",
        "      #ユニット名、充・放電モード、サイクル数の取得\n",
        "      unit, charge_mode, cycle_num = get_some_values(file)\n",
        "      #特徴量のデータフレームの作成\n",
        "      if C == 'Charge':\n",
        "        df_exp = pd.DataFrame([{'unit':unit,\n",
        "                          'charge_mode' : charge_mode,\n",
        "                          'Cycle_num' : int(cycle_num),\n",
        "                          'feature_c_vm' : featured_c_vm(tmp_df),\n",
        "                          'feature_c_cm' : featured_c_cm(tmp_df),\n",
        "                          'feature_c_vc' : featured_c_vc(tmp_df)}])\n",
        "      else:\n",
        "        df_exp = pd.DataFrame([{'unit':unit,\n",
        "                          'charge_mode' : charge_mode,\n",
        "                          'Cycle_num' : int(cycle_num),\n",
        "                          'feature_d_vm' : featured_d_vm(tmp_df),\n",
        "                          'feature_d_vl' : featured_d_vl(tmp_df)}])\n",
        "      df_list_0.append(df_exp)\n",
        "    df_0 = pd.concat(df_list_0)\n",
        "    df_list.append(df_0)\n",
        "  df = pd.concat(df_list)\n",
        "\n",
        "  #ユニットとサイクルでソート。\n",
        "  df = df.sort_values(['unit', 'Cycle_num'])\n",
        "  #インデックスの振り直し\n",
        "  df = df.reset_index(drop=True)\n",
        "\n",
        "  return df\n",
        "\n",
        "def featured_c_vm(df):\n",
        "  #LAG=5が0.001未満が続くところを、飽和領域とみなす。\n",
        "  p_c_vm = df.loc[:, 'VM'][df.loc[:, 'VM'].diff(5) < 0.001]\n",
        "  #飽和領域のなかで、最初の点を点P_C_VMとする。\n",
        "  p_c_vm = p_c_vm.reset_index(inplace=False)\n",
        "  p_c_vm = p_c_vm['index'].iloc[0]\n",
        "  #充電VMの特徴量は、点P_C_VMにおける時間\n",
        "  feature_c_vm = df['Time'].loc[p_c_vm]\n",
        "  return feature_c_vm\n",
        "\n",
        "def featured_c_cm(df):\n",
        "  #飽和領域からの立ち下がり点(LAG=5の勾配が最小となる点)を点P_C_CMとする。\n",
        "  p_c_cm = np.gradient(df.loc[:, 'CM'].diff(5)[10:]).argmin()\n",
        "  #充電CMの特徴量は、点P_C_CMにおける時間\n",
        "  feature_c_cm = df['Time'].loc[p_c_cm]\n",
        "  return feature_c_cm\n",
        "\n",
        "def featured_c_vc(df):\n",
        "  #VCが最大値を示す点を、点P_C_VCとする。\n",
        "  p_c_vc = df.VC.argmax()\n",
        "  #充電VCの特徴量は、点P_C_VCにおける時間\n",
        "  feature_c_vc = df['Time'].loc[p_c_vc]\n",
        "  return feature_c_vc\n",
        "\n",
        "def featured_d_vm(df):\n",
        "  #VMが最小値を示す点を、点P_D_VMとする。\n",
        "  p_d_vm = df.VM.argmin()\n",
        "  #放電VMの特徴量は、点P_D_VMにおける時間\n",
        "  feature_d_vm = df['Time'].loc[p_d_vm]\n",
        "  return feature_d_vm\n",
        "\n",
        "def featured_d_vl(df):\n",
        "  #VLの最大値点以降の領域において、最小値を示す点を、点P_D_VLとする。\n",
        "  VL_max = df.VL.argmax()\n",
        "  p_d_vl = df.VL[VL_max: ].argmin()\n",
        "  #放電VLの特徴量は、点P_D_VLにおける時間\n",
        "  feature_d_vl = df['Time'].loc[p_d_vl]\n",
        "  return feature_d_vl"
      ],
      "execution_count": 4,
      "outputs": []
    },
    {
      "cell_type": "code",
      "metadata": {
        "colab": {
          "base_uri": "https://localhost:8080/"
        },
        "id": "wLCZQsnGKsEM",
        "outputId": "8460a72f-6492-496c-aeef-3daf6d94b6e8"
      },
      "source": [
        "%time\n",
        "#データの読み込み(学習)\n",
        "#充電\n",
        "\n",
        "DATA_DIR = DIR_DATA_TRAIN\n",
        "#DATA_DIR = DIR_DATA_TEST\n",
        "\n",
        "C = 'Charge'\n",
        "#C = 'Discharge'\n",
        "\n",
        "df_train_charge = data_reading(DATA_DIR, C)\n",
        "\n",
        "#データの読み込み(学習)\n",
        "#放電\n",
        "\n",
        "DATA_DIR = DIR_DATA_TRAIN\n",
        "#DATA_DIR = DIR_DATA_TEST\n",
        "\n",
        "#C = 'Charge'\n",
        "C = 'Discharge'\n",
        "\n",
        "df_train_discharge = data_reading(DATA_DIR, C)\n",
        "\n",
        "#充電と放電の特徴量のデータセット作成\n",
        "df_train_feature = pd.merge(df_train_charge, df_train_discharge,\n",
        "                            how = 'inner',\n",
        "                            on = ['unit', 'Cycle_num'])\n",
        "\n",
        "#データの読み込み(学習)\n",
        "#充電\n",
        "\n",
        "#DATA_DIR = DIR_DATA_TRAIN\n",
        "DATA_DIR = DIR_DATA_TEST\n",
        "\n",
        "C = 'Charge'\n",
        "#C = 'Discharge'\n",
        "\n",
        "df_test_charge = data_reading(DATA_DIR, C)\n",
        "\n",
        "#データの読み込み(学習)\n",
        "#放電\n",
        "\n",
        "#DATA_DIR = DIR_DATA_TRAIN\n",
        "DATA_DIR = DIR_DATA_TEST\n",
        "\n",
        "#C = 'Charge'\n",
        "C = 'Discharge'\n",
        "\n",
        "df_test_discharge = data_reading(DATA_DIR, C)\n",
        "\n",
        "#充電と放電の特徴量のデータセット作成\n",
        "df_test_feature = pd.merge(df_test_charge, df_test_discharge,\n",
        "                            how = 'inner',\n",
        "                            on = ['unit', 'Cycle_num'])"
      ],
      "execution_count": 5,
      "outputs": [
        {
          "output_type": "stream",
          "name": "stdout",
          "text": [
            "CPU times: user 2 µs, sys: 0 ns, total: 2 µs\n",
            "Wall time: 5.25 µs\n"
          ]
        },
        {
          "output_type": "stream",
          "name": "stderr",
          "text": [
            "100%|██████████| 3/3 [00:59<00:00, 19.92s/it]\n",
            "100%|██████████| 3/3 [00:55<00:00, 18.48s/it]\n",
            "100%|██████████| 3/3 [00:31<00:00, 10.57s/it]\n",
            "100%|██████████| 3/3 [00:28<00:00,  9.63s/it]\n"
          ]
        }
      ]
    },
    {
      "cell_type": "markdown",
      "metadata": {
        "id": "rMgSPwInK7Rg"
      },
      "source": [
        "モデリング"
      ]
    },
    {
      "cell_type": "code",
      "metadata": {
        "id": "5k9jD5JaK4Da"
      },
      "source": [
        "num_train_unit_1 = 124\n",
        "num_train_unit_2 = 40\n",
        "num_train_unit_3 = 97\n",
        "\n",
        "num_test_unit_1 = 70\n",
        "num_test_unit_2 = 12\n",
        "num_test_unit_3 = 55"
      ],
      "execution_count": 6,
      "outputs": []
    },
    {
      "cell_type": "code",
      "metadata": {
        "id": "gbOMUoGaLOiQ"
      },
      "source": [
        "from sklearn.linear_model import LinearRegression as LR"
      ],
      "execution_count": 7,
      "outputs": []
    },
    {
      "cell_type": "markdown",
      "metadata": {
        "id": "sihwSsd_LKyt"
      },
      "source": [
        "テストユニット1"
      ]
    },
    {
      "cell_type": "code",
      "metadata": {
        "id": "k30cjKeMLBzt"
      },
      "source": [
        "#学習データとテストデータ\n",
        "train_unit_1 = df_train_feature[df_train_feature['unit'] == 'Train_Unit_1' ].reset_index()\n",
        "test_unit_1 = df_test_feature[df_test_feature['unit'] == 'Test_Unit_1' ].reset_index()"
      ],
      "execution_count": 8,
      "outputs": []
    },
    {
      "cell_type": "code",
      "metadata": {
        "id": "5YQBdJFILGga"
      },
      "source": [
        "train_X = train_unit_1[:num_test_unit_1]['feature_d_vm'].values\n",
        "train_y = test_unit_1[:num_test_unit_1]['feature_d_vm'].values"
      ],
      "execution_count": 9,
      "outputs": []
    },
    {
      "cell_type": "code",
      "metadata": {
        "id": "edheRDq9LS7_"
      },
      "source": [
        "train_X = np.reshape(train_X, (-1, 1))\n",
        "train_y = np.reshape(train_y, (-1, 1))"
      ],
      "execution_count": 10,
      "outputs": []
    },
    {
      "cell_type": "code",
      "metadata": {
        "colab": {
          "base_uri": "https://localhost:8080/"
        },
        "id": "HU1ihKRFLVMB",
        "outputId": "a2b651bb-75a7-4065-e834-3c8731693677"
      },
      "source": [
        "model_lr = LR()\n",
        "model_lr.fit(train_X, train_y)"
      ],
      "execution_count": 11,
      "outputs": [
        {
          "output_type": "execute_result",
          "data": {
            "text/plain": [
              "LinearRegression(copy_X=True, fit_intercept=True, n_jobs=None, normalize=False)"
            ]
          },
          "metadata": {},
          "execution_count": 11
        }
      ]
    },
    {
      "cell_type": "code",
      "metadata": {
        "colab": {
          "base_uri": "https://localhost:8080/",
          "height": 265
        },
        "id": "4OZMB2CMLWk3",
        "outputId": "f9f25df2-ca9a-42b1-b194-a32671fbdb6c"
      },
      "source": [
        "fig, ax = plt.subplots()\n",
        "\n",
        "ax.plot(train_X, train_y, 'o')\n",
        "ax.plot(train_X, model_lr.predict(train_X), linestyle=\"solid\")\n",
        "\n",
        "plt.show()"
      ],
      "execution_count": 12,
      "outputs": [
        {
          "output_type": "display_data",
          "data": {
            "image/png": "[encoded data removed]",
            "text/plain": [
              "<Figure size 432x288 with 1 Axes>"
            ]
          },
          "metadata": {
            "needs_background": "light"
          }
        }
      ]
    },
    {
      "cell_type": "code",
      "metadata": {
        "colab": {
          "base_uri": "https://localhost:8080/"
        },
        "id": "jEwvkRqjLYg5",
        "outputId": "e86ed581-9643-4650-82a0-2a063dbc3c9e"
      },
      "source": [
        "print('モデル関数の回帰変数 w1: %.3f' %model_lr.coef_)\n",
        "print('モデル関数の切片 w2: %.3f' %model_lr.intercept_)\n",
        "print('y= %.3fx + %.3f' % (model_lr.coef_ , model_lr.intercept_))\n",
        "print('決定係数 R^2： ', model_lr.score(train_X, train_y))"
      ],
      "execution_count": 13,
      "outputs": [
        {
          "output_type": "stream",
          "name": "stdout",
          "text": [
            "モデル関数の回帰変数 w1: 1.271\n",
            "モデル関数の切片 w2: -1022.966\n",
            "y= 1.271x + -1022.966\n",
            "決定係数 R^2：  0.7460659839610881\n"
          ]
        }
      ]
    },
    {
      "cell_type": "code",
      "metadata": {
        "id": "uP3P5JbYLaTp"
      },
      "source": [
        "test_X = train_unit_1[num_test_unit_1:]['feature_d_vm'].values\n",
        "test_X = np.reshape(test_X, (-1, 1))\n",
        "#test_X"
      ],
      "execution_count": 14,
      "outputs": []
    },
    {
      "cell_type": "code",
      "metadata": {
        "id": "X2bh81BdLr3-"
      },
      "source": [
        "#テストデータの予測\n",
        "pred_test = model_lr.predict(test_X)\n",
        "#pred_test"
      ],
      "execution_count": 15,
      "outputs": []
    },
    {
      "cell_type": "code",
      "metadata": {
        "id": "wMrN7ZW2LtHT"
      },
      "source": [
        "test_unit_1_70 = train_y\n",
        "test_unit_1_pred = pred_test"
      ],
      "execution_count": 16,
      "outputs": []
    },
    {
      "cell_type": "code",
      "metadata": {
        "id": "0GtnZup3LuWt"
      },
      "source": [
        "test_unit_1 = np.concatenate([test_unit_1_70, test_unit_1_pred])\n",
        "#test_unit_1"
      ],
      "execution_count": 17,
      "outputs": []
    },
    {
      "cell_type": "code",
      "metadata": {
        "colab": {
          "base_uri": "https://localhost:8080/"
        },
        "id": "Tiza-z1HLvzb",
        "outputId": "ca2a8cf7-0fd2-4d00-dcff-6121d90adddf"
      },
      "source": [
        "#ゴール(学習ユニットの故障時の到達点)\n",
        "train_unit_1_min = np.min(train_unit_1['feature_d_vm'].values)\n",
        "train_unit_1_min"
      ],
      "execution_count": 18,
      "outputs": [
        {
          "output_type": "execute_result",
          "data": {
            "text/plain": [
              "2520.9"
            ]
          },
          "metadata": {},
          "execution_count": 18
        }
      ]
    },
    {
      "cell_type": "code",
      "metadata": {
        "colab": {
          "base_uri": "https://localhost:8080/",
          "height": 268
        },
        "id": "Pdvstc6hLyHt",
        "outputId": "f2fb54ca-49bb-44be-85f4-adc8859eea25"
      },
      "source": [
        "fig, ax = plt.subplots()\n",
        "\n",
        "ax.plot(test_unit_1, label='test unit')\n",
        "ax.plot(train_unit_1['feature_d_vm'], label='train unit')\n",
        "\n",
        "plt.hlines(train_unit_1_min, 0, 150, linestyles='--', label='Life time Train_Unit_1')\n",
        "\n",
        "plt.legend()\n",
        "plt.show()"
      ],
      "execution_count": 19,
      "outputs": [
        {
          "output_type": "display_data",
          "data": {
            "image/png": "[encoded data removed]",
            "text/plain": [
              "<Figure size 432x288 with 1 Axes>"
            ]
          },
          "metadata": {
            "needs_background": "light"
          }
        }
      ]
    },
    {
      "cell_type": "code",
      "metadata": {
        "colab": {
          "base_uri": "https://localhost:8080/",
          "height": 419
        },
        "id": "d4n7t_X_L0DV",
        "outputId": "d0ad8497-2918-41ac-a246-8653bb4c42b1"
      },
      "source": [
        "#テストユニットのデータセットを眺める\n",
        "df_test_unit_1 = pd.DataFrame(test_unit_1, columns=['feature_d_vm'])\n",
        "df_test_unit_1['Cycle'] = df_test_unit_1.index + 1\n",
        "df_test_unit_1"
      ],
      "execution_count": 20,
      "outputs": [
        {
          "output_type": "execute_result",
          "data": {
            "text/html": [
              "<div>\n",
              "<style scoped>\n",
              "    .dataframe tbody tr th:only-of-type {\n",
              "        vertical-align: middle;\n",
              "    }\n",
              "\n",
              "    .dataframe tbody tr th {\n",
              "        vertical-align: top;\n",
              "    }\n",
              "\n",
              "    .dataframe thead th {\n",
              "        text-align: right;\n",
              "    }\n",
              "</style>\n",
              "<table border=\"1\" class=\"dataframe\">\n",
              "  <thead>\n",
              "    <tr style=\"text-align: right;\">\n",
              "      <th></th>\n",
              "      <th>feature_d_vm</th>\n",
              "      <th>Cycle</th>\n",
              "    </tr>\n",
              "  </thead>\n",
              "  <tbody>\n",
              "    <tr>\n",
              "      <th>0</th>\n",
              "      <td>3338.400000</td>\n",
              "      <td>1</td>\n",
              "    </tr>\n",
              "    <tr>\n",
              "      <th>1</th>\n",
              "      <td>3318.300000</td>\n",
              "      <td>2</td>\n",
              "    </tr>\n",
              "    <tr>\n",
              "      <th>2</th>\n",
              "      <td>3312.400000</td>\n",
              "      <td>3</td>\n",
              "    </tr>\n",
              "    <tr>\n",
              "      <th>3</th>\n",
              "      <td>3296.100000</td>\n",
              "      <td>4</td>\n",
              "    </tr>\n",
              "    <tr>\n",
              "      <th>4</th>\n",
              "      <td>3298.100000</td>\n",
              "      <td>5</td>\n",
              "    </tr>\n",
              "    <tr>\n",
              "      <th>...</th>\n",
              "      <td>...</td>\n",
              "      <td>...</td>\n",
              "    </tr>\n",
              "    <tr>\n",
              "      <th>119</th>\n",
              "      <td>2253.271161</td>\n",
              "      <td>120</td>\n",
              "    </tr>\n",
              "    <tr>\n",
              "      <th>120</th>\n",
              "      <td>2264.836295</td>\n",
              "      <td>121</td>\n",
              "    </tr>\n",
              "    <tr>\n",
              "      <th>121</th>\n",
              "      <td>2217.431953</td>\n",
              "      <td>122</td>\n",
              "    </tr>\n",
              "    <tr>\n",
              "      <th>122</th>\n",
              "      <td>2194.047505</td>\n",
              "      <td>123</td>\n",
              "    </tr>\n",
              "    <tr>\n",
              "      <th>123</th>\n",
              "      <td>2180.830209</td>\n",
              "      <td>124</td>\n",
              "    </tr>\n",
              "  </tbody>\n",
              "</table>\n",
              "<p>124 rows × 2 columns</p>\n",
              "</div>"
            ],
            "text/plain": [
              "     feature_d_vm  Cycle\n",
              "0     3338.400000      1\n",
              "1     3318.300000      2\n",
              "2     3312.400000      3\n",
              "3     3296.100000      4\n",
              "4     3298.100000      5\n",
              "..            ...    ...\n",
              "119   2253.271161    120\n",
              "120   2264.836295    121\n",
              "121   2217.431953    122\n",
              "122   2194.047505    123\n",
              "123   2180.830209    124\n",
              "\n",
              "[124 rows x 2 columns]"
            ]
          },
          "metadata": {},
          "execution_count": 20
        }
      ]
    },
    {
      "cell_type": "code",
      "metadata": {
        "id": "nABoNv7wL3b_"
      },
      "source": [
        "search_step = 5\n",
        "search_min = train_unit_1_min - search_step\n",
        "search_max = search_step + train_unit_1_min"
      ],
      "execution_count": 21,
      "outputs": []
    },
    {
      "cell_type": "code",
      "metadata": {
        "colab": {
          "base_uri": "https://localhost:8080/"
        },
        "id": "Cc5_pOJ-L5Eb",
        "outputId": "d696ed79-c874-4082-8ed8-9204ae9773a2"
      },
      "source": [
        "lifetime_test_1 = df_test_unit_1.query('@search_min <= feature_d_vm <= @search_max')\n",
        "lifetime_test_1 = lifetime_test_1['Cycle']\n",
        "lifetime_test_1"
      ],
      "execution_count": 22,
      "outputs": [
        {
          "output_type": "execute_result",
          "data": {
            "text/plain": [
              "83    84\n",
              "Name: Cycle, dtype: int64"
            ]
          },
          "metadata": {},
          "execution_count": 22
        }
      ]
    },
    {
      "cell_type": "markdown",
      "metadata": {
        "id": "kyNdq45iL7PH"
      },
      "source": [
        "テストユニット2"
      ]
    },
    {
      "cell_type": "markdown",
      "metadata": {
        "id": "fkVPXvk4MM8T"
      },
      "source": [
        "テストユニット2：訓練ユニット2と似ている。 feature_c_vm と feature_d_vm or feature_d_vlで、ほぼ説明できそう。　"
      ]
    },
    {
      "cell_type": "code",
      "metadata": {
        "colab": {
          "base_uri": "https://localhost:8080/",
          "height": 333
        },
        "id": "mD2T4U6eL6XM",
        "outputId": "14db5d26-12b0-41f9-8246-b97c4d7244a2"
      },
      "source": [
        "#学習データとテストデータ\n",
        "train_unit_2 = df_train_feature[df_train_feature['unit'] == 'Train_Unit_2' ].reset_index()\n",
        "test_unit_2 = df_test_feature[df_test_feature['unit'] == 'Test_Unit_2' ].reset_index()\n",
        "\n",
        "train_X = train_unit_2[:num_test_unit_2]['feature_d_vm'].values\n",
        "train_y = test_unit_2[:num_test_unit_2]['feature_c_vm'].values\n",
        "\n",
        "train_X = np.reshape(train_X, (-1, 1))\n",
        "train_y = np.reshape(train_y, (-1, 1))\n",
        "\n",
        "model_lr = LR()\n",
        "model_lr.fit(train_X, train_y)\n",
        "\n",
        "fig, ax = plt.subplots()\n",
        "\n",
        "ax.plot(train_X, train_y, 'o')\n",
        "ax.plot(train_X, model_lr.predict(train_X), linestyle=\"solid\")\n",
        "\n",
        "plt.show()\n",
        "\n",
        "print('モデル関数の回帰変数 w1: %.3f' %model_lr.coef_)\n",
        "print('モデル関数の切片 w2: %.3f' %model_lr.intercept_)\n",
        "print('y= %.3fx + %.3f' % (model_lr.coef_ , model_lr.intercept_))\n",
        "print('決定係数 R^2： ', model_lr.score(train_X, train_y))"
      ],
      "execution_count": 23,
      "outputs": [
        {
          "output_type": "display_data",
          "data": {
            "image/png": "[encoded data removed]",
            "text/plain": [
              "<Figure size 432x288 with 1 Axes>"
            ]
          },
          "metadata": {
            "needs_background": "light"
          }
        },
        {
          "output_type": "stream",
          "name": "stdout",
          "text": [
            "モデル関数の回帰変数 w1: 2.229\n",
            "モデル関数の切片 w2: -5381.227\n",
            "y= 2.229x + -5381.227\n",
            "決定係数 R^2：  0.8938124977663215\n"
          ]
        }
      ]
    },
    {
      "cell_type": "code",
      "metadata": {
        "id": "69jXmte4MWb9"
      },
      "source": [
        "test_X = train_unit_2[num_test_unit_2:]['feature_d_vm'].values\n",
        "test_X = np.reshape(test_X, (-1, 1))\n",
        "#test_X\n",
        "\n",
        "#テストデータの予測\n",
        "pred_test = model_lr.predict(test_X)\n",
        "#pred_test\n",
        "\n",
        "test_unit_2_12 = train_y\n",
        "test_unit_2_pred = pred_test\n",
        "\n",
        "test_unit_2 = np.concatenate([test_unit_2_12, test_unit_2_pred])\n",
        "#test_unit_2"
      ],
      "execution_count": 24,
      "outputs": []
    },
    {
      "cell_type": "code",
      "metadata": {
        "colab": {
          "base_uri": "https://localhost:8080/"
        },
        "id": "UZ8ttma9PZn1",
        "outputId": "5b548f4c-22d9-4e70-c97c-80e5ac506d73"
      },
      "source": [
        "#ゴール(学習ユニットの故障時の到達点)\n",
        "train_unit_2_min = np.min(train_unit_2['feature_c_vm'].values)\n",
        "#回帰式で変換\n",
        "#train_unit_2_min = train_unit_2_min * model_lr.coef_ + model_lr.intercept_\n",
        "print('学習ユニットの故障時：', train_unit_2_min)"
      ],
      "execution_count": 25,
      "outputs": [
        {
          "output_type": "stream",
          "name": "stdout",
          "text": [
            "学習ユニットの故障時： 795.98\n"
          ]
        }
      ]
    },
    {
      "cell_type": "code",
      "metadata": {
        "colab": {
          "base_uri": "https://localhost:8080/",
          "height": 265
        },
        "id": "_fizzVxEMrQO",
        "outputId": "41b484d0-073f-4cb4-f518-6cc5ccc6c5c6"
      },
      "source": [
        "fig, ax = plt.subplots()\n",
        "\n",
        "ax.plot(test_unit_2, label='test unit')\n",
        "ax.plot(train_unit_2['feature_c_vm'], label='train unit')\n",
        "\n",
        "plt.hlines(train_unit_2_min, 0, 50, linestyles='--', label='Life time Train_Unit_2')\n",
        "\n",
        "plt.legend()\n",
        "plt.show()"
      ],
      "execution_count": 26,
      "outputs": [
        {
          "output_type": "display_data",
          "data": {
            "image/png": "[encoded data removed]",
            "text/plain": [
              "<Figure size 432x288 with 1 Axes>"
            ]
          },
          "metadata": {
            "needs_background": "light"
          }
        }
      ]
    },
    {
      "cell_type": "code",
      "metadata": {
        "id": "p5XZlYOHPX7y"
      },
      "source": [
        "#テストユニットのデータセットを眺める\n",
        "df_test_unit_2 = pd.DataFrame(test_unit_2, columns=['feature_c_vm'])\n",
        "df_test_unit_2['Cycle'] = df_test_unit_2.index + 1\n",
        "#df_test_unit_2"
      ],
      "execution_count": 27,
      "outputs": []
    },
    {
      "cell_type": "code",
      "metadata": {
        "colab": {
          "base_uri": "https://localhost:8080/"
        },
        "id": "gxOSHtajOnlO",
        "outputId": "a250b5a0-8d11-426f-b8c8-daffb0de12ab"
      },
      "source": [
        "search_step = 17\n",
        "search_min = train_unit_2_min - search_step\n",
        "search_max = search_step + train_unit_2_min\n",
        "lifetime_test_2 = df_test_unit_2.query('@search_min <= feature_c_vm <= @search_max')\n",
        "lifetime_test_2 = lifetime_test_2['Cycle']\n",
        "lifetime_test_2"
      ],
      "execution_count": 28,
      "outputs": [
        {
          "output_type": "execute_result",
          "data": {
            "text/plain": [
              "21    22\n",
              "Name: Cycle, dtype: int64"
            ]
          },
          "metadata": {},
          "execution_count": 28
        }
      ]
    },
    {
      "cell_type": "markdown",
      "metadata": {
        "id": "mPEEnEJDSD9I"
      },
      "source": [
        "テストユニット3"
      ]
    },
    {
      "cell_type": "markdown",
      "metadata": {
        "id": "gmlT5U1qSFBU"
      },
      "source": [
        "テストユニット3：訓練ユニット1と似ている。 feature_d_vm feature_d_vl と feature_d_vm feature_d_vlで、ほぼ説明できそう。　"
      ]
    },
    {
      "cell_type": "code",
      "metadata": {
        "colab": {
          "base_uri": "https://localhost:8080/",
          "height": 336
        },
        "id": "VOn2--OYQcYW",
        "outputId": "8e16d3f4-57ec-4a78-b6e9-ddd96b29366e"
      },
      "source": [
        "#学習データとテストデータ\n",
        "train_unit_3 = df_train_feature[df_train_feature['unit'] == 'Train_Unit_1' ].reset_index()\n",
        "test_unit_3 = df_test_feature[df_test_feature['unit'] == 'Test_Unit_3' ].reset_index()\n",
        "\n",
        "train_X = train_unit_3[:num_test_unit_3]['feature_d_vm'].values\n",
        "train_y = test_unit_3[:num_test_unit_3]['feature_d_vm'].values\n",
        "\n",
        "train_X = np.reshape(train_X, (-1, 1))\n",
        "train_y = np.reshape(train_y, (-1, 1))\n",
        "\n",
        "model_lr = LR()\n",
        "model_lr.fit(train_X, train_y)\n",
        "\n",
        "fig, ax = plt.subplots()\n",
        "\n",
        "ax.plot(train_X, train_y, 'o')\n",
        "ax.plot(train_X, model_lr.predict(train_X), linestyle=\"solid\")\n",
        "\n",
        "plt.show()\n",
        "\n",
        "print('モデル関数の回帰変数 w1: %.3f' %model_lr.coef_)\n",
        "print('モデル関数の切片 w2: %.3f' %model_lr.intercept_)\n",
        "print('y= %.3fx + %.3f' % (model_lr.coef_ , model_lr.intercept_))\n",
        "print('決定係数 R^2： ', model_lr.score(train_X, train_y))"
      ],
      "execution_count": 29,
      "outputs": [
        {
          "output_type": "display_data",
          "data": {
            "image/png": "[encoded data removed]",
            "text/plain": [
              "<Figure size 432x288 with 1 Axes>"
            ]
          },
          "metadata": {
            "needs_background": "light"
          }
        },
        {
          "output_type": "stream",
          "name": "stdout",
          "text": [
            "モデル関数の回帰変数 w1: 2.702\n",
            "モデル関数の切片 w2: -5404.272\n",
            "y= 2.702x + -5404.272\n",
            "決定係数 R^2：  0.9110594062583919\n"
          ]
        }
      ]
    },
    {
      "cell_type": "code",
      "metadata": {
        "id": "Y_R-L4dKSa4u"
      },
      "source": [
        "test_X = train_unit_3[num_test_unit_3:]['feature_d_vm'].values\n",
        "test_X = np.reshape(test_X, (-1, 1))\n",
        "#test_X\n",
        "\n",
        "#テストデータの予測\n",
        "pred_test = model_lr.predict(test_X)\n",
        "#pred_test\n",
        "\n",
        "test_unit_3_55 = train_y\n",
        "test_unit_3_pred = pred_test\n",
        "\n",
        "test_unit_3 = np.concatenate([test_unit_3_55, test_unit_3_pred])\n",
        "#test_unit_3"
      ],
      "execution_count": 30,
      "outputs": []
    },
    {
      "cell_type": "code",
      "metadata": {
        "colab": {
          "base_uri": "https://localhost:8080/"
        },
        "id": "LcNaXIjwSqX8",
        "outputId": "828763f6-bdd1-480c-fc8a-aef822b797ed"
      },
      "source": [
        "#ゴール(学習ユニットの故障時の到達点)\n",
        "train_unit_3_min = np.min(train_unit_3['feature_d_vm'].values)\n",
        "print('学習ユニットの故障時：', train_unit_3_min)"
      ],
      "execution_count": 31,
      "outputs": [
        {
          "output_type": "stream",
          "name": "stdout",
          "text": [
            "学習ユニットの故障時： 2520.9\n"
          ]
        }
      ]
    },
    {
      "cell_type": "code",
      "metadata": {
        "colab": {
          "base_uri": "https://localhost:8080/",
          "height": 265
        },
        "id": "eOW1iZtGS0fm",
        "outputId": "6e616e41-c4be-49f3-dc07-a1a371505939"
      },
      "source": [
        "fig, ax = plt.subplots()\n",
        "\n",
        "ax.plot(test_unit_3, label='test unit')\n",
        "ax.plot(train_unit_3['feature_d_vm'], label='train unit')\n",
        "\n",
        "plt.hlines(train_unit_3_min, 0, 100, linestyles='--', label='Life time Train_Unit_3')\n",
        "\n",
        "plt.legend()\n",
        "plt.show()"
      ],
      "execution_count": 32,
      "outputs": [
        {
          "output_type": "display_data",
          "data": {
            "image/png": "[encoded data removed]",
            "text/plain": [
              "<Figure size 432x288 with 1 Axes>"
            ]
          },
          "metadata": {
            "needs_background": "light"
          }
        }
      ]
    },
    {
      "cell_type": "code",
      "metadata": {
        "id": "SObgLg2WS-y1"
      },
      "source": [
        "#テストユニットのデータセットを眺める\n",
        "df_test_unit_3 = pd.DataFrame(test_unit_3, columns=['feature_d_vm'])\n",
        "df_test_unit_3['Cycle'] = df_test_unit_3.index + 1\n",
        "#df_test_unit_3"
      ],
      "execution_count": 33,
      "outputs": []
    },
    {
      "cell_type": "code",
      "metadata": {
        "colab": {
          "base_uri": "https://localhost:8080/"
        },
        "id": "ZmmJe6imTK-X",
        "outputId": "7bc56807-7b22-46cb-9a8c-53719727506c"
      },
      "source": [
        "search_step = 10\n",
        "search_min = train_unit_3_min - search_step\n",
        "search_max = search_step + train_unit_3_min\n",
        "lifetime_test_3 = df_test_unit_3.query('@search_min <= feature_d_vm <= @search_max')\n",
        "lifetime_test_3 = lifetime_test_3['Cycle']\n",
        "lifetime_test_3"
      ],
      "execution_count": 34,
      "outputs": [
        {
          "output_type": "execute_result",
          "data": {
            "text/plain": [
              "68    69\n",
              "Name: Cycle, dtype: int64"
            ]
          },
          "metadata": {},
          "execution_count": 34
        }
      ]
    },
    {
      "cell_type": "markdown",
      "metadata": {
        "id": "k8E3lFY7Ta6C"
      },
      "source": [
        "# 提出用ファイル作成"
      ]
    },
    {
      "cell_type": "code",
      "metadata": {
        "id": "hIBpbdC6TTSh"
      },
      "source": [
        "#残寿命の算出\n",
        "RUL_unit_1 = (lifetime_test_1 - num_test_unit_1).values\n",
        "RUL_unit_2 = (lifetime_test_2 - num_test_unit_2).values\n",
        "RUL_unit_3 = (lifetime_test_3 - num_test_unit_3).values"
      ],
      "execution_count": 54,
      "outputs": []
    },
    {
      "cell_type": "code",
      "metadata": {
        "colab": {
          "base_uri": "https://localhost:8080/"
        },
        "id": "j41ZXxUz7eTf",
        "outputId": "ba7377ae-ed2c-4d41-ff4e-243b53a50c2e"
      },
      "source": [
        "type(RUL_unit_1)"
      ],
      "execution_count": 55,
      "outputs": [
        {
          "output_type": "execute_result",
          "data": {
            "text/plain": [
              "numpy.ndarray"
            ]
          },
          "metadata": {},
          "execution_count": 55
        }
      ]
    },
    {
      "cell_type": "code",
      "metadata": {
        "id": "qE6SGQZSVuTK"
      },
      "source": [
        "#提出ファイルの読み込み\n",
        "file_submit = pd.read_csv(os.path.join(DIR, 'data', 'ISID_08_09_2021.csv'))"
      ],
      "execution_count": 56,
      "outputs": []
    },
    {
      "cell_type": "code",
      "metadata": {
        "colab": {
          "base_uri": "https://localhost:8080/"
        },
        "id": "OYNm8boHV8se",
        "outputId": "eedf0ca9-eb74-4dd6-ca3c-081930ce679d"
      },
      "source": [
        "file_submit.columns"
      ],
      "execution_count": 57,
      "outputs": [
        {
          "output_type": "execute_result",
          "data": {
            "text/plain": [
              "Index(['Unit 1 RUL', 'Unit 2 RUL', 'Unit 3 RUL'], dtype='object')"
            ]
          },
          "metadata": {},
          "execution_count": 57
        }
      ]
    },
    {
      "cell_type": "code",
      "metadata": {
        "id": "6j_Nk2lAV-bY"
      },
      "source": [
        "pd.DataFrame({\n",
        "    file_submit.columns[0]:RUL_unit_1,\n",
        "    file_submit.columns[1]:RUL_unit_2,\n",
        "    file_submit.columns[2]:RUL_unit_3,\n",
        "}).to_csv(os.path.join(DIR, \"C0002_21_09_2021.csv\"), index=False)"
      ],
      "execution_count": 62,
      "outputs": []
    }
  ]
}
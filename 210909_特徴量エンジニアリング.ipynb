{
  "nbformat": 4,
  "nbformat_minor": 0,
  "metadata": {
    "colab": {
      "name": "210909_特徴量エンジニアリング.ipynb",
      "provenance": [],
      "collapsed_sections": [],
      "mount_file_id": "15Pwst-ZNYAXFQGUceNQdwUYSggFplg3U",
      "authorship_tag": "ABX9TyMIDUMOkMU3hs+98Ar0VO0g",
      "include_colab_link": true
    },
    "kernelspec": {
      "name": "python3",
      "display_name": "Python 3"
    },
    "language_info": {
      "name": "python"
    }
  },
  "cells": [
    {
      "cell_type": "markdown",
      "metadata": {
        "id": "view-in-github",
        "colab_type": "text"
      },
      "source": [
        "<a href=\"https://colab.research.google.com/github/minassy/ISID_2021/blob/main/210909_%E7%89%B9%E5%BE%B4%E9%87%8F%E3%82%A8%E3%83%B3%E3%82%B8%E3%83%8B%E3%82%A2%E3%83%AA%E3%83%B3%E3%82%B0.ipynb\" target=\"_parent\"><img src=\"https://colab.research.google.com/assets/colab-badge.svg\" alt=\"Open In Colab\"/></a>"
      ]
    },
    {
      "cell_type": "code",
      "metadata": {
        "id": "Sh3P1GN8137T"
      },
      "source": [
        "import os\n",
        "import zipfile\n",
        "import glob\n",
        "import pandas as pd\n",
        "import numpy as np\n",
        "import pathlib\n",
        "from tqdm import tqdm\n",
        "import matplotlib.pyplot as plt\n",
        "import seaborn as sns"
      ],
      "execution_count": 1,
      "outputs": []
    },
    {
      "cell_type": "code",
      "metadata": {
        "colab": {
          "base_uri": "https://localhost:8080/"
        },
        "id": "X5pdqKTO2Pjs",
        "outputId": "83e73433-d837-4e90-de82-addd9d3a29c5"
      },
      "source": [
        "#作業基本ディレクトリ\n",
        "DIR = 'drive/MyDrive/00_Competition/ISID/2021'\n",
        "os.listdir(DIR)\n",
        "#os.mkdir(DIR+'/data')"
      ],
      "execution_count": 2,
      "outputs": [
        {
          "output_type": "execute_result",
          "data": {
            "text/plain": [
              "['data',\n",
              " '210904_学習データの読み込み.ipynb',\n",
              " '210906_EDA_train.ipynb',\n",
              " '210908_EDA_test.ipynb',\n",
              " '210908_テストデータの読み込み_作成.ipynb',\n",
              " '210909_特徴量エンジニアリング.ipynb']"
            ]
          },
          "metadata": {},
          "execution_count": 2
        }
      ]
    },
    {
      "cell_type": "code",
      "metadata": {
        "id": "7w2sg1eZ2TWL"
      },
      "source": [
        "#データの読み込み\n",
        "df_0 = pd.read_csv(\n",
        "    os.path.join(DIR, 'data', 'Train_Unit_20210903', 'dataset_train_all.csv'),\n",
        "    encoding='utf-8')"
      ],
      "execution_count": 3,
      "outputs": []
    },
    {
      "cell_type": "code",
      "metadata": {
        "id": "GcfkrhZR2WbD"
      },
      "source": [
        "#不必要なIndex列と空白列を削除。\n",
        "df_0 = df_0.drop(df_0.columns[[0, 7]], axis=1)"
      ],
      "execution_count": 4,
      "outputs": []
    },
    {
      "cell_type": "code",
      "metadata": {
        "id": "5HXmJmt-2YhI"
      },
      "source": [
        "#データ処理用にDFをコピー\n",
        "df = df_0.copy()"
      ],
      "execution_count": 5,
      "outputs": []
    },
    {
      "cell_type": "code",
      "metadata": {
        "id": "6ZbpguLz2aFE"
      },
      "source": [
        "#カラム名変更前後の辞書\n",
        "col_list = {'Time (s)' : 'Time',\n",
        "            'Voltage Measured (V)' : 'VM',\n",
        "            'Voltage Charge (V)' : 'VC',\n",
        "            'Current Measured (Amps)' : 'CM', \n",
        "            'Current Charge (Amps)' : 'CC',\n",
        "            'Temperature (degree C)': 'Temp', \n",
        "            'unit' : 'unit_name', \n",
        "            'charge_mode' : 'mode', \n",
        "            'Cycle_num' : 'Cycle',\n",
        "            'Voltage Load (V)' : 'VL',\n",
        "            'Current Load (Amps)' : 'CL'\n",
        "}"
      ],
      "execution_count": 6,
      "outputs": []
    },
    {
      "cell_type": "code",
      "metadata": {
        "id": "zBiFTkzg2cEz"
      },
      "source": [
        "df = df.rename(columns=col_list)"
      ],
      "execution_count": 7,
      "outputs": []
    },
    {
      "cell_type": "code",
      "metadata": {
        "colab": {
          "base_uri": "https://localhost:8080/"
        },
        "id": "kEo5ZckG2gQJ",
        "outputId": "008aa204-05d8-40b8-a134-00cfad749331"
      },
      "source": [
        "DIR_DATA_TRAIN = os.path.join(DIR, 'data', 'Train_Unit_20210903')\n",
        "for folder in os.listdir(DIR_DATA_TRAIN)[:3]:\n",
        "  for C in os.listdir(os.path.join(DIR_DATA_TRAIN, folder)):\n",
        "    files = glob.glob(os.path.join(DIR_DATA_TRAIN, folder, C, '*.csv'))\n",
        "    print(f'{folder}','--',f'{C}のサイクル数：',len(files))"
      ],
      "execution_count": 8,
      "outputs": [
        {
          "output_type": "stream",
          "name": "stdout",
          "text": [
            "Train_Unit_3 -- Chargeのサイクル数： 97\n",
            "Train_Unit_3 -- Dischargeのサイクル数： 97\n",
            "Train_Unit_2 -- Chargeのサイクル数： 40\n",
            "Train_Unit_2 -- Dischargeのサイクル数： 40\n",
            "Train_Unit_1 -- Chargeのサイクル数： 124\n",
            "Train_Unit_1 -- Dischargeのサイクル数： 124\n"
          ]
        }
      ]
    },
    {
      "cell_type": "code",
      "metadata": {
        "colab": {
          "base_uri": "https://localhost:8080/",
          "height": 204
        },
        "id": "2WdLRewk3AVw",
        "outputId": "15a6e952-cbf0-44d5-f5d9-c4fa09af7f64"
      },
      "source": [
        "df.head()"
      ],
      "execution_count": 9,
      "outputs": [
        {
          "output_type": "execute_result",
          "data": {
            "text/html": [
              "<div>\n",
              "<style scoped>\n",
              "    .dataframe tbody tr th:only-of-type {\n",
              "        vertical-align: middle;\n",
              "    }\n",
              "\n",
              "    .dataframe tbody tr th {\n",
              "        vertical-align: top;\n",
              "    }\n",
              "\n",
              "    .dataframe thead th {\n",
              "        text-align: right;\n",
              "    }\n",
              "</style>\n",
              "<table border=\"1\" class=\"dataframe\">\n",
              "  <thead>\n",
              "    <tr style=\"text-align: right;\">\n",
              "      <th></th>\n",
              "      <th>Time</th>\n",
              "      <th>VM</th>\n",
              "      <th>VC</th>\n",
              "      <th>CM</th>\n",
              "      <th>CC</th>\n",
              "      <th>Temp</th>\n",
              "      <th>unit_name</th>\n",
              "      <th>mode</th>\n",
              "      <th>Cycle</th>\n",
              "      <th>VL</th>\n",
              "      <th>CL</th>\n",
              "    </tr>\n",
              "  </thead>\n",
              "  <tbody>\n",
              "    <tr>\n",
              "      <th>0</th>\n",
              "      <td>0.000</td>\n",
              "      <td>3.6927</td>\n",
              "      <td>0.003</td>\n",
              "      <td>-0.004495</td>\n",
              "      <td>0.000</td>\n",
              "      <td>25.663</td>\n",
              "      <td>Train_Unit_3</td>\n",
              "      <td>Charge</td>\n",
              "      <td>90</td>\n",
              "      <td>NaN</td>\n",
              "      <td>NaN</td>\n",
              "    </tr>\n",
              "    <tr>\n",
              "      <th>1</th>\n",
              "      <td>2.453</td>\n",
              "      <td>3.1721</td>\n",
              "      <td>1.462</td>\n",
              "      <td>-3.573100</td>\n",
              "      <td>-3.563</td>\n",
              "      <td>25.660</td>\n",
              "      <td>Train_Unit_3</td>\n",
              "      <td>Charge</td>\n",
              "      <td>90</td>\n",
              "      <td>NaN</td>\n",
              "      <td>NaN</td>\n",
              "    </tr>\n",
              "    <tr>\n",
              "      <th>2</th>\n",
              "      <td>8.921</td>\n",
              "      <td>3.8846</td>\n",
              "      <td>4.618</td>\n",
              "      <td>1.505800</td>\n",
              "      <td>1.498</td>\n",
              "      <td>25.743</td>\n",
              "      <td>Train_Unit_3</td>\n",
              "      <td>Charge</td>\n",
              "      <td>90</td>\n",
              "      <td>NaN</td>\n",
              "      <td>NaN</td>\n",
              "    </tr>\n",
              "    <tr>\n",
              "      <th>3</th>\n",
              "      <td>15.156</td>\n",
              "      <td>3.9054</td>\n",
              "      <td>4.650</td>\n",
              "      <td>1.506600</td>\n",
              "      <td>1.500</td>\n",
              "      <td>25.835</td>\n",
              "      <td>Train_Unit_3</td>\n",
              "      <td>Charge</td>\n",
              "      <td>90</td>\n",
              "      <td>NaN</td>\n",
              "      <td>NaN</td>\n",
              "    </tr>\n",
              "    <tr>\n",
              "      <th>4</th>\n",
              "      <td>21.750</td>\n",
              "      <td>3.9165</td>\n",
              "      <td>4.661</td>\n",
              "      <td>1.509000</td>\n",
              "      <td>1.500</td>\n",
              "      <td>25.884</td>\n",
              "      <td>Train_Unit_3</td>\n",
              "      <td>Charge</td>\n",
              "      <td>90</td>\n",
              "      <td>NaN</td>\n",
              "      <td>NaN</td>\n",
              "    </tr>\n",
              "  </tbody>\n",
              "</table>\n",
              "</div>"
            ],
            "text/plain": [
              "     Time      VM     VC        CM     CC  ...     unit_name    mode Cycle  VL  CL\n",
              "0   0.000  3.6927  0.003 -0.004495  0.000  ...  Train_Unit_3  Charge    90 NaN NaN\n",
              "1   2.453  3.1721  1.462 -3.573100 -3.563  ...  Train_Unit_3  Charge    90 NaN NaN\n",
              "2   8.921  3.8846  4.618  1.505800  1.498  ...  Train_Unit_3  Charge    90 NaN NaN\n",
              "3  15.156  3.9054  4.650  1.506600  1.500  ...  Train_Unit_3  Charge    90 NaN NaN\n",
              "4  21.750  3.9165  4.661  1.509000  1.500  ...  Train_Unit_3  Charge    90 NaN NaN\n",
              "\n",
              "[5 rows x 11 columns]"
            ]
          },
          "metadata": {},
          "execution_count": 9
        }
      ]
    },
    {
      "cell_type": "markdown",
      "metadata": {
        "id": "IS3EyohY2juH"
      },
      "source": [
        "# 特徴量エンジニアリング"
      ]
    },
    {
      "cell_type": "markdown",
      "metadata": {
        "id": "wkFHN3dU2mb5"
      },
      "source": [
        "【対象カラム】  \n",
        "充電：VM、CM、VC  \n",
        "放電：VM、VL"
      ]
    },
    {
      "cell_type": "code",
      "metadata": {
        "id": "lL3ovhpuC82X"
      },
      "source": [
        "#サンプル波形の取得(ユニット1、)\n",
        "exp = df[(df['unit_name'] == 'Train_Unit_1') & (df['Cycle'] == 1)]"
      ],
      "execution_count": 10,
      "outputs": []
    },
    {
      "cell_type": "code",
      "metadata": {
        "colab": {
          "base_uri": "https://localhost:8080/",
          "height": 204
        },
        "id": "H0ZcalInDOmK",
        "outputId": "5c627cb4-cb28-44f4-eb70-14de09577c13"
      },
      "source": [
        "exp.head()"
      ],
      "execution_count": 11,
      "outputs": [
        {
          "output_type": "execute_result",
          "data": {
            "text/html": [
              "<div>\n",
              "<style scoped>\n",
              "    .dataframe tbody tr th:only-of-type {\n",
              "        vertical-align: middle;\n",
              "    }\n",
              "\n",
              "    .dataframe tbody tr th {\n",
              "        vertical-align: top;\n",
              "    }\n",
              "\n",
              "    .dataframe thead th {\n",
              "        text-align: right;\n",
              "    }\n",
              "</style>\n",
              "<table border=\"1\" class=\"dataframe\">\n",
              "  <thead>\n",
              "    <tr style=\"text-align: right;\">\n",
              "      <th></th>\n",
              "      <th>Time</th>\n",
              "      <th>VM</th>\n",
              "      <th>VC</th>\n",
              "      <th>CM</th>\n",
              "      <th>CC</th>\n",
              "      <th>Temp</th>\n",
              "      <th>unit_name</th>\n",
              "      <th>mode</th>\n",
              "      <th>Cycle</th>\n",
              "      <th>VL</th>\n",
              "      <th>CL</th>\n",
              "    </tr>\n",
              "  </thead>\n",
              "  <tbody>\n",
              "    <tr>\n",
              "      <th>669684</th>\n",
              "      <td>0.000</td>\n",
              "      <td>3.3251</td>\n",
              "      <td>0.003</td>\n",
              "      <td>0.000302</td>\n",
              "      <td>-0.002</td>\n",
              "      <td>29.342</td>\n",
              "      <td>Train_Unit_1</td>\n",
              "      <td>Charge</td>\n",
              "      <td>1</td>\n",
              "      <td>NaN</td>\n",
              "      <td>NaN</td>\n",
              "    </tr>\n",
              "    <tr>\n",
              "      <th>669685</th>\n",
              "      <td>2.516</td>\n",
              "      <td>3.0020</td>\n",
              "      <td>1.414</td>\n",
              "      <td>-3.362000</td>\n",
              "      <td>-3.370</td>\n",
              "      <td>29.336</td>\n",
              "      <td>Train_Unit_1</td>\n",
              "      <td>Charge</td>\n",
              "      <td>1</td>\n",
              "      <td>NaN</td>\n",
              "      <td>NaN</td>\n",
              "    </tr>\n",
              "    <tr>\n",
              "      <th>669686</th>\n",
              "      <td>5.500</td>\n",
              "      <td>3.4346</td>\n",
              "      <td>4.142</td>\n",
              "      <td>1.508700</td>\n",
              "      <td>1.498</td>\n",
              "      <td>29.335</td>\n",
              "      <td>Train_Unit_1</td>\n",
              "      <td>Charge</td>\n",
              "      <td>1</td>\n",
              "      <td>NaN</td>\n",
              "      <td>NaN</td>\n",
              "    </tr>\n",
              "    <tr>\n",
              "      <th>669687</th>\n",
              "      <td>8.391</td>\n",
              "      <td>3.4549</td>\n",
              "      <td>4.180</td>\n",
              "      <td>1.510000</td>\n",
              "      <td>1.498</td>\n",
              "      <td>29.342</td>\n",
              "      <td>Train_Unit_1</td>\n",
              "      <td>Charge</td>\n",
              "      <td>1</td>\n",
              "      <td>NaN</td>\n",
              "      <td>NaN</td>\n",
              "    </tr>\n",
              "    <tr>\n",
              "      <th>669688</th>\n",
              "      <td>11.266</td>\n",
              "      <td>3.4688</td>\n",
              "      <td>4.196</td>\n",
              "      <td>1.508700</td>\n",
              "      <td>1.498</td>\n",
              "      <td>29.331</td>\n",
              "      <td>Train_Unit_1</td>\n",
              "      <td>Charge</td>\n",
              "      <td>1</td>\n",
              "      <td>NaN</td>\n",
              "      <td>NaN</td>\n",
              "    </tr>\n",
              "  </tbody>\n",
              "</table>\n",
              "</div>"
            ],
            "text/plain": [
              "          Time      VM     VC        CM  ...    mode  Cycle  VL  CL\n",
              "669684   0.000  3.3251  0.003  0.000302  ...  Charge      1 NaN NaN\n",
              "669685   2.516  3.0020  1.414 -3.362000  ...  Charge      1 NaN NaN\n",
              "669686   5.500  3.4346  4.142  1.508700  ...  Charge      1 NaN NaN\n",
              "669687   8.391  3.4549  4.180  1.510000  ...  Charge      1 NaN NaN\n",
              "669688  11.266  3.4688  4.196  1.508700  ...  Charge      1 NaN NaN\n",
              "\n",
              "[5 rows x 11 columns]"
            ]
          },
          "metadata": {},
          "execution_count": 11
        }
      ]
    },
    {
      "cell_type": "markdown",
      "metadata": {
        "id": "FbXcsv3ACHUu"
      },
      "source": [
        "# ①充電：VM"
      ]
    },
    {
      "cell_type": "code",
      "metadata": {
        "id": "Wbvrm3doCGJo"
      },
      "source": [
        "exp_c_vm = exp[['Time', 'VM']][exp['mode'] == 'Charge']"
      ],
      "execution_count": 12,
      "outputs": []
    },
    {
      "cell_type": "code",
      "metadata": {
        "id": "oy9bpcmp2h-P",
        "colab": {
          "base_uri": "https://localhost:8080/",
          "height": 204
        },
        "outputId": "f4ba572d-74af-4e9a-b4ca-4ca2ce7889a0"
      },
      "source": [
        "exp_c_vm = exp_c_vm.reset_index(drop=True)\n",
        "exp_c_vm.head()"
      ],
      "execution_count": 13,
      "outputs": [
        {
          "output_type": "execute_result",
          "data": {
            "text/html": [
              "<div>\n",
              "<style scoped>\n",
              "    .dataframe tbody tr th:only-of-type {\n",
              "        vertical-align: middle;\n",
              "    }\n",
              "\n",
              "    .dataframe tbody tr th {\n",
              "        vertical-align: top;\n",
              "    }\n",
              "\n",
              "    .dataframe thead th {\n",
              "        text-align: right;\n",
              "    }\n",
              "</style>\n",
              "<table border=\"1\" class=\"dataframe\">\n",
              "  <thead>\n",
              "    <tr style=\"text-align: right;\">\n",
              "      <th></th>\n",
              "      <th>Time</th>\n",
              "      <th>VM</th>\n",
              "    </tr>\n",
              "  </thead>\n",
              "  <tbody>\n",
              "    <tr>\n",
              "      <th>0</th>\n",
              "      <td>0.000</td>\n",
              "      <td>3.3251</td>\n",
              "    </tr>\n",
              "    <tr>\n",
              "      <th>1</th>\n",
              "      <td>2.516</td>\n",
              "      <td>3.0020</td>\n",
              "    </tr>\n",
              "    <tr>\n",
              "      <th>2</th>\n",
              "      <td>5.500</td>\n",
              "      <td>3.4346</td>\n",
              "    </tr>\n",
              "    <tr>\n",
              "      <th>3</th>\n",
              "      <td>8.391</td>\n",
              "      <td>3.4549</td>\n",
              "    </tr>\n",
              "    <tr>\n",
              "      <th>4</th>\n",
              "      <td>11.266</td>\n",
              "      <td>3.4688</td>\n",
              "    </tr>\n",
              "  </tbody>\n",
              "</table>\n",
              "</div>"
            ],
            "text/plain": [
              "     Time      VM\n",
              "0   0.000  3.3251\n",
              "1   2.516  3.0020\n",
              "2   5.500  3.4346\n",
              "3   8.391  3.4549\n",
              "4  11.266  3.4688"
            ]
          },
          "metadata": {},
          "execution_count": 13
        }
      ]
    },
    {
      "cell_type": "code",
      "metadata": {
        "colab": {
          "base_uri": "https://localhost:8080/",
          "height": 606
        },
        "id": "nM7UbOwiUjWR",
        "outputId": "e42972ba-4d0a-446d-963d-5dc7f52ecc17"
      },
      "source": [
        "#オブジェクト指向的な可視化\n",
        "fig, ax = plt.subplots()\n",
        "\n",
        "fig.set_figwidth(10)#幅\n",
        "fig.set_figheight(5)#高さ\n",
        "\n",
        "ax.plot(exp_c_vm.index, exp_c_vm['VM'], label='VM')\n",
        "ax.set_title('VM_Charge_Cycle_1')\n",
        "ax.set_xlabel('Index', style='italic', size='xx-large', color='blue')\n",
        "ax.set_ylabel('VM', labelpad=35, weight='bold', size='xx-large', rotation='horizontal')\n",
        "\n",
        "fig1, ax1 = plt.subplots()\n",
        "ax1.plot(exp_c_vm['Time'], exp_c_vm['VM'], label='VM')\n",
        "\n",
        "#y_min = 0\n",
        "#y_max = exp_c_vm['VM'].max()\n",
        "#x_min = 0\n",
        "#x_max = exp_c_vm.index.max()\n",
        "\n",
        "#ax.set_xlim(x_min, x_max + 10)\n",
        "#ax.set_ylim(y_min, y_max + 0.5)\n",
        "\n",
        "#ax.set_xticks(np.arange(x_min-10, x_max, step=50))\n",
        "#ax.set_yticks(np.arange(y_min, y_max, step=0.5))\n",
        "\n",
        "#ax.axvline(x=3608.8)\n",
        "\n",
        "plt.show()"
      ],
      "execution_count": 14,
      "outputs": [
        {
          "output_type": "display_data",
          "data": {
            "image/png": "[encoded data removed]",
            "text/plain": [
              "<Figure size 720x360 with 1 Axes>"
            ]
          },
          "metadata": {
            "needs_background": "light"
          }
        },
        {
          "output_type": "display_data",
          "data": {
            "image/png": "[encoded data removed]",
            "text/plain": [
              "<Figure size 432x288 with 1 Axes>"
            ]
          },
          "metadata": {
            "needs_background": "light"
          }
        }
      ]
    },
    {
      "cell_type": "code",
      "metadata": {
        "colab": {
          "base_uri": "https://localhost:8080/",
          "height": 359
        },
        "id": "wM4Q4oNzcKT9",
        "outputId": "4d6d2f6e-bbbb-4e6c-dc3e-2368ffaf0651"
      },
      "source": [
        "exp_c_vm.head(10)"
      ],
      "execution_count": 15,
      "outputs": [
        {
          "output_type": "execute_result",
          "data": {
            "text/html": [
              "<div>\n",
              "<style scoped>\n",
              "    .dataframe tbody tr th:only-of-type {\n",
              "        vertical-align: middle;\n",
              "    }\n",
              "\n",
              "    .dataframe tbody tr th {\n",
              "        vertical-align: top;\n",
              "    }\n",
              "\n",
              "    .dataframe thead th {\n",
              "        text-align: right;\n",
              "    }\n",
              "</style>\n",
              "<table border=\"1\" class=\"dataframe\">\n",
              "  <thead>\n",
              "    <tr style=\"text-align: right;\">\n",
              "      <th></th>\n",
              "      <th>Time</th>\n",
              "      <th>VM</th>\n",
              "    </tr>\n",
              "  </thead>\n",
              "  <tbody>\n",
              "    <tr>\n",
              "      <th>0</th>\n",
              "      <td>0.000</td>\n",
              "      <td>3.3251</td>\n",
              "    </tr>\n",
              "    <tr>\n",
              "      <th>1</th>\n",
              "      <td>2.516</td>\n",
              "      <td>3.0020</td>\n",
              "    </tr>\n",
              "    <tr>\n",
              "      <th>2</th>\n",
              "      <td>5.500</td>\n",
              "      <td>3.4346</td>\n",
              "    </tr>\n",
              "    <tr>\n",
              "      <th>3</th>\n",
              "      <td>8.391</td>\n",
              "      <td>3.4549</td>\n",
              "    </tr>\n",
              "    <tr>\n",
              "      <th>4</th>\n",
              "      <td>11.266</td>\n",
              "      <td>3.4688</td>\n",
              "    </tr>\n",
              "    <tr>\n",
              "      <th>5</th>\n",
              "      <td>14.141</td>\n",
              "      <td>3.4810</td>\n",
              "    </tr>\n",
              "    <tr>\n",
              "      <th>6</th>\n",
              "      <td>17.031</td>\n",
              "      <td>3.4919</td>\n",
              "    </tr>\n",
              "    <tr>\n",
              "      <th>7</th>\n",
              "      <td>19.906</td>\n",
              "      <td>3.5019</td>\n",
              "    </tr>\n",
              "    <tr>\n",
              "      <th>8</th>\n",
              "      <td>22.797</td>\n",
              "      <td>3.5114</td>\n",
              "    </tr>\n",
              "    <tr>\n",
              "      <th>9</th>\n",
              "      <td>25.672</td>\n",
              "      <td>3.5204</td>\n",
              "    </tr>\n",
              "  </tbody>\n",
              "</table>\n",
              "</div>"
            ],
            "text/plain": [
              "     Time      VM\n",
              "0   0.000  3.3251\n",
              "1   2.516  3.0020\n",
              "2   5.500  3.4346\n",
              "3   8.391  3.4549\n",
              "4  11.266  3.4688\n",
              "5  14.141  3.4810\n",
              "6  17.031  3.4919\n",
              "7  19.906  3.5019\n",
              "8  22.797  3.5114\n",
              "9  25.672  3.5204"
            ]
          },
          "metadata": {},
          "execution_count": 15
        }
      ]
    },
    {
      "cell_type": "code",
      "metadata": {
        "id": "J5HldoQEGlkp",
        "colab": {
          "base_uri": "https://localhost:8080/"
        },
        "outputId": "f1d70d70-9838-46e6-fba0-714e6aff0250"
      },
      "source": [
        "#点P_C_VM：飽和点\n",
        "#飽和度合いの確認。5行前と差分を取る。0.001に達したら飽和してそう。\n",
        "tmp = exp_c_vm.loc[:, 'VM'].diff(5)\n",
        "tmp.tail(10)"
      ],
      "execution_count": 16,
      "outputs": [
        {
          "output_type": "execute_result",
          "data": {
            "text/plain": [
              "930    0.0039\n",
              "931    0.0026\n",
              "932    0.0025\n",
              "933    0.0013\n",
              "934    0.0012\n",
              "935    0.0009\n",
              "936    0.0008\n",
              "937    0.0008\n",
              "938    0.0007\n",
              "939    0.0005\n",
              "Name: VM, dtype: float64"
            ]
          },
          "metadata": {},
          "execution_count": 16
        }
      ]
    },
    {
      "cell_type": "code",
      "metadata": {
        "colab": {
          "base_uri": "https://localhost:8080/"
        },
        "id": "Vk6hkVgOaAIf",
        "outputId": "5598e77e-1e06-417e-9166-5e4907807d62"
      },
      "source": [
        "#LAG=5が0.001未満が続くところを、飽和領域とみなす。\n",
        "P_C_VM = exp_c_vm.loc[:, 'VM'][exp_c_vm.loc[:, 'VM'].diff(5) < 0.001]\n",
        "#飽和領域のなかで、最初の点を点P_C_VMとする。\n",
        "P_C_VM = P_C_VM.reset_index(inplace=False)\n",
        "P_C_VM = P_C_VM['index'].iloc[0]\n",
        "P_C_VM"
      ],
      "execution_count": 17,
      "outputs": [
        {
          "output_type": "execute_result",
          "data": {
            "text/plain": [
              "520"
            ]
          },
          "metadata": {},
          "execution_count": 17
        }
      ]
    },
    {
      "cell_type": "code",
      "metadata": {
        "colab": {
          "base_uri": "https://localhost:8080/",
          "height": 358
        },
        "id": "NmoOmq43c792",
        "outputId": "9fbb6c7c-b7b7-4f13-bc0f-d14d09a28870"
      },
      "source": [
        "#点にマーカーを付ける。\n",
        "fig, ax = plt.subplots()\n",
        "\n",
        "fig.set_figwidth(10)#幅\n",
        "fig.set_figheight(5)#高さ\n",
        "\n",
        "ax.plot(exp_c_vm.index, exp_c_vm['VM'], label='VM')\n",
        "ax.set_title('VM_Charge_Cycle_1')\n",
        "ax.set_xlabel('Index', style='italic', size='xx-large', color='blue')\n",
        "ax.set_ylabel('VM', labelpad=35, weight='bold', size='xx-large', rotation='horizontal')\n",
        "\n",
        "ax.plot(P_C_VM, exp_c_vm.loc[P_C_VM, 'VM'], 'ro', ms=10, label='P_C_VM')\n",
        "\n",
        "ax.legend()\n",
        "plt.show();"
      ],
      "execution_count": 18,
      "outputs": [
        {
          "output_type": "display_data",
          "data": {
            "image/png": "[encoded data removed]",
            "text/plain": [
              "<Figure size 720x360 with 1 Axes>"
            ]
          },
          "metadata": {
            "needs_background": "light"
          }
        }
      ]
    },
    {
      "cell_type": "code",
      "metadata": {
        "colab": {
          "base_uri": "https://localhost:8080/"
        },
        "id": "y_LTZSrHhhmh",
        "outputId": "98c46db5-a080-44e7-a0fe-bc10201be49b"
      },
      "source": [
        "#充電VMの特徴量は、点P_C_VMにおける時間\n",
        "Feature_VM = exp_c_vm['Time'].loc[P_C_VM]\n",
        "Feature_VM"
      ],
      "execution_count": 19,
      "outputs": [
        {
          "output_type": "execute_result",
          "data": {
            "text/plain": [
              "3422.5"
            ]
          },
          "metadata": {},
          "execution_count": 19
        }
      ]
    },
    {
      "cell_type": "markdown",
      "metadata": {
        "id": "hqAJv53njdIF"
      },
      "source": [
        "# ②充電：CM"
      ]
    },
    {
      "cell_type": "code",
      "metadata": {
        "colab": {
          "base_uri": "https://localhost:8080/",
          "height": 204
        },
        "id": "09iwdqKGiSVp",
        "outputId": "b1d0fcda-2f53-41c0-cac0-53ddfaad93dd"
      },
      "source": [
        "exp_c_cm = exp[['Time', 'CM']][exp['mode'] == 'Charge']\n",
        "exp_c_cm = exp_c_cm.reset_index(drop=True)\n",
        "exp_c_cm.head()"
      ],
      "execution_count": 20,
      "outputs": [
        {
          "output_type": "execute_result",
          "data": {
            "text/html": [
              "<div>\n",
              "<style scoped>\n",
              "    .dataframe tbody tr th:only-of-type {\n",
              "        vertical-align: middle;\n",
              "    }\n",
              "\n",
              "    .dataframe tbody tr th {\n",
              "        vertical-align: top;\n",
              "    }\n",
              "\n",
              "    .dataframe thead th {\n",
              "        text-align: right;\n",
              "    }\n",
              "</style>\n",
              "<table border=\"1\" class=\"dataframe\">\n",
              "  <thead>\n",
              "    <tr style=\"text-align: right;\">\n",
              "      <th></th>\n",
              "      <th>Time</th>\n",
              "      <th>CM</th>\n",
              "    </tr>\n",
              "  </thead>\n",
              "  <tbody>\n",
              "    <tr>\n",
              "      <th>0</th>\n",
              "      <td>0.000</td>\n",
              "      <td>0.000302</td>\n",
              "    </tr>\n",
              "    <tr>\n",
              "      <th>1</th>\n",
              "      <td>2.516</td>\n",
              "      <td>-3.362000</td>\n",
              "    </tr>\n",
              "    <tr>\n",
              "      <th>2</th>\n",
              "      <td>5.500</td>\n",
              "      <td>1.508700</td>\n",
              "    </tr>\n",
              "    <tr>\n",
              "      <th>3</th>\n",
              "      <td>8.391</td>\n",
              "      <td>1.510000</td>\n",
              "    </tr>\n",
              "    <tr>\n",
              "      <th>4</th>\n",
              "      <td>11.266</td>\n",
              "      <td>1.508700</td>\n",
              "    </tr>\n",
              "  </tbody>\n",
              "</table>\n",
              "</div>"
            ],
            "text/plain": [
              "     Time        CM\n",
              "0   0.000  0.000302\n",
              "1   2.516 -3.362000\n",
              "2   5.500  1.508700\n",
              "3   8.391  1.510000\n",
              "4  11.266  1.508700"
            ]
          },
          "metadata": {},
          "execution_count": 20
        }
      ]
    },
    {
      "cell_type": "code",
      "metadata": {
        "colab": {
          "base_uri": "https://localhost:8080/",
          "height": 606
        },
        "id": "ZdcYDZu1jrbq",
        "outputId": "e230bf97-6d5d-4bb0-b5fa-45807046371a"
      },
      "source": [
        "#オブジェクト指向的な可視化\n",
        "fig, ax = plt.subplots()\n",
        "\n",
        "fig.set_figwidth(10)#幅\n",
        "fig.set_figheight(5)#高さ\n",
        "\n",
        "ax.plot(exp_c_cm.index, exp_c_cm['CM'], label='CM')\n",
        "ax.set_title('CM_Charge_Cycle_1')\n",
        "ax.set_xlabel('Index', style='italic', size='xx-large', color='blue')\n",
        "ax.set_ylabel('CM', labelpad=35, weight='bold', size='xx-large', rotation='horizontal')\n",
        "\n",
        "fig1, ax1 = plt.subplots()\n",
        "ax1.plot(exp_c_cm['Time'], exp_c_cm['CM'], label='VM')\n",
        "\n",
        "plt.show()"
      ],
      "execution_count": 21,
      "outputs": [
        {
          "output_type": "display_data",
          "data": {
            "image/png": "[encoded data removed]",
            "text/plain": [
              "<Figure size 720x360 with 1 Axes>"
            ]
          },
          "metadata": {
            "needs_background": "light"
          }
        },
        {
          "output_type": "display_data",
          "data": {
            "image/png": "[encoded data removed]",
            "text/plain": [
              "<Figure size 432x288 with 1 Axes>"
            ]
          },
          "metadata": {
            "needs_background": "light"
          }
        }
      ]
    },
    {
      "cell_type": "code",
      "metadata": {
        "id": "UJVGM2awj88E",
        "colab": {
          "base_uri": "https://localhost:8080/"
        },
        "outputId": "6084d04e-6550-46fe-f134-f25207fa68a9"
      },
      "source": [
        "#点P_C_CM：立ち下がりの開始点\n",
        "#5行前と差分を取って確認。\n",
        "tmp_cm = exp_c_cm.loc[:, 'CM'].diff(5)\n",
        "tmp_cm.head(10)"
      ],
      "execution_count": 22,
      "outputs": [
        {
          "output_type": "execute_result",
          "data": {
            "text/plain": [
              "0         NaN\n",
              "1         NaN\n",
              "2         NaN\n",
              "3         NaN\n",
              "4         NaN\n",
              "5    1.511298\n",
              "6    4.871200\n",
              "7    0.003500\n",
              "8    0.000200\n",
              "9    0.002400\n",
              "Name: CM, dtype: float64"
            ]
          },
          "metadata": {},
          "execution_count": 22
        }
      ]
    },
    {
      "cell_type": "code",
      "metadata": {
        "colab": {
          "base_uri": "https://localhost:8080/",
          "height": 265
        },
        "id": "Ykspa5_bEyjG",
        "outputId": "0dfc986d-6536-4eb9-fb75-5bbb31d20520"
      },
      "source": [
        "#差分プロットの図示\n",
        "fig, ax = plt.subplots()\n",
        "ax.plot(tmp_cm.index, tmp_cm)\n",
        "ax.set_ylim(-0.25, 0.25)\n",
        "plt.show()"
      ],
      "execution_count": 23,
      "outputs": [
        {
          "output_type": "display_data",
          "data": {
            "image/png": "[encoded data removed]",
            "text/plain": [
              "<Figure size 432x288 with 1 Axes>"
            ]
          },
          "metadata": {
            "needs_background": "light"
          }
        }
      ]
    },
    {
      "cell_type": "code",
      "metadata": {
        "colab": {
          "base_uri": "https://localhost:8080/"
        },
        "id": "gMjgbCF-E_WT",
        "outputId": "805c6687-9952-4875-d93f-35d23270a34c"
      },
      "source": [
        "#LAG=5の最低点\n",
        "tmp_cm.argmin()"
      ],
      "execution_count": 24,
      "outputs": [
        {
          "output_type": "execute_result",
          "data": {
            "text/plain": [
              "523"
            ]
          },
          "metadata": {},
          "execution_count": 24
        }
      ]
    },
    {
      "cell_type": "code",
      "metadata": {
        "colab": {
          "base_uri": "https://localhost:8080/"
        },
        "id": "5c9aQ3G2Gbv8",
        "outputId": "91153f8c-9729-4dc9-c265-1072f900b9d1"
      },
      "source": [
        "#勾配が負で最小となるインデックスを取得\n",
        "cm_grad_min = np.gradient(tmp_cm[10:]).argmin()\n",
        "cm_grad_min\n",
        "#fig, ax = plt.subplots()\n",
        "#ax.plot(cm_grad_min)\n",
        "#plt.show()"
      ],
      "execution_count": 25,
      "outputs": [
        {
          "output_type": "execute_result",
          "data": {
            "text/plain": [
              "502"
            ]
          },
          "metadata": {},
          "execution_count": 25
        }
      ]
    },
    {
      "cell_type": "code",
      "metadata": {
        "colab": {
          "base_uri": "https://localhost:8080/"
        },
        "id": "gHOjibDJGtQs",
        "outputId": "58029412-9178-4744-e8e6-5b52a327512f"
      },
      "source": [
        "#飽和領域からの立ち下がり点(LAG=5の勾配が最小となる点)を点P_C_CMとする。\n",
        "P_C_CM = np.gradient(exp_c_cm.loc[:, 'CM'].diff(5)[10:]).argmin()\n",
        "P_C_CM"
      ],
      "execution_count": 26,
      "outputs": [
        {
          "output_type": "execute_result",
          "data": {
            "text/plain": [
              "502"
            ]
          },
          "metadata": {},
          "execution_count": 26
        }
      ]
    },
    {
      "cell_type": "code",
      "metadata": {
        "colab": {
          "base_uri": "https://localhost:8080/",
          "height": 358
        },
        "id": "HUgR0COBKHvI",
        "outputId": "4845a826-4ab4-4310-a840-ccbed3fe7d29"
      },
      "source": [
        "#点にマーカーを付ける。\n",
        "fig, ax = plt.subplots()\n",
        "\n",
        "fig.set_figwidth(10)#幅\n",
        "fig.set_figheight(5)#高さ\n",
        "\n",
        "ax.plot(exp_c_cm.index, exp_c_cm['CM'], label='CM')\n",
        "ax.set_title('CM_Charge_Cycle_1')\n",
        "ax.set_xlabel('Index', style='italic', size='xx-large', color='blue')\n",
        "ax.set_ylabel('CM', labelpad=35, weight='bold', size='xx-large', rotation='horizontal')\n",
        "\n",
        "ax.plot(P_C_CM, exp_c_cm.loc[P_C_CM, 'CM'], 'ro', ms=10, label='P_C_CM')\n",
        "\n",
        "ax.legend()\n",
        "plt.show();"
      ],
      "execution_count": 27,
      "outputs": [
        {
          "output_type": "display_data",
          "data": {
            "image/png": "[encoded data removed]",
            "text/plain": [
              "<Figure size 720x360 with 1 Axes>"
            ]
          },
          "metadata": {
            "needs_background": "light"
          }
        }
      ]
    },
    {
      "cell_type": "code",
      "metadata": {
        "colab": {
          "base_uri": "https://localhost:8080/"
        },
        "id": "zn0K7I_nKh-p",
        "outputId": "52a49447-61fc-4197-c7d1-4c3475566fca"
      },
      "source": [
        "#充電CMの特徴量は、点P_C_CMにおける時間\n",
        "Feature_CM = exp_c_cm['Time'].loc[P_C_CM]\n",
        "Feature_CM"
      ],
      "execution_count": 28,
      "outputs": [
        {
          "output_type": "execute_result",
          "data": {
            "text/plain": [
              "3207.4"
            ]
          },
          "metadata": {},
          "execution_count": 28
        }
      ]
    },
    {
      "cell_type": "markdown",
      "metadata": {
        "id": "YiygwZSRLItb"
      },
      "source": [
        "# ③充電：VC"
      ]
    },
    {
      "cell_type": "code",
      "metadata": {
        "colab": {
          "base_uri": "https://localhost:8080/",
          "height": 204
        },
        "id": "-bZBn4IzLHhS",
        "outputId": "2c77d142-3838-4099-aeb8-d7fbf1bd7472"
      },
      "source": [
        "exp_c_vc = exp[['Time', 'VC']][exp['mode'] == 'Charge']\n",
        "exp_c_vc = exp_c_vc.reset_index(drop=True)\n",
        "exp_c_vc.head()"
      ],
      "execution_count": 29,
      "outputs": [
        {
          "output_type": "execute_result",
          "data": {
            "text/html": [
              "<div>\n",
              "<style scoped>\n",
              "    .dataframe tbody tr th:only-of-type {\n",
              "        vertical-align: middle;\n",
              "    }\n",
              "\n",
              "    .dataframe tbody tr th {\n",
              "        vertical-align: top;\n",
              "    }\n",
              "\n",
              "    .dataframe thead th {\n",
              "        text-align: right;\n",
              "    }\n",
              "</style>\n",
              "<table border=\"1\" class=\"dataframe\">\n",
              "  <thead>\n",
              "    <tr style=\"text-align: right;\">\n",
              "      <th></th>\n",
              "      <th>Time</th>\n",
              "      <th>VC</th>\n",
              "    </tr>\n",
              "  </thead>\n",
              "  <tbody>\n",
              "    <tr>\n",
              "      <th>0</th>\n",
              "      <td>0.000</td>\n",
              "      <td>0.003</td>\n",
              "    </tr>\n",
              "    <tr>\n",
              "      <th>1</th>\n",
              "      <td>2.516</td>\n",
              "      <td>1.414</td>\n",
              "    </tr>\n",
              "    <tr>\n",
              "      <th>2</th>\n",
              "      <td>5.500</td>\n",
              "      <td>4.142</td>\n",
              "    </tr>\n",
              "    <tr>\n",
              "      <th>3</th>\n",
              "      <td>8.391</td>\n",
              "      <td>4.180</td>\n",
              "    </tr>\n",
              "    <tr>\n",
              "      <th>4</th>\n",
              "      <td>11.266</td>\n",
              "      <td>4.196</td>\n",
              "    </tr>\n",
              "  </tbody>\n",
              "</table>\n",
              "</div>"
            ],
            "text/plain": [
              "     Time     VC\n",
              "0   0.000  0.003\n",
              "1   2.516  1.414\n",
              "2   5.500  4.142\n",
              "3   8.391  4.180\n",
              "4  11.266  4.196"
            ]
          },
          "metadata": {},
          "execution_count": 29
        }
      ]
    },
    {
      "cell_type": "code",
      "metadata": {
        "id": "6yc-MWG_MG12"
      },
      "source": [
        "def viz(feature, data):\n",
        "  fig, ax = plt.subplots()\n",
        "\n",
        "  fig.set_figwidth(10)#幅\n",
        "  fig.set_figheight(5)#高さ\n",
        "\n",
        "  ax.plot(data.index, data[feature], label=feature)\n",
        "  ax.set_title(f'{feature}_Charge_Cycle_1')\n",
        "  ax.set_xlabel('Index', style='italic', size='xx-large', color='blue')\n",
        "  ax.set_ylabel(feature, labelpad=35, weight='bold', size='xx-large', rotation='horizontal')\n",
        "\n",
        "  fig1, ax1 = plt.subplots()\n",
        "  ax1.plot(data['Time'], data[feature], label=feature)\n",
        "\n",
        "  plt.show()"
      ],
      "execution_count": 30,
      "outputs": []
    },
    {
      "cell_type": "code",
      "metadata": {
        "colab": {
          "base_uri": "https://localhost:8080/",
          "height": 606
        },
        "id": "QyBnyvxUKsnR",
        "outputId": "c0d0422c-de67-40d0-e322-9c39bcf4455e"
      },
      "source": [
        "#可視化\n",
        "feature = 'VC'\n",
        "data = exp_c_vc\n",
        "\n",
        "viz(feature, data)"
      ],
      "execution_count": 31,
      "outputs": [
        {
          "output_type": "display_data",
          "data": {
            "image/png": "[encoded data removed]",
            "text/plain": [
              "<Figure size 720x360 with 1 Axes>"
            ]
          },
          "metadata": {
            "needs_background": "light"
          }
        },
        {
          "output_type": "display_data",
          "data": {
            "image/png": "[encoded data removed]",
            "text/plain": [
              "<Figure size 432x288 with 1 Axes>"
            ]
          },
          "metadata": {
            "needs_background": "light"
          }
        }
      ]
    },
    {
      "cell_type": "code",
      "metadata": {
        "colab": {
          "base_uri": "https://localhost:8080/"
        },
        "id": "lu4WivR7NBaB",
        "outputId": "458e6592-7ec0-4387-b88b-4d801c1c979f"
      },
      "source": [
        "#VCが最大値を示す点を、点P_C_VCとする。\n",
        "P_C_VC = exp_c_vc.VC.argmax()\n",
        "P_C_VC"
      ],
      "execution_count": 32,
      "outputs": [
        {
          "output_type": "execute_result",
          "data": {
            "text/plain": [
              "505"
            ]
          },
          "metadata": {},
          "execution_count": 32
        }
      ]
    },
    {
      "cell_type": "code",
      "metadata": {
        "id": "dVgBifM4NP6x"
      },
      "source": [
        "def viz_marker(feature, data, P):\n",
        "  fig, ax = plt.subplots()\n",
        "\n",
        "  fig.set_figwidth(10)#幅\n",
        "  fig.set_figheight(5)#高さ\n",
        "\n",
        "  ax.plot(data.index, data[feature], label=feature)\n",
        "  ax.set_title(f'{feature}_Charge_Cycle_1')\n",
        "  ax.set_xlabel('Index', style='italic', size='xx-large', color='blue')\n",
        "  ax.set_ylabel(feature, labelpad=35, weight='bold', size='xx-large', rotation='horizontal')\n",
        "\n",
        "  ax.plot(P, data.loc[P, feature], 'ro', ms=10, label=P)\n",
        "\n",
        "  plt.show()"
      ],
      "execution_count": 33,
      "outputs": []
    },
    {
      "cell_type": "code",
      "metadata": {
        "colab": {
          "base_uri": "https://localhost:8080/",
          "height": 358
        },
        "id": "6zrzl4iLN40h",
        "outputId": "6f899ec7-7ed3-4c1a-d8db-dbe9d794f06a"
      },
      "source": [
        "#可視化。マーカー付。\n",
        "feature = 'VC'\n",
        "data = exp_c_vc\n",
        "P = P_C_VC\n",
        "\n",
        "viz_marker(feature, data, P)"
      ],
      "execution_count": 34,
      "outputs": [
        {
          "output_type": "display_data",
          "data": {
            "image/png": "[encoded data removed]",
            "text/plain": [
              "<Figure size 720x360 with 1 Axes>"
            ]
          },
          "metadata": {
            "needs_background": "light"
          }
        }
      ]
    },
    {
      "cell_type": "code",
      "metadata": {
        "colab": {
          "base_uri": "https://localhost:8080/"
        },
        "id": "WkEErC2eOEz4",
        "outputId": "2c053c07-98f3-4dd6-b5ed-5c02916b410a"
      },
      "source": [
        "#充電VCの特徴量は、点P_C_VCにおける時間\n",
        "Feature_VC = exp_c_vc['Time'].loc[P_C_VC]\n",
        "Feature_VC"
      ],
      "execution_count": 35,
      "outputs": [
        {
          "output_type": "execute_result",
          "data": {
            "text/plain": [
              "3241.8"
            ]
          },
          "metadata": {},
          "execution_count": 35
        }
      ]
    },
    {
      "cell_type": "markdown",
      "metadata": {
        "id": "-CAHo0HXOWhG"
      },
      "source": [
        "# ④放電：VM"
      ]
    },
    {
      "cell_type": "code",
      "metadata": {
        "colab": {
          "base_uri": "https://localhost:8080/",
          "height": 204
        },
        "id": "Moh0qFI1OPmi",
        "outputId": "97eca6d2-6d59-4bb1-bab0-b5943daa67ce"
      },
      "source": [
        "exp_d_vm = exp[['Time', 'VM']][exp['mode'] == 'Discharge']\n",
        "exp_d_vm = exp_d_vm.reset_index(drop=True)\n",
        "exp_d_vm.head()"
      ],
      "execution_count": 36,
      "outputs": [
        {
          "output_type": "execute_result",
          "data": {
            "text/html": [
              "<div>\n",
              "<style scoped>\n",
              "    .dataframe tbody tr th:only-of-type {\n",
              "        vertical-align: middle;\n",
              "    }\n",
              "\n",
              "    .dataframe tbody tr th {\n",
              "        vertical-align: top;\n",
              "    }\n",
              "\n",
              "    .dataframe thead th {\n",
              "        text-align: right;\n",
              "    }\n",
              "</style>\n",
              "<table border=\"1\" class=\"dataframe\">\n",
              "  <thead>\n",
              "    <tr style=\"text-align: right;\">\n",
              "      <th></th>\n",
              "      <th>Time</th>\n",
              "      <th>VM</th>\n",
              "    </tr>\n",
              "  </thead>\n",
              "  <tbody>\n",
              "    <tr>\n",
              "      <th>0</th>\n",
              "      <td>0.000</td>\n",
              "      <td>4.1915</td>\n",
              "    </tr>\n",
              "    <tr>\n",
              "      <th>1</th>\n",
              "      <td>16.781</td>\n",
              "      <td>4.1907</td>\n",
              "    </tr>\n",
              "    <tr>\n",
              "      <th>2</th>\n",
              "      <td>35.703</td>\n",
              "      <td>3.9749</td>\n",
              "    </tr>\n",
              "    <tr>\n",
              "      <th>3</th>\n",
              "      <td>53.781</td>\n",
              "      <td>3.9517</td>\n",
              "    </tr>\n",
              "    <tr>\n",
              "      <th>4</th>\n",
              "      <td>71.922</td>\n",
              "      <td>3.9344</td>\n",
              "    </tr>\n",
              "  </tbody>\n",
              "</table>\n",
              "</div>"
            ],
            "text/plain": [
              "     Time      VM\n",
              "0   0.000  4.1915\n",
              "1  16.781  4.1907\n",
              "2  35.703  3.9749\n",
              "3  53.781  3.9517\n",
              "4  71.922  3.9344"
            ]
          },
          "metadata": {},
          "execution_count": 36
        }
      ]
    },
    {
      "cell_type": "code",
      "metadata": {
        "colab": {
          "base_uri": "https://localhost:8080/",
          "height": 606
        },
        "id": "lI3hwUMDOlDS",
        "outputId": "5538ad24-0765-4e18-c9f1-85a80e04120e"
      },
      "source": [
        "#可視化\n",
        "feature = 'VM'\n",
        "data = exp_d_vm\n",
        "\n",
        "viz(feature, data)"
      ],
      "execution_count": 37,
      "outputs": [
        {
          "output_type": "display_data",
          "data": {
            "image/png": "[encoded data removed]",
            "text/plain": [
              "<Figure size 720x360 with 1 Axes>"
            ]
          },
          "metadata": {
            "needs_background": "light"
          }
        },
        {
          "output_type": "display_data",
          "data": {
            "image/png": "[encoded data removed]",
            "text/plain": [
              "<Figure size 432x288 with 1 Axes>"
            ]
          },
          "metadata": {
            "needs_background": "light"
          }
        }
      ]
    },
    {
      "cell_type": "code",
      "metadata": {
        "colab": {
          "base_uri": "https://localhost:8080/"
        },
        "id": "EDq1ifj_OvLA",
        "outputId": "fb360181-9292-462e-d56c-60fe27cc4440"
      },
      "source": [
        "#VMが最小値を示す点を、点P_D_VMとする。\n",
        "P_D_VM = exp_d_vm.VM.argmin()\n",
        "P_D_VM"
      ],
      "execution_count": 38,
      "outputs": [
        {
          "output_type": "execute_result",
          "data": {
            "text/plain": [
              "179"
            ]
          },
          "metadata": {},
          "execution_count": 38
        }
      ]
    },
    {
      "cell_type": "code",
      "metadata": {
        "colab": {
          "base_uri": "https://localhost:8080/",
          "height": 358
        },
        "id": "U8VQ6WXrQYyH",
        "outputId": "9cc8b2c8-85f7-4944-f11e-6856b7161b8e"
      },
      "source": [
        "#可視化。マーカー付。\n",
        "feature = 'VM'\n",
        "data = exp_d_vm\n",
        "P = P_D_VM\n",
        "\n",
        "viz_marker(feature, data, P)"
      ],
      "execution_count": 39,
      "outputs": [
        {
          "output_type": "display_data",
          "data": {
            "image/png": "[encoded data removed]",
            "text/plain": [
              "<Figure size 720x360 with 1 Axes>"
            ]
          },
          "metadata": {
            "needs_background": "light"
          }
        }
      ]
    },
    {
      "cell_type": "code",
      "metadata": {
        "colab": {
          "base_uri": "https://localhost:8080/"
        },
        "id": "jmR8RxBHQjUV",
        "outputId": "64387e61-d57f-4b8f-ebeb-24519dfb7042"
      },
      "source": [
        "#放電VMの特徴量は、点P_D_VMにおける時間\n",
        "Feature_VM_D = exp_d_vm['Time'].loc[P_D_VM]\n",
        "Feature_VM_D"
      ],
      "execution_count": 40,
      "outputs": [
        {
          "output_type": "execute_result",
          "data": {
            "text/plain": [
              "3346.9"
            ]
          },
          "metadata": {},
          "execution_count": 40
        }
      ]
    },
    {
      "cell_type": "markdown",
      "metadata": {
        "id": "Pbd455gJRmp6"
      },
      "source": [
        "# ⑤放電：VL"
      ]
    },
    {
      "cell_type": "code",
      "metadata": {
        "colab": {
          "base_uri": "https://localhost:8080/",
          "height": 204
        },
        "id": "r8AQUKLfQvXL",
        "outputId": "fd18a33b-b2db-4ffb-87ee-31154c59f693"
      },
      "source": [
        "exp_d_vl = exp[['Time', 'VL']][exp['mode'] == 'Discharge']\n",
        "exp_d_vl = exp_d_vl.reset_index(drop=True)\n",
        "exp_d_vl.head()"
      ],
      "execution_count": 41,
      "outputs": [
        {
          "output_type": "execute_result",
          "data": {
            "text/html": [
              "<div>\n",
              "<style scoped>\n",
              "    .dataframe tbody tr th:only-of-type {\n",
              "        vertical-align: middle;\n",
              "    }\n",
              "\n",
              "    .dataframe tbody tr th {\n",
              "        vertical-align: top;\n",
              "    }\n",
              "\n",
              "    .dataframe thead th {\n",
              "        text-align: right;\n",
              "    }\n",
              "</style>\n",
              "<table border=\"1\" class=\"dataframe\">\n",
              "  <thead>\n",
              "    <tr style=\"text-align: right;\">\n",
              "      <th></th>\n",
              "      <th>Time</th>\n",
              "      <th>VL</th>\n",
              "    </tr>\n",
              "  </thead>\n",
              "  <tbody>\n",
              "    <tr>\n",
              "      <th>0</th>\n",
              "      <td>0.000</td>\n",
              "      <td>0.000</td>\n",
              "    </tr>\n",
              "    <tr>\n",
              "      <th>1</th>\n",
              "      <td>16.781</td>\n",
              "      <td>4.206</td>\n",
              "    </tr>\n",
              "    <tr>\n",
              "      <th>2</th>\n",
              "      <td>35.703</td>\n",
              "      <td>3.062</td>\n",
              "    </tr>\n",
              "    <tr>\n",
              "      <th>3</th>\n",
              "      <td>53.781</td>\n",
              "      <td>3.030</td>\n",
              "    </tr>\n",
              "    <tr>\n",
              "      <th>4</th>\n",
              "      <td>71.922</td>\n",
              "      <td>3.011</td>\n",
              "    </tr>\n",
              "  </tbody>\n",
              "</table>\n",
              "</div>"
            ],
            "text/plain": [
              "     Time     VL\n",
              "0   0.000  0.000\n",
              "1  16.781  4.206\n",
              "2  35.703  3.062\n",
              "3  53.781  3.030\n",
              "4  71.922  3.011"
            ]
          },
          "metadata": {},
          "execution_count": 41
        }
      ]
    },
    {
      "cell_type": "code",
      "metadata": {
        "colab": {
          "base_uri": "https://localhost:8080/",
          "height": 606
        },
        "id": "9TiN8-OkR7CF",
        "outputId": "bec8d525-b55e-41b9-8d14-f6c9743dbb5f"
      },
      "source": [
        "#可視化\n",
        "feature = 'VL'\n",
        "data = exp_d_vl\n",
        "\n",
        "viz(feature, data)"
      ],
      "execution_count": 42,
      "outputs": [
        {
          "output_type": "display_data",
          "data": {
            "image/png": "[encoded data removed]",
            "text/plain": [
              "<Figure size 720x360 with 1 Axes>"
            ]
          },
          "metadata": {
            "needs_background": "light"
          }
        },
        {
          "output_type": "display_data",
          "data": {
            "image/png": "[encoded data removed]",
            "text/plain": [
              "<Figure size 432x288 with 1 Axes>"
            ]
          },
          "metadata": {
            "needs_background": "light"
          }
        }
      ]
    },
    {
      "cell_type": "code",
      "metadata": {
        "colab": {
          "base_uri": "https://localhost:8080/"
        },
        "id": "WHFhlyuJSBIG",
        "outputId": "96b85037-cab4-4e87-c50c-ad67767e031e"
      },
      "source": [
        "#VLの最大値点以降の領域において、最小値を示す点を、点P_D_VLとする。\n",
        "VL_max = exp_d_vl.VL.argmax()\n",
        "P_D_VL = exp_d_vl.VL[VL_max: ].argmin()\n",
        "P_D_VL"
      ],
      "execution_count": 43,
      "outputs": [
        {
          "output_type": "execute_result",
          "data": {
            "text/plain": [
              "178"
            ]
          },
          "metadata": {},
          "execution_count": 43
        }
      ]
    },
    {
      "cell_type": "code",
      "metadata": {
        "colab": {
          "base_uri": "https://localhost:8080/",
          "height": 358
        },
        "id": "j3vwhuIsSxcw",
        "outputId": "057caf16-3c1a-48bb-ca70-9ff77bbba859"
      },
      "source": [
        "#可視化。マーカー付。\n",
        "feature = 'VL'\n",
        "data = exp_d_vl\n",
        "P = P_D_VL\n",
        "\n",
        "viz_marker(feature, data, P)"
      ],
      "execution_count": 44,
      "outputs": [
        {
          "output_type": "display_data",
          "data": {
            "image/png": "[encoded data removed]",
            "text/plain": [
              "<Figure size 720x360 with 1 Axes>"
            ]
          },
          "metadata": {
            "needs_background": "light"
          }
        }
      ]
    },
    {
      "cell_type": "code",
      "metadata": {
        "colab": {
          "base_uri": "https://localhost:8080/"
        },
        "id": "vjg1bzN2TFoM",
        "outputId": "c0a526cf-a160-46fc-f5f7-a9cc598667dc"
      },
      "source": [
        "#放電VLの特徴量は、点P_D_VLにおける時間\n",
        "Feature_VL_D = exp_d_vl['Time'].loc[P_D_VL]\n",
        "Feature_VL_D"
      ],
      "execution_count": 45,
      "outputs": [
        {
          "output_type": "execute_result",
          "data": {
            "text/plain": [
              "3327.2"
            ]
          },
          "metadata": {},
          "execution_count": 45
        }
      ]
    }
  ]
}
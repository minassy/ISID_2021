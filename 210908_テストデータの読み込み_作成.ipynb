{
  "nbformat": 4,
  "nbformat_minor": 0,
  "metadata": {
    "colab": {
      "name": "210908_テストデータの読み込み_作成.ipynb",
      "provenance": [],
      "collapsed_sections": [],
      "mount_file_id": "1DGV9mEfGlT8jmKNi4QGL-8fxLxniwto7",
      "authorship_tag": "ABX9TyPcgyXNE9Qo6VmI/A9xpVUZ",
      "include_colab_link": true
    },
    "kernelspec": {
      "name": "python3",
      "display_name": "Python 3"
    },
    "language_info": {
      "name": "python"
    }
  },
  "cells": [
    {
      "cell_type": "markdown",
      "metadata": {
        "id": "view-in-github",
        "colab_type": "text"
      },
      "source": [
        "<a href=\"https://colab.research.google.com/github/minassy/ISID_2021/blob/main/210908_%E3%83%86%E3%82%B9%E3%83%88%E3%83%87%E3%83%BC%E3%82%BF%E3%81%AE%E8%AA%AD%E3%81%BF%E8%BE%BC%E3%81%BF_%E4%BD%9C%E6%88%90.ipynb\" target=\"_parent\"><img src=\"https://colab.research.google.com/assets/colab-badge.svg\" alt=\"Open In Colab\"/></a>"
      ]
    },
    {
      "cell_type": "code",
      "metadata": {
        "id": "sz_FDXMssrXq"
      },
      "source": [
        "import os\n",
        "import zipfile\n",
        "import glob\n",
        "import pandas as pd\n",
        "import numpy as np\n",
        "import pathlib\n",
        "from tqdm import tqdm"
      ],
      "execution_count": null,
      "outputs": []
    },
    {
      "cell_type": "code",
      "metadata": {
        "colab": {
          "base_uri": "https://localhost:8080/"
        },
        "id": "1BUKwK7Ls3pr",
        "outputId": "bf83dbcd-102e-4d28-bc14-295cdc21f2b5"
      },
      "source": [
        "#作業基本ディレクトリ\n",
        "DIR = 'drive/MyDrive/00_Competition/ISID/2021'\n",
        "os.listdir(DIR)\n",
        "#os.mkdir(DIR+'/data')"
      ],
      "execution_count": null,
      "outputs": [
        {
          "output_type": "execute_result",
          "data": {
            "text/plain": [
              "['data',\n",
              " '210904_学習データの読み込み.ipynb',\n",
              " '210906_EDA_train.ipynb',\n",
              " '210908_テストデータの読み込み～作成.ipynb']"
            ]
          },
          "metadata": {},
          "execution_count": 2
        }
      ]
    },
    {
      "cell_type": "code",
      "metadata": {
        "id": "xQf2Cyeds6nH"
      },
      "source": [
        "DIR_DATA_TEST = os.path.join(DIR, 'data', 'Test_Unit_20210903')"
      ],
      "execution_count": null,
      "outputs": []
    },
    {
      "cell_type": "code",
      "metadata": {
        "colab": {
          "base_uri": "https://localhost:8080/"
        },
        "id": "jbLG_XxMs-Tw",
        "outputId": "bec04146-081d-4ab7-9846-6b09e9372139"
      },
      "source": [
        "#サブフォルダを含む、全ファイルを取得しファイル数を確認。\n",
        "#テストデータ\n",
        "for folder in os.listdir(DIR_DATA_TEST):\n",
        "  for C in os.listdir(os.path.join(DIR_DATA_TEST, folder)):\n",
        "    files = glob.glob(os.path.join(DIR_DATA_TEST, folder, C, '*.csv'))\n",
        "    print(f'{folder}','--',f'{C}のCSVファイル数：',len(files))"
      ],
      "execution_count": null,
      "outputs": [
        {
          "output_type": "stream",
          "name": "stdout",
          "text": [
            "Test_Unit_1 -- ChargeのCSVファイル数： 70\n",
            "Test_Unit_1 -- DischargeのCSVファイル数： 70\n",
            "Test_Unit_2 -- ChargeのCSVファイル数： 12\n",
            "Test_Unit_2 -- DischargeのCSVファイル数： 12\n",
            "Test_Unit_3 -- ChargeのCSVファイル数： 55\n",
            "Test_Unit_3 -- DischargeのCSVファイル数： 55\n"
          ]
        }
      ]
    },
    {
      "cell_type": "code",
      "metadata": {
        "id": "jBEYi5GttBHx"
      },
      "source": [
        "#一連の流れを関数化。\n",
        "def get_some_values(file_path):\n",
        "  #ファイルパスから、ユニット名を取得。\n",
        "  dirname = os.path.dirname(file_path)\n",
        "  dirname_split = dirname.split('/')#区切り文字'/'で分割\n",
        "  unit = dirname_split[-2]\n",
        "  charge_mode = dirname_split[-1]\n",
        "  #ファイルパスから、サイクル数を取得。\n",
        "  basename = os.path.basename(file_path)\n",
        "  basename_split = basename.split('_')[4]#区切り文字'_'で分割\n",
        "  cycle_num = basename_split.split('.')[0]\n",
        "  return unit, charge_mode, cycle_num"
      ],
      "execution_count": null,
      "outputs": []
    },
    {
      "cell_type": "code",
      "metadata": {
        "colab": {
          "base_uri": "https://localhost:8080/"
        },
        "id": "4Uh6Q6C1tLh0",
        "outputId": "1aa4dc59-4803-4b87-b096-5bb6c543b4e2"
      },
      "source": [
        "%time\n",
        "df_list = []\n",
        "for folder in tqdm(os.listdir(DIR_DATA_TEST)):\n",
        "  df_list_1 = []\n",
        "  for C in ['Charge', 'Discharge']:\n",
        "    files = glob.glob(os.path.join(DIR_DATA_TEST, folder, C, '*.csv'))\n",
        "    df_list_0 = []\n",
        "    for file in files:\n",
        "      tmp_df = pd.read_csv(file, encoding='utf-8')\n",
        "      unit, charge_mode, cycle_num = get_some_values(file)\n",
        "      #新たに取得した、ユニット名、充・放電モード、サイクル数を付与\n",
        "      tmp_df[['unit', 'charge_mode', 'Cycle_num']] = unit, charge_mode, cycle_num\n",
        "      df_list_0.append(tmp_df)\n",
        "    df_0 = pd.concat(df_list_0)\n",
        "    df_list_1.append(df_0)\n",
        "  df_1 = pd.concat(df_list_1)\n",
        "  df_list.append(df_1)\n",
        "df = pd.concat(df_list)"
      ],
      "execution_count": null,
      "outputs": [
        {
          "output_type": "stream",
          "name": "stdout",
          "text": [
            "CPU times: user 2 µs, sys: 0 ns, total: 2 µs\n",
            "Wall time: 4.77 µs\n"
          ]
        },
        {
          "output_type": "stream",
          "name": "stderr",
          "text": [
            "100%|██████████| 3/3 [02:19<00:00, 46.42s/it]\n"
          ]
        }
      ]
    },
    {
      "cell_type": "code",
      "metadata": {
        "colab": {
          "base_uri": "https://localhost:8080/"
        },
        "id": "kq2bHfQRtThl",
        "outputId": "c02e0382-a91b-4cea-feba-e9125606c298"
      },
      "source": [
        "df.shape"
      ],
      "execution_count": null,
      "outputs": [
        {
          "output_type": "execute_result",
          "data": {
            "text/plain": [
              "(345025, 12)"
            ]
          },
          "metadata": {},
          "execution_count": 7
        }
      ]
    },
    {
      "cell_type": "code",
      "metadata": {
        "colab": {
          "base_uri": "https://localhost:8080/",
          "height": 238
        },
        "id": "ctaFg3xCtyz2",
        "outputId": "b9909deb-c0dc-4d50-de5b-d1945a27601c"
      },
      "source": [
        "df.head()"
      ],
      "execution_count": null,
      "outputs": [
        {
          "output_type": "execute_result",
          "data": {
            "text/html": [
              "<div>\n",
              "<style scoped>\n",
              "    .dataframe tbody tr th:only-of-type {\n",
              "        vertical-align: middle;\n",
              "    }\n",
              "\n",
              "    .dataframe tbody tr th {\n",
              "        vertical-align: top;\n",
              "    }\n",
              "\n",
              "    .dataframe thead th {\n",
              "        text-align: right;\n",
              "    }\n",
              "</style>\n",
              "<table border=\"1\" class=\"dataframe\">\n",
              "  <thead>\n",
              "    <tr style=\"text-align: right;\">\n",
              "      <th></th>\n",
              "      <th>Time (s)</th>\n",
              "      <th>Voltage Measured (V)</th>\n",
              "      <th>Voltage Charge (V)</th>\n",
              "      <th>Current Measured (Amps)</th>\n",
              "      <th>Current Charge (Amps)</th>\n",
              "      <th>Temperature (degree C)</th>\n",
              "      <th>Unnamed: 6</th>\n",
              "      <th>unit</th>\n",
              "      <th>charge_mode</th>\n",
              "      <th>Cycle_num</th>\n",
              "      <th>Voltage Load (V)</th>\n",
              "      <th>Current Load (Amps)</th>\n",
              "    </tr>\n",
              "  </thead>\n",
              "  <tbody>\n",
              "    <tr>\n",
              "      <th>0</th>\n",
              "      <td>0.000</td>\n",
              "      <td>3.4268</td>\n",
              "      <td>-0.007</td>\n",
              "      <td>0.000887</td>\n",
              "      <td>0.000</td>\n",
              "      <td>33.569</td>\n",
              "      <td>NaN</td>\n",
              "      <td>Test_Unit_1</td>\n",
              "      <td>Charge</td>\n",
              "      <td>61</td>\n",
              "      <td>NaN</td>\n",
              "      <td>NaN</td>\n",
              "    </tr>\n",
              "    <tr>\n",
              "      <th>1</th>\n",
              "      <td>2.484</td>\n",
              "      <td>3.1242</td>\n",
              "      <td>1.439</td>\n",
              "      <td>-3.518300</td>\n",
              "      <td>-3.536</td>\n",
              "      <td>33.511</td>\n",
              "      <td>NaN</td>\n",
              "      <td>Test_Unit_1</td>\n",
              "      <td>Charge</td>\n",
              "      <td>61</td>\n",
              "      <td>NaN</td>\n",
              "      <td>NaN</td>\n",
              "    </tr>\n",
              "    <tr>\n",
              "      <th>2</th>\n",
              "      <td>7.297</td>\n",
              "      <td>3.5065</td>\n",
              "      <td>4.219</td>\n",
              "      <td>1.516100</td>\n",
              "      <td>1.507</td>\n",
              "      <td>33.502</td>\n",
              "      <td>NaN</td>\n",
              "      <td>Test_Unit_1</td>\n",
              "      <td>Charge</td>\n",
              "      <td>61</td>\n",
              "      <td>NaN</td>\n",
              "      <td>NaN</td>\n",
              "    </tr>\n",
              "    <tr>\n",
              "      <th>3</th>\n",
              "      <td>11.891</td>\n",
              "      <td>3.5454</td>\n",
              "      <td>4.273</td>\n",
              "      <td>1.517200</td>\n",
              "      <td>1.507</td>\n",
              "      <td>33.491</td>\n",
              "      <td>NaN</td>\n",
              "      <td>Test_Unit_1</td>\n",
              "      <td>Charge</td>\n",
              "      <td>61</td>\n",
              "      <td>NaN</td>\n",
              "      <td>NaN</td>\n",
              "    </tr>\n",
              "    <tr>\n",
              "      <th>4</th>\n",
              "      <td>16.484</td>\n",
              "      <td>3.5689</td>\n",
              "      <td>4.295</td>\n",
              "      <td>1.517200</td>\n",
              "      <td>1.507</td>\n",
              "      <td>33.453</td>\n",
              "      <td>NaN</td>\n",
              "      <td>Test_Unit_1</td>\n",
              "      <td>Charge</td>\n",
              "      <td>61</td>\n",
              "      <td>NaN</td>\n",
              "      <td>NaN</td>\n",
              "    </tr>\n",
              "  </tbody>\n",
              "</table>\n",
              "</div>"
            ],
            "text/plain": [
              "   Time (s)  Voltage Measured (V)  ...  Voltage Load (V)  Current Load (Amps)\n",
              "0     0.000                3.4268  ...               NaN                  NaN\n",
              "1     2.484                3.1242  ...               NaN                  NaN\n",
              "2     7.297                3.5065  ...               NaN                  NaN\n",
              "3    11.891                3.5454  ...               NaN                  NaN\n",
              "4    16.484                3.5689  ...               NaN                  NaN\n",
              "\n",
              "[5 rows x 12 columns]"
            ]
          },
          "metadata": {},
          "execution_count": 8
        }
      ]
    },
    {
      "cell_type": "code",
      "metadata": {
        "colab": {
          "base_uri": "https://localhost:8080/",
          "height": 884
        },
        "id": "JUd9fwdMt0MC",
        "outputId": "a62c5f91-0dd3-40e5-c338-05b8968df05f"
      },
      "source": [
        "#データの確認\n",
        "Dataframe = df\n",
        "print('レコード数：',Dataframe.shape[0],'カラム数：',Dataframe.shape[1])\n",
        "print('/'*30)\n",
        "print('データセット情報:')\n",
        "Dataframe.info()\n",
        "print('/'*30)\n",
        "print('欠損値確認：')\n",
        "print(Dataframe.isnull().sum())\n",
        "print('/'*30)\n",
        "Dataframe.head()"
      ],
      "execution_count": null,
      "outputs": [
        {
          "output_type": "stream",
          "name": "stdout",
          "text": [
            "レコード数： 345025 カラム数： 12\n",
            "//////////////////////////////\n",
            "データセット情報:\n",
            "<class 'pandas.core.frame.DataFrame'>\n",
            "Int64Index: 345025 entries, 0 to 350\n",
            "Data columns (total 12 columns):\n",
            " #   Column                   Non-Null Count   Dtype  \n",
            "---  ------                   --------------   -----  \n",
            " 0   Time (s)                 345025 non-null  float64\n",
            " 1   Voltage Measured (V)     345023 non-null  float64\n",
            " 2   Voltage Charge (V)       306521 non-null  float64\n",
            " 3   Current Measured (Amps)  345023 non-null  float64\n",
            " 4   Current Charge (Amps)    306521 non-null  float64\n",
            " 5   Temperature (degree C)   345023 non-null  float64\n",
            " 6   Unnamed: 6               0 non-null       float64\n",
            " 7   unit                     345025 non-null  object \n",
            " 8   charge_mode              345025 non-null  object \n",
            " 9   Cycle_num                345025 non-null  object \n",
            " 10  Voltage Load (V)         38504 non-null   float64\n",
            " 11  Current Load (Amps)      38504 non-null   float64\n",
            "dtypes: float64(9), object(3)\n",
            "memory usage: 34.2+ MB\n",
            "//////////////////////////////\n",
            "欠損値確認：\n",
            "Time (s)                        0\n",
            "Voltage Measured (V)            2\n",
            "Voltage Charge (V)          38504\n",
            "Current Measured (Amps)         2\n",
            "Current Charge (Amps)       38504\n",
            "Temperature (degree C)          2\n",
            "Unnamed: 6                 345025\n",
            "unit                            0\n",
            "charge_mode                     0\n",
            "Cycle_num                       0\n",
            "Voltage Load (V)           306521\n",
            "Current Load (Amps)        306521\n",
            "dtype: int64\n",
            "//////////////////////////////\n"
          ]
        },
        {
          "output_type": "execute_result",
          "data": {
            "text/html": [
              "<div>\n",
              "<style scoped>\n",
              "    .dataframe tbody tr th:only-of-type {\n",
              "        vertical-align: middle;\n",
              "    }\n",
              "\n",
              "    .dataframe tbody tr th {\n",
              "        vertical-align: top;\n",
              "    }\n",
              "\n",
              "    .dataframe thead th {\n",
              "        text-align: right;\n",
              "    }\n",
              "</style>\n",
              "<table border=\"1\" class=\"dataframe\">\n",
              "  <thead>\n",
              "    <tr style=\"text-align: right;\">\n",
              "      <th></th>\n",
              "      <th>Time (s)</th>\n",
              "      <th>Voltage Measured (V)</th>\n",
              "      <th>Voltage Charge (V)</th>\n",
              "      <th>Current Measured (Amps)</th>\n",
              "      <th>Current Charge (Amps)</th>\n",
              "      <th>Temperature (degree C)</th>\n",
              "      <th>Unnamed: 6</th>\n",
              "      <th>unit</th>\n",
              "      <th>charge_mode</th>\n",
              "      <th>Cycle_num</th>\n",
              "      <th>Voltage Load (V)</th>\n",
              "      <th>Current Load (Amps)</th>\n",
              "    </tr>\n",
              "  </thead>\n",
              "  <tbody>\n",
              "    <tr>\n",
              "      <th>0</th>\n",
              "      <td>0.000</td>\n",
              "      <td>3.4268</td>\n",
              "      <td>-0.007</td>\n",
              "      <td>0.000887</td>\n",
              "      <td>0.000</td>\n",
              "      <td>33.569</td>\n",
              "      <td>NaN</td>\n",
              "      <td>Test_Unit_1</td>\n",
              "      <td>Charge</td>\n",
              "      <td>61</td>\n",
              "      <td>NaN</td>\n",
              "      <td>NaN</td>\n",
              "    </tr>\n",
              "    <tr>\n",
              "      <th>1</th>\n",
              "      <td>2.484</td>\n",
              "      <td>3.1242</td>\n",
              "      <td>1.439</td>\n",
              "      <td>-3.518300</td>\n",
              "      <td>-3.536</td>\n",
              "      <td>33.511</td>\n",
              "      <td>NaN</td>\n",
              "      <td>Test_Unit_1</td>\n",
              "      <td>Charge</td>\n",
              "      <td>61</td>\n",
              "      <td>NaN</td>\n",
              "      <td>NaN</td>\n",
              "    </tr>\n",
              "    <tr>\n",
              "      <th>2</th>\n",
              "      <td>7.297</td>\n",
              "      <td>3.5065</td>\n",
              "      <td>4.219</td>\n",
              "      <td>1.516100</td>\n",
              "      <td>1.507</td>\n",
              "      <td>33.502</td>\n",
              "      <td>NaN</td>\n",
              "      <td>Test_Unit_1</td>\n",
              "      <td>Charge</td>\n",
              "      <td>61</td>\n",
              "      <td>NaN</td>\n",
              "      <td>NaN</td>\n",
              "    </tr>\n",
              "    <tr>\n",
              "      <th>3</th>\n",
              "      <td>11.891</td>\n",
              "      <td>3.5454</td>\n",
              "      <td>4.273</td>\n",
              "      <td>1.517200</td>\n",
              "      <td>1.507</td>\n",
              "      <td>33.491</td>\n",
              "      <td>NaN</td>\n",
              "      <td>Test_Unit_1</td>\n",
              "      <td>Charge</td>\n",
              "      <td>61</td>\n",
              "      <td>NaN</td>\n",
              "      <td>NaN</td>\n",
              "    </tr>\n",
              "    <tr>\n",
              "      <th>4</th>\n",
              "      <td>16.484</td>\n",
              "      <td>3.5689</td>\n",
              "      <td>4.295</td>\n",
              "      <td>1.517200</td>\n",
              "      <td>1.507</td>\n",
              "      <td>33.453</td>\n",
              "      <td>NaN</td>\n",
              "      <td>Test_Unit_1</td>\n",
              "      <td>Charge</td>\n",
              "      <td>61</td>\n",
              "      <td>NaN</td>\n",
              "      <td>NaN</td>\n",
              "    </tr>\n",
              "  </tbody>\n",
              "</table>\n",
              "</div>"
            ],
            "text/plain": [
              "   Time (s)  Voltage Measured (V)  ...  Voltage Load (V)  Current Load (Amps)\n",
              "0     0.000                3.4268  ...               NaN                  NaN\n",
              "1     2.484                3.1242  ...               NaN                  NaN\n",
              "2     7.297                3.5065  ...               NaN                  NaN\n",
              "3    11.891                3.5454  ...               NaN                  NaN\n",
              "4    16.484                3.5689  ...               NaN                  NaN\n",
              "\n",
              "[5 rows x 12 columns]"
            ]
          },
          "metadata": {},
          "execution_count": 9
        }
      ]
    },
    {
      "cell_type": "code",
      "metadata": {
        "id": "6v3eDGj7t4FD"
      },
      "source": [
        "#CSVファイルとして一旦出力\n",
        "df.to_csv(os.path.join(DIR_DATA_TEST, 'dataset_test_all.csv'), encoding='utf-8')"
      ],
      "execution_count": null,
      "outputs": []
    },
    {
      "cell_type": "code",
      "metadata": {
        "colab": {
          "base_uri": "https://localhost:8080/"
        },
        "id": "kWxVV7IIuAie",
        "outputId": "87f46e75-3665-467b-d2ca-0f85d5adfa20"
      },
      "source": [
        "os.listdir(DIR_DATA_TEST)"
      ],
      "execution_count": null,
      "outputs": [
        {
          "output_type": "execute_result",
          "data": {
            "text/plain": [
              "['Test_Unit_1', 'Test_Unit_2', 'Test_Unit_3', 'dataset_test_all.csv']"
            ]
          },
          "metadata": {},
          "execution_count": 11
        }
      ]
    },
    {
      "cell_type": "code",
      "metadata": {
        "id": "06iZnsiUuDUy"
      },
      "source": [
        ""
      ],
      "execution_count": null,
      "outputs": []
    }
  ]
}
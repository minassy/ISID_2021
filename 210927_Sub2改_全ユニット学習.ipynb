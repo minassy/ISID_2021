{
  "nbformat": 4,
  "nbformat_minor": 0,
  "metadata": {
    "colab": {
      "name": "210927_Sub2改_全ユニット学習.ipynb",
      "provenance": [],
      "collapsed_sections": [],
      "mount_file_id": "1DA90XslGNlLbB6kRDkuQP633k0faL4Oz",
      "authorship_tag": "ABX9TyP7z6/ll8jE78JWe8n3IjtK",
      "include_colab_link": true
    },
    "kernelspec": {
      "name": "python3",
      "display_name": "Python 3"
    },
    "language_info": {
      "name": "python"
    }
  },
  "cells": [
    {
      "cell_type": "markdown",
      "metadata": {
        "id": "view-in-github",
        "colab_type": "text"
      },
      "source": [
        "<a href=\"https://colab.research.google.com/github/minassy/ISID_2021/blob/main/210927_Sub2%E6%94%B9_%E5%85%A8%E3%83%A6%E3%83%8B%E3%83%83%E3%83%88%E5%AD%A6%E7%BF%92.ipynb\" target=\"_parent\"><img src=\"https://colab.research.google.com/assets/colab-badge.svg\" alt=\"Open In Colab\"/></a>"
      ]
    },
    {
      "cell_type": "code",
      "metadata": {
        "id": "cmRpBtX54nqw"
      },
      "source": [
        "import os\n",
        "import zipfile\n",
        "import glob\n",
        "import pandas as pd\n",
        "import numpy as np\n",
        "import math\n",
        "import statistics\n",
        "import pathlib\n",
        "from tqdm import tqdm\n",
        "import matplotlib.pyplot as plt\n",
        "import seaborn as sns"
      ],
      "execution_count": 1,
      "outputs": []
    },
    {
      "cell_type": "code",
      "metadata": {
        "id": "aZ6U_mmw40hy"
      },
      "source": [
        "#作業基本ディレクトリ\n",
        "DIR = 'drive/MyDrive/00_Competition/ISID/2021'\n",
        "#学習データディレクトリ\n",
        "DIR_DATA_TRAIN = os.path.join(DIR, 'data', 'Train_Unit_20210903')\n",
        "#テストデータディレクトリ\n",
        "DIR_DATA_TEST = os.path.join(DIR, 'data', 'Test_Unit_20210903')"
      ],
      "execution_count": 2,
      "outputs": []
    },
    {
      "cell_type": "code",
      "metadata": {
        "id": "GFiWNVWN42Cz"
      },
      "source": [
        "#一連のデータ処理\n",
        "def get_some_values(file_path):\n",
        "  #ファイルパスから、ユニット名を取得。\n",
        "  dirname = os.path.dirname(file_path)\n",
        "  dirname_split = dirname.split('/')#区切り文字'/'で分割\n",
        "  unit = dirname_split[-2]\n",
        "  charge_mode = dirname_split[-1]\n",
        "  #ファイルパスから、サイクル数を取得。\n",
        "  basename = os.path.basename(file_path)\n",
        "  basename_split = basename.split('_')[4]#区切り文字'_'で分割\n",
        "  cycle_num = basename_split.split('.')[0]\n",
        "  return unit, charge_mode, cycle_num\n",
        "\n",
        "#%time\n",
        "#DATA_DIR = DIR_DATA_TRAIN\n",
        "#DATA_DIR = DIR_DATA_TEST\n",
        "\n",
        "#C = 'Charge'\n",
        "#C = 'Discharge'\n",
        "\n",
        "def data_reading(DATA_DIR, C):\n",
        "\n",
        "  #カラム名変更前後の辞書\n",
        "  col_list = {'Time (s)' : 'Time',\n",
        "              'Voltage Measured (V)' : 'VM',\n",
        "              'Voltage Charge (V)' : 'VC',\n",
        "              'Current Measured (Amps)' : 'CM', \n",
        "              'Current Charge (Amps)' : 'CC',\n",
        "              'Temperature (degree C)': 'Temp', \n",
        "              'unit' : 'unit_name', \n",
        "              'charge_mode' : 'mode', \n",
        "              'Cycle_num' : 'Cycle',\n",
        "              'Voltage Load (V)' : 'VL',\n",
        "              'Current Load (Amps)' : 'CL'\n",
        "  }\n",
        "\n",
        "  df_list = []\n",
        "  for folder in tqdm(os.listdir(DATA_DIR)[:3]):\n",
        "    files = glob.glob(os.path.join(DATA_DIR, folder, C, '*.csv'))\n",
        "    df_list_0 = []\n",
        "    for file in files:\n",
        "      tmp_df = pd.read_csv(file, encoding='utf-8')\n",
        "      tmp_df = tmp_df.rename(columns=col_list)\n",
        "      #ユニット名、充・放電モード、サイクル数の取得\n",
        "      unit, charge_mode, cycle_num = get_some_values(file)\n",
        "      #特徴量のデータフレームの作成\n",
        "      if C == 'Charge':\n",
        "        df_exp = pd.DataFrame([{'unit':unit,\n",
        "                          'charge_mode' : charge_mode,\n",
        "                          'Cycle_num' : int(cycle_num),\n",
        "                          'feature_c_vm' : featured_c_vm(tmp_df),\n",
        "                          'feature_c_cm' : featured_c_cm(tmp_df),\n",
        "                          'feature_c_vc' : featured_c_vc(tmp_df)}])\n",
        "      else:\n",
        "        df_exp = pd.DataFrame([{'unit':unit,\n",
        "                          'charge_mode' : charge_mode,\n",
        "                          'Cycle_num' : int(cycle_num),\n",
        "                          'feature_d_vm' : featured_d_vm(tmp_df),\n",
        "                          'feature_d_vl' : featured_d_vl(tmp_df)}])\n",
        "      df_list_0.append(df_exp)\n",
        "    df_0 = pd.concat(df_list_0)\n",
        "    df_list.append(df_0)\n",
        "  df = pd.concat(df_list)\n",
        "\n",
        "  #ユニットとサイクルでソート。\n",
        "  df = df.sort_values(['unit', 'Cycle_num'])\n",
        "  #インデックスの振り直し\n",
        "  df = df.reset_index(drop=True)\n",
        "\n",
        "  return df\n",
        "\n",
        "def featured_c_vm(df):\n",
        "  #LAG=5が0.001未満が続くところを、飽和領域とみなす。\n",
        "  p_c_vm = df.loc[:, 'VM'][df.loc[:, 'VM'].diff(5) < 0.001]\n",
        "  #飽和領域のなかで、最初の点を点P_C_VMとする。\n",
        "  p_c_vm = p_c_vm.reset_index(inplace=False)\n",
        "  p_c_vm = p_c_vm['index'].iloc[0]\n",
        "  #充電VMの特徴量は、点P_C_VMにおける時間\n",
        "  feature_c_vm = df['Time'].loc[p_c_vm]\n",
        "  return feature_c_vm\n",
        "\n",
        "def featured_c_cm(df):\n",
        "  #飽和領域からの立ち下がり点(LAG=5の勾配が最小となる点)を点P_C_CMとする。\n",
        "  p_c_cm = np.gradient(df.loc[:, 'CM'].diff(5)[10:]).argmin()\n",
        "  #充電CMの特徴量は、点P_C_CMにおける時間\n",
        "  feature_c_cm = df['Time'].loc[p_c_cm]\n",
        "  return feature_c_cm\n",
        "\n",
        "def featured_c_vc(df):\n",
        "  #VCが最大値を示す点を、点P_C_VCとする。\n",
        "  p_c_vc = df.VC.argmax()\n",
        "  #充電VCの特徴量は、点P_C_VCにおける時間\n",
        "  feature_c_vc = df['Time'].loc[p_c_vc]\n",
        "  return feature_c_vc\n",
        "\n",
        "def featured_d_vm(df):\n",
        "  #VMが最小値を示す点を、点P_D_VMとする。\n",
        "  p_d_vm = df.VM.argmin()\n",
        "  #放電VMの特徴量は、点P_D_VMにおける時間\n",
        "  feature_d_vm = df['Time'].loc[p_d_vm]\n",
        "  return feature_d_vm\n",
        "\n",
        "def featured_d_vl(df):\n",
        "  #VLの最大値点以降の領域において、最小値を示す点を、点P_D_VLとする。\n",
        "  VL_max = df.VL.argmax()\n",
        "  p_d_vl = df.VL[VL_max: ].argmin()\n",
        "  #放電VLの特徴量は、点P_D_VLにおける時間\n",
        "  feature_d_vl = df['Time'].loc[p_d_vl]\n",
        "  return feature_d_vl"
      ],
      "execution_count": 3,
      "outputs": []
    },
    {
      "cell_type": "code",
      "metadata": {
        "colab": {
          "base_uri": "https://localhost:8080/"
        },
        "id": "XsCAjPGi46P2",
        "outputId": "7e0df58e-b516-4f94-a332-95b1edb5fd45"
      },
      "source": [
        "%time\n",
        "#データの読み込み(学習)\n",
        "#充電\n",
        "\n",
        "DATA_DIR = DIR_DATA_TRAIN\n",
        "#DATA_DIR = DIR_DATA_TEST\n",
        "\n",
        "C = 'Charge'\n",
        "#C = 'Discharge'\n",
        "\n",
        "df_train_charge = data_reading(DATA_DIR, C)\n",
        "\n",
        "#データの読み込み(学習)\n",
        "#放電\n",
        "\n",
        "DATA_DIR = DIR_DATA_TRAIN\n",
        "#DATA_DIR = DIR_DATA_TEST\n",
        "\n",
        "#C = 'Charge'\n",
        "C = 'Discharge'\n",
        "\n",
        "df_train_discharge = data_reading(DATA_DIR, C)\n",
        "\n",
        "#充電と放電の特徴量のデータセット作成\n",
        "df_train_feature = pd.merge(df_train_charge, df_train_discharge,\n",
        "                            how = 'inner',\n",
        "                            on = ['unit', 'Cycle_num'])\n",
        "\n",
        "#データの読み込み(学習)\n",
        "#充電\n",
        "\n",
        "#DATA_DIR = DIR_DATA_TRAIN\n",
        "DATA_DIR = DIR_DATA_TEST\n",
        "\n",
        "C = 'Charge'\n",
        "#C = 'Discharge'\n",
        "\n",
        "df_test_charge = data_reading(DATA_DIR, C)\n",
        "\n",
        "#データの読み込み(学習)\n",
        "#放電\n",
        "\n",
        "#DATA_DIR = DIR_DATA_TRAIN\n",
        "DATA_DIR = DIR_DATA_TEST\n",
        "\n",
        "#C = 'Charge'\n",
        "C = 'Discharge'\n",
        "\n",
        "df_test_discharge = data_reading(DATA_DIR, C)\n",
        "\n",
        "#充電と放電の特徴量のデータセット作成\n",
        "df_test_feature = pd.merge(df_test_charge, df_test_discharge,\n",
        "                            how = 'inner',\n",
        "                            on = ['unit', 'Cycle_num'])\n"
      ],
      "execution_count": 4,
      "outputs": [
        {
          "output_type": "stream",
          "name": "stdout",
          "text": [
            "CPU times: user 2 µs, sys: 0 ns, total: 2 µs\n",
            "Wall time: 5.96 µs\n"
          ]
        },
        {
          "output_type": "stream",
          "name": "stderr",
          "text": [
            "100%|██████████| 3/3 [01:02<00:00, 20.93s/it]\n",
            "100%|██████████| 3/3 [00:57<00:00, 19.07s/it]\n",
            "100%|██████████| 3/3 [00:32<00:00, 10.90s/it]\n",
            "100%|██████████| 3/3 [00:32<00:00, 10.81s/it]\n"
          ]
        }
      ]
    },
    {
      "cell_type": "code",
      "metadata": {
        "id": "4Rre1g0n48xC"
      },
      "source": [
        "df_train = df_train_feature.copy()\n",
        "df_test = df_test_feature.copy()"
      ],
      "execution_count": 32,
      "outputs": []
    },
    {
      "cell_type": "code",
      "metadata": {
        "id": "k9ulVTHv5DjT"
      },
      "source": [
        "num_train_unit_1 = 124\n",
        "num_train_unit_2 = 40\n",
        "num_train_unit_3 = 97\n",
        "\n",
        "num_test_unit_1 = 70\n",
        "num_test_unit_2 = 12\n",
        "num_test_unit_3 = 55"
      ],
      "execution_count": 33,
      "outputs": []
    },
    {
      "cell_type": "code",
      "metadata": {
        "colab": {
          "base_uri": "https://localhost:8080/",
          "height": 206
        },
        "id": "x_PANcaA5L57",
        "outputId": "1cbee9d8-078f-44fe-e57b-00157a0cf361"
      },
      "source": [
        "df_train.head()\n",
        "#df_train.shape"
      ],
      "execution_count": 34,
      "outputs": [
        {
          "output_type": "execute_result",
          "data": {
            "text/html": [
              "<div>\n",
              "<style scoped>\n",
              "    .dataframe tbody tr th:only-of-type {\n",
              "        vertical-align: middle;\n",
              "    }\n",
              "\n",
              "    .dataframe tbody tr th {\n",
              "        vertical-align: top;\n",
              "    }\n",
              "\n",
              "    .dataframe thead th {\n",
              "        text-align: right;\n",
              "    }\n",
              "</style>\n",
              "<table border=\"1\" class=\"dataframe\">\n",
              "  <thead>\n",
              "    <tr style=\"text-align: right;\">\n",
              "      <th></th>\n",
              "      <th>unit</th>\n",
              "      <th>charge_mode_x</th>\n",
              "      <th>Cycle_num</th>\n",
              "      <th>feature_c_vm</th>\n",
              "      <th>feature_c_cm</th>\n",
              "      <th>feature_c_vc</th>\n",
              "      <th>charge_mode_y</th>\n",
              "      <th>feature_d_vm</th>\n",
              "      <th>feature_d_vl</th>\n",
              "    </tr>\n",
              "  </thead>\n",
              "  <tbody>\n",
              "    <tr>\n",
              "      <th>0</th>\n",
              "      <td>Train_Unit_1</td>\n",
              "      <td>Charge</td>\n",
              "      <td>1</td>\n",
              "      <td>3422.5</td>\n",
              "      <td>3207.4</td>\n",
              "      <td>3241.8</td>\n",
              "      <td>Discharge</td>\n",
              "      <td>3346.9</td>\n",
              "      <td>3327.2</td>\n",
              "    </tr>\n",
              "    <tr>\n",
              "      <th>1</th>\n",
              "      <td>Train_Unit_1</td>\n",
              "      <td>Charge</td>\n",
              "      <td>2</td>\n",
              "      <td>3431.6</td>\n",
              "      <td>3181.8</td>\n",
              "      <td>3262.3</td>\n",
              "      <td>Discharge</td>\n",
              "      <td>3328.8</td>\n",
              "      <td>3309.2</td>\n",
              "    </tr>\n",
              "    <tr>\n",
              "      <th>2</th>\n",
              "      <td>Train_Unit_1</td>\n",
              "      <td>Charge</td>\n",
              "      <td>3</td>\n",
              "      <td>3409.1</td>\n",
              "      <td>9692.7</td>\n",
              "      <td>3229.2</td>\n",
              "      <td>Discharge</td>\n",
              "      <td>3309.4</td>\n",
              "      <td>3289.8</td>\n",
              "    </tr>\n",
              "    <tr>\n",
              "      <th>3</th>\n",
              "      <td>Train_Unit_1</td>\n",
              "      <td>Charge</td>\n",
              "      <td>4</td>\n",
              "      <td>3407.7</td>\n",
              "      <td>3160.2</td>\n",
              "      <td>3228.2</td>\n",
              "      <td>Discharge</td>\n",
              "      <td>3309.7</td>\n",
              "      <td>3289.9</td>\n",
              "    </tr>\n",
              "    <tr>\n",
              "      <th>4</th>\n",
              "      <td>Train_Unit_1</td>\n",
              "      <td>Charge</td>\n",
              "      <td>5</td>\n",
              "      <td>3409.6</td>\n",
              "      <td>3172.4</td>\n",
              "      <td>3217.9</td>\n",
              "      <td>Discharge</td>\n",
              "      <td>3307.7</td>\n",
              "      <td>3287.9</td>\n",
              "    </tr>\n",
              "  </tbody>\n",
              "</table>\n",
              "</div>"
            ],
            "text/plain": [
              "           unit charge_mode_x  ...  feature_d_vm  feature_d_vl\n",
              "0  Train_Unit_1        Charge  ...        3346.9        3327.2\n",
              "1  Train_Unit_1        Charge  ...        3328.8        3309.2\n",
              "2  Train_Unit_1        Charge  ...        3309.4        3289.8\n",
              "3  Train_Unit_1        Charge  ...        3309.7        3289.9\n",
              "4  Train_Unit_1        Charge  ...        3307.7        3287.9\n",
              "\n",
              "[5 rows x 9 columns]"
            ]
          },
          "metadata": {},
          "execution_count": 34
        }
      ]
    },
    {
      "cell_type": "code",
      "metadata": {
        "id": "MEn-xoH85OAR"
      },
      "source": [
        "#寿命列を付与する関数\n",
        "def add_LT(x):\n",
        "  if x == 'Train_Unit_1':\n",
        "    return num_train_unit_1\n",
        "\n",
        "  elif x == 'Train_Unit_2':\n",
        "    return num_train_unit_2\n",
        "  \n",
        "  elif x == 'Train_Unit_3':\n",
        "    return num_train_unit_3"
      ],
      "execution_count": 35,
      "outputs": []
    },
    {
      "cell_type": "code",
      "metadata": {
        "id": "BPQv8zSl5QGH"
      },
      "source": [
        "df_train['LifeTime'] = df_train['unit'].apply(add_LT)"
      ],
      "execution_count": 36,
      "outputs": []
    },
    {
      "cell_type": "code",
      "metadata": {
        "colab": {
          "base_uri": "https://localhost:8080/",
          "height": 206
        },
        "id": "81yRKBQ45R1X",
        "outputId": "77e47467-9c95-408b-e6ae-76f1cc9b4ffa"
      },
      "source": [
        "df_train.head()"
      ],
      "execution_count": 37,
      "outputs": [
        {
          "output_type": "execute_result",
          "data": {
            "text/html": [
              "<div>\n",
              "<style scoped>\n",
              "    .dataframe tbody tr th:only-of-type {\n",
              "        vertical-align: middle;\n",
              "    }\n",
              "\n",
              "    .dataframe tbody tr th {\n",
              "        vertical-align: top;\n",
              "    }\n",
              "\n",
              "    .dataframe thead th {\n",
              "        text-align: right;\n",
              "    }\n",
              "</style>\n",
              "<table border=\"1\" class=\"dataframe\">\n",
              "  <thead>\n",
              "    <tr style=\"text-align: right;\">\n",
              "      <th></th>\n",
              "      <th>unit</th>\n",
              "      <th>charge_mode_x</th>\n",
              "      <th>Cycle_num</th>\n",
              "      <th>feature_c_vm</th>\n",
              "      <th>feature_c_cm</th>\n",
              "      <th>feature_c_vc</th>\n",
              "      <th>charge_mode_y</th>\n",
              "      <th>feature_d_vm</th>\n",
              "      <th>feature_d_vl</th>\n",
              "      <th>LifeTime</th>\n",
              "    </tr>\n",
              "  </thead>\n",
              "  <tbody>\n",
              "    <tr>\n",
              "      <th>0</th>\n",
              "      <td>Train_Unit_1</td>\n",
              "      <td>Charge</td>\n",
              "      <td>1</td>\n",
              "      <td>3422.5</td>\n",
              "      <td>3207.4</td>\n",
              "      <td>3241.8</td>\n",
              "      <td>Discharge</td>\n",
              "      <td>3346.9</td>\n",
              "      <td>3327.2</td>\n",
              "      <td>124</td>\n",
              "    </tr>\n",
              "    <tr>\n",
              "      <th>1</th>\n",
              "      <td>Train_Unit_1</td>\n",
              "      <td>Charge</td>\n",
              "      <td>2</td>\n",
              "      <td>3431.6</td>\n",
              "      <td>3181.8</td>\n",
              "      <td>3262.3</td>\n",
              "      <td>Discharge</td>\n",
              "      <td>3328.8</td>\n",
              "      <td>3309.2</td>\n",
              "      <td>124</td>\n",
              "    </tr>\n",
              "    <tr>\n",
              "      <th>2</th>\n",
              "      <td>Train_Unit_1</td>\n",
              "      <td>Charge</td>\n",
              "      <td>3</td>\n",
              "      <td>3409.1</td>\n",
              "      <td>9692.7</td>\n",
              "      <td>3229.2</td>\n",
              "      <td>Discharge</td>\n",
              "      <td>3309.4</td>\n",
              "      <td>3289.8</td>\n",
              "      <td>124</td>\n",
              "    </tr>\n",
              "    <tr>\n",
              "      <th>3</th>\n",
              "      <td>Train_Unit_1</td>\n",
              "      <td>Charge</td>\n",
              "      <td>4</td>\n",
              "      <td>3407.7</td>\n",
              "      <td>3160.2</td>\n",
              "      <td>3228.2</td>\n",
              "      <td>Discharge</td>\n",
              "      <td>3309.7</td>\n",
              "      <td>3289.9</td>\n",
              "      <td>124</td>\n",
              "    </tr>\n",
              "    <tr>\n",
              "      <th>4</th>\n",
              "      <td>Train_Unit_1</td>\n",
              "      <td>Charge</td>\n",
              "      <td>5</td>\n",
              "      <td>3409.6</td>\n",
              "      <td>3172.4</td>\n",
              "      <td>3217.9</td>\n",
              "      <td>Discharge</td>\n",
              "      <td>3307.7</td>\n",
              "      <td>3287.9</td>\n",
              "      <td>124</td>\n",
              "    </tr>\n",
              "  </tbody>\n",
              "</table>\n",
              "</div>"
            ],
            "text/plain": [
              "           unit charge_mode_x  Cycle_num  ...  feature_d_vm  feature_d_vl  LifeTime\n",
              "0  Train_Unit_1        Charge          1  ...        3346.9        3327.2       124\n",
              "1  Train_Unit_1        Charge          2  ...        3328.8        3309.2       124\n",
              "2  Train_Unit_1        Charge          3  ...        3309.4        3289.8       124\n",
              "3  Train_Unit_1        Charge          4  ...        3309.7        3289.9       124\n",
              "4  Train_Unit_1        Charge          5  ...        3307.7        3287.9       124\n",
              "\n",
              "[5 rows x 10 columns]"
            ]
          },
          "metadata": {},
          "execution_count": 37
        }
      ]
    },
    {
      "cell_type": "code",
      "metadata": {
        "id": "ijXDWcHr5TT4"
      },
      "source": [
        "#RULを付与\n",
        "df_train['RUL'] = df_train['LifeTime'] - df_train['Cycle_num']"
      ],
      "execution_count": 38,
      "outputs": []
    },
    {
      "cell_type": "code",
      "metadata": {
        "colab": {
          "base_uri": "https://localhost:8080/",
          "height": 206
        },
        "id": "rL7A6zIk6Eek",
        "outputId": "23030391-7039-48df-8d82-873ee10540b3"
      },
      "source": [
        "df_train.head()"
      ],
      "execution_count": 39,
      "outputs": [
        {
          "output_type": "execute_result",
          "data": {
            "text/html": [
              "<div>\n",
              "<style scoped>\n",
              "    .dataframe tbody tr th:only-of-type {\n",
              "        vertical-align: middle;\n",
              "    }\n",
              "\n",
              "    .dataframe tbody tr th {\n",
              "        vertical-align: top;\n",
              "    }\n",
              "\n",
              "    .dataframe thead th {\n",
              "        text-align: right;\n",
              "    }\n",
              "</style>\n",
              "<table border=\"1\" class=\"dataframe\">\n",
              "  <thead>\n",
              "    <tr style=\"text-align: right;\">\n",
              "      <th></th>\n",
              "      <th>unit</th>\n",
              "      <th>charge_mode_x</th>\n",
              "      <th>Cycle_num</th>\n",
              "      <th>feature_c_vm</th>\n",
              "      <th>feature_c_cm</th>\n",
              "      <th>feature_c_vc</th>\n",
              "      <th>charge_mode_y</th>\n",
              "      <th>feature_d_vm</th>\n",
              "      <th>feature_d_vl</th>\n",
              "      <th>LifeTime</th>\n",
              "      <th>RUL</th>\n",
              "    </tr>\n",
              "  </thead>\n",
              "  <tbody>\n",
              "    <tr>\n",
              "      <th>0</th>\n",
              "      <td>Train_Unit_1</td>\n",
              "      <td>Charge</td>\n",
              "      <td>1</td>\n",
              "      <td>3422.5</td>\n",
              "      <td>3207.4</td>\n",
              "      <td>3241.8</td>\n",
              "      <td>Discharge</td>\n",
              "      <td>3346.9</td>\n",
              "      <td>3327.2</td>\n",
              "      <td>124</td>\n",
              "      <td>123</td>\n",
              "    </tr>\n",
              "    <tr>\n",
              "      <th>1</th>\n",
              "      <td>Train_Unit_1</td>\n",
              "      <td>Charge</td>\n",
              "      <td>2</td>\n",
              "      <td>3431.6</td>\n",
              "      <td>3181.8</td>\n",
              "      <td>3262.3</td>\n",
              "      <td>Discharge</td>\n",
              "      <td>3328.8</td>\n",
              "      <td>3309.2</td>\n",
              "      <td>124</td>\n",
              "      <td>122</td>\n",
              "    </tr>\n",
              "    <tr>\n",
              "      <th>2</th>\n",
              "      <td>Train_Unit_1</td>\n",
              "      <td>Charge</td>\n",
              "      <td>3</td>\n",
              "      <td>3409.1</td>\n",
              "      <td>9692.7</td>\n",
              "      <td>3229.2</td>\n",
              "      <td>Discharge</td>\n",
              "      <td>3309.4</td>\n",
              "      <td>3289.8</td>\n",
              "      <td>124</td>\n",
              "      <td>121</td>\n",
              "    </tr>\n",
              "    <tr>\n",
              "      <th>3</th>\n",
              "      <td>Train_Unit_1</td>\n",
              "      <td>Charge</td>\n",
              "      <td>4</td>\n",
              "      <td>3407.7</td>\n",
              "      <td>3160.2</td>\n",
              "      <td>3228.2</td>\n",
              "      <td>Discharge</td>\n",
              "      <td>3309.7</td>\n",
              "      <td>3289.9</td>\n",
              "      <td>124</td>\n",
              "      <td>120</td>\n",
              "    </tr>\n",
              "    <tr>\n",
              "      <th>4</th>\n",
              "      <td>Train_Unit_1</td>\n",
              "      <td>Charge</td>\n",
              "      <td>5</td>\n",
              "      <td>3409.6</td>\n",
              "      <td>3172.4</td>\n",
              "      <td>3217.9</td>\n",
              "      <td>Discharge</td>\n",
              "      <td>3307.7</td>\n",
              "      <td>3287.9</td>\n",
              "      <td>124</td>\n",
              "      <td>119</td>\n",
              "    </tr>\n",
              "  </tbody>\n",
              "</table>\n",
              "</div>"
            ],
            "text/plain": [
              "           unit charge_mode_x  Cycle_num  ...  feature_d_vl  LifeTime  RUL\n",
              "0  Train_Unit_1        Charge          1  ...        3327.2       124  123\n",
              "1  Train_Unit_1        Charge          2  ...        3309.2       124  122\n",
              "2  Train_Unit_1        Charge          3  ...        3289.8       124  121\n",
              "3  Train_Unit_1        Charge          4  ...        3289.9       124  120\n",
              "4  Train_Unit_1        Charge          5  ...        3287.9       124  119\n",
              "\n",
              "[5 rows x 11 columns]"
            ]
          },
          "metadata": {},
          "execution_count": 39
        }
      ]
    },
    {
      "cell_type": "code",
      "metadata": {
        "id": "J6SsP-LN5W9i"
      },
      "source": [
        "#学習データとテストデータ\n",
        "train_unit_all = df_train\n",
        "test_unit_1 = df_test[df_test['unit'] == 'Test_Unit_1' ].reset_index(drop=True)\n",
        "test_unit_2 = df_test[df_test['unit'] == 'Test_Unit_2' ].reset_index(drop=True)\n",
        "test_unit_3 = df_test[df_test['unit'] == 'Test_Unit_3' ].reset_index(drop=True)"
      ],
      "execution_count": 40,
      "outputs": []
    },
    {
      "cell_type": "code",
      "metadata": {
        "colab": {
          "base_uri": "https://localhost:8080/",
          "height": 206
        },
        "id": "eQ3rAoN46d8e",
        "outputId": "b1d08f08-e144-41b6-917c-c956786f387c"
      },
      "source": [
        "train_unit_all.head()"
      ],
      "execution_count": 41,
      "outputs": [
        {
          "output_type": "execute_result",
          "data": {
            "text/html": [
              "<div>\n",
              "<style scoped>\n",
              "    .dataframe tbody tr th:only-of-type {\n",
              "        vertical-align: middle;\n",
              "    }\n",
              "\n",
              "    .dataframe tbody tr th {\n",
              "        vertical-align: top;\n",
              "    }\n",
              "\n",
              "    .dataframe thead th {\n",
              "        text-align: right;\n",
              "    }\n",
              "</style>\n",
              "<table border=\"1\" class=\"dataframe\">\n",
              "  <thead>\n",
              "    <tr style=\"text-align: right;\">\n",
              "      <th></th>\n",
              "      <th>unit</th>\n",
              "      <th>charge_mode_x</th>\n",
              "      <th>Cycle_num</th>\n",
              "      <th>feature_c_vm</th>\n",
              "      <th>feature_c_cm</th>\n",
              "      <th>feature_c_vc</th>\n",
              "      <th>charge_mode_y</th>\n",
              "      <th>feature_d_vm</th>\n",
              "      <th>feature_d_vl</th>\n",
              "      <th>LifeTime</th>\n",
              "      <th>RUL</th>\n",
              "    </tr>\n",
              "  </thead>\n",
              "  <tbody>\n",
              "    <tr>\n",
              "      <th>0</th>\n",
              "      <td>Train_Unit_1</td>\n",
              "      <td>Charge</td>\n",
              "      <td>1</td>\n",
              "      <td>3422.5</td>\n",
              "      <td>3207.4</td>\n",
              "      <td>3241.8</td>\n",
              "      <td>Discharge</td>\n",
              "      <td>3346.9</td>\n",
              "      <td>3327.2</td>\n",
              "      <td>124</td>\n",
              "      <td>123</td>\n",
              "    </tr>\n",
              "    <tr>\n",
              "      <th>1</th>\n",
              "      <td>Train_Unit_1</td>\n",
              "      <td>Charge</td>\n",
              "      <td>2</td>\n",
              "      <td>3431.6</td>\n",
              "      <td>3181.8</td>\n",
              "      <td>3262.3</td>\n",
              "      <td>Discharge</td>\n",
              "      <td>3328.8</td>\n",
              "      <td>3309.2</td>\n",
              "      <td>124</td>\n",
              "      <td>122</td>\n",
              "    </tr>\n",
              "    <tr>\n",
              "      <th>2</th>\n",
              "      <td>Train_Unit_1</td>\n",
              "      <td>Charge</td>\n",
              "      <td>3</td>\n",
              "      <td>3409.1</td>\n",
              "      <td>9692.7</td>\n",
              "      <td>3229.2</td>\n",
              "      <td>Discharge</td>\n",
              "      <td>3309.4</td>\n",
              "      <td>3289.8</td>\n",
              "      <td>124</td>\n",
              "      <td>121</td>\n",
              "    </tr>\n",
              "    <tr>\n",
              "      <th>3</th>\n",
              "      <td>Train_Unit_1</td>\n",
              "      <td>Charge</td>\n",
              "      <td>4</td>\n",
              "      <td>3407.7</td>\n",
              "      <td>3160.2</td>\n",
              "      <td>3228.2</td>\n",
              "      <td>Discharge</td>\n",
              "      <td>3309.7</td>\n",
              "      <td>3289.9</td>\n",
              "      <td>124</td>\n",
              "      <td>120</td>\n",
              "    </tr>\n",
              "    <tr>\n",
              "      <th>4</th>\n",
              "      <td>Train_Unit_1</td>\n",
              "      <td>Charge</td>\n",
              "      <td>5</td>\n",
              "      <td>3409.6</td>\n",
              "      <td>3172.4</td>\n",
              "      <td>3217.9</td>\n",
              "      <td>Discharge</td>\n",
              "      <td>3307.7</td>\n",
              "      <td>3287.9</td>\n",
              "      <td>124</td>\n",
              "      <td>119</td>\n",
              "    </tr>\n",
              "  </tbody>\n",
              "</table>\n",
              "</div>"
            ],
            "text/plain": [
              "           unit charge_mode_x  Cycle_num  ...  feature_d_vl  LifeTime  RUL\n",
              "0  Train_Unit_1        Charge          1  ...        3327.2       124  123\n",
              "1  Train_Unit_1        Charge          2  ...        3309.2       124  122\n",
              "2  Train_Unit_1        Charge          3  ...        3289.8       124  121\n",
              "3  Train_Unit_1        Charge          4  ...        3289.9       124  120\n",
              "4  Train_Unit_1        Charge          5  ...        3287.9       124  119\n",
              "\n",
              "[5 rows x 11 columns]"
            ]
          },
          "metadata": {},
          "execution_count": 41
        }
      ]
    },
    {
      "cell_type": "code",
      "metadata": {
        "colab": {
          "base_uri": "https://localhost:8080/"
        },
        "id": "2a2-UHEN6KNp",
        "outputId": "2b64e65f-9db8-4fae-bd47-8be8d99b6cb6"
      },
      "source": [
        "col_train = train_unit_all.columns[3:].drop(['charge_mode_y',  'LifeTime'])\n",
        "col_train"
      ],
      "execution_count": 42,
      "outputs": [
        {
          "output_type": "execute_result",
          "data": {
            "text/plain": [
              "Index(['feature_c_vm', 'feature_c_cm', 'feature_c_vc', 'feature_d_vm',\n",
              "       'feature_d_vl', 'RUL'],\n",
              "      dtype='object')"
            ]
          },
          "metadata": {},
          "execution_count": 42
        }
      ]
    },
    {
      "cell_type": "code",
      "metadata": {
        "id": "K5V493-s5mEh"
      },
      "source": [
        "train_X = train_unit_all[col_train[:5]]\n",
        "train_y = train_unit_all['RUL']"
      ],
      "execution_count": 43,
      "outputs": []
    },
    {
      "cell_type": "code",
      "metadata": {
        "colab": {
          "base_uri": "https://localhost:8080/"
        },
        "id": "5hjjl_6-7Cnv",
        "outputId": "e8ca4c91-b4e1-4fb0-c834-3915c145c786"
      },
      "source": [
        "print(train_X.head())\n",
        "print(train_y)"
      ],
      "execution_count": 46,
      "outputs": [
        {
          "output_type": "stream",
          "name": "stdout",
          "text": [
            "   feature_c_vm  feature_c_cm  feature_c_vc  feature_d_vm  feature_d_vl\n",
            "0        3422.5        3207.4        3241.8        3346.9        3327.2\n",
            "1        3431.6        3181.8        3262.3        3328.8        3309.2\n",
            "2        3409.1        9692.7        3229.2        3309.4        3289.8\n",
            "3        3407.7        3160.2        3228.2        3309.7        3289.9\n",
            "4        3409.6        3172.4        3217.9        3307.7        3287.9\n",
            "0      123\n",
            "1      122\n",
            "2      121\n",
            "3      120\n",
            "4      119\n",
            "      ... \n",
            "256      4\n",
            "257      3\n",
            "258      2\n",
            "259      1\n",
            "260      0\n",
            "Name: RUL, Length: 261, dtype: int64\n"
          ]
        }
      ]
    },
    {
      "cell_type": "code",
      "metadata": {
        "colab": {
          "base_uri": "https://localhost:8080/"
        },
        "id": "E60Mchb-7kJh",
        "outputId": "8a6c49a6-e7da-42b8-da11-86c48a4a42c4"
      },
      "source": [
        "col_test = test_unit_1.columns[3:].drop(['charge_mode_y'])\n",
        "col_test"
      ],
      "execution_count": 47,
      "outputs": [
        {
          "output_type": "execute_result",
          "data": {
            "text/plain": [
              "Index(['feature_c_vm', 'feature_c_cm', 'feature_c_vc', 'feature_d_vm',\n",
              "       'feature_d_vl'],\n",
              "      dtype='object')"
            ]
          },
          "metadata": {},
          "execution_count": 47
        }
      ]
    },
    {
      "cell_type": "code",
      "metadata": {
        "colab": {
          "base_uri": "https://localhost:8080/",
          "height": 206
        },
        "id": "AKJXVBAt7cu0",
        "outputId": "3cf8dcf4-845a-40c3-e6db-69cb9b2407eb"
      },
      "source": [
        "test_unit_1.head()"
      ],
      "execution_count": 48,
      "outputs": [
        {
          "output_type": "execute_result",
          "data": {
            "text/html": [
              "<div>\n",
              "<style scoped>\n",
              "    .dataframe tbody tr th:only-of-type {\n",
              "        vertical-align: middle;\n",
              "    }\n",
              "\n",
              "    .dataframe tbody tr th {\n",
              "        vertical-align: top;\n",
              "    }\n",
              "\n",
              "    .dataframe thead th {\n",
              "        text-align: right;\n",
              "    }\n",
              "</style>\n",
              "<table border=\"1\" class=\"dataframe\">\n",
              "  <thead>\n",
              "    <tr style=\"text-align: right;\">\n",
              "      <th></th>\n",
              "      <th>unit</th>\n",
              "      <th>charge_mode_x</th>\n",
              "      <th>Cycle_num</th>\n",
              "      <th>feature_c_vm</th>\n",
              "      <th>feature_c_cm</th>\n",
              "      <th>feature_c_vc</th>\n",
              "      <th>charge_mode_y</th>\n",
              "      <th>feature_d_vm</th>\n",
              "      <th>feature_d_vl</th>\n",
              "    </tr>\n",
              "  </thead>\n",
              "  <tbody>\n",
              "    <tr>\n",
              "      <th>0</th>\n",
              "      <td>Test_Unit_1</td>\n",
              "      <td>Charge</td>\n",
              "      <td>1</td>\n",
              "      <td>741.86</td>\n",
              "      <td>3476.3</td>\n",
              "      <td>3141.4</td>\n",
              "      <td>Discharge</td>\n",
              "      <td>3338.4</td>\n",
              "      <td>3328.9</td>\n",
              "    </tr>\n",
              "    <tr>\n",
              "      <th>1</th>\n",
              "      <td>Test_Unit_1</td>\n",
              "      <td>Charge</td>\n",
              "      <td>2</td>\n",
              "      <td>849.45</td>\n",
              "      <td>3451.6</td>\n",
              "      <td>3164.0</td>\n",
              "      <td>Discharge</td>\n",
              "      <td>3318.3</td>\n",
              "      <td>3308.8</td>\n",
              "    </tr>\n",
              "    <tr>\n",
              "      <th>2</th>\n",
              "      <td>Test_Unit_1</td>\n",
              "      <td>Charge</td>\n",
              "      <td>3</td>\n",
              "      <td>803.84</td>\n",
              "      <td>8280.7</td>\n",
              "      <td>3145.7</td>\n",
              "      <td>Discharge</td>\n",
              "      <td>3312.4</td>\n",
              "      <td>3302.7</td>\n",
              "    </tr>\n",
              "    <tr>\n",
              "      <th>3</th>\n",
              "      <td>Test_Unit_1</td>\n",
              "      <td>Charge</td>\n",
              "      <td>4</td>\n",
              "      <td>806.83</td>\n",
              "      <td>3102.9</td>\n",
              "      <td>3123.4</td>\n",
              "      <td>Discharge</td>\n",
              "      <td>3296.1</td>\n",
              "      <td>3286.4</td>\n",
              "    </tr>\n",
              "    <tr>\n",
              "      <th>4</th>\n",
              "      <td>Test_Unit_1</td>\n",
              "      <td>Charge</td>\n",
              "      <td>5</td>\n",
              "      <td>1004.50</td>\n",
              "      <td>3147.9</td>\n",
              "      <td>3163.0</td>\n",
              "      <td>Discharge</td>\n",
              "      <td>3298.1</td>\n",
              "      <td>3288.2</td>\n",
              "    </tr>\n",
              "  </tbody>\n",
              "</table>\n",
              "</div>"
            ],
            "text/plain": [
              "          unit charge_mode_x  ...  feature_d_vm  feature_d_vl\n",
              "0  Test_Unit_1        Charge  ...        3338.4        3328.9\n",
              "1  Test_Unit_1        Charge  ...        3318.3        3308.8\n",
              "2  Test_Unit_1        Charge  ...        3312.4        3302.7\n",
              "3  Test_Unit_1        Charge  ...        3296.1        3286.4\n",
              "4  Test_Unit_1        Charge  ...        3298.1        3288.2\n",
              "\n",
              "[5 rows x 9 columns]"
            ]
          },
          "metadata": {},
          "execution_count": 48
        }
      ]
    },
    {
      "cell_type": "code",
      "metadata": {
        "id": "Z5acSDbn5wFL"
      },
      "source": [
        "test_X_1 = test_unit_1[col_test]\n",
        "test_X_2 = test_unit_2[col_test]\n",
        "test_X_3 = test_unit_3[col_test]"
      ],
      "execution_count": 49,
      "outputs": []
    },
    {
      "cell_type": "code",
      "metadata": {
        "colab": {
          "base_uri": "https://localhost:8080/",
          "height": 206
        },
        "id": "tdJ2lKAf5_20",
        "outputId": "128b1da4-9300-4df9-a414-9bb3392f2390"
      },
      "source": [
        "test_X_1.head()"
      ],
      "execution_count": 50,
      "outputs": [
        {
          "output_type": "execute_result",
          "data": {
            "text/html": [
              "<div>\n",
              "<style scoped>\n",
              "    .dataframe tbody tr th:only-of-type {\n",
              "        vertical-align: middle;\n",
              "    }\n",
              "\n",
              "    .dataframe tbody tr th {\n",
              "        vertical-align: top;\n",
              "    }\n",
              "\n",
              "    .dataframe thead th {\n",
              "        text-align: right;\n",
              "    }\n",
              "</style>\n",
              "<table border=\"1\" class=\"dataframe\">\n",
              "  <thead>\n",
              "    <tr style=\"text-align: right;\">\n",
              "      <th></th>\n",
              "      <th>feature_c_vm</th>\n",
              "      <th>feature_c_cm</th>\n",
              "      <th>feature_c_vc</th>\n",
              "      <th>feature_d_vm</th>\n",
              "      <th>feature_d_vl</th>\n",
              "    </tr>\n",
              "  </thead>\n",
              "  <tbody>\n",
              "    <tr>\n",
              "      <th>0</th>\n",
              "      <td>741.86</td>\n",
              "      <td>3476.3</td>\n",
              "      <td>3141.4</td>\n",
              "      <td>3338.4</td>\n",
              "      <td>3328.9</td>\n",
              "    </tr>\n",
              "    <tr>\n",
              "      <th>1</th>\n",
              "      <td>849.45</td>\n",
              "      <td>3451.6</td>\n",
              "      <td>3164.0</td>\n",
              "      <td>3318.3</td>\n",
              "      <td>3308.8</td>\n",
              "    </tr>\n",
              "    <tr>\n",
              "      <th>2</th>\n",
              "      <td>803.84</td>\n",
              "      <td>8280.7</td>\n",
              "      <td>3145.7</td>\n",
              "      <td>3312.4</td>\n",
              "      <td>3302.7</td>\n",
              "    </tr>\n",
              "    <tr>\n",
              "      <th>3</th>\n",
              "      <td>806.83</td>\n",
              "      <td>3102.9</td>\n",
              "      <td>3123.4</td>\n",
              "      <td>3296.1</td>\n",
              "      <td>3286.4</td>\n",
              "    </tr>\n",
              "    <tr>\n",
              "      <th>4</th>\n",
              "      <td>1004.50</td>\n",
              "      <td>3147.9</td>\n",
              "      <td>3163.0</td>\n",
              "      <td>3298.1</td>\n",
              "      <td>3288.2</td>\n",
              "    </tr>\n",
              "  </tbody>\n",
              "</table>\n",
              "</div>"
            ],
            "text/plain": [
              "   feature_c_vm  feature_c_cm  feature_c_vc  feature_d_vm  feature_d_vl\n",
              "0        741.86        3476.3        3141.4        3338.4        3328.9\n",
              "1        849.45        3451.6        3164.0        3318.3        3308.8\n",
              "2        803.84        8280.7        3145.7        3312.4        3302.7\n",
              "3        806.83        3102.9        3123.4        3296.1        3286.4\n",
              "4       1004.50        3147.9        3163.0        3298.1        3288.2"
            ]
          },
          "metadata": {},
          "execution_count": 50
        }
      ]
    },
    {
      "cell_type": "code",
      "metadata": {
        "id": "8_5deMfX8QQq"
      },
      "source": [
        "from xgboost import XGBRegressor"
      ],
      "execution_count": 51,
      "outputs": []
    },
    {
      "cell_type": "code",
      "metadata": {
        "colab": {
          "base_uri": "https://localhost:8080/"
        },
        "id": "DY4G6d8Z8TbV",
        "outputId": "237fb890-ec6e-4f7f-8182-ed7760919e9d"
      },
      "source": [
        "#モデルの作成\n",
        "model = XGBRegressor(n_estimators=20, random_state=71)\n",
        "model.fit(train_X,train_y)"
      ],
      "execution_count": 52,
      "outputs": [
        {
          "output_type": "stream",
          "name": "stdout",
          "text": [
            "[11:08:48] WARNING: /workspace/src/objective/regression_obj.cu:152: reg:linear is now deprecated in favor of reg:squarederror.\n"
          ]
        },
        {
          "output_type": "execute_result",
          "data": {
            "text/plain": [
              "XGBRegressor(base_score=0.5, booster='gbtree', colsample_bylevel=1,\n",
              "             colsample_bynode=1, colsample_bytree=1, gamma=0,\n",
              "             importance_type='gain', learning_rate=0.1, max_delta_step=0,\n",
              "             max_depth=3, min_child_weight=1, missing=None, n_estimators=20,\n",
              "             n_jobs=1, nthread=None, objective='reg:linear', random_state=71,\n",
              "             reg_alpha=0, reg_lambda=1, scale_pos_weight=1, seed=None,\n",
              "             silent=None, subsample=1, verbosity=1)"
            ]
          },
          "metadata": {},
          "execution_count": 52
        }
      ]
    },
    {
      "cell_type": "code",
      "metadata": {
        "id": "Ko9y2zUC8WzE"
      },
      "source": [
        "#テストデータの予測値を出力\n",
        "pred_1 = model.predict(test_X_1)\n",
        "pred_2 = model.predict(test_X_2)\n",
        "pred_3 = model.predict(test_X_3)"
      ],
      "execution_count": 55,
      "outputs": []
    },
    {
      "cell_type": "code",
      "metadata": {
        "colab": {
          "base_uri": "https://localhost:8080/",
          "height": 295
        },
        "id": "ZJu-dXqk8Zq-",
        "outputId": "18bd0c37-9714-4aa4-9b65-8ba2aa940f91"
      },
      "source": [
        "fig, ax = plt.subplots()\n",
        "\n",
        "ax.hist(pred_1, bins=10)\n",
        "\n",
        "ax.set_title('train:all unit, test:Unit1')\n",
        "ax.set_xlabel('RUL')\n",
        "ax.set_ylabel('count')\n",
        "\n",
        "plt.show()"
      ],
      "execution_count": 58,
      "outputs": [
        {
          "output_type": "display_data",
          "data": {
            "image/png": "[encoded data removed]",
            "text/plain": [
              "<Figure size 432x288 with 1 Axes>"
            ]
          },
          "metadata": {
            "needs_background": "light"
          }
        }
      ]
    },
    {
      "cell_type": "code",
      "metadata": {
        "colab": {
          "base_uri": "https://localhost:8080/",
          "height": 295
        },
        "id": "laFJ2lGb8mrI",
        "outputId": "01e007e3-3f33-4df1-a070-91d4e0c0c1bb"
      },
      "source": [
        "fig, ax = plt.subplots()\n",
        "\n",
        "ax.hist(pred_2, bins=10)\n",
        "\n",
        "ax.set_title('train:all unit, test:Unit1')\n",
        "ax.set_xlabel('RUL')\n",
        "ax.set_ylabel('count')\n",
        "\n",
        "plt.show()"
      ],
      "execution_count": 59,
      "outputs": [
        {
          "output_type": "display_data",
          "data": {
            "image/png": "[encoded data removed]",
            "text/plain": [
              "<Figure size 432x288 with 1 Axes>"
            ]
          },
          "metadata": {
            "needs_background": "light"
          }
        }
      ]
    },
    {
      "cell_type": "code",
      "metadata": {
        "colab": {
          "base_uri": "https://localhost:8080/",
          "height": 295
        },
        "id": "kzHEnkvT84hO",
        "outputId": "2307396b-0d4c-413d-a3ab-a9095fb4877f"
      },
      "source": [
        "fig, ax = plt.subplots()\n",
        "\n",
        "ax.hist(pred_3, bins=10)\n",
        "\n",
        "ax.set_title('train:all unit, test:Unit1')\n",
        "ax.set_xlabel('RUL')\n",
        "ax.set_ylabel('count')\n",
        "\n",
        "plt.show()"
      ],
      "execution_count": 60,
      "outputs": [
        {
          "output_type": "display_data",
          "data": {
            "image/png": "[encoded data removed]",
            "text/plain": [
              "<Figure size 432x288 with 1 Axes>"
            ]
          },
          "metadata": {
            "needs_background": "light"
          }
        }
      ]
    }
  ]
}
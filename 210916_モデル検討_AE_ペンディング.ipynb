{
  "nbformat": 4,
  "nbformat_minor": 0,
  "metadata": {
    "colab": {
      "name": "210916_モデル検討_AE_ペンディング.ipynb",
      "provenance": [],
      "mount_file_id": "1IaQMrFj2YDhNgYr52J9I5Uz55dmKiHRl",
      "authorship_tag": "ABX9TyOohFegSqChbvIw2zruTSWH",
      "include_colab_link": true
    },
    "kernelspec": {
      "name": "python3",
      "display_name": "Python 3"
    },
    "language_info": {
      "name": "python"
    }
  },
  "cells": [
    {
      "cell_type": "markdown",
      "metadata": {
        "id": "view-in-github",
        "colab_type": "text"
      },
      "source": [
        "<a href=\"https://colab.research.google.com/github/minassy/ISID_2021/blob/main/210916_%E3%83%A2%E3%83%87%E3%83%AB%E6%A4%9C%E8%A8%8E_AE_%E3%83%9A%E3%83%B3%E3%83%87%E3%82%A3%E3%83%B3%E3%82%B0.ipynb\" target=\"_parent\"><img src=\"https://colab.research.google.com/assets/colab-badge.svg\" alt=\"Open In Colab\"/></a>"
      ]
    },
    {
      "cell_type": "code",
      "metadata": {
        "id": "V8flfzqM-cVY"
      },
      "source": [
        "import os\n",
        "import zipfile\n",
        "import glob\n",
        "import pandas as pd\n",
        "import numpy as np\n",
        "import pathlib\n",
        "from tqdm import tqdm\n",
        "import matplotlib.pyplot as plt\n",
        "import seaborn as sns"
      ],
      "execution_count": 1,
      "outputs": []
    },
    {
      "cell_type": "code",
      "metadata": {
        "colab": {
          "base_uri": "https://localhost:8080/"
        },
        "id": "D2HqrG3e-tL1",
        "outputId": "636ff1ae-1b48-405b-895a-2faca4c3e291"
      },
      "source": [
        "#作業基本ディレクトリ\n",
        "DIR = 'drive/MyDrive/00_Competition/ISID/2021'\n",
        "os.listdir(DIR)\n",
        "#os.mkdir(DIR+'/data')"
      ],
      "execution_count": 2,
      "outputs": [
        {
          "output_type": "execute_result",
          "data": {
            "text/plain": [
              "['data',\n",
              " '210904_学習データの読み込み.ipynb',\n",
              " '210906_EDA_train.ipynb',\n",
              " '210908_EDA_test.ipynb',\n",
              " '210908_テストデータの読み込み_作成.ipynb',\n",
              " '210909_特徴量エンジニアリング.ipynb',\n",
              " '210912_特徴量E_連続処理_モデル検討_OneClassSVM.ipynb',\n",
              " '210916_モデル検討_AE.ipynb']"
            ]
          },
          "metadata": {},
          "execution_count": 2
        }
      ]
    },
    {
      "cell_type": "code",
      "metadata": {
        "id": "MDY-6alV-uvc"
      },
      "source": [
        "DIR_DATA_TRAIN = os.path.join(DIR, 'data', 'Train_Unit_20210903')\n",
        "DIR_DATA_TEST = os.path.join(DIR, 'data', 'Test_Unit_20210903')"
      ],
      "execution_count": 3,
      "outputs": []
    },
    {
      "cell_type": "markdown",
      "metadata": {
        "id": "DyUU8ARE-40y"
      },
      "source": [
        "データ処理"
      ]
    },
    {
      "cell_type": "code",
      "metadata": {
        "id": "UesMi9oR-xJS"
      },
      "source": [
        "#一連のデータ処理\n",
        "def get_some_values(file_path):\n",
        "  #ファイルパスから、ユニット名を取得。\n",
        "  dirname = os.path.dirname(file_path)\n",
        "  dirname_split = dirname.split('/')#区切り文字'/'で分割\n",
        "  unit = dirname_split[-2]\n",
        "  charge_mode = dirname_split[-1]\n",
        "  #ファイルパスから、サイクル数を取得。\n",
        "  basename = os.path.basename(file_path)\n",
        "  basename_split = basename.split('_')[4]#区切り文字'_'で分割\n",
        "  cycle_num = basename_split.split('.')[0]\n",
        "  return unit, charge_mode, cycle_num"
      ],
      "execution_count": 4,
      "outputs": []
    },
    {
      "cell_type": "code",
      "metadata": {
        "id": "im5vI88i_Mx8"
      },
      "source": [
        "#%time\n",
        "#DATA_DIR = DIR_DATA_TRAIN\n",
        "#DATA_DIR = DIR_DATA_TEST\n",
        "\n",
        "#C = 'Charge'\n",
        "#C = 'Discharge'\n",
        "\n",
        "def data_reading(DATA_DIR, C):\n",
        "\n",
        "  #カラム名変更前後の辞書\n",
        "  col_list = {'Time (s)' : 'Time',\n",
        "              'Voltage Measured (V)' : 'VM',\n",
        "              'Voltage Charge (V)' : 'VC',\n",
        "              'Current Measured (Amps)' : 'CM', \n",
        "              'Current Charge (Amps)' : 'CC',\n",
        "              'Temperature (degree C)': 'Temp', \n",
        "              'unit' : 'unit_name', \n",
        "              'charge_mode' : 'mode', \n",
        "              'Cycle_num' : 'Cycle',\n",
        "              'Voltage Load (V)' : 'VL',\n",
        "              'Current Load (Amps)' : 'CL'\n",
        "  }\n",
        "\n",
        "  df_list = []\n",
        "  for folder in tqdm(os.listdir(DATA_DIR)[:3]):\n",
        "    files = glob.glob(os.path.join(DATA_DIR, folder, C, '*.csv'))\n",
        "    df_list_0 = []\n",
        "    for file in files:\n",
        "      tmp_df = pd.read_csv(file, encoding='utf-8')\n",
        "      tmp_df = tmp_df.rename(columns=col_list)\n",
        "      #ユニット名、充・放電モード、サイクル数の取得\n",
        "      unit, charge_mode, cycle_num = get_some_values(file)\n",
        "      #特徴量のデータフレームの作成(充電)\n",
        "      df_exp = pd.DataFrame([{'unit':unit,\n",
        "                        'charge_mode' : charge_mode,\n",
        "                        'Cycle_num' : int(cycle_num),\n",
        "                        'feature_c_vm' : featured_c_vm(tmp_df),\n",
        "                        'feature_c_cm' : featured_c_cm(tmp_df),\n",
        "                        'feature_c_vc' : featured_c_vc(tmp_df)}])\n",
        "      df_list_0.append(df_exp)\n",
        "    df_0 = pd.concat(df_list_0)\n",
        "    df_list.append(df_0)\n",
        "  df = pd.concat(df_list)\n",
        "\n",
        "  #ユニットとサイクルでソート。\n",
        "  df = df.sort_values(['unit', 'Cycle_num'])\n",
        "  #インデックスの振り直し\n",
        "  df = df.reset_index(drop=True)\n",
        "\n",
        "  return df"
      ],
      "execution_count": 25,
      "outputs": []
    },
    {
      "cell_type": "markdown",
      "metadata": {
        "id": "7kurFUuZBM2S"
      },
      "source": [
        "特徴量化"
      ]
    },
    {
      "cell_type": "code",
      "metadata": {
        "id": "4_61nPC6-7tm"
      },
      "source": [
        "def featured_c_vm(df):\n",
        "  #LAG=5が0.001未満が続くところを、飽和領域とみなす。\n",
        "  p_c_vm = df.loc[:, 'VM'][df.loc[:, 'VM'].diff(5) < 0.001]\n",
        "  #飽和領域のなかで、最初の点を点P_C_VMとする。\n",
        "  p_c_vm = p_c_vm.reset_index(inplace=False)\n",
        "  p_c_vm = p_c_vm['index'].iloc[0]\n",
        "  #充電VMの特徴量は、点P_C_VMにおける時間\n",
        "  feature_c_vm = df['Time'].loc[p_c_vm]\n",
        "  return feature_c_vm\n",
        "\n",
        "def featured_c_cm(df):\n",
        "  #飽和領域からの立ち下がり点(LAG=5の勾配が最小となる点)を点P_C_CMとする。\n",
        "  p_c_cm = np.gradient(df.loc[:, 'CM'].diff(5)[10:]).argmin()\n",
        "  #充電CMの特徴量は、点P_C_CMにおける時間\n",
        "  feature_c_cm = df['Time'].loc[p_c_cm]\n",
        "  return feature_c_cm\n",
        "\n",
        "def featured_c_vc(df):\n",
        "  #VCが最大値を示す点を、点P_C_VCとする。\n",
        "  p_c_vc = df.VC.argmax()\n",
        "  #充電VCの特徴量は、点P_C_VCにおける時間\n",
        "  feature_c_vc = df['Time'].loc[p_c_vc]\n",
        "  return feature_c_vc\n",
        "\n",
        "def featured_d_vm(df):\n",
        "  #VMが最小値を示す点を、点P_D_VMとする。\n",
        "  p_d_vm = df.VM.argmin()\n",
        "  #放電VMの特徴量は、点P_D_VMにおける時間\n",
        "  feature_d_vm = df['Time'].loc[p_d_vm]\n",
        "  return feature_d_vm\n",
        "\n",
        "def featured_d_vl(df):\n",
        "  #VLの最大値点以降の領域において、最小値を示す点を、点P_D_VLとする。\n",
        "  VL_max = df.VL.argmax()\n",
        "  p_d_vl = df.VL[VL_max: ].argmin()\n",
        "  #放電VLの特徴量は、点P_D_VLにおける時間\n",
        "  feature_d_vl = df['Time'].loc[p_d_vl]\n",
        "  return feature_d_vl"
      ],
      "execution_count": 16,
      "outputs": []
    },
    {
      "cell_type": "code",
      "metadata": {
        "colab": {
          "base_uri": "https://localhost:8080/"
        },
        "id": "0gvPU6kS_A5v",
        "outputId": "bb9b3d9d-d194-48d5-8a69-cd8248ecee0a"
      },
      "source": [
        "%time\n",
        "#データの読み込み(学習)\n",
        "\n",
        "DATA_DIR = DIR_DATA_TRAIN\n",
        "#DATA_DIR = DIR_DATA_TEST\n",
        "\n",
        "C = 'Charge'\n",
        "#C = 'Discharge'\n",
        "\n",
        "df_train = data_reading(DATA_DIR, C)"
      ],
      "execution_count": 26,
      "outputs": [
        {
          "output_type": "stream",
          "name": "stdout",
          "text": [
            "CPU times: user 4 µs, sys: 0 ns, total: 4 µs\n",
            "Wall time: 9.54 µs\n"
          ]
        },
        {
          "output_type": "stream",
          "name": "stderr",
          "text": [
            "100%|██████████| 3/3 [00:02<00:00,  1.06it/s]\n"
          ]
        }
      ]
    },
    {
      "cell_type": "code",
      "metadata": {
        "colab": {
          "base_uri": "https://localhost:8080/",
          "height": 204
        },
        "id": "r3xK8eyeBfss",
        "outputId": "0daf513e-e41e-4c58-a378-4db02ac984cc"
      },
      "source": [
        "df_train.head()"
      ],
      "execution_count": 27,
      "outputs": [
        {
          "output_type": "execute_result",
          "data": {
            "text/html": [
              "<div>\n",
              "<style scoped>\n",
              "    .dataframe tbody tr th:only-of-type {\n",
              "        vertical-align: middle;\n",
              "    }\n",
              "\n",
              "    .dataframe tbody tr th {\n",
              "        vertical-align: top;\n",
              "    }\n",
              "\n",
              "    .dataframe thead th {\n",
              "        text-align: right;\n",
              "    }\n",
              "</style>\n",
              "<table border=\"1\" class=\"dataframe\">\n",
              "  <thead>\n",
              "    <tr style=\"text-align: right;\">\n",
              "      <th></th>\n",
              "      <th>unit</th>\n",
              "      <th>charge_mode</th>\n",
              "      <th>Cycle_num</th>\n",
              "      <th>feature_c_vm</th>\n",
              "      <th>feature_c_cm</th>\n",
              "      <th>feature_c_vc</th>\n",
              "    </tr>\n",
              "  </thead>\n",
              "  <tbody>\n",
              "    <tr>\n",
              "      <th>0</th>\n",
              "      <td>Train_Unit_1</td>\n",
              "      <td>Charge</td>\n",
              "      <td>1</td>\n",
              "      <td>3422.5</td>\n",
              "      <td>3207.4</td>\n",
              "      <td>3241.8</td>\n",
              "    </tr>\n",
              "    <tr>\n",
              "      <th>1</th>\n",
              "      <td>Train_Unit_1</td>\n",
              "      <td>Charge</td>\n",
              "      <td>2</td>\n",
              "      <td>3431.6</td>\n",
              "      <td>3181.8</td>\n",
              "      <td>3262.3</td>\n",
              "    </tr>\n",
              "    <tr>\n",
              "      <th>2</th>\n",
              "      <td>Train_Unit_1</td>\n",
              "      <td>Charge</td>\n",
              "      <td>3</td>\n",
              "      <td>3409.1</td>\n",
              "      <td>9692.7</td>\n",
              "      <td>3229.2</td>\n",
              "    </tr>\n",
              "    <tr>\n",
              "      <th>3</th>\n",
              "      <td>Train_Unit_1</td>\n",
              "      <td>Charge</td>\n",
              "      <td>4</td>\n",
              "      <td>3407.7</td>\n",
              "      <td>3160.2</td>\n",
              "      <td>3228.2</td>\n",
              "    </tr>\n",
              "    <tr>\n",
              "      <th>4</th>\n",
              "      <td>Train_Unit_1</td>\n",
              "      <td>Charge</td>\n",
              "      <td>5</td>\n",
              "      <td>3409.6</td>\n",
              "      <td>3172.4</td>\n",
              "      <td>3217.9</td>\n",
              "    </tr>\n",
              "  </tbody>\n",
              "</table>\n",
              "</div>"
            ],
            "text/plain": [
              "           unit charge_mode  ...  feature_c_cm  feature_c_vc\n",
              "0  Train_Unit_1      Charge  ...        3207.4        3241.8\n",
              "1  Train_Unit_1      Charge  ...        3181.8        3262.3\n",
              "2  Train_Unit_1      Charge  ...        9692.7        3229.2\n",
              "3  Train_Unit_1      Charge  ...        3160.2        3228.2\n",
              "4  Train_Unit_1      Charge  ...        3172.4        3217.9\n",
              "\n",
              "[5 rows x 6 columns]"
            ]
          },
          "metadata": {},
          "execution_count": 27
        }
      ]
    },
    {
      "cell_type": "code",
      "metadata": {
        "colab": {
          "base_uri": "https://localhost:8080/"
        },
        "id": "-VE8ChKUCVFd",
        "outputId": "2f38b6d3-85f2-4b48-d679-5edae845f653"
      },
      "source": [
        "%time\n",
        "#データの読み込み(テスト)\n",
        "#DATA_DIR = DIR_DATA_TRAIN\n",
        "DATA_DIR = DIR_DATA_TEST\n",
        "C = 'Charge'\n",
        "#C = 'Discharge'\n",
        "\n",
        "df_test = data_reading(DATA_DIR, C)"
      ],
      "execution_count": 28,
      "outputs": [
        {
          "output_type": "stream",
          "name": "stdout",
          "text": [
            "CPU times: user 2 µs, sys: 0 ns, total: 2 µs\n",
            "Wall time: 6.68 µs\n"
          ]
        },
        {
          "output_type": "stream",
          "name": "stderr",
          "text": [
            "100%|██████████| 3/3 [00:36<00:00, 12.18s/it]\n"
          ]
        }
      ]
    },
    {
      "cell_type": "code",
      "metadata": {
        "colab": {
          "base_uri": "https://localhost:8080/",
          "height": 204
        },
        "id": "Nwaw3cnvIp6p",
        "outputId": "c6073a76-81b1-4898-f9d2-b87bb4b89aa4"
      },
      "source": [
        "df_test.head()"
      ],
      "execution_count": 29,
      "outputs": [
        {
          "output_type": "execute_result",
          "data": {
            "text/html": [
              "<div>\n",
              "<style scoped>\n",
              "    .dataframe tbody tr th:only-of-type {\n",
              "        vertical-align: middle;\n",
              "    }\n",
              "\n",
              "    .dataframe tbody tr th {\n",
              "        vertical-align: top;\n",
              "    }\n",
              "\n",
              "    .dataframe thead th {\n",
              "        text-align: right;\n",
              "    }\n",
              "</style>\n",
              "<table border=\"1\" class=\"dataframe\">\n",
              "  <thead>\n",
              "    <tr style=\"text-align: right;\">\n",
              "      <th></th>\n",
              "      <th>unit</th>\n",
              "      <th>charge_mode</th>\n",
              "      <th>Cycle_num</th>\n",
              "      <th>feature_c_vm</th>\n",
              "      <th>feature_c_cm</th>\n",
              "      <th>feature_c_vc</th>\n",
              "    </tr>\n",
              "  </thead>\n",
              "  <tbody>\n",
              "    <tr>\n",
              "      <th>0</th>\n",
              "      <td>Test_Unit_1</td>\n",
              "      <td>Charge</td>\n",
              "      <td>1</td>\n",
              "      <td>741.86</td>\n",
              "      <td>3476.3</td>\n",
              "      <td>3141.4</td>\n",
              "    </tr>\n",
              "    <tr>\n",
              "      <th>1</th>\n",
              "      <td>Test_Unit_1</td>\n",
              "      <td>Charge</td>\n",
              "      <td>2</td>\n",
              "      <td>849.45</td>\n",
              "      <td>3451.6</td>\n",
              "      <td>3164.0</td>\n",
              "    </tr>\n",
              "    <tr>\n",
              "      <th>2</th>\n",
              "      <td>Test_Unit_1</td>\n",
              "      <td>Charge</td>\n",
              "      <td>3</td>\n",
              "      <td>803.84</td>\n",
              "      <td>8280.7</td>\n",
              "      <td>3145.7</td>\n",
              "    </tr>\n",
              "    <tr>\n",
              "      <th>3</th>\n",
              "      <td>Test_Unit_1</td>\n",
              "      <td>Charge</td>\n",
              "      <td>4</td>\n",
              "      <td>806.83</td>\n",
              "      <td>3102.9</td>\n",
              "      <td>3123.4</td>\n",
              "    </tr>\n",
              "    <tr>\n",
              "      <th>4</th>\n",
              "      <td>Test_Unit_1</td>\n",
              "      <td>Charge</td>\n",
              "      <td>5</td>\n",
              "      <td>1004.50</td>\n",
              "      <td>3147.9</td>\n",
              "      <td>3163.0</td>\n",
              "    </tr>\n",
              "  </tbody>\n",
              "</table>\n",
              "</div>"
            ],
            "text/plain": [
              "          unit charge_mode  Cycle_num  feature_c_vm  feature_c_cm  feature_c_vc\n",
              "0  Test_Unit_1      Charge          1        741.86        3476.3        3141.4\n",
              "1  Test_Unit_1      Charge          2        849.45        3451.6        3164.0\n",
              "2  Test_Unit_1      Charge          3        803.84        8280.7        3145.7\n",
              "3  Test_Unit_1      Charge          4        806.83        3102.9        3123.4\n",
              "4  Test_Unit_1      Charge          5       1004.50        3147.9        3163.0"
            ]
          },
          "metadata": {},
          "execution_count": 29
        }
      ]
    },
    {
      "cell_type": "markdown",
      "metadata": {
        "id": "a5YVaOxDJn-a"
      },
      "source": [
        "# モデル化"
      ]
    },
    {
      "cell_type": "code",
      "metadata": {
        "id": "YzgobkTFIu4D"
      },
      "source": [
        "from sklearn import preprocessing\n",
        "from sklearn.svm import OneClassSVM\n",
        "\n",
        "import keras.models\n",
        "from keras.models import Model\n",
        "from keras.layers import Input, Dense, BatchNormalization, Activation\n",
        "from keras.models import Sequential"
      ],
      "execution_count": 30,
      "outputs": []
    },
    {
      "cell_type": "markdown",
      "metadata": {
        "id": "h933J9bzJyuC"
      },
      "source": [
        "入力サイズ→64次元→8次元と圧縮した後、8次元→64次元→出力サイズ(=入力サイズ)の順に復元するAEを作成。"
      ]
    },
    {
      "cell_type": "code",
      "metadata": {
        "id": "U48OfJu7Jvi8"
      },
      "source": [
        "inputDim = 40064\n",
        "model = Sequential()"
      ],
      "execution_count": 31,
      "outputs": []
    },
    {
      "cell_type": "code",
      "metadata": {
        "id": "Wlsu5ClhJ0ww"
      },
      "source": [
        "model.add(Dense(64, input_shape=(inputDim,)))\n",
        "model.add(BatchNormalization())\n",
        "model.add(Activation('relu'))\n",
        "\n",
        "model.add(Dense(8))\n",
        "model.add(BatchNormalization())\n",
        "model.add(Activation('relu'))\n",
        "\n",
        "model.add(Dense(64))\n",
        "model.add(BatchNormalization())\n",
        "model.add(Activation('relu'))"
      ],
      "execution_count": null,
      "outputs": []
    }
  ]
}
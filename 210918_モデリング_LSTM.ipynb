{
  "nbformat": 4,
  "nbformat_minor": 0,
  "metadata": {
    "colab": {
      "name": "210918_モデリング_LSTM.ipynb",
      "provenance": [],
      "collapsed_sections": [],
      "mount_file_id": "1ruFYgwGGTKEQG3mVKQDYMVK0Q0x5CIYR",
      "authorship_tag": "ABX9TyPcBjw5NeuyHxPfIJ8UhgTK",
      "include_colab_link": true
    },
    "kernelspec": {
      "name": "python3",
      "display_name": "Python 3"
    },
    "language_info": {
      "name": "python"
    }
  },
  "cells": [
    {
      "cell_type": "markdown",
      "metadata": {
        "id": "view-in-github",
        "colab_type": "text"
      },
      "source": [
        "<a href=\"https://colab.research.google.com/github/minassy/ISID_2021/blob/main/210918_%E3%83%A2%E3%83%87%E3%83%AA%E3%83%B3%E3%82%B0_LSTM.ipynb\" target=\"_parent\"><img src=\"https://colab.research.google.com/assets/colab-badge.svg\" alt=\"Open In Colab\"/></a>"
      ]
    },
    {
      "cell_type": "code",
      "metadata": {
        "id": "R7tJnTKMHx15"
      },
      "source": [
        "import os\n",
        "import zipfile\n",
        "import glob\n",
        "import pandas as pd\n",
        "import numpy as np\n",
        "import pathlib\n",
        "from tqdm import tqdm\n",
        "import matplotlib.pyplot as plt\n",
        "import seaborn as sns"
      ],
      "execution_count": null,
      "outputs": []
    },
    {
      "cell_type": "code",
      "metadata": {
        "colab": {
          "base_uri": "https://localhost:8080/"
        },
        "id": "1hagwK9ZH7s_",
        "outputId": "13461671-bd47-44f1-cb04-0ddc339de79f"
      },
      "source": [
        "#作業基本ディレクトリ\n",
        "DIR = 'drive/MyDrive/00_Competition/ISID/2021'\n",
        "os.listdir(DIR)\n",
        "#os.mkdir(DIR+'/data')"
      ],
      "execution_count": null,
      "outputs": [
        {
          "output_type": "execute_result",
          "data": {
            "text/plain": [
              "['210918_モデリング_LSTM.ipynb',\n",
              " 'data',\n",
              " '210904_学習データの読み込み.ipynb',\n",
              " '210906_EDA_train.ipynb',\n",
              " '210908_EDA_test.ipynb',\n",
              " '210908_テストデータの読み込み_作成.ipynb',\n",
              " '210909_特徴量エンジニアリング.ipynb',\n",
              " '210912_特徴量E_連続処理_モデル検討_OneClassSVM.ipynb',\n",
              " '210916_モデル検討_AE_ペンディング.ipynb',\n",
              " '210918_LSTM練習.ipynb',\n",
              " '210917_特徴量_手動_の再観察.ipynb']"
            ]
          },
          "metadata": {},
          "execution_count": 3
        }
      ]
    },
    {
      "cell_type": "code",
      "metadata": {
        "id": "d8E1OK7kH9lh"
      },
      "source": [
        "DIR_DATA_TRAIN = os.path.join(DIR, 'data', 'Train_Unit_20210903')\n",
        "DIR_DATA_TEST = os.path.join(DIR, 'data', 'Test_Unit_20210903')"
      ],
      "execution_count": null,
      "outputs": []
    },
    {
      "cell_type": "code",
      "metadata": {
        "id": "CtylURqMICjS"
      },
      "source": [
        "#一連のデータ処理\n",
        "def get_some_values(file_path):\n",
        "  #ファイルパスから、ユニット名を取得。\n",
        "  dirname = os.path.dirname(file_path)\n",
        "  dirname_split = dirname.split('/')#区切り文字'/'で分割\n",
        "  unit = dirname_split[-2]\n",
        "  charge_mode = dirname_split[-1]\n",
        "  #ファイルパスから、サイクル数を取得。\n",
        "  basename = os.path.basename(file_path)\n",
        "  basename_split = basename.split('_')[4]#区切り文字'_'で分割\n",
        "  cycle_num = basename_split.split('.')[0]\n",
        "  return unit, charge_mode, cycle_num"
      ],
      "execution_count": null,
      "outputs": []
    },
    {
      "cell_type": "code",
      "metadata": {
        "id": "T6xj7xslIEhY"
      },
      "source": [
        "#%time\n",
        "#DATA_DIR = DIR_DATA_TRAIN\n",
        "#DATA_DIR = DIR_DATA_TEST\n",
        "\n",
        "#C = 'Charge'\n",
        "#C = 'Discharge'\n",
        "\n",
        "def data_reading(DATA_DIR, C):\n",
        "\n",
        "  #カラム名変更前後の辞書\n",
        "  col_list = {'Time (s)' : 'Time',\n",
        "              'Voltage Measured (V)' : 'VM',\n",
        "              'Voltage Charge (V)' : 'VC',\n",
        "              'Current Measured (Amps)' : 'CM', \n",
        "              'Current Charge (Amps)' : 'CC',\n",
        "              'Temperature (degree C)': 'Temp', \n",
        "              'unit' : 'unit_name', \n",
        "              'charge_mode' : 'mode', \n",
        "              'Cycle_num' : 'Cycle',\n",
        "              'Voltage Load (V)' : 'VL',\n",
        "              'Current Load (Amps)' : 'CL'\n",
        "  }\n",
        "\n",
        "  df_list = []\n",
        "  for folder in tqdm(os.listdir(DATA_DIR)[:3]):\n",
        "    files = glob.glob(os.path.join(DATA_DIR, folder, C, '*.csv'))\n",
        "    df_list_0 = []\n",
        "    for file in files:\n",
        "      tmp_df = pd.read_csv(file, encoding='utf-8')\n",
        "      tmp_df = tmp_df.rename(columns=col_list)\n",
        "      #ユニット名、充・放電モード、サイクル数の取得\n",
        "      unit, charge_mode, cycle_num = get_some_values(file)\n",
        "      #特徴量のデータフレームの作成\n",
        "      if C == 'Charge':\n",
        "        df_exp = pd.DataFrame([{'unit':unit,\n",
        "                          'charge_mode' : charge_mode,\n",
        "                          'Cycle_num' : int(cycle_num),\n",
        "                          'feature_c_vm' : featured_c_vm(tmp_df),\n",
        "                          'feature_c_cm' : featured_c_cm(tmp_df),\n",
        "                          'feature_c_vc' : featured_c_vc(tmp_df)}])\n",
        "      else:\n",
        "        df_exp = pd.DataFrame([{'unit':unit,\n",
        "                          'charge_mode' : charge_mode,\n",
        "                          'Cycle_num' : int(cycle_num),\n",
        "                          'feature_d_vm' : featured_d_vm(tmp_df),\n",
        "                          'feature_d_vl' : featured_d_vl(tmp_df)}])\n",
        "      df_list_0.append(df_exp)\n",
        "    df_0 = pd.concat(df_list_0)\n",
        "    df_list.append(df_0)\n",
        "  df = pd.concat(df_list)\n",
        "\n",
        "  #ユニットとサイクルでソート。\n",
        "  df = df.sort_values(['unit', 'Cycle_num'])\n",
        "  #インデックスの振り直し\n",
        "  df = df.reset_index(drop=True)\n",
        "\n",
        "  return df"
      ],
      "execution_count": null,
      "outputs": []
    },
    {
      "cell_type": "code",
      "metadata": {
        "id": "ROGD5GJKIIfO"
      },
      "source": [
        "def featured_c_vm(df):\n",
        "  #LAG=5が0.001未満が続くところを、飽和領域とみなす。\n",
        "  p_c_vm = df.loc[:, 'VM'][df.loc[:, 'VM'].diff(5) < 0.001]\n",
        "  #飽和領域のなかで、最初の点を点P_C_VMとする。\n",
        "  p_c_vm = p_c_vm.reset_index(inplace=False)\n",
        "  p_c_vm = p_c_vm['index'].iloc[0]\n",
        "  #充電VMの特徴量は、点P_C_VMにおける時間\n",
        "  feature_c_vm = df['Time'].loc[p_c_vm]\n",
        "  return feature_c_vm\n",
        "\n",
        "def featured_c_cm(df):\n",
        "  #飽和領域からの立ち下がり点(LAG=5の勾配が最小となる点)を点P_C_CMとする。\n",
        "  p_c_cm = np.gradient(df.loc[:, 'CM'].diff(5)[10:]).argmin()\n",
        "  #充電CMの特徴量は、点P_C_CMにおける時間\n",
        "  feature_c_cm = df['Time'].loc[p_c_cm]\n",
        "  return feature_c_cm\n",
        "\n",
        "def featured_c_vc(df):\n",
        "  #VCが最大値を示す点を、点P_C_VCとする。\n",
        "  p_c_vc = df.VC.argmax()\n",
        "  #充電VCの特徴量は、点P_C_VCにおける時間\n",
        "  feature_c_vc = df['Time'].loc[p_c_vc]\n",
        "  return feature_c_vc\n",
        "\n",
        "def featured_d_vm(df):\n",
        "  #VMが最小値を示す点を、点P_D_VMとする。\n",
        "  p_d_vm = df.VM.argmin()\n",
        "  #放電VMの特徴量は、点P_D_VMにおける時間\n",
        "  feature_d_vm = df['Time'].loc[p_d_vm]\n",
        "  return feature_d_vm\n",
        "\n",
        "def featured_d_vl(df):\n",
        "  #VLの最大値点以降の領域において、最小値を示す点を、点P_D_VLとする。\n",
        "  VL_max = df.VL.argmax()\n",
        "  p_d_vl = df.VL[VL_max: ].argmin()\n",
        "  #放電VLの特徴量は、点P_D_VLにおける時間\n",
        "  feature_d_vl = df['Time'].loc[p_d_vl]\n",
        "  return feature_d_vl"
      ],
      "execution_count": null,
      "outputs": []
    },
    {
      "cell_type": "markdown",
      "metadata": {
        "id": "wZo7-kJ2INaL"
      },
      "source": [
        "# 学習データ、テストデータの読み込み"
      ]
    },
    {
      "cell_type": "code",
      "metadata": {
        "colab": {
          "base_uri": "https://localhost:8080/"
        },
        "id": "TuWCXrRwILaQ",
        "outputId": "85c622f2-4519-49ca-99ee-8ae3e45dea54"
      },
      "source": [
        "%time\n",
        "#データの読み込み(学習)\n",
        "#充電\n",
        "\n",
        "DATA_DIR = DIR_DATA_TRAIN\n",
        "#DATA_DIR = DIR_DATA_TEST\n",
        "\n",
        "C = 'Charge'\n",
        "#C = 'Discharge'\n",
        "\n",
        "df_train_charge = data_reading(DATA_DIR, C)"
      ],
      "execution_count": null,
      "outputs": [
        {
          "output_type": "stream",
          "name": "stdout",
          "text": [
            "CPU times: user 2 µs, sys: 0 ns, total: 2 µs\n",
            "Wall time: 5.72 µs\n"
          ]
        },
        {
          "output_type": "stream",
          "name": "stderr",
          "text": [
            "100%|██████████| 3/3 [01:15<00:00, 25.04s/it]\n"
          ]
        }
      ]
    },
    {
      "cell_type": "code",
      "metadata": {
        "colab": {
          "base_uri": "https://localhost:8080/"
        },
        "id": "6-XcYhvqITif",
        "outputId": "a1c56bca-9695-4633-94da-2308d8e3ad77"
      },
      "source": [
        "%time\n",
        "#データの読み込み(学習)\n",
        "#放電\n",
        "\n",
        "DATA_DIR = DIR_DATA_TRAIN\n",
        "#DATA_DIR = DIR_DATA_TEST\n",
        "\n",
        "#C = 'Charge'\n",
        "C = 'Discharge'\n",
        "\n",
        "df_train_discharge = data_reading(DATA_DIR, C)"
      ],
      "execution_count": null,
      "outputs": [
        {
          "output_type": "stream",
          "name": "stdout",
          "text": [
            "CPU times: user 4 µs, sys: 0 ns, total: 4 µs\n",
            "Wall time: 8.82 µs\n"
          ]
        },
        {
          "output_type": "stream",
          "name": "stderr",
          "text": [
            "100%|██████████| 3/3 [01:16<00:00, 25.44s/it]\n"
          ]
        }
      ]
    },
    {
      "cell_type": "code",
      "metadata": {
        "colab": {
          "base_uri": "https://localhost:8080/",
          "height": 204
        },
        "id": "4-EUr-JAIkUq",
        "outputId": "2bb28976-5286-4bf1-9063-00c39dddf0a7"
      },
      "source": [
        "#充電と放電の特徴量のデータセット作成\n",
        "df_train_feature = pd.merge(df_train_charge, df_train_discharge,\n",
        "                            how = 'inner',\n",
        "                            on = ['unit', 'Cycle_num'])\n",
        "df_train_feature.head()"
      ],
      "execution_count": null,
      "outputs": [
        {
          "output_type": "execute_result",
          "data": {
            "text/html": [
              "<div>\n",
              "<style scoped>\n",
              "    .dataframe tbody tr th:only-of-type {\n",
              "        vertical-align: middle;\n",
              "    }\n",
              "\n",
              "    .dataframe tbody tr th {\n",
              "        vertical-align: top;\n",
              "    }\n",
              "\n",
              "    .dataframe thead th {\n",
              "        text-align: right;\n",
              "    }\n",
              "</style>\n",
              "<table border=\"1\" class=\"dataframe\">\n",
              "  <thead>\n",
              "    <tr style=\"text-align: right;\">\n",
              "      <th></th>\n",
              "      <th>unit</th>\n",
              "      <th>charge_mode_x</th>\n",
              "      <th>Cycle_num</th>\n",
              "      <th>feature_c_vm</th>\n",
              "      <th>feature_c_cm</th>\n",
              "      <th>feature_c_vc</th>\n",
              "      <th>charge_mode_y</th>\n",
              "      <th>feature_d_vm</th>\n",
              "      <th>feature_d_vl</th>\n",
              "    </tr>\n",
              "  </thead>\n",
              "  <tbody>\n",
              "    <tr>\n",
              "      <th>0</th>\n",
              "      <td>Train_Unit_1</td>\n",
              "      <td>Charge</td>\n",
              "      <td>1</td>\n",
              "      <td>3422.5</td>\n",
              "      <td>3207.4</td>\n",
              "      <td>3241.8</td>\n",
              "      <td>Discharge</td>\n",
              "      <td>3346.9</td>\n",
              "      <td>3327.2</td>\n",
              "    </tr>\n",
              "    <tr>\n",
              "      <th>1</th>\n",
              "      <td>Train_Unit_1</td>\n",
              "      <td>Charge</td>\n",
              "      <td>2</td>\n",
              "      <td>3431.6</td>\n",
              "      <td>3181.8</td>\n",
              "      <td>3262.3</td>\n",
              "      <td>Discharge</td>\n",
              "      <td>3328.8</td>\n",
              "      <td>3309.2</td>\n",
              "    </tr>\n",
              "    <tr>\n",
              "      <th>2</th>\n",
              "      <td>Train_Unit_1</td>\n",
              "      <td>Charge</td>\n",
              "      <td>3</td>\n",
              "      <td>3409.1</td>\n",
              "      <td>9692.7</td>\n",
              "      <td>3229.2</td>\n",
              "      <td>Discharge</td>\n",
              "      <td>3309.4</td>\n",
              "      <td>3289.8</td>\n",
              "    </tr>\n",
              "    <tr>\n",
              "      <th>3</th>\n",
              "      <td>Train_Unit_1</td>\n",
              "      <td>Charge</td>\n",
              "      <td>4</td>\n",
              "      <td>3407.7</td>\n",
              "      <td>3160.2</td>\n",
              "      <td>3228.2</td>\n",
              "      <td>Discharge</td>\n",
              "      <td>3309.7</td>\n",
              "      <td>3289.9</td>\n",
              "    </tr>\n",
              "    <tr>\n",
              "      <th>4</th>\n",
              "      <td>Train_Unit_1</td>\n",
              "      <td>Charge</td>\n",
              "      <td>5</td>\n",
              "      <td>3409.6</td>\n",
              "      <td>3172.4</td>\n",
              "      <td>3217.9</td>\n",
              "      <td>Discharge</td>\n",
              "      <td>3307.7</td>\n",
              "      <td>3287.9</td>\n",
              "    </tr>\n",
              "  </tbody>\n",
              "</table>\n",
              "</div>"
            ],
            "text/plain": [
              "           unit charge_mode_x  ...  feature_d_vm  feature_d_vl\n",
              "0  Train_Unit_1        Charge  ...        3346.9        3327.2\n",
              "1  Train_Unit_1        Charge  ...        3328.8        3309.2\n",
              "2  Train_Unit_1        Charge  ...        3309.4        3289.8\n",
              "3  Train_Unit_1        Charge  ...        3309.7        3289.9\n",
              "4  Train_Unit_1        Charge  ...        3307.7        3287.9\n",
              "\n",
              "[5 rows x 9 columns]"
            ]
          },
          "metadata": {},
          "execution_count": 10
        }
      ]
    },
    {
      "cell_type": "code",
      "metadata": {
        "colab": {
          "base_uri": "https://localhost:8080/"
        },
        "id": "GKBsPltKIokT",
        "outputId": "1d2f2ecb-64ff-4fc2-dfd0-2bcb1e6d9c67"
      },
      "source": [
        "%time\n",
        "#データの読み込み(学習)\n",
        "#充電\n",
        "\n",
        "#DATA_DIR = DIR_DATA_TRAIN\n",
        "DATA_DIR = DIR_DATA_TEST\n",
        "\n",
        "C = 'Charge'\n",
        "#C = 'Discharge'\n",
        "\n",
        "df_test_charge = data_reading(DATA_DIR, C)"
      ],
      "execution_count": null,
      "outputs": [
        {
          "output_type": "stream",
          "name": "stdout",
          "text": [
            "CPU times: user 4 µs, sys: 1 µs, total: 5 µs\n",
            "Wall time: 8.82 µs\n"
          ]
        },
        {
          "output_type": "stream",
          "name": "stderr",
          "text": [
            "100%|██████████| 3/3 [00:39<00:00, 13.16s/it]\n"
          ]
        }
      ]
    },
    {
      "cell_type": "code",
      "metadata": {
        "colab": {
          "base_uri": "https://localhost:8080/"
        },
        "id": "ZPiPEuW6Ir3d",
        "outputId": "f760e4d0-9cc7-47eb-988a-6f34692cc89a"
      },
      "source": [
        "%time\n",
        "#データの読み込み(学習)\n",
        "#放電\n",
        "\n",
        "#DATA_DIR = DIR_DATA_TRAIN\n",
        "DATA_DIR = DIR_DATA_TEST\n",
        "\n",
        "#C = 'Charge'\n",
        "C = 'Discharge'\n",
        "\n",
        "df_test_discharge = data_reading(DATA_DIR, C)"
      ],
      "execution_count": null,
      "outputs": [
        {
          "output_type": "stream",
          "name": "stdout",
          "text": [
            "CPU times: user 4 µs, sys: 0 ns, total: 4 µs\n",
            "Wall time: 8.82 µs\n"
          ]
        },
        {
          "output_type": "stream",
          "name": "stderr",
          "text": [
            "100%|██████████| 3/3 [00:39<00:00, 13.28s/it]\n"
          ]
        }
      ]
    },
    {
      "cell_type": "code",
      "metadata": {
        "colab": {
          "base_uri": "https://localhost:8080/",
          "height": 204
        },
        "id": "APUKxtYUItTI",
        "outputId": "37d7bda0-1a33-48a1-8745-ece32b5960fb"
      },
      "source": [
        "#充電と放電の特徴量のデータセット作成\n",
        "df_test_feature = pd.merge(df_test_charge, df_test_discharge,\n",
        "                            how = 'inner',\n",
        "                            on = ['unit', 'Cycle_num'])\n",
        "df_test_feature.head()"
      ],
      "execution_count": null,
      "outputs": [
        {
          "output_type": "execute_result",
          "data": {
            "text/html": [
              "<div>\n",
              "<style scoped>\n",
              "    .dataframe tbody tr th:only-of-type {\n",
              "        vertical-align: middle;\n",
              "    }\n",
              "\n",
              "    .dataframe tbody tr th {\n",
              "        vertical-align: top;\n",
              "    }\n",
              "\n",
              "    .dataframe thead th {\n",
              "        text-align: right;\n",
              "    }\n",
              "</style>\n",
              "<table border=\"1\" class=\"dataframe\">\n",
              "  <thead>\n",
              "    <tr style=\"text-align: right;\">\n",
              "      <th></th>\n",
              "      <th>unit</th>\n",
              "      <th>charge_mode_x</th>\n",
              "      <th>Cycle_num</th>\n",
              "      <th>feature_c_vm</th>\n",
              "      <th>feature_c_cm</th>\n",
              "      <th>feature_c_vc</th>\n",
              "      <th>charge_mode_y</th>\n",
              "      <th>feature_d_vm</th>\n",
              "      <th>feature_d_vl</th>\n",
              "    </tr>\n",
              "  </thead>\n",
              "  <tbody>\n",
              "    <tr>\n",
              "      <th>0</th>\n",
              "      <td>Test_Unit_1</td>\n",
              "      <td>Charge</td>\n",
              "      <td>1</td>\n",
              "      <td>741.86</td>\n",
              "      <td>3476.3</td>\n",
              "      <td>3141.4</td>\n",
              "      <td>Discharge</td>\n",
              "      <td>3338.4</td>\n",
              "      <td>3328.9</td>\n",
              "    </tr>\n",
              "    <tr>\n",
              "      <th>1</th>\n",
              "      <td>Test_Unit_1</td>\n",
              "      <td>Charge</td>\n",
              "      <td>2</td>\n",
              "      <td>849.45</td>\n",
              "      <td>3451.6</td>\n",
              "      <td>3164.0</td>\n",
              "      <td>Discharge</td>\n",
              "      <td>3318.3</td>\n",
              "      <td>3308.8</td>\n",
              "    </tr>\n",
              "    <tr>\n",
              "      <th>2</th>\n",
              "      <td>Test_Unit_1</td>\n",
              "      <td>Charge</td>\n",
              "      <td>3</td>\n",
              "      <td>803.84</td>\n",
              "      <td>8280.7</td>\n",
              "      <td>3145.7</td>\n",
              "      <td>Discharge</td>\n",
              "      <td>3312.4</td>\n",
              "      <td>3302.7</td>\n",
              "    </tr>\n",
              "    <tr>\n",
              "      <th>3</th>\n",
              "      <td>Test_Unit_1</td>\n",
              "      <td>Charge</td>\n",
              "      <td>4</td>\n",
              "      <td>806.83</td>\n",
              "      <td>3102.9</td>\n",
              "      <td>3123.4</td>\n",
              "      <td>Discharge</td>\n",
              "      <td>3296.1</td>\n",
              "      <td>3286.4</td>\n",
              "    </tr>\n",
              "    <tr>\n",
              "      <th>4</th>\n",
              "      <td>Test_Unit_1</td>\n",
              "      <td>Charge</td>\n",
              "      <td>5</td>\n",
              "      <td>1004.50</td>\n",
              "      <td>3147.9</td>\n",
              "      <td>3163.0</td>\n",
              "      <td>Discharge</td>\n",
              "      <td>3298.1</td>\n",
              "      <td>3288.2</td>\n",
              "    </tr>\n",
              "  </tbody>\n",
              "</table>\n",
              "</div>"
            ],
            "text/plain": [
              "          unit charge_mode_x  ...  feature_d_vm  feature_d_vl\n",
              "0  Test_Unit_1        Charge  ...        3338.4        3328.9\n",
              "1  Test_Unit_1        Charge  ...        3318.3        3308.8\n",
              "2  Test_Unit_1        Charge  ...        3312.4        3302.7\n",
              "3  Test_Unit_1        Charge  ...        3296.1        3286.4\n",
              "4  Test_Unit_1        Charge  ...        3298.1        3288.2\n",
              "\n",
              "[5 rows x 9 columns]"
            ]
          },
          "metadata": {},
          "execution_count": 13
        }
      ]
    },
    {
      "cell_type": "markdown",
      "metadata": {
        "id": "u0Tss12II5Ma"
      },
      "source": [
        "# 学習データの作成"
      ]
    },
    {
      "cell_type": "code",
      "metadata": {
        "id": "L4GWokWVQEIK"
      },
      "source": [
        "import math\n",
        "from keras.models import Sequential\n",
        "from keras.layers import Dense"
      ],
      "execution_count": null,
      "outputs": []
    },
    {
      "cell_type": "markdown",
      "metadata": {
        "id": "0J-0BuEPJBaX"
      },
      "source": [
        "まとめ  \n",
        "テストユニット1：訓練ユニット1と似ている。 feature_d_vm と feature_d_vm or feature_d_vlで、ほぼ説明できそう。\n",
        "\n",
        "テストユニット2：訓練ユニット2と似ている。 feature_c_vm と feature_d_vm or feature_d_vlで、ほぼ説明できそう。　　\n",
        "\n",
        "テストユニット3：訓練ユニット1と似ている。 feature_d_vm feature_d_vl と feature_d_vm feature_d_vlで、ほぼ説明できそう。　"
      ]
    },
    {
      "cell_type": "code",
      "metadata": {
        "id": "DQfNerPcJidf"
      },
      "source": [
        "num_train_unit_1 = 124\n",
        "num_train_unit_2 = 40\n",
        "num_train_unit_3 = 97\n",
        "\n",
        "num_test_unit_1 = 70\n",
        "num_test_unit_2 = 12\n",
        "num_test_unit_3 = 55"
      ],
      "execution_count": null,
      "outputs": []
    },
    {
      "cell_type": "markdown",
      "metadata": {
        "id": "ft7xsk-wJKxG"
      },
      "source": [
        "テストユニット1"
      ]
    },
    {
      "cell_type": "code",
      "metadata": {
        "id": "qnULe-tFPl_L"
      },
      "source": [
        "#ラグを定義し、LSTM用のデータセットを作る\n",
        "def create_dataset(dataset, look_back):\n",
        "\tdataX, dataY = [], []\n",
        "\tfor i in range(len(dataset)-look_back-1):\n",
        "\t\ta = dataset[i:(i+look_back), 0]\n",
        "\t\tdataX.append(a)\n",
        "\t\tdataY.append(dataset[i + look_back, 0])\n",
        "\treturn np.array(dataX), np.array(dataY)"
      ],
      "execution_count": null,
      "outputs": []
    },
    {
      "cell_type": "code",
      "metadata": {
        "id": "_w5AcypaIwIn"
      },
      "source": [
        "#学習データと検証データ\n",
        "train_unit_1 = df_train_feature[df_train_feature['unit'] == 'Train_Unit_1' ].reset_index()\n",
        "dataset = train_unit_1['feature_d_vm'].values.astype('float32')"
      ],
      "execution_count": null,
      "outputs": []
    },
    {
      "cell_type": "code",
      "metadata": {
        "colab": {
          "base_uri": "https://localhost:8080/"
        },
        "id": "HzcEJy8bWVMx",
        "outputId": "b0c7119f-f96b-4fd7-a423-c2a34b110e31"
      },
      "source": [
        "print(dataset.ndim)\n",
        "print(dataset.shape)\n",
        "print(dataset.size)"
      ],
      "execution_count": null,
      "outputs": [
        {
          "output_type": "stream",
          "name": "stdout",
          "text": [
            "1\n",
            "(124,)\n",
            "124\n"
          ]
        }
      ]
    },
    {
      "cell_type": "code",
      "metadata": {
        "colab": {
          "base_uri": "https://localhost:8080/"
        },
        "id": "81wVyWxaZzbR",
        "outputId": "9f3808a7-2621-4752-c144-c435f5ab388a"
      },
      "source": [
        "#次元数の変更\n",
        "dataset = dataset.reshape(124, 1)\n",
        "print(dataset.ndim)\n",
        "print(dataset.shape)\n",
        "print(dataset.size)"
      ],
      "execution_count": null,
      "outputs": [
        {
          "output_type": "stream",
          "name": "stdout",
          "text": [
            "2\n",
            "(124, 1)\n",
            "124\n"
          ]
        }
      ]
    },
    {
      "cell_type": "code",
      "metadata": {
        "id": "nWpr84jRWv-0"
      },
      "source": [
        "# split into train and test sets\n",
        "train_size = num_test_unit_1\n",
        "val_size = len(dataset) - train_size\n",
        "train, val = dataset[0:train_size], dataset[train_size:len(dataset)]"
      ],
      "execution_count": null,
      "outputs": []
    },
    {
      "cell_type": "code",
      "metadata": {
        "id": "0Zbg41H7Qd0t"
      },
      "source": [
        "# reshape dataset\n",
        "look_back = 2\n",
        "trainX, trainY = create_dataset(train, look_back)\n",
        "valX, valY = create_dataset(val, look_back)"
      ],
      "execution_count": null,
      "outputs": []
    },
    {
      "cell_type": "code",
      "metadata": {
        "colab": {
          "base_uri": "https://localhost:8080/"
        },
        "id": "ZjrbRj6FRF1t",
        "outputId": "c5a6bbe0-4078-4f07-d8e7-914dc4da177d"
      },
      "source": [
        "trainX"
      ],
      "execution_count": null,
      "outputs": [
        {
          "output_type": "execute_result",
          "data": {
            "text/plain": [
              "array([[3346.9, 3328.8],\n",
              "       [3328.8, 3309.4],\n",
              "       [3309.4, 3309.7],\n",
              "       [3309.7, 3307.7],\n",
              "       [3307.7, 3309.3],\n",
              "       [3309.3, 3308.4],\n",
              "       [3308.4, 3291.5],\n",
              "       [3291.5, 3289.9],\n",
              "       [3289.9, 3290.2],\n",
              "       [3290.2, 3290.2],\n",
              "       [3290.2, 3271. ],\n",
              "       [3271. , 3270.8],\n",
              "       [3270.8, 3270.3],\n",
              "       [3270.3, 3251.1],\n",
              "       [3251.1, 3250. ],\n",
              "       [3250. , 3250.4],\n",
              "       [3250.4, 3251.1],\n",
              "       [3251.1, 3250.8],\n",
              "       [3250.8, 3330. ],\n",
              "       [3330. , 3331.2],\n",
              "       [3331.2, 3311.3],\n",
              "       [3311.3, 3292.5],\n",
              "       [3292.5, 3291.2],\n",
              "       [3291.2, 3292.2],\n",
              "       [3292.2, 3271.3],\n",
              "       [3271.3, 3272.7],\n",
              "       [3272.7, 3270.9],\n",
              "       [3270.9, 3250.9],\n",
              "       [3250.9, 3253.2],\n",
              "       [3253.2, 3326.6],\n",
              "       [3326.6, 3289.2],\n",
              "       [3289.2, 3270.2],\n",
              "       [3270.2, 3251.4],\n",
              "       [3251.4, 3243. ],\n",
              "       [3243. , 3233.2],\n",
              "       [3233.2, 3214. ],\n",
              "       [3214. , 3204.3],\n",
              "       [3204.3, 3186.4],\n",
              "       [3186.4, 3185.8],\n",
              "       [3185.8, 3176.8],\n",
              "       [3176.8, 3166.9],\n",
              "       [3166.9, 3188. ],\n",
              "       [3188. , 3167.7],\n",
              "       [3167.7, 3148.4],\n",
              "       [3148.4, 3130.3],\n",
              "       [3130.3, 3120.2],\n",
              "       [3120.2, 3223.3],\n",
              "       [3223.3, 3204.7],\n",
              "       [3204.7, 3176.5],\n",
              "       [3176.5, 3158.2],\n",
              "       [3158.2, 3139.8],\n",
              "       [3139.8, 3130.4],\n",
              "       [3130.4, 3120.8],\n",
              "       [3120.8, 3102.8],\n",
              "       [3102.8, 3084. ],\n",
              "       [3084. , 3074.3],\n",
              "       [3074.3, 3065.8],\n",
              "       [3065.8, 3055.9],\n",
              "       [3055.9, 3045.9],\n",
              "       [3045.9, 3028.4],\n",
              "       [3028.4, 3009.8],\n",
              "       [3009.8, 3009.9],\n",
              "       [3009.9, 2991.3],\n",
              "       [2991.3, 2982.1],\n",
              "       [2982.1, 2973. ],\n",
              "       [2973. , 2953.2],\n",
              "       [2953.2, 2944.4]], dtype=float32)"
            ]
          },
          "metadata": {},
          "execution_count": 160
        }
      ]
    },
    {
      "cell_type": "code",
      "metadata": {
        "colab": {
          "base_uri": "https://localhost:8080/"
        },
        "id": "OfcuH9RjSxT7",
        "outputId": "7659db0a-0d23-4378-c7c5-bedf548c993f"
      },
      "source": [
        "# create and fit Multilayer Perceptron model\n",
        "model = Sequential()\n",
        "model.add(Dense(12, input_dim=look_back, activation='relu'))\n",
        "model.add(Dense(8, activation='relu'))\n",
        "model.add(Dense(1))\n",
        "model.compile(loss='mean_squared_error', optimizer='adam')\n",
        "model.fit(trainX, trainY, epochs=50, batch_size=2, verbose=2)"
      ],
      "execution_count": null,
      "outputs": [
        {
          "output_type": "stream",
          "name": "stdout",
          "text": [
            "Epoch 1/50\n",
            "34/34 - 0s - loss: 17542146.0000\n",
            "Epoch 2/50\n",
            "34/34 - 0s - loss: 13677851.0000\n",
            "Epoch 3/50\n",
            "34/34 - 0s - loss: 10561189.0000\n",
            "Epoch 4/50\n",
            "34/34 - 0s - loss: 7820663.5000\n",
            "Epoch 5/50\n",
            "34/34 - 0s - loss: 5279354.5000\n",
            "Epoch 6/50\n",
            "34/34 - 0s - loss: 3362210.5000\n",
            "Epoch 7/50\n",
            "34/34 - 0s - loss: 1908918.6250\n",
            "Epoch 8/50\n",
            "34/34 - 0s - loss: 831037.3125\n",
            "Epoch 9/50\n",
            "34/34 - 0s - loss: 256757.0781\n",
            "Epoch 10/50\n",
            "34/34 - 0s - loss: 53001.3945\n",
            "Epoch 11/50\n",
            "34/34 - 0s - loss: 7474.5547\n",
            "Epoch 12/50\n",
            "34/34 - 0s - loss: 1126.0880\n",
            "Epoch 13/50\n",
            "34/34 - 0s - loss: 542.6089\n",
            "Epoch 14/50\n",
            "34/34 - 0s - loss: 512.3167\n",
            "Epoch 15/50\n",
            "34/34 - 0s - loss: 513.3939\n",
            "Epoch 16/50\n",
            "34/34 - 0s - loss: 511.2057\n",
            "Epoch 17/50\n",
            "34/34 - 0s - loss: 510.7190\n",
            "Epoch 18/50\n",
            "34/34 - 0s - loss: 511.0470\n",
            "Epoch 19/50\n",
            "34/34 - 0s - loss: 510.3895\n",
            "Epoch 20/50\n",
            "34/34 - 0s - loss: 511.0860\n",
            "Epoch 21/50\n",
            "34/34 - 0s - loss: 513.7004\n",
            "Epoch 22/50\n",
            "34/34 - 0s - loss: 510.7984\n",
            "Epoch 23/50\n",
            "34/34 - 0s - loss: 513.9443\n",
            "Epoch 24/50\n",
            "34/34 - 0s - loss: 521.3885\n",
            "Epoch 25/50\n",
            "34/34 - 0s - loss: 532.1393\n",
            "Epoch 26/50\n",
            "34/34 - 0s - loss: 510.4092\n",
            "Epoch 27/50\n",
            "34/34 - 0s - loss: 521.4865\n",
            "Epoch 28/50\n",
            "34/34 - 0s - loss: 512.6495\n",
            "Epoch 29/50\n",
            "34/34 - 0s - loss: 512.3661\n",
            "Epoch 30/50\n",
            "34/34 - 0s - loss: 519.6204\n",
            "Epoch 31/50\n",
            "34/34 - 0s - loss: 520.0705\n",
            "Epoch 32/50\n",
            "34/34 - 0s - loss: 516.9673\n",
            "Epoch 33/50\n",
            "34/34 - 0s - loss: 515.9022\n",
            "Epoch 34/50\n",
            "34/34 - 0s - loss: 520.0698\n",
            "Epoch 35/50\n",
            "34/34 - 0s - loss: 516.8126\n",
            "Epoch 36/50\n",
            "34/34 - 0s - loss: 512.9655\n",
            "Epoch 37/50\n",
            "34/34 - 0s - loss: 517.4021\n",
            "Epoch 38/50\n",
            "34/34 - 0s - loss: 513.7483\n",
            "Epoch 39/50\n",
            "34/34 - 0s - loss: 518.8146\n",
            "Epoch 40/50\n",
            "34/34 - 0s - loss: 524.5369\n",
            "Epoch 41/50\n",
            "34/34 - 0s - loss: 526.1271\n",
            "Epoch 42/50\n",
            "34/34 - 0s - loss: 512.1986\n",
            "Epoch 43/50\n",
            "34/34 - 0s - loss: 517.8156\n",
            "Epoch 44/50\n",
            "34/34 - 0s - loss: 520.4396\n",
            "Epoch 45/50\n",
            "34/34 - 0s - loss: 519.1707\n",
            "Epoch 46/50\n",
            "34/34 - 0s - loss: 517.2310\n",
            "Epoch 47/50\n",
            "34/34 - 0s - loss: 526.3806\n",
            "Epoch 48/50\n",
            "34/34 - 0s - loss: 518.7202\n",
            "Epoch 49/50\n",
            "34/34 - 0s - loss: 513.2353\n",
            "Epoch 50/50\n",
            "34/34 - 0s - loss: 513.5528\n"
          ]
        },
        {
          "output_type": "execute_result",
          "data": {
            "text/plain": [
              "<keras.callbacks.History at 0x7ff84a7e1b90>"
            ]
          },
          "metadata": {},
          "execution_count": 154
        }
      ]
    },
    {
      "cell_type": "code",
      "metadata": {
        "colab": {
          "base_uri": "https://localhost:8080/"
        },
        "id": "PmnXj0k5UWIV",
        "outputId": "5af375c8-6e34-45d2-a931-455235da0df9"
      },
      "source": [
        "# Estimate model performance\n",
        "trainScore = model.evaluate(trainX, trainY, verbose=0)\n",
        "print('Train Score: %.2f MSE (%.2f RMSE)' % (trainScore, math.sqrt(trainScore)))\n",
        "valScore = model.evaluate(valX, valY, verbose=0)\n",
        "print('Validation Score: %.2f MSE (%.2f RMSE)' % (valScore, math.sqrt(valScore)))\n",
        "# generate predictions for training\n",
        "trainPredict = model.predict(trainX)\n",
        "valPredict = model.predict(valX)"
      ],
      "execution_count": null,
      "outputs": [
        {
          "output_type": "stream",
          "name": "stdout",
          "text": [
            "Train Score: 508.50 MSE (22.55 RMSE)\n",
            "Validation Score: 799.05 MSE (28.27 RMSE)\n"
          ]
        }
      ]
    },
    {
      "cell_type": "code",
      "metadata": {
        "colab": {
          "base_uri": "https://localhost:8080/",
          "height": 320
        },
        "id": "UXwJctWDapKi",
        "outputId": "574685e9-fb45-486b-9806-b6b3dc17f6dc"
      },
      "source": [
        "# shift train predictions for plotting\n",
        "plt.rcParams['figure.figsize'] = [6, 5]\n",
        "#datasetと同じ空配列リストを作成\n",
        "trainPredictPlot = np.empty_like(dataset)\n",
        "#リストをnanに置き換え\n",
        "trainPredictPlot[:, :] = np.nan\n",
        "trainPredictPlot[look_back:len(trainPredict)+look_back, :] = trainPredict\n",
        "# shift test predictions for plotting\n",
        "valPredictPlot = np.empty_like(dataset)\n",
        "valPredictPlot[:, :] = np.nan\n",
        "valPredictPlot[len(trainPredict)+(look_back*2)+1:len(dataset)-1, :] = valPredict\n",
        "# plot baseline and predictions\n",
        "plt.plot(dataset)\n",
        "plt.plot(trainPredictPlot,linewidth =1, linestyle = '--',color='k')\n",
        "plt.plot(valPredictPlot,linestyle= ':',color='r')\n",
        "\n",
        "plt.show()"
      ],
      "execution_count": null,
      "outputs": [
        {
          "output_type": "display_data",
          "data": {
            "image/png": "[encoded data removed]",
            "text/plain": [
              "<Figure size 432x360 with 1 Axes>"
            ]
          },
          "metadata": {
            "needs_background": "light"
          }
        }
      ]
    },
    {
      "cell_type": "markdown",
      "metadata": {
        "id": "lDQ9jfJOhgX2"
      },
      "source": [
        "# テストデータによる推論"
      ]
    },
    {
      "cell_type": "markdown",
      "metadata": {
        "id": "9LZs9OnKi8An"
      },
      "source": [
        "学習データ(1～70)で、テストデータ(1～70)を予測するモデルを作成する。  \n",
        "推論も同様に?  \n",
        "テストデータでモデル作って、未知部分を予想するタスク？"
      ]
    },
    {
      "cell_type": "code",
      "metadata": {
        "id": "P1iLp27ti7CX"
      },
      "source": [
        ""
      ],
      "execution_count": null,
      "outputs": []
    },
    {
      "cell_type": "code",
      "metadata": {
        "id": "gndi61TWawPj"
      },
      "source": [
        "#テストデータ\n",
        "test_unit_1 = df_test_feature[df_test_feature['unit'] == 'Test_Unit_1' ].reset_index()\n",
        "dataset_test = test_unit_1['feature_d_vm'].values.astype('float32')"
      ],
      "execution_count": null,
      "outputs": []
    },
    {
      "cell_type": "code",
      "metadata": {
        "colab": {
          "base_uri": "https://localhost:8080/"
        },
        "id": "h8XTKcHChzXN",
        "outputId": "c78706af-0aed-42e9-be46-1f17a7b55234"
      },
      "source": [
        "print(dataset_test.ndim)\n",
        "print(dataset_test.shape)\n",
        "print(dataset_test.size)"
      ],
      "execution_count": null,
      "outputs": [
        {
          "output_type": "stream",
          "name": "stdout",
          "text": [
            "1\n",
            "(70,)\n",
            "70\n"
          ]
        }
      ]
    },
    {
      "cell_type": "code",
      "metadata": {
        "colab": {
          "base_uri": "https://localhost:8080/"
        },
        "id": "ZBZ0M5R_lbuG",
        "outputId": "dd2e0d76-29bc-4fe2-ab64-9bb55a43f33b"
      },
      "source": [
        "#次元数の変更\n",
        "dataset_test = dataset_test.reshape(70, 1)\n",
        "print(dataset_test.ndim)\n",
        "print(dataset_test.shape)\n",
        "print(dataset_test.size)"
      ],
      "execution_count": null,
      "outputs": [
        {
          "output_type": "stream",
          "name": "stdout",
          "text": [
            "2\n",
            "(70, 1)\n",
            "70\n"
          ]
        }
      ]
    },
    {
      "cell_type": "code",
      "metadata": {
        "id": "Tzqxav5UlndU"
      },
      "source": [
        "# reshape dataset\n",
        "look_back = 2\n",
        "test = dataset_test\n",
        "testX, testY = create_dataset(test, look_back)"
      ],
      "execution_count": null,
      "outputs": []
    },
    {
      "cell_type": "code",
      "metadata": {
        "id": "DDxwYcbymBX1"
      },
      "source": [
        "testPredict = model.predict(testX)"
      ],
      "execution_count": null,
      "outputs": []
    },
    {
      "cell_type": "code",
      "metadata": {
        "colab": {
          "base_uri": "https://localhost:8080/"
        },
        "id": "7qc6ndcnmNQi",
        "outputId": "85469054-7d43-4a52-b1cb-a1054a3bd874"
      },
      "source": [
        "testPredict.shape"
      ],
      "execution_count": null,
      "outputs": [
        {
          "output_type": "execute_result",
          "data": {
            "text/plain": [
              "(67, 1)"
            ]
          },
          "metadata": {},
          "execution_count": 172
        }
      ]
    },
    {
      "cell_type": "code",
      "metadata": {
        "colab": {
          "base_uri": "https://localhost:8080/",
          "height": 337
        },
        "id": "zBFe-O8kmOup",
        "outputId": "ae89b4f3-533d-486e-b0ff-1f680ac2ebb6"
      },
      "source": [
        "plt.plot(testPredict)"
      ],
      "execution_count": null,
      "outputs": [
        {
          "output_type": "execute_result",
          "data": {
            "text/plain": [
              "[<matplotlib.lines.Line2D at 0x7ff844252310>]"
            ]
          },
          "metadata": {},
          "execution_count": 173
        },
        {
          "output_type": "display_data",
          "data": {
            "image/png": "[encoded data removed]",
            "text/plain": [
              "<Figure size 432x360 with 1 Axes>"
            ]
          },
          "metadata": {
            "needs_background": "light"
          }
        }
      ]
    },
    {
      "cell_type": "code",
      "metadata": {
        "colab": {
          "base_uri": "https://localhost:8080/"
        },
        "id": "ea1MpoESuuh3",
        "outputId": "f187d914-174e-48ca-c9d7-d7fad0a2d991"
      },
      "source": [
        "testX.ndim"
      ],
      "execution_count": null,
      "outputs": [
        {
          "output_type": "execute_result",
          "data": {
            "text/plain": [
              "2"
            ]
          },
          "metadata": {},
          "execution_count": 196
        }
      ]
    },
    {
      "cell_type": "code",
      "metadata": {
        "colab": {
          "base_uri": "https://localhost:8080/"
        },
        "id": "MYTPO76BogNZ",
        "outputId": "0a59125a-439e-4727-de1c-806122779d41"
      },
      "source": [
        "hoge = trainX.shape[0] - 1\n",
        "future_test = trainX[hoge]\n",
        "n = testX.shape[0]\n",
        "test_data = future_test.reshape(2,1)"
      ],
      "execution_count": null,
      "outputs": [
        {
          "output_type": "execute_result",
          "data": {
            "text/plain": [
              "2"
            ]
          },
          "metadata": {},
          "execution_count": 208
        }
      ]
    },
    {
      "cell_type": "code",
      "metadata": {
        "colab": {
          "base_uri": "https://localhost:8080/",
          "height": 736
        },
        "id": "zJfrnekJmgt8",
        "outputId": "ca7314de-8a90-4ff8-c0d4-118e3818f37b"
      },
      "source": [
        "#テストデータの最終行を取得\n",
        "hoge = trainX.shape[0] - 1\n",
        "future_test = trainX[hoge]\n",
        "\n",
        "#予測結果をy_pred_summary に入れる\n",
        "y_pred_summary = np.empty((1))\n",
        " \n",
        "n = testX.shape[0]\n",
        " \n",
        "for step in range(n):\n",
        "    \n",
        "    #最新のテストデータで予測値を算出\n",
        "    test_data = future_test.reshape(2,1)\n",
        "    batch_predict = model.predict(test_data)\n",
        "    \n",
        "    #予測値を最新のテストデータにしてテストデータを更新\n",
        "    future_test = np.delete(future_test, 0)\n",
        "    future_test = np.append(future_test, batch_predict)\n",
        "    \n",
        "    #予測結果を順番に保存\n",
        "    y_pred_summary = np.append(y_pred_summary, batch_predict)\n",
        "\n",
        "predicted = model.predict(testX) \n",
        "dataf =  pd.DataFrame(predicted)\n",
        "dataf.columns = [\"predict(with test data)\"]\n",
        "dataf[\"Stock price\"] = testY\n",
        "\n",
        "#教師データなしの予測値を追加\n",
        "dataf[\"predict(No test data)\"] = y_pred_summary\n",
        " \n",
        "dataf.plot(figsize=(15, 5)).legend(loc='upper left')"
      ],
      "execution_count": null,
      "outputs": [
        {
          "output_type": "error",
          "ename": "ValueError",
          "evalue": "ignored",
          "traceback": [
            "\u001b[0;31m---------------------------------------------------------------------------\u001b[0m",
            "\u001b[0;31mValueError\u001b[0m                                Traceback (most recent call last)",
            "\u001b[0;32m<ipython-input-209-abeca1d3648a>\u001b[0m in \u001b[0;36m<module>\u001b[0;34m()\u001b[0m\n\u001b[1;32m     12\u001b[0m     \u001b[0;31m#最新のテストデータで予測値を算出\u001b[0m\u001b[0;34m\u001b[0m\u001b[0;34m\u001b[0m\u001b[0;34m\u001b[0m\u001b[0m\n\u001b[1;32m     13\u001b[0m     \u001b[0mtest_data\u001b[0m \u001b[0;34m=\u001b[0m \u001b[0mfuture_test\u001b[0m\u001b[0;34m.\u001b[0m\u001b[0mreshape\u001b[0m\u001b[0;34m(\u001b[0m\u001b[0;36m2\u001b[0m\u001b[0;34m,\u001b[0m\u001b[0;36m1\u001b[0m\u001b[0;34m)\u001b[0m\u001b[0;34m\u001b[0m\u001b[0;34m\u001b[0m\u001b[0m\n\u001b[0;32m---> 14\u001b[0;31m     \u001b[0mbatch_predict\u001b[0m \u001b[0;34m=\u001b[0m \u001b[0mmodel\u001b[0m\u001b[0;34m.\u001b[0m\u001b[0mpredict\u001b[0m\u001b[0;34m(\u001b[0m\u001b[0mtest_data\u001b[0m\u001b[0;34m)\u001b[0m\u001b[0;34m\u001b[0m\u001b[0;34m\u001b[0m\u001b[0m\n\u001b[0m\u001b[1;32m     15\u001b[0m \u001b[0;34m\u001b[0m\u001b[0m\n\u001b[1;32m     16\u001b[0m     \u001b[0;31m#予測値を最新のテストデータにしてテストデータを更新\u001b[0m\u001b[0;34m\u001b[0m\u001b[0;34m\u001b[0m\u001b[0;34m\u001b[0m\u001b[0m\n",
            "\u001b[0;32m/usr/local/lib/python3.7/dist-packages/keras/engine/training.py\u001b[0m in \u001b[0;36mpredict\u001b[0;34m(self, x, batch_size, verbose, steps, callbacks, max_queue_size, workers, use_multiprocessing)\u001b[0m\n\u001b[1;32m   1749\u001b[0m           \u001b[0;32mfor\u001b[0m \u001b[0mstep\u001b[0m \u001b[0;32min\u001b[0m \u001b[0mdata_handler\u001b[0m\u001b[0;34m.\u001b[0m\u001b[0msteps\u001b[0m\u001b[0;34m(\u001b[0m\u001b[0;34m)\u001b[0m\u001b[0;34m:\u001b[0m\u001b[0;34m\u001b[0m\u001b[0;34m\u001b[0m\u001b[0m\n\u001b[1;32m   1750\u001b[0m             \u001b[0mcallbacks\u001b[0m\u001b[0;34m.\u001b[0m\u001b[0mon_predict_batch_begin\u001b[0m\u001b[0;34m(\u001b[0m\u001b[0mstep\u001b[0m\u001b[0;34m)\u001b[0m\u001b[0;34m\u001b[0m\u001b[0;34m\u001b[0m\u001b[0m\n\u001b[0;32m-> 1751\u001b[0;31m             \u001b[0mtmp_batch_outputs\u001b[0m \u001b[0;34m=\u001b[0m \u001b[0mself\u001b[0m\u001b[0;34m.\u001b[0m\u001b[0mpredict_function\u001b[0m\u001b[0;34m(\u001b[0m\u001b[0miterator\u001b[0m\u001b[0;34m)\u001b[0m\u001b[0;34m\u001b[0m\u001b[0;34m\u001b[0m\u001b[0m\n\u001b[0m\u001b[1;32m   1752\u001b[0m             \u001b[0;32mif\u001b[0m \u001b[0mdata_handler\u001b[0m\u001b[0;34m.\u001b[0m\u001b[0mshould_sync\u001b[0m\u001b[0;34m:\u001b[0m\u001b[0;34m\u001b[0m\u001b[0;34m\u001b[0m\u001b[0m\n\u001b[1;32m   1753\u001b[0m               \u001b[0mcontext\u001b[0m\u001b[0;34m.\u001b[0m\u001b[0masync_wait\u001b[0m\u001b[0;34m(\u001b[0m\u001b[0;34m)\u001b[0m\u001b[0;34m\u001b[0m\u001b[0;34m\u001b[0m\u001b[0m\n",
            "\u001b[0;32m/usr/local/lib/python3.7/dist-packages/tensorflow/python/eager/def_function.py\u001b[0m in \u001b[0;36m__call__\u001b[0;34m(self, *args, **kwds)\u001b[0m\n\u001b[1;32m    883\u001b[0m \u001b[0;34m\u001b[0m\u001b[0m\n\u001b[1;32m    884\u001b[0m       \u001b[0;32mwith\u001b[0m \u001b[0mOptionalXlaContext\u001b[0m\u001b[0;34m(\u001b[0m\u001b[0mself\u001b[0m\u001b[0;34m.\u001b[0m\u001b[0m_jit_compile\u001b[0m\u001b[0;34m)\u001b[0m\u001b[0;34m:\u001b[0m\u001b[0;34m\u001b[0m\u001b[0;34m\u001b[0m\u001b[0m\n\u001b[0;32m--> 885\u001b[0;31m         \u001b[0mresult\u001b[0m \u001b[0;34m=\u001b[0m \u001b[0mself\u001b[0m\u001b[0;34m.\u001b[0m\u001b[0m_call\u001b[0m\u001b[0;34m(\u001b[0m\u001b[0;34m*\u001b[0m\u001b[0margs\u001b[0m\u001b[0;34m,\u001b[0m \u001b[0;34m**\u001b[0m\u001b[0mkwds\u001b[0m\u001b[0;34m)\u001b[0m\u001b[0;34m\u001b[0m\u001b[0;34m\u001b[0m\u001b[0m\n\u001b[0m\u001b[1;32m    886\u001b[0m \u001b[0;34m\u001b[0m\u001b[0m\n\u001b[1;32m    887\u001b[0m       \u001b[0mnew_tracing_count\u001b[0m \u001b[0;34m=\u001b[0m \u001b[0mself\u001b[0m\u001b[0;34m.\u001b[0m\u001b[0mexperimental_get_tracing_count\u001b[0m\u001b[0;34m(\u001b[0m\u001b[0;34m)\u001b[0m\u001b[0;34m\u001b[0m\u001b[0;34m\u001b[0m\u001b[0m\n",
            "\u001b[0;32m/usr/local/lib/python3.7/dist-packages/tensorflow/python/eager/def_function.py\u001b[0m in \u001b[0;36m_call\u001b[0;34m(self, *args, **kwds)\u001b[0m\n\u001b[1;32m    922\u001b[0m       \u001b[0;31m# In this case we have not created variables on the first call. So we can\u001b[0m\u001b[0;34m\u001b[0m\u001b[0;34m\u001b[0m\u001b[0;34m\u001b[0m\u001b[0m\n\u001b[1;32m    923\u001b[0m       \u001b[0;31m# run the first trace but we should fail if variables are created.\u001b[0m\u001b[0;34m\u001b[0m\u001b[0;34m\u001b[0m\u001b[0;34m\u001b[0m\u001b[0m\n\u001b[0;32m--> 924\u001b[0;31m       \u001b[0mresults\u001b[0m \u001b[0;34m=\u001b[0m \u001b[0mself\u001b[0m\u001b[0;34m.\u001b[0m\u001b[0m_stateful_fn\u001b[0m\u001b[0;34m(\u001b[0m\u001b[0;34m*\u001b[0m\u001b[0margs\u001b[0m\u001b[0;34m,\u001b[0m \u001b[0;34m**\u001b[0m\u001b[0mkwds\u001b[0m\u001b[0;34m)\u001b[0m\u001b[0;34m\u001b[0m\u001b[0;34m\u001b[0m\u001b[0m\n\u001b[0m\u001b[1;32m    925\u001b[0m       \u001b[0;32mif\u001b[0m \u001b[0mself\u001b[0m\u001b[0;34m.\u001b[0m\u001b[0m_created_variables\u001b[0m \u001b[0;32mand\u001b[0m \u001b[0;32mnot\u001b[0m \u001b[0mALLOW_DYNAMIC_VARIABLE_CREATION\u001b[0m\u001b[0;34m:\u001b[0m\u001b[0;34m\u001b[0m\u001b[0;34m\u001b[0m\u001b[0m\n\u001b[1;32m    926\u001b[0m         raise ValueError(\"Creating variables on a non-first call to a function\"\n",
            "\u001b[0;32m/usr/local/lib/python3.7/dist-packages/tensorflow/python/eager/function.py\u001b[0m in \u001b[0;36m__call__\u001b[0;34m(self, *args, **kwargs)\u001b[0m\n\u001b[1;32m   3036\u001b[0m     \u001b[0;32mwith\u001b[0m \u001b[0mself\u001b[0m\u001b[0;34m.\u001b[0m\u001b[0m_lock\u001b[0m\u001b[0;34m:\u001b[0m\u001b[0;34m\u001b[0m\u001b[0;34m\u001b[0m\u001b[0m\n\u001b[1;32m   3037\u001b[0m       (graph_function,\n\u001b[0;32m-> 3038\u001b[0;31m        filtered_flat_args) = self._maybe_define_function(args, kwargs)\n\u001b[0m\u001b[1;32m   3039\u001b[0m     return graph_function._call_flat(\n\u001b[1;32m   3040\u001b[0m         filtered_flat_args, captured_inputs=graph_function.captured_inputs)  # pylint: disable=protected-access\n",
            "\u001b[0;32m/usr/local/lib/python3.7/dist-packages/tensorflow/python/eager/function.py\u001b[0m in \u001b[0;36m_maybe_define_function\u001b[0;34m(self, args, kwargs)\u001b[0m\n\u001b[1;32m   3458\u001b[0m               call_context_key in self._function_cache.missed):\n\u001b[1;32m   3459\u001b[0m             return self._define_function_with_shape_relaxation(\n\u001b[0;32m-> 3460\u001b[0;31m                 args, kwargs, flat_args, filtered_flat_args, cache_key_context)\n\u001b[0m\u001b[1;32m   3461\u001b[0m \u001b[0;34m\u001b[0m\u001b[0m\n\u001b[1;32m   3462\u001b[0m           \u001b[0mself\u001b[0m\u001b[0;34m.\u001b[0m\u001b[0m_function_cache\u001b[0m\u001b[0;34m.\u001b[0m\u001b[0mmissed\u001b[0m\u001b[0;34m.\u001b[0m\u001b[0madd\u001b[0m\u001b[0;34m(\u001b[0m\u001b[0mcall_context_key\u001b[0m\u001b[0;34m)\u001b[0m\u001b[0;34m\u001b[0m\u001b[0;34m\u001b[0m\u001b[0m\n",
            "\u001b[0;32m/usr/local/lib/python3.7/dist-packages/tensorflow/python/eager/function.py\u001b[0m in \u001b[0;36m_define_function_with_shape_relaxation\u001b[0;34m(self, args, kwargs, flat_args, filtered_flat_args, cache_key_context)\u001b[0m\n\u001b[1;32m   3380\u001b[0m \u001b[0;34m\u001b[0m\u001b[0m\n\u001b[1;32m   3381\u001b[0m     graph_function = self._create_graph_function(\n\u001b[0;32m-> 3382\u001b[0;31m         args, kwargs, override_flat_arg_shapes=relaxed_arg_shapes)\n\u001b[0m\u001b[1;32m   3383\u001b[0m     \u001b[0mself\u001b[0m\u001b[0;34m.\u001b[0m\u001b[0m_function_cache\u001b[0m\u001b[0;34m.\u001b[0m\u001b[0marg_relaxed\u001b[0m\u001b[0;34m[\u001b[0m\u001b[0mrank_only_cache_key\u001b[0m\u001b[0;34m]\u001b[0m \u001b[0;34m=\u001b[0m \u001b[0mgraph_function\u001b[0m\u001b[0;34m\u001b[0m\u001b[0;34m\u001b[0m\u001b[0m\n\u001b[1;32m   3384\u001b[0m \u001b[0;34m\u001b[0m\u001b[0m\n",
            "\u001b[0;32m/usr/local/lib/python3.7/dist-packages/tensorflow/python/eager/function.py\u001b[0m in \u001b[0;36m_create_graph_function\u001b[0;34m(self, args, kwargs, override_flat_arg_shapes)\u001b[0m\n\u001b[1;32m   3306\u001b[0m             \u001b[0marg_names\u001b[0m\u001b[0;34m=\u001b[0m\u001b[0marg_names\u001b[0m\u001b[0;34m,\u001b[0m\u001b[0;34m\u001b[0m\u001b[0;34m\u001b[0m\u001b[0m\n\u001b[1;32m   3307\u001b[0m             \u001b[0moverride_flat_arg_shapes\u001b[0m\u001b[0;34m=\u001b[0m\u001b[0moverride_flat_arg_shapes\u001b[0m\u001b[0;34m,\u001b[0m\u001b[0;34m\u001b[0m\u001b[0;34m\u001b[0m\u001b[0m\n\u001b[0;32m-> 3308\u001b[0;31m             capture_by_value=self._capture_by_value),\n\u001b[0m\u001b[1;32m   3309\u001b[0m         \u001b[0mself\u001b[0m\u001b[0;34m.\u001b[0m\u001b[0m_function_attributes\u001b[0m\u001b[0;34m,\u001b[0m\u001b[0;34m\u001b[0m\u001b[0;34m\u001b[0m\u001b[0m\n\u001b[1;32m   3310\u001b[0m         \u001b[0mfunction_spec\u001b[0m\u001b[0;34m=\u001b[0m\u001b[0mself\u001b[0m\u001b[0;34m.\u001b[0m\u001b[0mfunction_spec\u001b[0m\u001b[0;34m,\u001b[0m\u001b[0;34m\u001b[0m\u001b[0;34m\u001b[0m\u001b[0m\n",
            "\u001b[0;32m/usr/local/lib/python3.7/dist-packages/tensorflow/python/framework/func_graph.py\u001b[0m in \u001b[0;36mfunc_graph_from_py_func\u001b[0;34m(name, python_func, args, kwargs, signature, func_graph, autograph, autograph_options, add_control_dependencies, arg_names, op_return_value, collections, capture_by_value, override_flat_arg_shapes, acd_record_initial_resource_uses)\u001b[0m\n\u001b[1;32m   1005\u001b[0m         \u001b[0m_\u001b[0m\u001b[0;34m,\u001b[0m \u001b[0moriginal_func\u001b[0m \u001b[0;34m=\u001b[0m \u001b[0mtf_decorator\u001b[0m\u001b[0;34m.\u001b[0m\u001b[0munwrap\u001b[0m\u001b[0;34m(\u001b[0m\u001b[0mpython_func\u001b[0m\u001b[0;34m)\u001b[0m\u001b[0;34m\u001b[0m\u001b[0;34m\u001b[0m\u001b[0m\n\u001b[1;32m   1006\u001b[0m \u001b[0;34m\u001b[0m\u001b[0m\n\u001b[0;32m-> 1007\u001b[0;31m       \u001b[0mfunc_outputs\u001b[0m \u001b[0;34m=\u001b[0m \u001b[0mpython_func\u001b[0m\u001b[0;34m(\u001b[0m\u001b[0;34m*\u001b[0m\u001b[0mfunc_args\u001b[0m\u001b[0;34m,\u001b[0m \u001b[0;34m**\u001b[0m\u001b[0mfunc_kwargs\u001b[0m\u001b[0;34m)\u001b[0m\u001b[0;34m\u001b[0m\u001b[0;34m\u001b[0m\u001b[0m\n\u001b[0m\u001b[1;32m   1008\u001b[0m \u001b[0;34m\u001b[0m\u001b[0m\n\u001b[1;32m   1009\u001b[0m       \u001b[0;31m# invariant: `func_outputs` contains only Tensors, CompositeTensors,\u001b[0m\u001b[0;34m\u001b[0m\u001b[0;34m\u001b[0m\u001b[0;34m\u001b[0m\u001b[0m\n",
            "\u001b[0;32m/usr/local/lib/python3.7/dist-packages/tensorflow/python/eager/def_function.py\u001b[0m in \u001b[0;36mwrapped_fn\u001b[0;34m(*args, **kwds)\u001b[0m\n\u001b[1;32m    666\u001b[0m         \u001b[0;31m# the function a weak reference to itself to avoid a reference cycle.\u001b[0m\u001b[0;34m\u001b[0m\u001b[0;34m\u001b[0m\u001b[0;34m\u001b[0m\u001b[0m\n\u001b[1;32m    667\u001b[0m         \u001b[0;32mwith\u001b[0m \u001b[0mOptionalXlaContext\u001b[0m\u001b[0;34m(\u001b[0m\u001b[0mcompile_with_xla\u001b[0m\u001b[0;34m)\u001b[0m\u001b[0;34m:\u001b[0m\u001b[0;34m\u001b[0m\u001b[0;34m\u001b[0m\u001b[0m\n\u001b[0;32m--> 668\u001b[0;31m           \u001b[0mout\u001b[0m \u001b[0;34m=\u001b[0m \u001b[0mweak_wrapped_fn\u001b[0m\u001b[0;34m(\u001b[0m\u001b[0;34m)\u001b[0m\u001b[0;34m.\u001b[0m\u001b[0m__wrapped__\u001b[0m\u001b[0;34m(\u001b[0m\u001b[0;34m*\u001b[0m\u001b[0margs\u001b[0m\u001b[0;34m,\u001b[0m \u001b[0;34m**\u001b[0m\u001b[0mkwds\u001b[0m\u001b[0;34m)\u001b[0m\u001b[0;34m\u001b[0m\u001b[0;34m\u001b[0m\u001b[0m\n\u001b[0m\u001b[1;32m    669\u001b[0m         \u001b[0;32mreturn\u001b[0m \u001b[0mout\u001b[0m\u001b[0;34m\u001b[0m\u001b[0;34m\u001b[0m\u001b[0m\n\u001b[1;32m    670\u001b[0m \u001b[0;34m\u001b[0m\u001b[0m\n",
            "\u001b[0;32m/usr/local/lib/python3.7/dist-packages/tensorflow/python/framework/func_graph.py\u001b[0m in \u001b[0;36mwrapper\u001b[0;34m(*args, **kwargs)\u001b[0m\n\u001b[1;32m    992\u001b[0m           \u001b[0;32mexcept\u001b[0m \u001b[0mException\u001b[0m \u001b[0;32mas\u001b[0m \u001b[0me\u001b[0m\u001b[0;34m:\u001b[0m  \u001b[0;31m# pylint:disable=broad-except\u001b[0m\u001b[0;34m\u001b[0m\u001b[0;34m\u001b[0m\u001b[0m\n\u001b[1;32m    993\u001b[0m             \u001b[0;32mif\u001b[0m \u001b[0mhasattr\u001b[0m\u001b[0;34m(\u001b[0m\u001b[0me\u001b[0m\u001b[0;34m,\u001b[0m \u001b[0;34m\"ag_error_metadata\"\u001b[0m\u001b[0;34m)\u001b[0m\u001b[0;34m:\u001b[0m\u001b[0;34m\u001b[0m\u001b[0;34m\u001b[0m\u001b[0m\n\u001b[0;32m--> 994\u001b[0;31m               \u001b[0;32mraise\u001b[0m \u001b[0me\u001b[0m\u001b[0;34m.\u001b[0m\u001b[0mag_error_metadata\u001b[0m\u001b[0;34m.\u001b[0m\u001b[0mto_exception\u001b[0m\u001b[0;34m(\u001b[0m\u001b[0me\u001b[0m\u001b[0;34m)\u001b[0m\u001b[0;34m\u001b[0m\u001b[0;34m\u001b[0m\u001b[0m\n\u001b[0m\u001b[1;32m    995\u001b[0m             \u001b[0;32melse\u001b[0m\u001b[0;34m:\u001b[0m\u001b[0;34m\u001b[0m\u001b[0;34m\u001b[0m\u001b[0m\n\u001b[1;32m    996\u001b[0m               \u001b[0;32mraise\u001b[0m\u001b[0;34m\u001b[0m\u001b[0;34m\u001b[0m\u001b[0m\n",
            "\u001b[0;31mValueError\u001b[0m: in user code:\n\n    /usr/local/lib/python3.7/dist-packages/keras/engine/training.py:1586 predict_function  *\n        return step_function(self, iterator)\n    /usr/local/lib/python3.7/dist-packages/keras/engine/training.py:1576 step_function  **\n        outputs = model.distribute_strategy.run(run_step, args=(data,))\n    /usr/local/lib/python3.7/dist-packages/tensorflow/python/distribute/distribute_lib.py:1286 run\n        return self._extended.call_for_each_replica(fn, args=args, kwargs=kwargs)\n    /usr/local/lib/python3.7/dist-packages/tensorflow/python/distribute/distribute_lib.py:2849 call_for_each_replica\n        return self._call_for_each_replica(fn, args, kwargs)\n    /usr/local/lib/python3.7/dist-packages/tensorflow/python/distribute/distribute_lib.py:3632 _call_for_each_replica\n        return fn(*args, **kwargs)\n    /usr/local/lib/python3.7/dist-packages/keras/engine/training.py:1569 run_step  **\n        outputs = model.predict_step(data)\n    /usr/local/lib/python3.7/dist-packages/keras/engine/training.py:1537 predict_step\n        return self(x, training=False)\n    /usr/local/lib/python3.7/dist-packages/keras/engine/base_layer.py:1020 __call__\n        input_spec.assert_input_compatibility(self.input_spec, inputs, self.name)\n    /usr/local/lib/python3.7/dist-packages/keras/engine/input_spec.py:254 assert_input_compatibility\n        ' but received input with shape ' + display_shape(x.shape))\n\n    ValueError: Input 0 of layer sequential_7 is incompatible with the layer: expected axis -1 of input shape to have value 2 but received input with shape (None, 1)\n"
          ]
        }
      ]
    },
    {
      "cell_type": "code",
      "metadata": {
        "id": "lRlnnKv-stNt"
      },
      "source": [
        ""
      ],
      "execution_count": null,
      "outputs": []
    }
  ]
}